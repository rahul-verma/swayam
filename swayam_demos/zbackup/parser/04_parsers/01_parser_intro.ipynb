{
 "cells": [
  {
   "cell_type": "code",
   "execution_count": null,
   "metadata": {},
   "outputs": [],
   "source": [
    "from env import *\n",
    "from swayam import *"
   ]
  },
  {
   "cell_type": "markdown",
   "metadata": {},
   "source": [
    "## Structured Parsers\n",
    "\n",
    "Swayam has the concept of Structured Parsers. These tools deal with input and output in the form of Swayam DataTemplate objects.\n",
    "\n",
    "The narrative of using a Parser is using it with a Prompt object for parsing its content. The content itself can be plain text or an Data of output template is provided."
   ]
  },
  {
   "cell_type": "markdown",
   "metadata": {},
   "source": [
    "### A Text Content Parser"
   ]
  },
  {
   "cell_type": "code",
   "execution_count": null,
   "metadata": {},
   "outputs": [],
   "source": [
    "from typing import Union\n",
    "from pydantic import BaseModel, Field\n",
    "\n",
    "def find_value_of_test(*, invoker, content):\n",
    "    return Template.NumericValue(value = float(content.split(\"=\")[1]))\n",
    "\n",
    "FindValueOfTest = Parser.text(\n",
    "    \"FindValueOfTest\", \n",
    "    callable=find_value_of_test, \n",
    "    in_template=Template.TextContent,\n",
    "    out_template=Template.NumericValue\n",
    ")"
   ]
  },
  {
   "cell_type": "code",
   "execution_count": null,
   "metadata": {},
   "outputs": [],
   "source": [
    "FindValueOfTest(content=\"test=3\")"
   ]
  },
  {
   "cell_type": "code",
   "execution_count": null,
   "metadata": {},
   "outputs": [],
   "source": [
    "import json\n",
    "from json import JSONDecodeError\n",
    "from typing import Union\n",
    "from pydantic import BaseModel, Field\n",
    "\n",
    "def find_value_of_test(*, invoker, content):\n",
    "    number_string = content['value']\n",
    "    calc = float(number_string.split(\"=\")[1])\n",
    "    return Template.NumericValue(value = calc)\n",
    "\n",
    "FindValueOfTest = Parser.json(\n",
    "    \"FindValueOfTest\", \n",
    "    callable=find_value_of_test,\n",
    "    in_template=Template.JsonContent,\n",
    "    out_template=Template.NumericValue\n",
    ")"
   ]
  },
  {
   "cell_type": "code",
   "execution_count": null,
   "metadata": {},
   "outputs": [],
   "source": [
    "FindValueOfTest(content={\"value\": \"test=5\"})"
   ]
  },
  {
   "cell_type": "code",
   "execution_count": null,
   "metadata": {},
   "outputs": [],
   "source": [
    "from pydantic import BaseModel, Field\n",
    "\n",
    "class DummyModel(BaseModel):\n",
    "    value: str = Field(..., title=\"Value\")\n",
    "\n",
    "Dummy = Template.build(\"Dummy\", DummyModel)\n",
    "    \n",
    "\n",
    "FindValueOfTest = Parser.json(\n",
    "    \"FindValueOfTest\", \n",
    "    callable=find_value_of_test,\n",
    "    in_template=Template.JsonContent,\n",
    "    content_template=Dummy,\n",
    "    out_template=Template.NumericValue\n",
    ")"
   ]
  },
  {
   "cell_type": "code",
   "execution_count": null,
   "metadata": {},
   "outputs": [],
   "source": [
    "FindValueOfTest(content={\"value\": \"test=5\"})"
   ]
  }
 ],
 "metadata": {
  "kernelspec": {
   "display_name": "py3108",
   "language": "python",
   "name": "python3"
  },
  "language_info": {
   "codemirror_mode": {
    "name": "ipython",
    "version": 3
   },
   "file_extension": ".py",
   "mimetype": "text/x-python",
   "name": "python",
   "nbconvert_exporter": "python",
   "pygments_lexer": "ipython3",
   "version": "3.10.8"
  }
 },
 "nbformat": 4,
 "nbformat_minor": 2
}
