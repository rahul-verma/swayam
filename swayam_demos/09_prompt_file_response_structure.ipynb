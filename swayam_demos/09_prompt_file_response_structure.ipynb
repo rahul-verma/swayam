{
 "cells": [
  {
   "cell_type": "code",
   "execution_count": null,
   "metadata": {},
   "outputs": [],
   "source": [
    "from test_utils import *\n",
    "from swayam import *"
   ]
  },
  {
   "cell_type": "markdown",
   "metadata": {},
   "source": [
    "### Defining Response Structure to be used in Prompt File\n",
    "\n",
    "A prompt file needs to refer to a response structure directly within the file itself.\n",
    "\n",
    "To enable this, in Swayam, you need to define it as as an importable object.\n",
    "\n",
    "This feature is a part of hooks in Swayam:\n",
    "1. The hooks are defined as objects inside importable modules.\n",
    "2. These modules (or packages) are created inside <project_root>/lib/hook directory.\n",
    "3. For defining the structure, it should be importable as:\n",
    "        \n",
    "        from <your project name>.lib.hook.structure import <Structure Name>"
   ]
  },
  {
   "cell_type": "markdown",
   "metadata": {},
   "source": [
    "You can refer the project structure of swayam_demos to know more about it. The structure CalendarEvent from the earlier example has been included there.\n",
    "\n",
    "The prompt file can refer to the structure using **response_format** key in the yaml file."
   ]
  },
  {
   "cell_type": "code",
   "execution_count": null,
   "metadata": {},
   "outputs": [],
   "source": [
    "\"\"\"\n",
    "The content of /definition/prompt/response_structure_example.yaml:\n",
    "\n",
    "\n",
    "prompt: |\n",
    "  Extract event information: Alice and Bob are going to a science fair on Friday.\n",
    "\n",
    "response_format: CalendarEvent\n",
    "\"\"\"\n",
    "\n",
    "router = Router(run_id=\"test\")\n",
    "router.execute(Prompt.namespace.response_structure_example)"
   ]
  }
 ],
 "metadata": {
  "kernelspec": {
   "display_name": "py3108",
   "language": "python",
   "name": "python3"
  },
  "language_info": {
   "codemirror_mode": {
    "name": "ipython",
    "version": 3
   },
   "file_extension": ".py",
   "mimetype": "text/x-python",
   "name": "python",
   "nbconvert_exporter": "python",
   "pygments_lexer": "ipython3",
   "version": "3.10.8"
  }
 },
 "nbformat": 4,
 "nbformat_minor": 2
}
