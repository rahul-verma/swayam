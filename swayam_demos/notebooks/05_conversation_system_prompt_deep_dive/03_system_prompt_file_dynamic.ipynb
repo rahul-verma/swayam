{
 "cells": [
  {
   "cell_type": "code",
   "execution_count": null,
   "metadata": {},
   "outputs": [],
   "source": [
    "from test_utils import *\n",
    "from swayam import *"
   ]
  },
  {
   "cell_type": "markdown",
   "metadata": {},
   "source": [
    "### Dynamic System Prompt File\n",
    "\n",
    "Like regular prompts, you can also parameterize system prompt files"
   ]
  },
  {
   "cell_type": "markdown",
   "metadata": {},
   "source": [
    "Let's take a more involved example this time, where all the prompts including the system prompt are dynamic files and needs to be formatted using the **Conversation.formatter** call, rather than doing them one at a time ourselves."
   ]
  },
  {
   "cell_type": "code",
   "execution_count": null,
   "metadata": {},
   "outputs": [],
   "source": [
    "router = Router(run_id=\"test\")\n",
    "\n",
    "persona = \"my friend who talks always in a friendly, informal tone.\"\n",
    "\n",
    "conversation = Conversation.formatter(persona=persona, city=\"Tokyo\", month=\"July\", task=\"Visa\").prompt_files(\n",
    "    Prompt.file.user.plan_a_trip, \n",
    "    Prompt.file.user.plan_a_trip_task,\n",
    "    system_prompt=Prompt.file.system.trip_persona\n",
    ")\n",
    "router.execute(conversation)"
   ]
  },
  {
   "cell_type": "code",
   "execution_count": null,
   "metadata": {},
   "outputs": [],
   "source": [
    "router = Router(run_id=\"test\")\n",
    "\n",
    "persona = \"a person who has no idea about the place I am visiting.\"\n",
    "\n",
    "conversation = Conversation.formatter(persona=persona, city=\"Tokyo\", month=\"July\", task=\"Visa\").prompt_files(\n",
    "    Prompt.file.user.plan_a_trip, \n",
    "    Prompt.file.user.plan_a_trip_task,\n",
    "    system_prompt=Prompt.file.system.trip_persona\n",
    ")\n",
    "router.execute(conversation)"
   ]
  }
 ],
 "metadata": {
  "kernelspec": {
   "display_name": "py3108",
   "language": "python",
   "name": "python3"
  },
  "language_info": {
   "codemirror_mode": {
    "name": "ipython",
    "version": 3
   },
   "file_extension": ".py",
   "mimetype": "text/x-python",
   "name": "python",
   "nbconvert_exporter": "python",
   "pygments_lexer": "ipython3",
   "version": "3.10.8"
  }
 },
 "nbformat": 4,
 "nbformat_minor": 2
}
