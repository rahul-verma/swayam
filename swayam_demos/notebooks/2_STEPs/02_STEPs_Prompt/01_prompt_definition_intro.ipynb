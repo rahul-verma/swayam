{
 "cells": [
  {
   "cell_type": "code",
   "execution_count": null,
   "metadata": {},
   "outputs": [],
   "source": [
    "from env import *\n",
    "from swayam import *"
   ]
  },
  {
   "cell_type": "markdown",
   "metadata": {},
   "source": [
    "## STEPs Model: Prompt Definition\n",
    "\n",
    "Beyond a simple string, Prompt is the foundational and final block of the STEPs model. \n",
    "\n",
    "You can represent a prompt as a yaml file. In its simplest form, just put the text of your prompt in a yaml file.\n",
    "\n",
    "1. Swayam enforces a project structure. The file must be located at:\n",
    "\n",
    "    <Project Root Dir>/definition/prompt\n",
    "\n",
    "2. The file name should be a valid Python name.\n",
    "\n",
    "This is where you'll see Swayam doing a lot of ground work for you.\n",
    "\n",
    "The definition file is a yaml file which can be a plain text or a dictionary that follows **Structure.Prompt**."
   ]
  },
  {
   "cell_type": "markdown",
   "metadata": {},
   "source": [
    "### HTML Narration\n",
    "\n",
    "The narrator creates an HTML narration (output) by default and the console narration (output) is switched off.\n",
    "\n",
    "The narration has a name associated by it, which by default is generated as a random string. You can provide a name yourself as well."
   ]
  },
  {
   "cell_type": "code",
   "execution_count": null,
   "metadata": {},
   "outputs": [],
   "source": [
    "narrator = Swayam.narrator.prompt(narration=\"test\")\n",
    "narrator.reset()"
   ]
  },
  {
   "cell_type": "code",
   "execution_count": null,
   "metadata": {},
   "outputs": [],
   "source": [
    "\"\"\"\n",
    "The file definition/prompt/trip_command.yaml contains the following text:\n",
    "\n",
    "I am planning a trip to Berlin in June. Create a list of places worth seeing there.\n",
    "\"\"\"\n",
    "\n",
    "narrator.narrate(Prompt.trip_command)"
   ]
  }
 ],
 "metadata": {
  "kernelspec": {
   "display_name": "py3108",
   "language": "python",
   "name": "python3"
  },
  "language_info": {
   "codemirror_mode": {
    "name": "ipython",
    "version": 3
   },
   "file_extension": ".py",
   "mimetype": "text/x-python",
   "name": "python",
   "nbconvert_exporter": "python",
   "pygments_lexer": "ipython3",
   "version": "3.10.8"
  }
 },
 "nbformat": 4,
 "nbformat_minor": 2
}
