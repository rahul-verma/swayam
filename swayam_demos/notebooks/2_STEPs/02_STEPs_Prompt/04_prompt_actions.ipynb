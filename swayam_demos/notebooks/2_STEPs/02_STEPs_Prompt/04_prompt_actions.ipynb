{
 "cells": [
  {
   "cell_type": "code",
   "execution_count": 1,
   "metadata": {},
   "outputs": [],
   "source": [
    "from env import *\n",
    "from swayam import *"
   ]
  },
  {
   "cell_type": "markdown",
   "metadata": {},
   "source": [
    "### Using Actions in Prompt Definition\n",
    "\n",
    "Let's now start to link the functionality of an LLM Narrator with actions.\n",
    "\n",
    "As a part of an LLM workflow, we want to trigger actions based on response from the LLM (using tools/function calling).\n",
    "\n",
    "Before we can do that, we need to create a sort of bridge between a locally available function from the view point of an LLM vs what it means in Python. This is where Swayam's Actions come into picture."
   ]
  },
  {
   "cell_type": "markdown",
   "metadata": {},
   "source": [
    "Let's see what happens without a function call"
   ]
  },
  {
   "cell_type": "code",
   "execution_count": 2,
   "metadata": {},
   "outputs": [
    {
     "name": "stdout",
     "output_type": "stream",
     "text": [
      "--------------------------------------------------------------------------------\n",
      "Prompt: (Role: user)\n",
      "What's the weather like in Boston?\n",
      "--------------------------------------------------------------------------------\n",
      "Response:\n",
      "I don't have access to real-time data, including current weather conditions. You can check a reliable weather website or app for the latest information on Boston's weather.\n"
     ]
    }
   ],
   "source": [
    "Swayam.narrate(\"What's the weather like in Boston?\")"
   ]
  },
  {
   "cell_type": "markdown",
   "metadata": {},
   "source": [
    "For the subsequent Prompt definitions, we are using the Actions which we have defined in the project. For more information on Actions, check the corresponding notebooks, where they are discussed in detail as an Injectable.\n",
    "\n",
    "- Action.GetWeatherInfo\n",
    "- Action.Calculate\n",
    "- Action.SearchForEmailAddresses"
   ]
  },
  {
   "cell_type": "code",
   "execution_count": 3,
   "metadata": {},
   "outputs": [],
   "source": [
    "narrator = Swayam.narrator.prompt(narration=\"test\")"
   ]
  },
  {
   "cell_type": "code",
   "execution_count": 4,
   "metadata": {},
   "outputs": [],
   "source": [
    "narrator.narrate(Prompt.actions_example1)"
   ]
  },
  {
   "cell_type": "code",
   "execution_count": 5,
   "metadata": {},
   "outputs": [],
   "source": [
    "narrator.narrate(Prompt.actions_example2)"
   ]
  },
  {
   "cell_type": "code",
   "execution_count": 6,
   "metadata": {},
   "outputs": [],
   "source": [
    "narrator.narrate(Prompt.actions_example3)"
   ]
  }
 ],
 "metadata": {
  "kernelspec": {
   "display_name": "py3108",
   "language": "python",
   "name": "python3"
  },
  "language_info": {
   "codemirror_mode": {
    "name": "ipython",
    "version": 3
   },
   "file_extension": ".py",
   "mimetype": "text/x-python",
   "name": "python",
   "nbconvert_exporter": "python",
   "pygments_lexer": "ipython3",
   "version": "3.10.8"
  }
 },
 "nbformat": 4,
 "nbformat_minor": 2
}
