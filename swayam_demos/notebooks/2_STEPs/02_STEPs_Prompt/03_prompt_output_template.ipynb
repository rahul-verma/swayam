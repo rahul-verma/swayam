{
 "cells": [
  {
   "cell_type": "code",
   "execution_count": 1,
   "metadata": {},
   "outputs": [],
   "source": [
    "from env import *\n",
    "from swayam import *"
   ]
  },
  {
   "cell_type": "markdown",
   "metadata": {},
   "source": [
    "### Defining Output Template to be used in Prompt Definition\n",
    "\n",
    "You can use use Templates in a Prompt definition to define the response format."
   ]
  },
  {
   "cell_type": "code",
   "execution_count": 2,
   "metadata": {},
   "outputs": [],
   "source": [
    "\"\"\"\n",
    "The content of /definition/prompt/response_structure_example.yaml:\n",
    "\n",
    "\n",
    "prompt: |\n",
    "  Extract event information: Alice and Bob are going to a science fair on Friday.\n",
    "\n",
    "out_template: CalendarEvent\n",
    "\"\"\"\n",
    "\n",
    "narrator = Swayam.narrator.prompt(narration=\"test\")\n",
    "narrator.narrate(Prompt.template_example)"
   ]
  }
 ],
 "metadata": {
  "kernelspec": {
   "display_name": "py3108",
   "language": "python",
   "name": "python3"
  },
  "language_info": {
   "codemirror_mode": {
    "name": "ipython",
    "version": 3
   },
   "file_extension": ".py",
   "mimetype": "text/x-python",
   "name": "python",
   "nbconvert_exporter": "python",
   "pygments_lexer": "ipython3",
   "version": "3.10.8"
  }
 },
 "nbformat": 4,
 "nbformat_minor": 2
}
