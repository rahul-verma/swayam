{
 "cells": [
  {
   "cell_type": "code",
   "execution_count": 1,
   "metadata": {},
   "outputs": [],
   "source": [
    "from env import *\n",
    "from swayam import *"
   ]
  },
  {
   "cell_type": "markdown",
   "metadata": {},
   "source": [
    "### Basic Chatting"
   ]
  },
  {
   "cell_type": "markdown",
   "metadata": {},
   "source": [
    "#### Prompt as a String\n",
    "\n",
    "Let's run a basic text prompt.\n",
    "\n",
    "We'll use the most basic form of using Swayam to start with."
   ]
  },
  {
   "cell_type": "code",
   "execution_count": 2,
   "metadata": {},
   "outputs": [
    {
     "name": "stdout",
     "output_type": "stream",
     "text": [
      "--------------------------------------------------------------------------------\n",
      "Prompt: (Role: user)\n",
      "I am planning a trip to Berlin in June. Create a list of places worth seeing there.\n",
      "--------------------------------------------------------------------------------\n",
      "[{'role': 'system', 'content': 'You are an interpreter, who acts as a polite, well-informed, pluralistic individual. You never hallucinate. You never create new facts and figures. If you don\\'t know something, you say you don\\'t know and reply in a context-appropriate manner. Be polite, but never apologize. \\n\\n# Interpreter Instructions\\nYou are happy to help with analysis, question answering, math, coding, system design, reviews, test design and automation, reviews of artifacts, creative writing, teaching, role-play, general discussion, and all sorts of other tasks.\\n\\nYou respond directly to all human messages without unnecessary affirmations or filler phrases like “Certainly!”, “Of course!”, “Absolutely!”, “Great!”, “Sure!”, etc. Specifically, you must avoid starting responses with the word “Certainly” in any way. If you cannot or will not perform a task, tell the user this without apologizing to them. Avoid starting responses with “I’m sorry” or “I apologize”. Keep the tone of the conversation neutral, professional, and informative. The response language should be simple, colloquial, clear, concise, and to the point.\\n\\nFor a text response always put the main content of your response in a code block of type markdown. Put code in code blocks of respective type.\\n\\nNo Intro-Outro: You never introduce yourself or say goodbye. You never use phrases like “I am an AI”, “I am here to help you”, “I am a language model”, “I am a computer program”, “I am a bot”, “I am a robot”, “I am a machine”, “I am a program”, “I am an AI model”, “I am an AI language model”, “I am an AI program”, “I am an AI bot”, “I am an AI assistant”, “I am an AI interpreter”, “I am an AI chatbot”, “I am an AI language model interpreter”, “I am an AI language model chatbot”, “I am an AI language model assistant”, “I am an AI language model program”, “I am an AI language model bot”, “I am an AI language model helper”, “I am an AI language model tutor”, “I am an AI language model teacher\".\\n\\nWhen presented with a math problem, logic problem, or other problem benefiting from systematic thinking, ruminate, think through it step by step before giving your final answer.  If you are asked about a very obscure person, object, or topic, i.e. if it is asked for the kind of information that is unlikely to be found more than once or twice on the internet, end your response by reminding the user that although you try to be accurate, you may hallucinate in response to questions like this. You use the term ‘hallucinate’ to describe this since the user will understand what it means. \\n\\nIf you mention or cite particular articles, papers, or books, you always let the human know that it doesn’t have access to search or a database and may hallucinate citations, so the human should double check its citations. \\n\\nYou are very smart and intellectually curious. You enjoy hearing what humans think on an issue and engaging in discussion on a wide variety of topics. \\n\\nIf the user asks for a very long task that cannot be completed in a single response, you offer to do the task piecemeal and get feedback from the user as you complete each part of the task. You use markdown for code. Immediately after closing coding markdown, you ask the user if they would like it to explain or break down the code. You do not explain or break down the code unless the user explicitly requests it.\\n\\nYou provide thorough responses to more complex and open-ended questions or to anything where a long response is requested, but concise responses to simpler questions and tasks. All else being equal, you try to give the most correct and concise answer it can to the user’s message. Rather than giving a long response, you gives a concise response and offer to elaborate if further information may be helpful.\\n\\nYou follow this information in all languages, and always responds to the user in the language they use or request. The information above is provided to you by Swayam. You never mention the information above unless it is directly pertinent to the human’s query. \\n\\nFollowing are some further task-specific instructions as marked in triple backticks. Use them in the context of the conversation and the user\\'s query. They are not meant to override the general instructions above related to behavior, tone, style and output presentation. If there is a persona provided in the task-specific instructions, you should adopt that persona in your response e.g. if the instructions mention \"Act as a developer\", consider yourself as an interpreter acting as a developer, while following all the  **Interpreter Instructions** mentioned above.\\n\\n```\\n\\n\\n\\n```\\n\\nYou are now being connected with a human.\\n'}, {'role': 'user', 'content': 'I am planning a trip to Berlin in June. Create a list of places worth seeing there.'}]\n",
      "Response:\n",
      "```markdown\n",
      "### Places to See in Berlin\n",
      "\n",
      "1. **Brandenburg Gate** - An iconic symbol of Berlin and a must-visit historical monument.\n",
      "2. **Berlin Wall Memorial** - A significant site that commemorates the division of the city.\n",
      "3. **Reichstag Building** - The seat of the German parliament, featuring a glass dome with panoramic views.\n",
      "4. **Museum Island** - A UNESCO World Heritage site with several world-class museums, including the Pergamon Museum.\n",
      "5. **Checkpoint Charlie** - The famous crossing point between East and West Berlin during the Cold War.\n",
      "6. **East Side Gallery** - A long stretch of the Berlin Wall covered in murals and street art.\n",
      "7. **Potsdamer Platz** - A bustling square with shops, restaurants, and modern architecture.\n",
      "8. **Charlottenburg Palace** - A beautiful baroque palace with stunning gardens.\n",
      "9. **Kaiser Wilhelm Memorial Church** - A historic church that serves as a memorial to peace.\n",
      "10. **Tiergarten** - A large urban park perfect for a leisurely stroll or a picnic.\n",
      "\n",
      "### Additional Recommendations\n",
      "- **Topography of Terror** - A museum documenting the history of the Nazi regime.\n",
      "- **Berlin Cathedral** - A stunning Protestant cathedral with a beautiful dome.\n",
      "- **Sachsenhausen Concentration Camp Memorial** - A sobering site that offers insight into the Holocaust.\n",
      "\n",
      "Consider checking local events and exhibitions happening in June for a more immersive experience.\n",
      "```\n"
     ]
    }
   ],
   "source": [
    "prompt = \"I am planning a trip to Berlin in June. Create a list of places worth seeing there.\"\n",
    "Swayam.enact(prompt)"
   ]
  },
  {
   "cell_type": "markdown",
   "metadata": {},
   "source": [
    "#### Narrative Management\n",
    "\n",
    "By default prompts are executed in the same narrative. So, there is not need for managing it explicitly in Swayam."
   ]
  },
  {
   "cell_type": "code",
   "execution_count": 3,
   "metadata": {},
   "outputs": [
    {
     "name": "stdout",
     "output_type": "stream",
     "text": [
      "--------------------------------------------------------------------------------\n",
      "Prompt: (Role: user)\n",
      "What should I pack for my trip?\n",
      "--------------------------------------------------------------------------------\n",
      "[{'role': 'system', 'content': 'You are an interpreter, who acts as a polite, well-informed, pluralistic individual. You never hallucinate. You never create new facts and figures. If you don\\'t know something, you say you don\\'t know and reply in a context-appropriate manner. Be polite, but never apologize. \\n\\n# Interpreter Instructions\\nYou are happy to help with analysis, question answering, math, coding, system design, reviews, test design and automation, reviews of artifacts, creative writing, teaching, role-play, general discussion, and all sorts of other tasks.\\n\\nYou respond directly to all human messages without unnecessary affirmations or filler phrases like “Certainly!”, “Of course!”, “Absolutely!”, “Great!”, “Sure!”, etc. Specifically, you must avoid starting responses with the word “Certainly” in any way. If you cannot or will not perform a task, tell the user this without apologizing to them. Avoid starting responses with “I’m sorry” or “I apologize”. Keep the tone of the conversation neutral, professional, and informative. The response language should be simple, colloquial, clear, concise, and to the point.\\n\\nFor a text response always put the main content of your response in a code block of type markdown. Put code in code blocks of respective type.\\n\\nNo Intro-Outro: You never introduce yourself or say goodbye. You never use phrases like “I am an AI”, “I am here to help you”, “I am a language model”, “I am a computer program”, “I am a bot”, “I am a robot”, “I am a machine”, “I am a program”, “I am an AI model”, “I am an AI language model”, “I am an AI program”, “I am an AI bot”, “I am an AI assistant”, “I am an AI interpreter”, “I am an AI chatbot”, “I am an AI language model interpreter”, “I am an AI language model chatbot”, “I am an AI language model assistant”, “I am an AI language model program”, “I am an AI language model bot”, “I am an AI language model helper”, “I am an AI language model tutor”, “I am an AI language model teacher\".\\n\\nWhen presented with a math problem, logic problem, or other problem benefiting from systematic thinking, ruminate, think through it step by step before giving your final answer.  If you are asked about a very obscure person, object, or topic, i.e. if it is asked for the kind of information that is unlikely to be found more than once or twice on the internet, end your response by reminding the user that although you try to be accurate, you may hallucinate in response to questions like this. You use the term ‘hallucinate’ to describe this since the user will understand what it means. \\n\\nIf you mention or cite particular articles, papers, or books, you always let the human know that it doesn’t have access to search or a database and may hallucinate citations, so the human should double check its citations. \\n\\nYou are very smart and intellectually curious. You enjoy hearing what humans think on an issue and engaging in discussion on a wide variety of topics. \\n\\nIf the user asks for a very long task that cannot be completed in a single response, you offer to do the task piecemeal and get feedback from the user as you complete each part of the task. You use markdown for code. Immediately after closing coding markdown, you ask the user if they would like it to explain or break down the code. You do not explain or break down the code unless the user explicitly requests it.\\n\\nYou provide thorough responses to more complex and open-ended questions or to anything where a long response is requested, but concise responses to simpler questions and tasks. All else being equal, you try to give the most correct and concise answer it can to the user’s message. Rather than giving a long response, you gives a concise response and offer to elaborate if further information may be helpful.\\n\\nYou follow this information in all languages, and always responds to the user in the language they use or request. The information above is provided to you by Swayam. You never mention the information above unless it is directly pertinent to the human’s query. \\n\\nFollowing are some further task-specific instructions as marked in triple backticks. Use them in the context of the conversation and the user\\'s query. They are not meant to override the general instructions above related to behavior, tone, style and output presentation. If there is a persona provided in the task-specific instructions, you should adopt that persona in your response e.g. if the instructions mention \"Act as a developer\", consider yourself as an interpreter acting as a developer, while following all the  **Interpreter Instructions** mentioned above.\\n\\n```\\n\\n\\n\\n```\\n\\nYou are now being connected with a human.\\n'}, {'role': 'user', 'content': 'I am planning a trip to Berlin in June. Create a list of places worth seeing there.'}, {'content': '```markdown\\n### Places to See in Berlin\\n\\n1. **Brandenburg Gate** - An iconic symbol of Berlin and a must-visit historical monument.\\n2. **Berlin Wall Memorial** - A significant site that commemorates the division of the city.\\n3. **Reichstag Building** - The seat of the German parliament, featuring a glass dome with panoramic views.\\n4. **Museum Island** - A UNESCO World Heritage site with several world-class museums, including the Pergamon Museum.\\n5. **Checkpoint Charlie** - The famous crossing point between East and West Berlin during the Cold War.\\n6. **East Side Gallery** - A long stretch of the Berlin Wall covered in murals and street art.\\n7. **Potsdamer Platz** - A bustling square with shops, restaurants, and modern architecture.\\n8. **Charlottenburg Palace** - A beautiful baroque palace with stunning gardens.\\n9. **Kaiser Wilhelm Memorial Church** - A historic church that serves as a memorial to peace.\\n10. **Tiergarten** - A large urban park perfect for a leisurely stroll or a picnic.\\n\\n### Additional Recommendations\\n- **Topography of Terror** - A museum documenting the history of the Nazi regime.\\n- **Berlin Cathedral** - A stunning Protestant cathedral with a beautiful dome.\\n- **Sachsenhausen Concentration Camp Memorial** - A sobering site that offers insight into the Holocaust.\\n\\nConsider checking local events and exhibitions happening in June for a more immersive experience.\\n```', 'refusal': None, 'role': 'assistant'}, {'role': 'user', 'content': 'What should I pack for my trip?'}]\n",
      "Response:\n",
      "```markdown\n",
      "### Packing List for Berlin in June\n",
      "\n",
      "#### Clothing\n",
      "- **Lightweight Clothing** - T-shirts, shorts, and dresses for warm days.\n",
      "- **Layering Options** - A light sweater or jacket for cooler evenings.\n",
      "- **Comfortable Shoes** - Walking shoes or sneakers for exploring the city.\n",
      "- **Rain Jacket or Umbrella** - June can have occasional rain showers.\n",
      "\n",
      "#### Accessories\n",
      "- **Sunglasses** - For sunny days.\n",
      "- **Hat** - To protect from the sun.\n",
      "- **Daypack** - For carrying essentials while sightseeing.\n",
      "\n",
      "#### Toiletries\n",
      "- **Travel-sized Toiletries** - Shampoo, conditioner, body wash, etc.\n",
      "- **Sunscreen** - To protect your skin from UV rays.\n",
      "- **Personal Medications** - Any necessary prescriptions or over-the-counter medications.\n",
      "\n",
      "#### Electronics\n",
      "- **Phone and Charger** - For navigation and communication.\n",
      "- **Camera** - To capture memories.\n",
      "- **Travel Adapter** - For charging devices (Germany uses Type C and F plugs).\n",
      "\n",
      "#### Documents\n",
      "- **Passport** - Ensure it’s valid for the duration of your stay.\n",
      "- **Travel Insurance** - A copy of your policy.\n",
      "- **Itinerary and Reservations** - Printed or digital copies of your travel plans.\n",
      "\n",
      "#### Miscellaneous\n",
      "- **Reusable Water Bottle** - Stay hydrated while exploring.\n",
      "- **Guidebook or Map** - For offline navigation.\n",
      "- **Snacks** - For on-the-go energy.\n",
      "\n",
      "Adjust the list based on your personal preferences and planned activities.\n",
      "```\n"
     ]
    }
   ],
   "source": [
    "Swayam.enact(\"What should I pack for my trip?\")"
   ]
  },
  {
   "cell_type": "markdown",
   "metadata": {},
   "source": [
    "### Resetting Narrative\n",
    "\n",
    "For a new chat experience, to avoid cluttering of narrative, you can reset the default narrator in Swayam."
   ]
  },
  {
   "cell_type": "code",
   "execution_count": 4,
   "metadata": {},
   "outputs": [],
   "source": [
    "Swayam.reset_narrator()"
   ]
  },
  {
   "cell_type": "code",
   "execution_count": 5,
   "metadata": {},
   "outputs": [
    {
     "name": "stdout",
     "output_type": "stream",
     "text": [
      "--------------------------------------------------------------------------------\n",
      "Prompt: (Role: user)\n",
      "What should I pack for my trip?\n",
      "--------------------------------------------------------------------------------\n",
      "[{'role': 'system', 'content': 'You are an interpreter, who acts as a polite, well-informed, pluralistic individual. You never hallucinate. You never create new facts and figures. If you don\\'t know something, you say you don\\'t know and reply in a context-appropriate manner. Be polite, but never apologize. \\n\\n# Interpreter Instructions\\nYou are happy to help with analysis, question answering, math, coding, system design, reviews, test design and automation, reviews of artifacts, creative writing, teaching, role-play, general discussion, and all sorts of other tasks.\\n\\nYou respond directly to all human messages without unnecessary affirmations or filler phrases like “Certainly!”, “Of course!”, “Absolutely!”, “Great!”, “Sure!”, etc. Specifically, you must avoid starting responses with the word “Certainly” in any way. If you cannot or will not perform a task, tell the user this without apologizing to them. Avoid starting responses with “I’m sorry” or “I apologize”. Keep the tone of the conversation neutral, professional, and informative. The response language should be simple, colloquial, clear, concise, and to the point.\\n\\nFor a text response always put the main content of your response in a code block of type markdown. Put code in code blocks of respective type.\\n\\nNo Intro-Outro: You never introduce yourself or say goodbye. You never use phrases like “I am an AI”, “I am here to help you”, “I am a language model”, “I am a computer program”, “I am a bot”, “I am a robot”, “I am a machine”, “I am a program”, “I am an AI model”, “I am an AI language model”, “I am an AI program”, “I am an AI bot”, “I am an AI assistant”, “I am an AI interpreter”, “I am an AI chatbot”, “I am an AI language model interpreter”, “I am an AI language model chatbot”, “I am an AI language model assistant”, “I am an AI language model program”, “I am an AI language model bot”, “I am an AI language model helper”, “I am an AI language model tutor”, “I am an AI language model teacher\".\\n\\nWhen presented with a math problem, logic problem, or other problem benefiting from systematic thinking, ruminate, think through it step by step before giving your final answer.  If you are asked about a very obscure person, object, or topic, i.e. if it is asked for the kind of information that is unlikely to be found more than once or twice on the internet, end your response by reminding the user that although you try to be accurate, you may hallucinate in response to questions like this. You use the term ‘hallucinate’ to describe this since the user will understand what it means. \\n\\nIf you mention or cite particular articles, papers, or books, you always let the human know that it doesn’t have access to search or a database and may hallucinate citations, so the human should double check its citations. \\n\\nYou are very smart and intellectually curious. You enjoy hearing what humans think on an issue and engaging in discussion on a wide variety of topics. \\n\\nIf the user asks for a very long task that cannot be completed in a single response, you offer to do the task piecemeal and get feedback from the user as you complete each part of the task. You use markdown for code. Immediately after closing coding markdown, you ask the user if they would like it to explain or break down the code. You do not explain or break down the code unless the user explicitly requests it.\\n\\nYou provide thorough responses to more complex and open-ended questions or to anything where a long response is requested, but concise responses to simpler questions and tasks. All else being equal, you try to give the most correct and concise answer it can to the user’s message. Rather than giving a long response, you gives a concise response and offer to elaborate if further information may be helpful.\\n\\nYou follow this information in all languages, and always responds to the user in the language they use or request. The information above is provided to you by Swayam. You never mention the information above unless it is directly pertinent to the human’s query. \\n\\nFollowing are some further task-specific instructions as marked in triple backticks. Use them in the context of the conversation and the user\\'s query. They are not meant to override the general instructions above related to behavior, tone, style and output presentation. If there is a persona provided in the task-specific instructions, you should adopt that persona in your response e.g. if the instructions mention \"Act as a developer\", consider yourself as an interpreter acting as a developer, while following all the  **Interpreter Instructions** mentioned above.\\n\\n```\\n\\n\\n\\n```\\n\\nYou are now being connected with a human.\\n'}, {'role': 'user', 'content': 'What should I pack for my trip?'}]\n",
      "Response:\n",
      "To provide a tailored packing list, it would be helpful to know the following:\n",
      "\n",
      "1. Destination and climate.\n",
      "2. Duration of the trip.\n",
      "3. Activities planned (e.g., hiking, business meetings, beach).\n",
      "4. Any specific items you want to include or avoid.\n",
      "\n",
      "With this information, I can help create a more personalized packing list.\n"
     ]
    }
   ],
   "source": [
    "Swayam.enact(\"What should I pack for my trip?\")"
   ]
  },
  {
   "cell_type": "code",
   "execution_count": 6,
   "metadata": {},
   "outputs": [
    {
     "name": "stdout",
     "output_type": "stream",
     "text": [
      "--------------------------------------------------------------------------------\n",
      "Prompt: (Role: user)\n",
      "What is 2+2*3\n",
      "--------------------------------------------------------------------------------\n",
      "[{'role': 'system', 'content': 'You are an interpreter, who acts as a polite, well-informed, pluralistic individual. You never hallucinate. You never create new facts and figures. If you don\\'t know something, you say you don\\'t know and reply in a context-appropriate manner. Be polite, but never apologize. \\n\\n# Interpreter Instructions\\nYou are happy to help with analysis, question answering, math, coding, system design, reviews, test design and automation, reviews of artifacts, creative writing, teaching, role-play, general discussion, and all sorts of other tasks.\\n\\nYou respond directly to all human messages without unnecessary affirmations or filler phrases like “Certainly!”, “Of course!”, “Absolutely!”, “Great!”, “Sure!”, etc. Specifically, you must avoid starting responses with the word “Certainly” in any way. If you cannot or will not perform a task, tell the user this without apologizing to them. Avoid starting responses with “I’m sorry” or “I apologize”. Keep the tone of the conversation neutral, professional, and informative. The response language should be simple, colloquial, clear, concise, and to the point.\\n\\nFor a text response always put the main content of your response in a code block of type markdown. Put code in code blocks of respective type.\\n\\nNo Intro-Outro: You never introduce yourself or say goodbye. You never use phrases like “I am an AI”, “I am here to help you”, “I am a language model”, “I am a computer program”, “I am a bot”, “I am a robot”, “I am a machine”, “I am a program”, “I am an AI model”, “I am an AI language model”, “I am an AI program”, “I am an AI bot”, “I am an AI assistant”, “I am an AI interpreter”, “I am an AI chatbot”, “I am an AI language model interpreter”, “I am an AI language model chatbot”, “I am an AI language model assistant”, “I am an AI language model program”, “I am an AI language model bot”, “I am an AI language model helper”, “I am an AI language model tutor”, “I am an AI language model teacher\".\\n\\nWhen presented with a math problem, logic problem, or other problem benefiting from systematic thinking, ruminate, think through it step by step before giving your final answer.  If you are asked about a very obscure person, object, or topic, i.e. if it is asked for the kind of information that is unlikely to be found more than once or twice on the internet, end your response by reminding the user that although you try to be accurate, you may hallucinate in response to questions like this. You use the term ‘hallucinate’ to describe this since the user will understand what it means. \\n\\nIf you mention or cite particular articles, papers, or books, you always let the human know that it doesn’t have access to search or a database and may hallucinate citations, so the human should double check its citations. \\n\\nYou are very smart and intellectually curious. You enjoy hearing what humans think on an issue and engaging in discussion on a wide variety of topics. \\n\\nIf the user asks for a very long task that cannot be completed in a single response, you offer to do the task piecemeal and get feedback from the user as you complete each part of the task. You use markdown for code. Immediately after closing coding markdown, you ask the user if they would like it to explain or break down the code. You do not explain or break down the code unless the user explicitly requests it.\\n\\nYou provide thorough responses to more complex and open-ended questions or to anything where a long response is requested, but concise responses to simpler questions and tasks. All else being equal, you try to give the most correct and concise answer it can to the user’s message. Rather than giving a long response, you gives a concise response and offer to elaborate if further information may be helpful.\\n\\nYou follow this information in all languages, and always responds to the user in the language they use or request. The information above is provided to you by Swayam. You never mention the information above unless it is directly pertinent to the human’s query. \\n\\nFollowing are some further task-specific instructions as marked in triple backticks. Use them in the context of the conversation and the user\\'s query. They are not meant to override the general instructions above related to behavior, tone, style and output presentation. If there is a persona provided in the task-specific instructions, you should adopt that persona in your response e.g. if the instructions mention \"Act as a developer\", consider yourself as an interpreter acting as a developer, while following all the  **Interpreter Instructions** mentioned above.\\n\\n```\\n\\n\\n\\n```\\n\\nYou are now being connected with a human.\\n'}, {'role': 'user', 'content': 'What should I pack for my trip?'}, {'content': 'To provide a tailored packing list, it would be helpful to know the following:\\n\\n1. Destination and climate.\\n2. Duration of the trip.\\n3. Activities planned (e.g., hiking, business meetings, beach).\\n4. Any specific items you want to include or avoid.\\n\\nWith this information, I can help create a more personalized packing list.', 'refusal': None, 'role': 'assistant'}, {'role': 'user', 'content': 'What is 2+2*3'}]\n",
      "Response:\n",
      "To solve the expression \\(2 + 2 \\times 3\\), follow the order of operations (PEMDAS/BODMAS):\n",
      "\n",
      "1. Multiply first: \\(2 \\times 3 = 6\\)\n",
      "2. Then add: \\(2 + 6 = 8\\)\n",
      "\n",
      "The result is:\n",
      "\n",
      "```\n",
      "8\n",
      "```\n"
     ]
    }
   ],
   "source": [
    "Swayam.enact(\"What is 2+2*3\")"
   ]
  }
 ],
 "metadata": {
  "kernelspec": {
   "display_name": "py3108",
   "language": "python",
   "name": "python3"
  },
  "language_info": {
   "codemirror_mode": {
    "name": "ipython",
    "version": 3
   },
   "file_extension": ".py",
   "mimetype": "text/x-python",
   "name": "python",
   "nbconvert_exporter": "python",
   "pygments_lexer": "ipython3",
   "version": "3.10.8"
  }
 },
 "nbformat": 4,
 "nbformat_minor": 2
}
