{
 "cells": [
  {
   "cell_type": "code",
   "execution_count": 1,
   "metadata": {},
   "outputs": [],
   "source": [
    "from env import *\n",
    "from swayam import *"
   ]
  },
  {
   "cell_type": "markdown",
   "metadata": {},
   "source": [
    "### Basic Chatting"
   ]
  },
  {
   "cell_type": "markdown",
   "metadata": {},
   "source": [
    "#### Prompt as a String\n",
    "\n",
    "Let's run a basic text prompt.\n",
    "\n",
    "We'll use the most basic form of using Swayam to start with."
   ]
  },
  {
   "cell_type": "code",
   "execution_count": 2,
   "metadata": {},
   "outputs": [
    {
     "name": "stdout",
     "output_type": "stream",
     "text": [
      "--------------------------------------------------------------------------------\n",
      "Prompt: (Role: user)\n",
      "I am planning a trip to Berlin in June. Create a list of places worth seeing there.\n",
      "--------------------------------------------------------------------------------\n",
      "Response:\n",
      "```markdown\n",
      "1. Brandenburg Gate\n",
      "2. Berlin Wall Memorial\n",
      "3. Reichstag Building\n",
      "4. Museum Island\n",
      "5. East Side Gallery\n",
      "6. Checkpoint Charlie\n",
      "7. Berlin Cathedral\n",
      "8. Pergamon Museum\n",
      "9. Charlottenburg Palace\n",
      "10. Tiergarten Park\n",
      "11. Potsdamer Platz\n",
      "12. Jewish Museum Berlin\n",
      "13. Alexanderplatz\n",
      "14. Tempelhofer Feld\n",
      "15. Berlin Zoo\n",
      "```\n"
     ]
    }
   ],
   "source": [
    "prompt = \"I am planning a trip to Berlin in June. Create a list of places worth seeing there.\"\n",
    "Swayam.narrate(prompt)"
   ]
  },
  {
   "cell_type": "markdown",
   "metadata": {},
   "source": [
    "#### Narrative Management\n",
    "\n",
    "By default prompts are executed in the same narrative. So, there is not need for managing it explicitly in Swayam."
   ]
  },
  {
   "cell_type": "code",
   "execution_count": 3,
   "metadata": {},
   "outputs": [
    {
     "name": "stdout",
     "output_type": "stream",
     "text": [
      "--------------------------------------------------------------------------------\n",
      "Prompt: (Role: user)\n",
      "What should I pack for my trip?\n",
      "--------------------------------------------------------------------------------\n",
      "Response:\n",
      "```markdown\n",
      "1. Clothing:\n",
      "   - Light layers (t-shirts, long sleeves)\n",
      "   - Comfortable pants/shorts\n",
      "   - A light jacket or sweater\n",
      "   - Comfortable walking shoes\n",
      "   - Umbrella or rain jacket (in case of rain)\n",
      "\n",
      "2. Toiletries:\n",
      "   - Toothbrush and toothpaste\n",
      "   - Shampoo and conditioner\n",
      "   - Deodorant\n",
      "   - Sunscreen\n",
      "   - Personal medications\n",
      "\n",
      "3. Electronics:\n",
      "   - Phone and charger\n",
      "   - Camera (if desired)\n",
      "   - Travel adapter (for European outlets)\n",
      "\n",
      "4. Travel Documents:\n",
      "   - Passport\n",
      "   - Travel insurance\n",
      "   - Copies of reservations (hotel, flights)\n",
      "\n",
      "5. Miscellaneous:\n",
      "   - Reusable water bottle\n",
      "   - Snacks for travel\n",
      "   - Guidebook or map\n",
      "```\n"
     ]
    }
   ],
   "source": [
    "Swayam.narrate(\"What should I pack for my trip?\")"
   ]
  },
  {
   "cell_type": "markdown",
   "metadata": {},
   "source": [
    "### Resetting Narrative\n",
    "\n",
    "For a new chat experience, to avoid cluttering of narrative, you can reset the default narrator in Swayam."
   ]
  },
  {
   "cell_type": "code",
   "execution_count": 4,
   "metadata": {},
   "outputs": [],
   "source": [
    "Swayam.reset_narrator()"
   ]
  },
  {
   "cell_type": "code",
   "execution_count": 5,
   "metadata": {},
   "outputs": [
    {
     "name": "stdout",
     "output_type": "stream",
     "text": [
      "--------------------------------------------------------------------------------\n",
      "Prompt: (Role: user)\n",
      "What should I pack for my above trip?\n",
      "--------------------------------------------------------------------------------\n",
      "Response:\n",
      "To provide a suitable packing list, please share details about your trip, such as the destination, duration, activities planned, and the season or weather conditions.\n"
     ]
    }
   ],
   "source": [
    "Swayam.narrate(\"What should I pack for my above trip?\")"
   ]
  },
  {
   "cell_type": "code",
   "execution_count": 6,
   "metadata": {},
   "outputs": [
    {
     "name": "stdout",
     "output_type": "stream",
     "text": [
      "--------------------------------------------------------------------------------\n",
      "Prompt: (Role: user)\n",
      "What is 2+2*3\n",
      "--------------------------------------------------------------------------------\n",
      "Response:\n",
      "```markdown\n",
      "2 + 2 * 3 = 2 + 6 = 8\n",
      "```\n"
     ]
    }
   ],
   "source": [
    "Swayam.narrate(\"What is 2+2*3\")"
   ]
  }
 ],
 "metadata": {
  "kernelspec": {
   "display_name": "py3108",
   "language": "python",
   "name": "python3"
  },
  "language_info": {
   "codemirror_mode": {
    "name": "ipython",
    "version": 3
   },
   "file_extension": ".py",
   "mimetype": "text/x-python",
   "name": "python",
   "nbconvert_exporter": "python",
   "pygments_lexer": "ipython3",
   "version": "3.10.8"
  }
 },
 "nbformat": 4,
 "nbformat_minor": 2
}
