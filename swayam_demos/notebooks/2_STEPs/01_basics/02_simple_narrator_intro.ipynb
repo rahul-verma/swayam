{
 "cells": [
  {
   "cell_type": "code",
   "execution_count": null,
   "metadata": {},
   "outputs": [],
   "source": [
    "from env import *\n",
    "from swayam import *"
   ]
  },
  {
   "cell_type": "markdown",
   "metadata": {},
   "source": [
    "### Narrator : The underlying magic\n",
    "\n",
    "While using **Swayam.enact** is fine for very basic usage of Swayam, the real fun is in exploring the underlying objects.\n",
    "\n",
    "Narrator can handle all phases of STEP model by Rahul Verma: Story (in progress), Thought, Expression and Prompt.\n",
    "\n",
    "We'll start with the basic usage here."
   ]
  },
  {
   "cell_type": "markdown",
   "metadata": {},
   "source": [
    "#### The Devil in the Details\n",
    "\n",
    "While **Swayam.enact** makes it absolutely easy to make a call to an LLM, following are some points to note, in a professional usage of a framework:\n",
    "1. The narrative management needs better control. At the prompt level execution, the experience is same as **Swayam.enact**, but as we dig deeper, we will find ways for better narrative management later.\n",
    "2. Console narration is fine for chatting or debugging, but in a longer semi-automated scenarios, we need a better narration system.\n",
    "3. Providing strings directly as prompts is ok for casual usage, not when you want to have a persistent prompt library maintained in a project. For that, you also need to plan a project structure - a \"story\"."
   ]
  },
  {
   "cell_type": "markdown",
   "metadata": {},
   "source": [
    "### Equivalent of Swayam.enact"
   ]
  },
  {
   "cell_type": "code",
   "execution_count": null,
   "metadata": {},
   "outputs": [],
   "source": [
    "narrator = Swayam.narrator.simple()"
   ]
  },
  {
   "cell_type": "markdown",
   "metadata": {},
   "source": [
    "#### Executing a Text Prompt with Narrator\n",
    "\n",
    "The Router object deals with execution of multiple types of object.\n",
    "\n",
    "So, to execute a text based prompt, there are some steps that are needed (**Swayam.enact** deals with only one use case, so it does it for you in case of a text prompt.)"
   ]
  },
  {
   "cell_type": "code",
   "execution_count": null,
   "metadata": {},
   "outputs": [],
   "source": [
    "narrator.narrate(\"I am planning a trip to Berlin in June. Create a list of places worth seeing there.\")\n",
    "narrator.narrate(\"What should I pack for my trip?\")"
   ]
  }
 ],
 "metadata": {
  "kernelspec": {
   "display_name": "py3108",
   "language": "python",
   "name": "python3"
  },
  "language_info": {
   "codemirror_mode": {
    "name": "ipython",
    "version": 3
   },
   "file_extension": ".py",
   "mimetype": "text/x-python",
   "name": "python",
   "nbconvert_exporter": "python",
   "pygments_lexer": "ipython3",
   "version": "3.10.8"
  }
 },
 "nbformat": 4,
 "nbformat_minor": 2
}
