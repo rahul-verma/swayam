{
 "cells": [
  {
   "cell_type": "code",
   "execution_count": 1,
   "metadata": {},
   "outputs": [],
   "source": [
    "from env import *\n",
    "from swayam import *"
   ]
  },
  {
   "cell_type": "markdown",
   "metadata": {},
   "source": [
    "### Prompt Repetition\n",
    "\n",
    "An expression can have a repeat instruction for one or more prompt definition."
   ]
  },
  {
   "cell_type": "code",
   "execution_count": 2,
   "metadata": {},
   "outputs": [],
   "source": [
    "narrator = Swayam.narrator.expression(narration=\"test\")\n",
    "narrator.reset()"
   ]
  },
  {
   "cell_type": "code",
   "execution_count": 3,
   "metadata": {},
   "outputs": [],
   "source": [
    "narrator.narrate(Expression.repeater)"
   ]
  },
  {
   "cell_type": "markdown",
   "metadata": {},
   "source": [
    "### Conversation Management\n",
    "\n",
    "Conversation clears up from an expression to another.\n",
    "\n",
    "Within an expression:\n",
    "1. If a prompt is marked as reset_conversation, it starts a fressh conversation, but the follow-up prompts continue from where it was before it.\n",
    "2. In case of a driver, the driver continues the conversation just like a regular prompt, however if it is marked as reset_conversation, it creates a fresh conversation for the prompts it is going to generate (which can themselves choose to be reset_conversation within the generated sequence of prompts.)"
   ]
  },
  {
   "cell_type": "code",
   "execution_count": 4,
   "metadata": {},
   "outputs": [],
   "source": [
    "expression = Expression.formatter(operation=\"add\").formatter_repeater_reset_conversation\n",
    "narrator.narrate(expression)"
   ]
  }
 ],
 "metadata": {
  "kernelspec": {
   "display_name": "py3108",
   "language": "python",
   "name": "python3"
  },
  "language_info": {
   "codemirror_mode": {
    "name": "ipython",
    "version": 3
   },
   "file_extension": ".py",
   "mimetype": "text/x-python",
   "name": "python",
   "nbconvert_exporter": "python",
   "pygments_lexer": "ipython3",
   "version": "3.10.8"
  }
 },
 "nbformat": 4,
 "nbformat_minor": 2
}
