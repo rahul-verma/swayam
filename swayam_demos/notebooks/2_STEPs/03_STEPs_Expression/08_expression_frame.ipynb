{
 "cells": [
  {
   "cell_type": "code",
   "execution_count": 1,
   "metadata": {},
   "outputs": [],
   "source": [
    "from env import *\n",
    "from swayam import *"
   ]
  },
  {
   "cell_type": "markdown",
   "metadata": {},
   "source": [
    "## Expression Frames\n",
    "\n",
    "You can set various fixtures in an Expression definition file using the **before**, **after**, **prologue_prompt** and **epilogue_prompt** keys. Props, Cues, Actions and Parsers can be used."
   ]
  },
  {
   "cell_type": "code",
   "execution_count": 2,
   "metadata": {},
   "outputs": [],
   "source": [
    "narrator = Swayam.narrator.expression(narration=\"test\")\n",
    "narrator.reset()"
   ]
  },
  {
   "cell_type": "code",
   "execution_count": 3,
   "metadata": {},
   "outputs": [
    {
     "name": "stdout",
     "output_type": "stream",
     "text": [
      "--------------------------------------------------\n",
      "Expression: Expression1 Expression's Own Level - Setup: ArgProp\n",
      "--------------------------------------------------\n"
     ]
    },
    {
     "ename": "AttributeError",
     "evalue": "'UserExpression' object has no attribute '_UserExpression__drafter'",
     "output_type": "error",
     "traceback": [
      "\u001b[0;31m---------------------------------------------------------------------------\u001b[0m",
      "\u001b[0;31mAttributeError\u001b[0m                            Traceback (most recent call last)",
      "Cell \u001b[0;32mIn[3], line 1\u001b[0m\n\u001b[0;32m----> 1\u001b[0m \u001b[43mnarrator\u001b[49m\u001b[38;5;241;43m.\u001b[39;49m\u001b[43mnarrate\u001b[49m\u001b[43m(\u001b[49m\u001b[43mExpression\u001b[49m\u001b[38;5;241;43m.\u001b[39;49m\u001b[43mframe\u001b[49m\u001b[43m)\u001b[49m\n",
      "File \u001b[0;32m~/Documents/GitHub/swayam/swayam/llm/narrate/phase/expression.py:38\u001b[0m, in \u001b[0;36mExpressionNarrator.narrate\u001b[0;34m(self, expression)\u001b[0m\n\u001b[1;32m     36\u001b[0m log_debug(\u001b[38;5;124mf\u001b[39m\u001b[38;5;124m\"\u001b[39m\u001b[38;5;124mExecuting expression.\u001b[39m\u001b[38;5;124m\"\u001b[39m)\n\u001b[1;32m     37\u001b[0m enactor \u001b[38;5;241m=\u001b[39m ExpressionEnactor(recorder\u001b[38;5;241m=\u001b[39m\u001b[38;5;28mself\u001b[39m\u001b[38;5;241m.\u001b[39mrecorder)\n\u001b[0;32m---> 38\u001b[0m \u001b[43menactor\u001b[49m\u001b[38;5;241;43m.\u001b[39;49m\u001b[43menact\u001b[49m\u001b[43m(\u001b[49m\u001b[43mexpression\u001b[49m\u001b[43m,\u001b[49m\u001b[43m \u001b[49m\u001b[43mnarrative\u001b[49m\u001b[38;5;241;43m=\u001b[39;49m\u001b[38;5;28;43mself\u001b[39;49m\u001b[38;5;241;43m.\u001b[39;49m\u001b[43mnarrative\u001b[49m\u001b[43m)\u001b[49m\n",
      "File \u001b[0;32m~/Documents/GitHub/swayam/swayam/llm/enact/expression.py:70\u001b[0m, in \u001b[0;36mExpressionEnactor.enact\u001b[0;34m(self, expression, narrative)\u001b[0m\n\u001b[1;32m     68\u001b[0m \u001b[38;5;66;03m# For dynamic variables in Narrative\u001b[39;00m\n\u001b[1;32m     69\u001b[0m prompt\u001b[38;5;241m.\u001b[39mvault \u001b[38;5;241m=\u001b[39m narrative\u001b[38;5;241m.\u001b[39mvault\n\u001b[0;32m---> 70\u001b[0m prompt\u001b[38;5;241m.\u001b[39mdrafter \u001b[38;5;241m=\u001b[39m \u001b[43mexpression\u001b[49m\u001b[38;5;241;43m.\u001b[39;49m\u001b[43mdrafter\u001b[49m\n\u001b[1;32m     71\u001b[0m prompt\u001b[38;5;241m.\u001b[39mdynamic_format()\n\u001b[1;32m     72\u001b[0m expression\u001b[38;5;241m.\u001b[39mprompt_frame\u001b[38;5;241m.\u001b[39mprologue()\n",
      "File \u001b[0;32m~/Documents/GitHub/swayam/swayam/llm/phase/expression/expression.py:117\u001b[0m, in \u001b[0;36mUserExpression.drafter\u001b[0;34m(self)\u001b[0m\n\u001b[1;32m    115\u001b[0m \u001b[38;5;129m@property\u001b[39m\n\u001b[1;32m    116\u001b[0m \u001b[38;5;28;01mdef\u001b[39;00m \u001b[38;5;21mdrafter\u001b[39m(\u001b[38;5;28mself\u001b[39m):\n\u001b[0;32m--> 117\u001b[0m     \u001b[38;5;28;01mreturn\u001b[39;00m \u001b[38;5;28;43mself\u001b[39;49m\u001b[38;5;241;43m.\u001b[39;49m\u001b[43m__drafter\u001b[49m\n",
      "\u001b[0;31mAttributeError\u001b[0m: 'UserExpression' object has no attribute '_UserExpression__drafter'"
     ]
    }
   ],
   "source": [
    "narrator.narrate(Expression.frame)"
   ]
  }
 ],
 "metadata": {
  "kernelspec": {
   "display_name": "py3108",
   "language": "python",
   "name": "python3"
  },
  "language_info": {
   "codemirror_mode": {
    "name": "ipython",
    "version": 3
   },
   "file_extension": ".py",
   "mimetype": "text/x-python",
   "name": "python",
   "nbconvert_exporter": "python",
   "pygments_lexer": "ipython3",
   "version": "3.10.8"
  }
 },
 "nbformat": 4,
 "nbformat_minor": 2
}
