{
 "cells": [
  {
   "cell_type": "code",
   "execution_count": 1,
   "metadata": {},
   "outputs": [],
   "source": [
    "from env import *\n",
    "from swayam import *"
   ]
  },
  {
   "cell_type": "markdown",
   "metadata": {},
   "source": [
    "### Expression\n",
    "\n",
    "An expression is a sequence of one or more prompts, as a part of a single conversation (unless a prompt is marked as standalone). \n",
    "\n",
    "Expressions are independent of each other, although because they a part of the same larger narrative, they have access to the same vault. This helps in sharing data across expressions, in a pull manner. Expressions do not have any direct control over each other.\n",
    "\n",
    "Expressions are defined as directories. These directories need to be placed in the following directory:\n",
    "\n",
    "    <project_root>/definition/expression\n",
    "\n",
    "Each expression directory must have a\n",
    "\n",
    "    __init__.yaml file \n",
    "    \n",
    "which contains the expression definition. The prompt definitions that it refers must be placed in this directory."
   ]
  },
  {
   "cell_type": "code",
   "execution_count": 2,
   "metadata": {},
   "outputs": [],
   "source": [
    "narrator = Swayam.narrator.expression(narration=\"test\")\n",
    "narrator.reset()"
   ]
  },
  {
   "cell_type": "code",
   "execution_count": 3,
   "metadata": {},
   "outputs": [
    {
     "ename": "IndexError",
     "evalue": "list index out of range",
     "output_type": "error",
     "traceback": [
      "\u001b[0;31m---------------------------------------------------------------------------\u001b[0m",
      "\u001b[0;31mIndexError\u001b[0m                                Traceback (most recent call last)",
      "Cell \u001b[0;32mIn[3], line 1\u001b[0m\n\u001b[0;32m----> 1\u001b[0m \u001b[43mnarrator\u001b[49m\u001b[38;5;241;43m.\u001b[39;49m\u001b[43mnarrate\u001b[49m\u001b[43m(\u001b[49m\u001b[43mExpression\u001b[49m\u001b[38;5;241;43m.\u001b[39;49m\u001b[43mbasic\u001b[49m\u001b[43m)\u001b[49m\n",
      "File \u001b[0;32m~/Documents/GitHub/swayam/swayam/llm/narrate/phase/expression.py:38\u001b[0m, in \u001b[0;36mExpressionNarrator.narrate\u001b[0;34m(self, expression)\u001b[0m\n\u001b[1;32m     36\u001b[0m log_debug(\u001b[38;5;124mf\u001b[39m\u001b[38;5;124m\"\u001b[39m\u001b[38;5;124mExecuting expression.\u001b[39m\u001b[38;5;124m\"\u001b[39m)\n\u001b[1;32m     37\u001b[0m enactor \u001b[38;5;241m=\u001b[39m ExpressionEnactor(recorder\u001b[38;5;241m=\u001b[39m\u001b[38;5;28mself\u001b[39m\u001b[38;5;241m.\u001b[39mrecorder)\n\u001b[0;32m---> 38\u001b[0m \u001b[43menactor\u001b[49m\u001b[38;5;241;43m.\u001b[39;49m\u001b[43menact\u001b[49m\u001b[43m(\u001b[49m\u001b[43mexpression\u001b[49m\u001b[43m,\u001b[49m\u001b[43m \u001b[49m\u001b[43mnarrative\u001b[49m\u001b[38;5;241;43m=\u001b[39;49m\u001b[38;5;28;43mself\u001b[39;49m\u001b[38;5;241;43m.\u001b[39;49m\u001b[43mnarrative\u001b[49m\u001b[43m)\u001b[49m\n",
      "File \u001b[0;32m~/Documents/GitHub/swayam/swayam/llm/enact/expression.py:79\u001b[0m, in \u001b[0;36mExpressionEnactor.enact\u001b[0;34m(self, expression, narrative)\u001b[0m\n\u001b[1;32m     77\u001b[0m \u001b[38;5;28;01melse\u001b[39;00m:\n\u001b[1;32m     78\u001b[0m     narrative\u001b[38;5;241m.\u001b[39mconversation \u001b[38;5;241m=\u001b[39m conversation\n\u001b[0;32m---> 79\u001b[0m \u001b[38;5;28;43mself\u001b[39;49m\u001b[38;5;241;43m.\u001b[39;49m\u001b[43mrecorder\u001b[49m\u001b[38;5;241;43m.\u001b[39;49m\u001b[43mrecord_conversation\u001b[49m\u001b[43m(\u001b[49m\u001b[43mconversation\u001b[49m\u001b[43m)\u001b[49m\n\u001b[1;32m     80\u001b[0m prompt_enactor\u001b[38;5;241m.\u001b[39menact(prompt, narrative\u001b[38;5;241m=\u001b[39mnarrative)\n\u001b[1;32m     81\u001b[0m expression\u001b[38;5;241m.\u001b[39mprompt_frame\u001b[38;5;241m.\u001b[39mepilogue()\n",
      "File \u001b[0;32m~/Documents/GitHub/swayam/swayam/llm/record/recorder.py:91\u001b[0m, in \u001b[0;36mRecorder.record_conversation\u001b[0;34m(self, narrative)\u001b[0m\n\u001b[1;32m     84\u001b[0m \u001b[38;5;250m\u001b[39m\u001b[38;5;124;03m\"\"\"\u001b[39;00m\n\u001b[1;32m     85\u001b[0m \u001b[38;5;124;03mBroadcasts the narrative details.\u001b[39;00m\n\u001b[1;32m     86\u001b[0m \n\u001b[1;32m     87\u001b[0m \u001b[38;5;124;03mArgs:\u001b[39;00m\n\u001b[1;32m     88\u001b[0m \u001b[38;5;124;03m    narrative (Conversation): Narrative object with all input messages.\u001b[39;00m\n\u001b[1;32m     89\u001b[0m \u001b[38;5;124;03m\"\"\"\u001b[39;00m\n\u001b[1;32m     90\u001b[0m \u001b[38;5;28;01mfor\u001b[39;00m recorder \u001b[38;5;129;01min\u001b[39;00m \u001b[38;5;28mself\u001b[39m\u001b[38;5;241m.\u001b[39m__recorders:\n\u001b[0;32m---> 91\u001b[0m     \u001b[43mrecorder\u001b[49m\u001b[38;5;241;43m.\u001b[39;49m\u001b[43mrecord_conversation\u001b[49m\u001b[43m(\u001b[49m\u001b[43mnarrative\u001b[49m\u001b[43m)\u001b[49m\n",
      "File \u001b[0;32m~/Documents/GitHub/swayam/swayam/llm/record/html.py:230\u001b[0m, in \u001b[0;36mHtmlRecorder.record_conversation\u001b[0;34m(self, conversation)\u001b[0m\n\u001b[1;32m    226\u001b[0m     f\u001b[38;5;241m.\u001b[39mwrite(conversation_json)\n\u001b[1;32m    227\u001b[0m for_html \u001b[38;5;241m=\u001b[39m [\n\u001b[1;32m    228\u001b[0m     {\u001b[38;5;124m\"\u001b[39m\u001b[38;5;124mheading\u001b[39m\u001b[38;5;124m\"\u001b[39m: message[\u001b[38;5;124m\"\u001b[39m\u001b[38;5;124mrole\u001b[39m\u001b[38;5;124m\"\u001b[39m]\u001b[38;5;241m.\u001b[39mtitle(), \u001b[38;5;124m\"\u001b[39m\u001b[38;5;124mcontent\u001b[39m\u001b[38;5;124m\"\u001b[39m:message} \u001b[38;5;28;01mfor\u001b[39;00m message \u001b[38;5;129;01min\u001b[39;00m messages\n\u001b[1;32m    229\u001b[0m ]\n\u001b[0;32m--> 230\u001b[0m \u001b[38;5;28;43mself\u001b[39;49m\u001b[38;5;241;43m.\u001b[39;49m\u001b[43m__get_expression_node\u001b[49m\u001b[43m(\u001b[49m\u001b[43m)\u001b[49m\u001b[43m[\u001b[49m\u001b[38;5;124;43m\"\u001b[39;49m\u001b[38;5;124;43mdata\u001b[39;49m\u001b[38;5;124;43m\"\u001b[39;49m\u001b[43m]\u001b[49m\u001b[43m[\u001b[49m\u001b[38;5;124;43m\"\u001b[39;49m\u001b[38;5;124;43mcontent\u001b[39;49m\u001b[38;5;124;43m\"\u001b[39;49m\u001b[43m]\u001b[49m\u001b[43m[\u001b[49m\u001b[38;5;241;43m1\u001b[39;49m\u001b[43m]\u001b[49m[\u001b[38;5;124m\"\u001b[39m\u001b[38;5;124mcontent\u001b[39m\u001b[38;5;124m\"\u001b[39m] \u001b[38;5;241m=\u001b[39m [\u001b[38;5;124mf\u001b[39m\u001b[38;5;124m\"\u001b[39m\u001b[38;5;132;01m{\u001b[39;00mconversation_file_path\u001b[38;5;132;01m}\u001b[39;00m\u001b[38;5;124m\"\u001b[39m] \u001b[38;5;241m+\u001b[39m messages\n\u001b[1;32m    232\u001b[0m \u001b[38;5;28mself\u001b[39m\u001b[38;5;241m.\u001b[39m__update_report()\n\u001b[1;32m    233\u001b[0m log_debug(\u001b[38;5;124m\"\u001b[39m\u001b[38;5;124mFinished: Reporting Conversation.\u001b[39m\u001b[38;5;124m\"\u001b[39m)\n",
      "\u001b[0;31mIndexError\u001b[0m: list index out of range"
     ]
    }
   ],
   "source": [
    "narrator.narrate(Expression.basic)"
   ]
  }
 ],
 "metadata": {
  "kernelspec": {
   "display_name": "py3108",
   "language": "python",
   "name": "python3"
  },
  "language_info": {
   "codemirror_mode": {
    "name": "ipython",
    "version": 3
   },
   "file_extension": ".py",
   "mimetype": "text/x-python",
   "name": "python",
   "nbconvert_exporter": "python",
   "pygments_lexer": "ipython3",
   "version": "3.10.8"
  }
 },
 "nbformat": 4,
 "nbformat_minor": 2
}
