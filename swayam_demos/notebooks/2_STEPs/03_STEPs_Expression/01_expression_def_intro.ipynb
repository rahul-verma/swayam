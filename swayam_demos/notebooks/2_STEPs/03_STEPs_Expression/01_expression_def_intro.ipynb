{
 "cells": [
  {
   "cell_type": "code",
   "execution_count": 1,
   "metadata": {},
   "outputs": [],
   "source": [
    "from env import *\n",
    "from swayam import *"
   ]
  },
  {
   "cell_type": "markdown",
   "metadata": {},
   "source": [
    "### Expression\n",
    "\n",
    "An expression is a sequence of one or more prompts, as a part of a single conversation (unless a prompt is marked as reset_conversation). \n",
    "\n",
    "Expressions are independent of each other, although because they a part of the same larger narrative, they have access to the same vault. This helps in sharing data across expressions, in a pull manner. Expressions do not have any direct control over each other.\n",
    "\n",
    "Expressions are defined as directories. These directories need to be placed in the following directory:\n",
    "\n",
    "    <project_root>/definition/expression\n",
    "\n",
    "Each expression directory must have a\n",
    "\n",
    "    __init__.yaml file \n",
    "    \n",
    "which contains the expression definition. The prompt definitions that it refers must be placed in this directory."
   ]
  },
  {
   "cell_type": "code",
   "execution_count": 2,
   "metadata": {},
   "outputs": [],
   "source": [
    "narrator = Swayam.narrator.expression(narration=\"test\")\n",
    "narrator.reset()"
   ]
  },
  {
   "cell_type": "code",
   "execution_count": 3,
   "metadata": {},
   "outputs": [],
   "source": [
    "narrator.narrate(Expression.basic)"
   ]
  }
 ],
 "metadata": {
  "kernelspec": {
   "display_name": "py3108",
   "language": "python",
   "name": "python3"
  },
  "language_info": {
   "codemirror_mode": {
    "name": "ipython",
    "version": 3
   },
   "file_extension": ".py",
   "mimetype": "text/x-python",
   "name": "python",
   "nbconvert_exporter": "python",
   "pygments_lexer": "ipython3",
   "version": "3.10.8"
  }
 },
 "nbformat": 4,
 "nbformat_minor": 2
}
