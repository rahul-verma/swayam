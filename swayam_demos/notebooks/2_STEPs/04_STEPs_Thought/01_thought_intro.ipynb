{
 "cells": [
  {
   "cell_type": "code",
   "execution_count": 1,
   "metadata": {},
   "outputs": [
    {
     "data": {
      "text/plain": [
       "<swayam.llm.thought.thought.UserThought at 0x105a08a60>"
      ]
     },
     "execution_count": 1,
     "metadata": {},
     "output_type": "execute_result"
    }
   ],
   "source": [
    "from env import *\n",
    "from swayam import *"
   ]
  },
  {
   "cell_type": "markdown",
   "metadata": {},
   "source": [
    "### Thought\n",
    "\n",
    "An thought is a sequence of one or more expressions. \n",
    "\n",
    "In a thought, an expression maintains its conversation context. The conversation part of the narrative changes from one expression to another, although the storage is passed on.\n",
    "\n",
    "Thoughts are defined as directories. These directories need to be placed in the following directory:\n",
    "\n",
    "    <project_root>/definition/thought\n",
    "\n",
    "Each thought directory must have a\n",
    "\n",
    "    __init__.yaml file \n",
    "    \n",
    "which contains the expression definition. \n",
    "\n",
    "The expression definitions that it refers must be placed in this directory."
   ]
  },
  {
   "cell_type": "code",
   "execution_count": 2,
   "metadata": {},
   "outputs": [
    {
     "ename": "AttributeError",
     "evalue": "'Narrator' object has no attribute 'thought'",
     "output_type": "error",
     "traceback": [
      "\u001b[0;31m---------------------------------------------------------------------------\u001b[0m",
      "\u001b[0;31mAttributeError\u001b[0m                            Traceback (most recent call last)",
      "Cell \u001b[0;32mIn[2], line 1\u001b[0m\n\u001b[0;32m----> 1\u001b[0m narrator \u001b[38;5;241m=\u001b[39m \u001b[43mSwayam\u001b[49m\u001b[38;5;241;43m.\u001b[39;49m\u001b[43mnarrator\u001b[49m\u001b[38;5;241;43m.\u001b[39;49m\u001b[43mthought\u001b[49m(narration\u001b[38;5;241m=\u001b[39m\u001b[38;5;124m\"\u001b[39m\u001b[38;5;124mtest\u001b[39m\u001b[38;5;124m\"\u001b[39m)\n",
      "\u001b[0;31mAttributeError\u001b[0m: 'Narrator' object has no attribute 'thought'"
     ]
    }
   ],
   "source": [
    "narrator = Swayam.narrator.thought(narration=\"test\")"
   ]
  },
  {
   "cell_type": "code",
   "execution_count": null,
   "metadata": {},
   "outputs": [],
   "source": [
    "narrator.narrate(Thought.basic)"
   ]
  }
 ],
 "metadata": {
  "kernelspec": {
   "display_name": "py3108",
   "language": "python",
   "name": "python3"
  },
  "language_info": {
   "codemirror_mode": {
    "name": "ipython",
    "version": 3
   },
   "file_extension": ".py",
   "mimetype": "text/x-python",
   "name": "python",
   "nbconvert_exporter": "python",
   "pygments_lexer": "ipython3",
   "version": "3.10.8"
  }
 },
 "nbformat": 4,
 "nbformat_minor": 2
}
