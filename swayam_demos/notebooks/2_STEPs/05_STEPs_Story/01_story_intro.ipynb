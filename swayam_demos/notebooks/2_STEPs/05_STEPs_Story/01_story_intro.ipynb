{
 "cells": [
  {
   "cell_type": "code",
   "execution_count": null,
   "metadata": {},
   "outputs": [],
   "source": [
    "from env import *\n",
    "from swayam import *"
   ]
  },
  {
   "cell_type": "markdown",
   "metadata": {},
   "source": [
    "### Story\n",
    "\n",
    "A sotry is a sequence of one or more thoughts. \n",
    "\n",
    "In a story, the thoughts are independent of each other. After the completion of a thought, there is an interrupt for Human-in-the-loop as a default (To Do). It's the first place where the beginning of a narrative takes place with a directive and a shared vault.\n",
    "\n",
    "Stories are defined as directories. These directories need to be placed in the following directory:\n",
    "\n",
    "    <project_root>/definition/story\n",
    "\n",
    "Each story directory must have a\n",
    "\n",
    "    __init__.yaml file \n",
    "    \n",
    "which contains the thought definition directories. \n",
    "\n",
    "The thought definitions that it refers must be placed in this directory."
   ]
  },
  {
   "cell_type": "code",
   "execution_count": null,
   "metadata": {},
   "outputs": [],
   "source": [
    "narrator = Swayam.narrator.story(narration=\"test\")\n",
    "narrator.reset()"
   ]
  },
  {
   "cell_type": "code",
   "execution_count": null,
   "metadata": {},
   "outputs": [],
   "source": [
    "narrator.narrate(Story.a_simple_story)"
   ]
  }
 ],
 "metadata": {
  "kernelspec": {
   "display_name": "py3108",
   "language": "python",
   "name": "python3"
  },
  "language_info": {
   "codemirror_mode": {
    "name": "ipython",
    "version": 3
   },
   "file_extension": ".py",
   "mimetype": "text/x-python",
   "name": "python",
   "nbconvert_exporter": "python",
   "pygments_lexer": "ipython3",
   "version": "3.10.8"
  }
 },
 "nbformat": 4,
 "nbformat_minor": 2
}
