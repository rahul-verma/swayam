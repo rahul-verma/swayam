{
 "cells": [
  {
   "cell_type": "code",
   "execution_count": 1,
   "metadata": {},
   "outputs": [],
   "source": [
    "from env import *\n",
    "from swayam import *"
   ]
  },
  {
   "cell_type": "markdown",
   "metadata": {},
   "source": [
    "### Story\n",
    "\n",
    "A sotry is a sequence of one or more thoughts. \n",
    "\n",
    "In a story, the thoughts are independent of each other. After the completion of a thought, there is an interrupt for Human-in-the-loop as a default (To Do). It's the first place where the beginning of a narrative takes place with a directive and a shared vault.\n",
    "\n",
    "Stories are defined as directories. These directories need to be placed in the following directory:\n",
    "\n",
    "    <project_root>/definition/story\n",
    "\n",
    "Each story directory must have a\n",
    "\n",
    "    __init__.yaml file \n",
    "    \n",
    "which contains the thought definition directories. \n",
    "\n",
    "The thought definitions that it refers must be placed in this directory."
   ]
  },
  {
   "cell_type": "code",
   "execution_count": 2,
   "metadata": {},
   "outputs": [],
   "source": [
    "narrator = Swayam.narrator.story(narration=\"test\")\n",
    "narrator.reset()"
   ]
  },
  {
   "cell_type": "code",
   "execution_count": 3,
   "metadata": {},
   "outputs": [
    {
     "name": "stdout",
     "output_type": "stream",
     "text": [
      "\n",
      "A non-200-range status code was received. Retrying in 2 seconds...\n",
      "400\n",
      "<Response [400 Bad Request]>\n",
      "\n",
      "A non-200-range status code was received. Retrying in 2 seconds...\n",
      "400\n",
      "<Response [400 Bad Request]>\n",
      "\n",
      "A non-200-range status code was received. Retrying in 2 seconds...\n",
      "400\n",
      "<Response [400 Bad Request]>\n",
      "\n",
      "A non-200-range status code was received. Retrying in 2 seconds...\n",
      "400\n",
      "<Response [400 Bad Request]>\n",
      "\n",
      "A non-200-range status code was received. Retrying in 2 seconds...\n",
      "400\n",
      "<Response [400 Bad Request]>\n",
      "\n"
     ]
    },
    {
     "ename": "ValueError",
     "evalue": "There was an error in the LLM request. The response was returned as None.",
     "output_type": "error",
     "traceback": [
      "\u001b[0;31m---------------------------------------------------------------------------\u001b[0m",
      "\u001b[0;31mValueError\u001b[0m                                Traceback (most recent call last)",
      "Cell \u001b[0;32mIn[3], line 1\u001b[0m\n\u001b[0;32m----> 1\u001b[0m \u001b[43mnarrator\u001b[49m\u001b[38;5;241;43m.\u001b[39;49m\u001b[43mnarrate\u001b[49m\u001b[43m(\u001b[49m\u001b[43mStory\u001b[49m\u001b[38;5;241;43m.\u001b[39;49m\u001b[43ma_simple_story\u001b[49m\u001b[43m)\u001b[49m\n",
      "File \u001b[0;32m~/Documents/GitHub/swayam/swayam/llm/narrate/phase/story.py:38\u001b[0m, in \u001b[0;36mStoryNarrator.narrate\u001b[0;34m(self, story)\u001b[0m\n\u001b[1;32m     36\u001b[0m log_debug(\u001b[38;5;124mf\u001b[39m\u001b[38;5;124m\"\u001b[39m\u001b[38;5;124mExecuting expression.\u001b[39m\u001b[38;5;124m\"\u001b[39m)\n\u001b[1;32m     37\u001b[0m enactor \u001b[38;5;241m=\u001b[39m StoryEnactor(recorder\u001b[38;5;241m=\u001b[39m\u001b[38;5;28mself\u001b[39m\u001b[38;5;241m.\u001b[39mrecorder)\n\u001b[0;32m---> 38\u001b[0m \u001b[43menactor\u001b[49m\u001b[38;5;241;43m.\u001b[39;49m\u001b[43menact\u001b[49m\u001b[43m(\u001b[49m\u001b[43mstory\u001b[49m\u001b[43m,\u001b[49m\u001b[43m \u001b[49m\u001b[43mnarrative\u001b[49m\u001b[38;5;241;43m=\u001b[39;49m\u001b[38;5;28;43mself\u001b[39;49m\u001b[38;5;241;43m.\u001b[39;49m\u001b[43mnarrative\u001b[49m\u001b[43m)\u001b[49m\n",
      "File \u001b[0;32m~/Documents/GitHub/swayam/swayam/llm/enact/story.py:51\u001b[0m, in \u001b[0;36mStoryEnactor.enact\u001b[0;34m(self, story, narrative)\u001b[0m\n\u001b[1;32m     49\u001b[0m     log_debug(\u001b[38;5;124m\"\u001b[39m\u001b[38;5;124mProcessing prompt...\u001b[39m\u001b[38;5;124m\"\u001b[39m)\n\u001b[1;32m     50\u001b[0m     thought\u001b[38;5;241m.\u001b[39mstory \u001b[38;5;241m=\u001b[39m story\n\u001b[0;32m---> 51\u001b[0m     \u001b[43mthought_enactor\u001b[49m\u001b[38;5;241;43m.\u001b[39;49m\u001b[43menact\u001b[49m\u001b[43m(\u001b[49m\u001b[43mthought\u001b[49m\u001b[43m,\u001b[49m\u001b[43m \u001b[49m\u001b[43mnarrative\u001b[49m\u001b[38;5;241;43m=\u001b[39;49m\u001b[43mnarrative\u001b[49m\u001b[43m)\u001b[49m\n\u001b[1;32m     53\u001b[0m story\u001b[38;5;241m.\u001b[39mframe\u001b[38;5;241m.\u001b[39mepilogue()\n",
      "File \u001b[0;32m~/Documents/GitHub/swayam/swayam/llm/enact/thought.py:58\u001b[0m, in \u001b[0;36mThoughtEnactor.enact\u001b[0;34m(self, thought, narrative)\u001b[0m\n\u001b[1;32m     56\u001b[0m         expression\u001b[38;5;241m.\u001b[39mstory \u001b[38;5;241m=\u001b[39m thought\u001b[38;5;241m.\u001b[39mstory\n\u001b[1;32m     57\u001b[0m         expression\u001b[38;5;241m.\u001b[39mthought \u001b[38;5;241m=\u001b[39m thought\n\u001b[0;32m---> 58\u001b[0m         \u001b[43mexpression_enactor\u001b[49m\u001b[38;5;241;43m.\u001b[39;49m\u001b[43menact\u001b[49m\u001b[43m(\u001b[49m\u001b[43mexpression\u001b[49m\u001b[43m,\u001b[49m\u001b[43m \u001b[49m\u001b[43mnarrative\u001b[49m\u001b[38;5;241;43m=\u001b[39;49m\u001b[43mnarrative\u001b[49m\u001b[43m)\u001b[49m\n\u001b[1;32m     60\u001b[0m thought\u001b[38;5;241m.\u001b[39mframe\u001b[38;5;241m.\u001b[39mepilogue()\n",
      "File \u001b[0;32m~/Documents/GitHub/swayam/swayam/llm/enact/expression.py:84\u001b[0m, in \u001b[0;36mExpressionEnactor.enact\u001b[0;34m(self, expression, narrative)\u001b[0m\n\u001b[1;32m     82\u001b[0m         overall_conversation \u001b[38;5;241m=\u001b[39m execute_prompt(prompt)\n\u001b[1;32m     83\u001b[0m     \u001b[38;5;28;01melse\u001b[39;00m:\n\u001b[0;32m---> 84\u001b[0m         overall_conversation \u001b[38;5;241m=\u001b[39m \u001b[43mexecute_prompt\u001b[49m\u001b[43m(\u001b[49m\u001b[43mprompt\u001b[49m\u001b[43m,\u001b[49m\u001b[43m \u001b[49m\u001b[43mbase_conversation\u001b[49m\u001b[38;5;241;43m=\u001b[39;49m\u001b[43moverall_conversation\u001b[49m\u001b[43m)\u001b[49m\n\u001b[1;32m     86\u001b[0m     generated \u001b[38;5;241m=\u001b[39m \u001b[38;5;28;01mFalse\u001b[39;00m\n\u001b[1;32m     88\u001b[0m \u001b[38;5;28;01melse\u001b[39;00m:\n",
      "File \u001b[0;32m~/Documents/GitHub/swayam/swayam/llm/enact/expression.py:70\u001b[0m, in \u001b[0;36mExpressionEnactor.enact.<locals>.execute_prompt\u001b[0;34m(prompt, base_conversation)\u001b[0m\n\u001b[1;32m     67\u001b[0m narrative\u001b[38;5;241m.\u001b[39mconversation \u001b[38;5;241m=\u001b[39m prompt_conversation\n\u001b[1;32m     69\u001b[0m prompt\u001b[38;5;241m.\u001b[39mdrafter \u001b[38;5;241m=\u001b[39m expression\u001b[38;5;241m.\u001b[39mdrafter\n\u001b[0;32m---> 70\u001b[0m \u001b[43mprompt_enactor\u001b[49m\u001b[38;5;241;43m.\u001b[39;49m\u001b[43menact\u001b[49m\u001b[43m(\u001b[49m\u001b[43mprompt\u001b[49m\u001b[43m,\u001b[49m\u001b[43m \u001b[49m\u001b[43mnarrative\u001b[49m\u001b[38;5;241;43m=\u001b[39;49m\u001b[43mnarrative\u001b[49m\u001b[43m)\u001b[49m\n\u001b[1;32m     71\u001b[0m expression\u001b[38;5;241m.\u001b[39mprompt_frame\u001b[38;5;241m.\u001b[39mepilogue()\n\u001b[1;32m     72\u001b[0m \u001b[38;5;28;01mreturn\u001b[39;00m narrative\u001b[38;5;241m.\u001b[39mconversation\n",
      "File \u001b[0;32m~/Documents/GitHub/swayam/swayam/llm/enact/prompt.py:71\u001b[0m, in \u001b[0;36mPromptEnactor.enact\u001b[0;34m(self, prompt, narrative, report)\u001b[0m\n\u001b[1;32m     69\u001b[0m \u001b[38;5;28;01mif\u001b[39;00m llm_response\u001b[38;5;241m.\u001b[39merror:\n\u001b[1;32m     70\u001b[0m     \u001b[38;5;28mprint\u001b[39m(llm_response\u001b[38;5;241m.\u001b[39mcontent)\n\u001b[0;32m---> 71\u001b[0m     \u001b[38;5;28;01mraise\u001b[39;00m \u001b[38;5;167;01mValueError\u001b[39;00m(\u001b[38;5;124m\"\u001b[39m\u001b[38;5;124mThere was an error in the LLM request. The response was returned as None.\u001b[39m\u001b[38;5;124m\"\u001b[39m)\n\u001b[1;32m     73\u001b[0m narrative\u001b[38;5;241m.\u001b[39mvault\u001b[38;5;241m.\u001b[39mset(\u001b[38;5;124m\"\u001b[39m\u001b[38;5;124mresponse_content\u001b[39m\u001b[38;5;124m\"\u001b[39m, llm_response\u001b[38;5;241m.\u001b[39mas_dict()[\u001b[38;5;124m\"\u001b[39m\u001b[38;5;124mcontent\u001b[39m\u001b[38;5;124m\"\u001b[39m], phase\u001b[38;5;241m=\u001b[39mprompt)\n\u001b[1;32m     75\u001b[0m action_results \u001b[38;5;241m=\u001b[39m {}\n",
      "\u001b[0;31mValueError\u001b[0m: There was an error in the LLM request. The response was returned as None."
     ]
    }
   ],
   "source": [
    "narrator.narrate(Story.a_simple_story)"
   ]
  }
 ],
 "metadata": {
  "kernelspec": {
   "display_name": "py3108",
   "language": "python",
   "name": "python3"
  },
  "language_info": {
   "codemirror_mode": {
    "name": "ipython",
    "version": 3
   },
   "file_extension": ".py",
   "mimetype": "text/x-python",
   "name": "python",
   "nbconvert_exporter": "python",
   "pygments_lexer": "ipython3",
   "version": "3.10.8"
  }
 },
 "nbformat": 4,
 "nbformat_minor": 2
}
