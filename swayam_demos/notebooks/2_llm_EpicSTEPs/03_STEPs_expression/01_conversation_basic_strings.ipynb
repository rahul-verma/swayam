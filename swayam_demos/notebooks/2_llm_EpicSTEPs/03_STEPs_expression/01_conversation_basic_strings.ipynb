{
 "cells": [
  {
   "cell_type": "code",
   "execution_count": null,
   "metadata": {},
   "outputs": [],
   "source": [
    "from env import *\n",
    "from swayam import *"
   ]
  },
  {
   "cell_type": "markdown",
   "metadata": {},
   "source": [
    "### Expression\n",
    "\n",
    "A expression is a sequence of one or more prompts sent in the same narrative.\n",
    "\n",
    "What we have done so far is executing a single-prompt expression.\n",
    "\n",
    "In successive execution of these single-prompts, we could choose to maintain the same narrative. We can do the same across multiple multi-prompt expressions as well (although as you understand more about the problem that you are solving, it should go away.)"
   ]
  },
  {
   "cell_type": "markdown",
   "metadata": {},
   "source": [
    "We had earlier executed the following two prompts with separate instantiation and with an explicit prompt to Narrator to not to reset narrative (**reset_narrative = False**)"
   ]
  },
  {
   "cell_type": "code",
   "execution_count": null,
   "metadata": {},
   "outputs": [],
   "source": [
    "prompt1 = \"I am planning a trip to Berlin in June. Create a list of places worth seeing there.\"\n",
    "prompt2 = \"What should I pack for my trip?\""
   ]
  },
  {
   "cell_type": "code",
   "execution_count": null,
   "metadata": {},
   "outputs": [],
   "source": [
    "narrator = Swayam.narrator(narration=\"test\")\n",
    "expression = Expression.texts(prompt1, prompt2)\n",
    "narrator.narrate(expression)"
   ]
  },
  {
   "cell_type": "markdown",
   "metadata": {},
   "source": [
    "### Narrative Management\n",
    "\n",
    "Expressions by default always start in a new narrative.\n",
    "\n",
    "The following expression should start in a fresh narrative"
   ]
  },
  {
   "cell_type": "code",
   "execution_count": null,
   "metadata": {},
   "outputs": [],
   "source": [
    "expression = Expression.texts(prompt1, prompt2, purpose=\"Fresh Default Conv - Empty Narrative\")\n",
    "narrator.narrate(expression)"
   ]
  },
  {
   "cell_type": "markdown",
   "metadata": {},
   "source": [
    "Following two expressions will inherit the narrative from previous expression"
   ]
  },
  {
   "cell_type": "code",
   "execution_count": null,
   "metadata": {},
   "outputs": [],
   "source": [
    "expression = Expression.texts(\"What is testing?\", reset_narrative=False, purpose=\"Inherit narrative 1\")\n",
    "narrator.narrate(expression)"
   ]
  },
  {
   "cell_type": "code",
   "execution_count": null,
   "metadata": {},
   "outputs": [],
   "source": [
    "expression = Expression.texts(\"What did you answer in the previous response?\", reset_narrative=False, purpose=\"Inherit narrative 2\")\n",
    "narrator.narrate(expression)"
   ]
  },
  {
   "cell_type": "markdown",
   "metadata": {},
   "source": [
    "Following expression has an empty narrative and is an independent expression."
   ]
  },
  {
   "cell_type": "code",
   "execution_count": null,
   "metadata": {},
   "outputs": [],
   "source": [
    "expression = Expression.texts(\"Explain your previous answer, please.\", purpose=\"Check narrative reset after two inheriting expressions\")\n",
    "narrator.narrate(expression)"
   ]
  }
 ],
 "metadata": {
  "kernelspec": {
   "display_name": "py3108",
   "language": "python",
   "name": "python3"
  },
  "language_info": {
   "codemirror_mode": {
    "name": "ipython",
    "version": 3
   },
   "file_extension": ".py",
   "mimetype": "text/x-python",
   "name": "python",
   "nbconvert_exporter": "python",
   "pygments_lexer": "ipython3",
   "version": "3.10.8"
  }
 },
 "nbformat": 4,
 "nbformat_minor": 2
}
