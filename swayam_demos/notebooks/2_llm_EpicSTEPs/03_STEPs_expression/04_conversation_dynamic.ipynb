{
 "cells": [
  {
   "cell_type": "code",
   "execution_count": null,
   "metadata": {},
   "outputs": [],
   "source": [
    "from env import *\n",
    "from swayam import *"
   ]
  },
  {
   "cell_type": "markdown",
   "metadata": {},
   "source": [
    "### Expression with Dynamic Prompt Files\n",
    "\n",
    "We earlier saw how we can create Prompt Files that have placeholders that can be formatted from outside.\n",
    "\n",
    "You can of course individually take care of the formatting of the prompts. \n",
    "\n",
    "The power of a expression object lies in formatting all child objects in one go.\n",
    "\n",
    "Just like **Prompt.formatter**, Swayam has a **Expression.formatter** helper function."
   ]
  },
  {
   "cell_type": "code",
   "execution_count": null,
   "metadata": {},
   "outputs": [],
   "source": [
    "narrator = Swayam.narrator(narration=\"test\")\n",
    "expression = Expression.formatter(city=\"Tokyo\", month=\"July\", thought=\"Visa\").prompt_files(\n",
    "    Prompt.file.user.plan_a_trip, \n",
    "    Prompt.file.user.plan_a_trip_thought\n",
    ")\n",
    "narrator.enact(expression)"
   ]
  }
 ],
 "metadata": {
  "kernelspec": {
   "display_name": "py3108",
   "language": "python",
   "name": "python3"
  },
  "language_info": {
   "codemirror_mode": {
    "name": "ipython",
    "version": 3
   },
   "file_extension": ".py",
   "mimetype": "text/x-python",
   "name": "python",
   "nbconvert_exporter": "python",
   "pygments_lexer": "ipython3",
   "version": "3.10.8"
  }
 },
 "nbformat": 4,
 "nbformat_minor": 2
}
