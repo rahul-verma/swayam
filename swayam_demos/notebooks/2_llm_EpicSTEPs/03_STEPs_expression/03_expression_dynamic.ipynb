{
 "cells": [
  {
   "cell_type": "code",
   "execution_count": 1,
   "metadata": {},
   "outputs": [],
   "source": [
    "from env import *\n",
    "from swayam import *"
   ]
  },
  {
   "cell_type": "markdown",
   "metadata": {},
   "source": [
    "### Expression with Dynamic Prompt Files\n",
    "\n",
    "The power of an expression lies in formatting all its prompt defs in one go.\n",
    "\n",
    "Just like **Prompt.formatter**, Swayam has a **Expression.formatter** helper function."
   ]
  },
  {
   "cell_type": "code",
   "execution_count": 2,
   "metadata": {},
   "outputs": [],
   "source": [
    "narrator = Swayam.narrator.expression(narration=\"test\")\n",
    "narrator.reset()"
   ]
  },
  {
   "cell_type": "code",
   "execution_count": 3,
   "metadata": {},
   "outputs": [],
   "source": [
    "expression = Expression.formatter(city=\"Tokyo\", month=\"July\", task=\"Visa\").formatting_example\n",
    "narrator.narrate(expression)"
   ]
  }
 ],
 "metadata": {
  "kernelspec": {
   "display_name": "py3108",
   "language": "python",
   "name": "python3"
  },
  "language_info": {
   "codemirror_mode": {
    "name": "ipython",
    "version": 3
   },
   "file_extension": ".py",
   "mimetype": "text/x-python",
   "name": "python",
   "nbconvert_exporter": "python",
   "pygments_lexer": "ipython3",
   "version": "3.10.8"
  }
 },
 "nbformat": 4,
 "nbformat_minor": 2
}
