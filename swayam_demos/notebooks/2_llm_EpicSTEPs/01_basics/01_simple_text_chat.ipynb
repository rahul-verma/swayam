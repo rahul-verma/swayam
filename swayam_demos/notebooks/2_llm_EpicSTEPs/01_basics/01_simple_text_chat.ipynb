{
 "cells": [
  {
   "cell_type": "code",
   "execution_count": 1,
   "metadata": {},
   "outputs": [],
   "source": [
    "from env import *\n",
    "from swayam import *"
   ]
  },
  {
   "cell_type": "markdown",
   "metadata": {},
   "source": [
    "### Basic Chatting"
   ]
  },
  {
   "cell_type": "markdown",
   "metadata": {},
   "source": [
    "#### Prompt as a String\n",
    "\n",
    "Let's run a basic text prompt.\n",
    "\n",
    "We'll use the most basic form of using Swayam to start with."
   ]
  },
  {
   "cell_type": "code",
   "execution_count": 2,
   "metadata": {},
   "outputs": [
    {
     "name": "stdout",
     "output_type": "stream",
     "text": [
      "--------------------------------------------------------------------------------\n",
      "Prompt: (Role: user)\n",
      "I am planning a trip to Berlin in June. Create a list of places worth seeing there.\n",
      "--------------------------------------------------------------------------------\n",
      "Response:\n",
      "Berlin is a vibrant city with a rich history, diverse culture, and plenty of attractions. Here’s a list of must-see places to consider for your trip in June:\n",
      "\n",
      "1. **Brandenburg Gate (Brandenburger Tor)** - An iconic symbol of Berlin and a must-visit landmark.\n",
      "\n",
      "2. **Berlin Wall Memorial (Gedenkstätte Berliner Mauer)** - A historical site that commemorates the division of the city and provides insight into the impact of the Berlin Wall.\n",
      "\n",
      "3. **Reichstag Building** - The seat of the German Parliament, featuring a stunning glass dome that offers panoramic views of the city.\n",
      "\n",
      "4. **Museum Island (Museumsinsel)** - A UNESCO World Heritage site home to several world-renowned museums, including the Pergamon Museum and the Altes Museum.\n",
      "\n",
      "5. **Checkpoint Charlie** - The famous border crossing point between East and West Berlin during the Cold War, complete with a museum detailing its history.\n",
      "\n",
      "6. **East Side Gallery** - A 1.3 km-long stretch of the Berlin Wall covered in murals and street art, celebrating freedom and creativity.\n",
      "\n",
      "7. **Potsdamer Platz** - A bustling square known for its modern architecture, shopping, and entertainment options.\n",
      "\n",
      "8. **Charlottenburg Palace (Schloss Charlottenburg)** - A beautiful baroque palace with stunning gardens, perfect for a leisurely stroll.\n",
      "\n",
      "9. **Tiergarten** - Berlin's largest park, ideal for picnics, walks, and enjoying nature in the heart of the city.\n",
      "\n",
      "10. **Kaiser Wilhelm Memorial Church (Kaiser-Wilhelm-Gedächtniskirche)** - A striking church that serves as a memorial to peace and reconciliation.\n",
      "\n",
      "11. **Topography of Terror** - An outdoor and indoor museum located on the site of the former Gestapo and SS headquarters, detailing the history of the Nazi regime.\n",
      "\n",
      "12. **Berlin Cathedral (Berliner Dom)** - A magnificent Protestant cathedral with a stunning dome and beautiful interiors.\n",
      "\n",
      "13. **Sachsenhausen Concentration Camp Memorial** - A sobering site located just outside Berlin, offering insights into the Holocaust and the history of the concentration camp.\n",
      "\n",
      "14. **Tempelhofer Feld** - A former airport turned public park, perfect for cycling, skating, and enjoying outdoor activities.\n",
      "\n",
      "15. **Friedrichshain and Kreuzberg** - Trendy neighborhoods known for their vibrant street art, cafes, and nightlife.\n",
      "\n",
      "16. **Gendarmenmarkt** - A beautiful square featuring the German and French Cathedrals and the Konzerthaus, often considered one of the most beautiful squares in Berlin.\n",
      "\n",
      "17. **Berlin Zoo (Zoologischer Garten Berlin)** - One of the oldest and most famous zoos in the world, home to a wide variety of animals.\n",
      "\n",
      "18. **Mauerpark** - A popular park known for its flea market, karaoke sessions, and vibrant atmosphere, especially on Sundays.\n",
      "\n",
      "19. **Café am Neuen See** - A lovely lakeside café in Tiergarten, perfect for a relaxing break.\n",
      "\n",
      "20. **Berlin's Street Food Markets** - Explore various street food markets like Markthalle Neun for a taste of local and international cuisine.\n",
      "\n",
      "Make sure to check for any events or festivals happening in June, as Berlin often hosts cultural events that can enhance your experience. Enjoy your trip!\n"
     ]
    }
   ],
   "source": [
    "prompt = \"I am planning a trip to Berlin in June. Create a list of places worth seeing there.\"\n",
    "Swayam.enact(prompt)"
   ]
  },
  {
   "cell_type": "markdown",
   "metadata": {},
   "source": [
    "#### Narrative Management\n",
    "\n",
    "By default prompts are executed in the same narrative. So, there is not need for managing it explicitly in Swayam."
   ]
  },
  {
   "cell_type": "code",
   "execution_count": 3,
   "metadata": {},
   "outputs": [
    {
     "name": "stdout",
     "output_type": "stream",
     "text": [
      "--------------------------------------------------------------------------------\n",
      "Prompt: (Role: user)\n",
      "What should I pack for my trip?\n",
      "--------------------------------------------------------------------------------\n",
      "Response:\n",
      "Packing for a trip to Berlin in June requires consideration of the weather, activities, and your personal preferences. Here’s a comprehensive packing list to help you prepare:\n",
      "\n",
      "### Clothing\n",
      "1. **Lightweight Clothing**: June in Berlin can be warm, so pack breathable fabrics like cotton and linen.\n",
      "2. **Layers**: Evenings can be cooler, so bring a light sweater or cardigan.\n",
      "3. **Comfortable Shoes**: You’ll likely be doing a lot of walking, so pack comfortable walking shoes or sneakers.\n",
      "4. **Dressy Outfit**: If you plan to dine out or attend events, consider packing a nicer outfit.\n",
      "5. **Rain Jacket or Umbrella**: June can have occasional rain showers, so be prepared.\n",
      "6. **Shorts and T-shirts**: For warm days, pack a few pairs of shorts and casual tops.\n",
      "7. **Sunglasses and Hat**: Protect yourself from the sun while exploring the city.\n",
      "\n",
      "### Accessories\n",
      "1. **Daypack or Backpack**: Useful for carrying your essentials while sightseeing.\n",
      "2. **Reusable Water Bottle**: Stay hydrated as you explore the city.\n",
      "3. **Travel Guide or Map**: While smartphones are handy, having a physical map can be useful in areas with poor reception.\n",
      "4. **Camera or Smartphone**: To capture your memories.\n",
      "5. **Power Bank**: Keep your devices charged while on the go.\n",
      "\n",
      "### Toiletries\n",
      "1. **Basic Toiletries**: Toothbrush, toothpaste, shampoo, conditioner, soap, deodorant, etc.\n",
      "2. **Sunscreen**: Protect your skin from sunburn, especially if you plan to spend time outdoors.\n",
      "3. **Personal Medications**: Bring any necessary medications and a small first-aid kit.\n",
      "\n",
      "### Travel Documents\n",
      "1. **Passport**: Ensure it’s valid for the duration of your stay.\n",
      "2. **Travel Insurance**: A copy of your travel insurance policy.\n",
      "3. **Accommodation and Transportation Confirmations**: Printouts or digital copies of your bookings.\n",
      "4. **Emergency Contacts**: A list of important contacts and addresses.\n",
      "\n",
      "### Electronics\n",
      "1. **Chargers**: For your phone, camera, and any other devices.\n",
      "2. **Adapter**: Germany uses Type C and F plugs, so bring a suitable power adapter.\n",
      "3. **Laptop or Tablet**: If you need to work or want to stream entertainment.\n",
      "\n",
      "### Optional Items\n",
      "1. **Guidebook or Language Phrasebook**: Helpful for navigating and communicating.\n",
      "2. **Travel Journal**: To document your experiences.\n",
      "3. **Swimwear**: If you plan to visit a pool or beach area.\n",
      "4. **Lightweight Scarf or Shawl**: Useful for cooler evenings or as a travel blanket.\n",
      "\n",
      "### Tips\n",
      "- **Check the Weather**: Before you pack, check the weather forecast for Berlin in June to make any last-minute adjustments.\n",
      "- **Pack Light**: Try to pack versatile clothing that can be mixed and matched to save space.\n",
      "- **Leave Room for Souvenirs**: If you plan to shop, leave some space in your luggage for any items you may want to bring back.\n",
      "\n",
      "By considering these items, you’ll be well-prepared for your trip to Berlin. Enjoy your travels!\n"
     ]
    }
   ],
   "source": [
    "Swayam.enact(\"What should I pack for my trip?\")"
   ]
  },
  {
   "cell_type": "markdown",
   "metadata": {},
   "source": [
    "### Resetting Narrative\n",
    "\n",
    "For a new chat experience, to avoid cluttering of narrative, you can reset the default narrator in Swayam."
   ]
  },
  {
   "cell_type": "code",
   "execution_count": 4,
   "metadata": {},
   "outputs": [],
   "source": [
    "Swayam.reset_narrator()"
   ]
  },
  {
   "cell_type": "code",
   "execution_count": 5,
   "metadata": {},
   "outputs": [
    {
     "name": "stdout",
     "output_type": "stream",
     "text": [
      "--------------------------------------------------------------------------------\n",
      "Prompt: (Role: user)\n",
      "What should I pack for my trip?\n",
      "--------------------------------------------------------------------------------\n",
      "Response:\n",
      "To help you pack effectively, I need a bit more information about your trip. Here are some questions to consider:\n",
      "\n",
      "1. **Destination**: Where are you going?\n",
      "2. **Duration**: How long will you be staying?\n",
      "3. **Weather**: What is the expected weather like during your trip?\n",
      "4. **Activities**: What activities do you plan to do (e.g., hiking, business meetings, beach)?\n",
      "5. **Travel Style**: Are you traveling for leisure, business, or a special occasion?\n",
      "6. **Accommodation**: Will you have access to laundry facilities?\n",
      "\n",
      "Once I have more details, I can provide a tailored packing list!\n"
     ]
    }
   ],
   "source": [
    "Swayam.enact(\"What should I pack for my trip?\")"
   ]
  }
 ],
 "metadata": {
  "kernelspec": {
   "display_name": "py3108",
   "language": "python",
   "name": "python3"
  },
  "language_info": {
   "codemirror_mode": {
    "name": "ipython",
    "version": 3
   },
   "file_extension": ".py",
   "mimetype": "text/x-python",
   "name": "python",
   "nbconvert_exporter": "python",
   "pygments_lexer": "ipython3",
   "version": "3.10.8"
  }
 },
 "nbformat": 4,
 "nbformat_minor": 2
}
