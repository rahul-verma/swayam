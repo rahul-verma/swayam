{
 "cells": [
  {
   "cell_type": "code",
   "execution_count": 1,
   "metadata": {},
   "outputs": [],
   "source": [
    "from env import *\n",
    "from swayam import *"
   ]
  },
  {
   "cell_type": "markdown",
   "metadata": {},
   "source": [
    "### Narrator : The underlying magic\n",
    "\n",
    "While using **Swayam.enact** is fine for very basic usage of Swayam, the real fun is in exploring the underlying objects.\n",
    "\n",
    "Narrator can handle all phases of STEP model by Rahul Verma: Story (in progress), Thought, Expression and Prompt.\n",
    "\n",
    "We'll start with the basic usage here."
   ]
  },
  {
   "cell_type": "markdown",
   "metadata": {},
   "source": [
    "#### The Devil in the Details\n",
    "\n",
    "While **Swayam.enact** makes it absolutely easy to make a call to an LLM, following are some points to note, in a professional usage of a framework:\n",
    "1. The narrative management needs better control. At the prompt level execution, the experience is same as **Swayam.enact**, but as we dig deeper, we will find ways for better narrative management later.\n",
    "2. Console narration is fine for chatting or debugging, but in a longer semi-automated scenarios, we need a better narration system.\n",
    "3. Providing strings directly as prompts is ok for casual usage, not when you want to have a persistent prompt library maintained in a project. For that, you also need to plan a project structure - a \"story\"."
   ]
  },
  {
   "cell_type": "markdown",
   "metadata": {},
   "source": [
    "### Equivalent of Swayam.enact"
   ]
  },
  {
   "cell_type": "code",
   "execution_count": 2,
   "metadata": {},
   "outputs": [],
   "source": [
    "narrator = Swayam.narrator.simple()"
   ]
  },
  {
   "cell_type": "markdown",
   "metadata": {},
   "source": [
    "#### Executing a Text Prompt with Narrator\n",
    "\n",
    "The Router object deals with execution of multiple types of object.\n",
    "\n",
    "So, to execute a text based prompt, there are some steps that are needed (**Swayam.enact** deals with only one use case, so it does it for you in case of a text prompt.)"
   ]
  },
  {
   "cell_type": "code",
   "execution_count": 3,
   "metadata": {},
   "outputs": [
    {
     "name": "stdout",
     "output_type": "stream",
     "text": [
      "--------------------------------------------------------------------------------\n",
      "Prompt: (Role: user)\n",
      "I am planning a trip to Berlin in June. Create a list of places worth seeing there.\n",
      "--------------------------------------------------------------------------------\n",
      "Response:\n",
      "Berlin is a vibrant city with a rich history, diverse culture, and plenty of attractions. Here’s a list of must-see places to consider for your trip in June:\n",
      "\n",
      "1. **Brandenburg Gate (Brandenburger Tor)** - An iconic symbol of Berlin and a must-visit landmark.\n",
      "\n",
      "2. **Reichstag Building** - The seat of the German Parliament, featuring a stunning glass dome that offers panoramic views of the city.\n",
      "\n",
      "3. **Berlin Wall Memorial (Gedenkstätte Berliner Mauer)** - A historical site that commemorates the division of Berlin and the impact of the Wall.\n",
      "\n",
      "4. **East Side Gallery** - A 1.3 km-long stretch of the Berlin Wall covered in murals and street art, showcasing artistic expressions of freedom.\n",
      "\n",
      "5. **Museum Island (Museumsinsel)** - A UNESCO World Heritage site housing several world-renowned museums, including the Pergamon Museum and the Altes Museum.\n",
      "\n",
      "6. **Checkpoint Charlie** - The famous border crossing point between East and West Berlin during the Cold War, now a museum.\n",
      "\n",
      "7. **Potsdamer Platz** - A bustling square known for its modern architecture, shopping, and entertainment options.\n",
      "\n",
      "8. **Charlottenburg Palace (Schloss Charlottenburg)** - A beautiful baroque palace with stunning gardens, perfect for a leisurely stroll.\n",
      "\n",
      "9. **Kaiser Wilhelm Memorial Church** - A striking church that serves as a memorial to peace and reconciliation, with a fascinating history.\n",
      "\n",
      "10. **Tiergarten** - Berlin's largest park, ideal for a relaxing walk, a picnic, or renting a bike to explore.\n",
      "\n",
      "11. **Berlin Cathedral (Berliner Dom)** - A magnificent Protestant cathedral with a stunning dome and beautiful interiors.\n",
      "\n",
      "12. **Jewish Museum Berlin** - A poignant museum that explores Jewish history and culture in Germany.\n",
      "\n",
      "13. **Tempelhofer Feld** - A former airport turned public park, great for cycling, picnicking, and enjoying outdoor activities.\n",
      "\n",
      "14. **Sachsenhausen Concentration Camp Memorial** - A sobering site located just outside Berlin, offering insights into the Holocaust and Nazi history.\n",
      "\n",
      "15. **Mauerpark** - A lively park known for its flea market, karaoke sessions, and vibrant atmosphere, especially on Sundays.\n",
      "\n",
      "16. **Berlin Zoo and Aquarium** - One of the oldest zoos in the world, home to a wide variety of animals and a great place for families.\n",
      "\n",
      "17. **Friedrichshain and Kreuzberg** - Trendy neighborhoods known for their street art, cafes, and nightlife.\n",
      "\n",
      "18. **Gendarmenmarkt** - A beautiful square featuring the German and French Cathedrals and the Konzerthaus, perfect for a leisurely visit.\n",
      "\n",
      "19. **Berlin Philharmonic** - If you're a music lover, consider attending a concert at this world-renowned concert hall.\n",
      "\n",
      "20. **Spree River Cruise** - Enjoy a scenic boat tour along the Spree River to see the city from a different perspective.\n",
      "\n",
      "Make sure to check local events and festivals happening in June, as Berlin often hosts various cultural events during the summer months. Enjoy your trip!\n",
      "--------------------------------------------------------------------------------\n",
      "Prompt: (Role: user)\n",
      "What should I pack for my trip?\n",
      "--------------------------------------------------------------------------------\n",
      "Response:\n",
      "Packing for a trip to Berlin in June requires consideration of the weather, activities, and your personal preferences. Here’s a comprehensive packing list to help you prepare:\n",
      "\n",
      "### Clothing\n",
      "1. **Lightweight Clothing**: June in Berlin can be warm, with temperatures typically ranging from 15°C to 25°C (59°F to 77°F). Pack breathable fabrics like cotton and linen.\n",
      "2. **Layers**: Evenings can be cooler, so bring a light sweater or cardigan.\n",
      "3. **Comfortable Shoes**: You’ll likely be doing a lot of walking, so pack comfortable walking shoes or sneakers.\n",
      "4. **Dressy Outfit**: If you plan to dine out or attend a concert, consider packing a nicer outfit.\n",
      "5. **Rain Jacket or Umbrella**: June can have occasional rain showers, so a lightweight waterproof jacket or a compact umbrella is a good idea.\n",
      "6. **Sunglasses and Hat**: Protect yourself from the sun while exploring the city.\n",
      "\n",
      "### Accessories\n",
      "1. **Daypack or Backpack**: Useful for carrying your essentials while sightseeing.\n",
      "2. **Reusable Water Bottle**: Stay hydrated as you explore the city.\n",
      "3. **Travel Adapter**: Germany uses Type C and F plugs, so bring a suitable adapter for your electronics.\n",
      "4. **Camera or Smartphone**: Capture your memories, and don’t forget a portable charger.\n",
      "\n",
      "### Toiletries\n",
      "1. **Basic Toiletries**: Toothbrush, toothpaste, shampoo, conditioner, soap, deodorant, etc.\n",
      "2. **Sunscreen**: Protect your skin from UV rays, especially if you plan to spend time outdoors.\n",
      "3. **Personal Medications**: Bring any necessary medications and a small first-aid kit.\n",
      "\n",
      "### Travel Documents\n",
      "1. **Passport**: Ensure it’s valid for the duration of your stay.\n",
      "2. **Travel Insurance**: A copy of your travel insurance policy.\n",
      "3. **Itinerary and Reservations**: Print or save digital copies of your accommodation, transportation, and any tickets for attractions.\n",
      "4. **Emergency Contacts**: Have a list of important contacts, including your embassy.\n",
      "\n",
      "### Optional Items\n",
      "1. **Guidebook or Map**: While smartphones are handy, a physical guidebook can be useful.\n",
      "2. **Notebook or Journal**: For jotting down experiences or travel notes.\n",
      "3. **Snacks**: Pack some snacks for travel days or when you’re out exploring.\n",
      "\n",
      "### Tips\n",
      "- **Check the Weather**: Before you leave, check the weather forecast for Berlin to make any last-minute adjustments to your packing.\n",
      "- **Pack Light**: Try to pack versatile clothing that can be mixed and matched to save space in your luggage.\n",
      "- **Leave Room for Souvenirs**: If you plan to shop, consider leaving some space in your bag for new items.\n",
      "\n",
      "By preparing thoughtfully, you’ll be ready to enjoy all that Berlin has to offer! Safe travels!\n"
     ]
    }
   ],
   "source": [
    "narrator.narrate(\"I am planning a trip to Berlin in June. Create a list of places worth seeing there.\")\n",
    "narrator.narrate(\"What should I pack for my trip?\")"
   ]
  }
 ],
 "metadata": {
  "kernelspec": {
   "display_name": "py3108",
   "language": "python",
   "name": "python3"
  },
  "language_info": {
   "codemirror_mode": {
    "name": "ipython",
    "version": 3
   },
   "file_extension": ".py",
   "mimetype": "text/x-python",
   "name": "python",
   "nbconvert_exporter": "python",
   "pygments_lexer": "ipython3",
   "version": "3.10.8"
  }
 },
 "nbformat": 4,
 "nbformat_minor": 2
}
