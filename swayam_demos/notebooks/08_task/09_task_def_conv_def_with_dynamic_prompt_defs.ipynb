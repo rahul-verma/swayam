{
 "cells": [
  {
   "cell_type": "code",
   "execution_count": 1,
   "metadata": {},
   "outputs": [],
   "source": [
    "from env import *\n",
    "from swayam import *"
   ]
  },
  {
   "cell_type": "markdown",
   "metadata": {},
   "source": [
    "### Task\n",
    "\n",
    "A task can involve multiple conversations with an LLM. (and other non-LLM stuff not done yet)"
   ]
  },
  {
   "cell_type": "code",
   "execution_count": 2,
   "metadata": {},
   "outputs": [],
   "source": [
    "agent = Swayam.agent(run_id=\"test\")"
   ]
  },
  {
   "cell_type": "code",
   "execution_count": 3,
   "metadata": {},
   "outputs": [
    {
     "name": "stdout",
     "output_type": "stream",
     "text": [
      "Executing Conversation with 2 prompt(s).\n"
     ]
    },
    {
     "data": {
      "text/plain": [
       "\"When planning a trip to Chicago (or anywhere in the United States), it's important to consider visa requirements based on your nationality and the purpose of your visit. Here are some key points to keep in mind regarding visas:\\n\\n1. **Determine Visa Type**:\\n   - **Tourist Visa (B-2)**: If you are visiting for tourism, you will likely need a B-2 tourist visa.\\n   - **Visa Waiver Program (VWP)**: Citizens of certain countries may be eligible to travel to the U.S. for tourism or business for stays of 90 days or less without a visa. Check if your country is part of the VWP.\\n\\n2. **Application Process**:\\n   - If you need a visa, apply well in advance of your trip. The process can take several weeks or even months.\\n   - Complete the DS-160 form online for a non-immigrant visa application.\\n\\n3. **Visa Interview**:\\n   - Schedule an appointment for a visa interview at the nearest U.S. embassy or consulate.\\n   - Prepare for the interview by gathering necessary documents, including your passport, visa application confirmation, and proof of ties to your home country (like employment, family, or property).\\n\\n4. **Documentation**:\\n   - Be ready to provide documentation that supports your travel plans, such as:\\n     - Travel itinerary\\n     - Hotel reservations\\n     - Financial statements to prove you can support yourself during your stay\\n     - Evidence of ties to your home country (to show you intend to return)\\n\\n5. **Travel Insurance**:\\n   - While not a visa requirement, consider purchasing travel insurance that covers health, trip cancellations, and other unforeseen events.\\n\\n6. **COVID-19 Regulations**:\\n   - Check for any travel restrictions or requirements related to COVID-19, such as vaccination proof or testing requirements.\\n\\n7. **Duration of Stay**:\\n   - Be aware of the duration of stay allowed on your visa and ensure you do not overstay, as this can lead to penalties or difficulties in future travel to the U.S.\\n\\n8. **Customs and Immigration**:\\n   - Upon arrival in the U.S., you will go through customs and immigration. Be prepared to answer questions about your travel plans and provide any required documentation.\\n\\n9. **Keep Copies**:\\n   - Make copies of all important documents, including your visa, passport, and travel itinerary, in case of loss or theft.\\n\\n10. **Consult Official Resources**:\\n    - Always refer to the official U.S. Department of State website or the U.S. embassy/consulate in your country for the most accurate and up-to-date information regarding visa requirements.\\n\\nBy keeping these points in mind, you can ensure a smoother visa application process and a more enjoyable trip to Chicago.\""
      ]
     },
     "execution_count": 3,
     "metadata": {},
     "output_type": "execute_result"
    }
   ],
   "source": [
    "agent.execute(Task.formatter( persona=\"friend\", city=\"Chicago\", month=\"August\", task=\"Visa\").dynamic_conv_def_with_dynamic_prompt_defs)"
   ]
  }
 ],
 "metadata": {
  "kernelspec": {
   "display_name": "py3108",
   "language": "python",
   "name": "python3"
  },
  "language_info": {
   "codemirror_mode": {
    "name": "ipython",
    "version": 3
   },
   "file_extension": ".py",
   "mimetype": "text/x-python",
   "name": "python",
   "nbconvert_exporter": "python",
   "pygments_lexer": "ipython3",
   "version": "3.10.8"
  }
 },
 "nbformat": 4,
 "nbformat_minor": 2
}
