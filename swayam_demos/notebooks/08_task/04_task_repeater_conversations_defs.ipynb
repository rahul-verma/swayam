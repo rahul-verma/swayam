{
 "cells": [
  {
   "cell_type": "code",
   "execution_count": null,
   "metadata": {},
   "outputs": [],
   "source": [
    "from env import *\n",
    "from swayam import *"
   ]
  },
  {
   "cell_type": "markdown",
   "metadata": {},
   "source": [
    "### Task\n",
    "\n",
    "A task can involve multiple conversations with an LLM. (and other non-LLM stuff not done yet)"
   ]
  },
  {
   "cell_type": "code",
   "execution_count": null,
   "metadata": {},
   "outputs": [],
   "source": [
    "agent = Swayam.agent(run_id=\"test\")"
   ]
  },
  {
   "cell_type": "code",
   "execution_count": 10,
   "metadata": {},
   "outputs": [
    {
     "name": "stdout",
     "output_type": "stream",
     "text": [
      "{'i': 0, 'j': 0}\n",
      "{'i': 1, 'j': 1}\n",
      "{'i': 2, 'j': 2}\n",
      "{'i': 3, 'j': 3}\n",
      "{'i': 4, 'j': 4}\n",
      "{'i': 5, 'j': 5}\n",
      "{'i': 6, 'j': 6}\n",
      "{'i': 7, 'j': 7}\n",
      "{'i': 8, 'j': 8}\n",
      "{'i': 9, 'j': 9}\n"
     ]
    }
   ],
   "source": [
    "def nums_gen():\n",
    "    i = iter(range(10))\n",
    "    j = iter(range(10))\n",
    "    while True:\n",
    "        try:\n",
    "            yield {\"i\": next(i), \"j\": next(j)}\n",
    "        except StopIteration:\n",
    "            break"
   ]
  },
  {
   "cell_type": "code",
   "execution_count": null,
   "metadata": {},
   "outputs": [],
   "source": [
    "task = Task.repeater(nums_gen).conversation_files(Conversation.file.conv3_task_dynamic, Conversation.file.conv4_task_dynamic)"
   ]
  },
  {
   "cell_type": "code",
   "execution_count": null,
   "metadata": {},
   "outputs": [],
   "source": [
    "conv1 = Conversation.texts(prompt1, prompt2, prompt3, tools=[Tool.Calculator])"
   ]
  },
  {
   "cell_type": "code",
   "execution_count": null,
   "metadata": {},
   "outputs": [],
   "source": [
    "prompt3 = \"Multiply them.\""
   ]
  },
  {
   "cell_type": "code",
   "execution_count": null,
   "metadata": {},
   "outputs": [],
   "source": [
    "conv2 = Conversation.texts(prompt1, prompt2, prompt3, tools=[Tool.Calculator])"
   ]
  },
  {
   "cell_type": "code",
   "execution_count": null,
   "metadata": {},
   "outputs": [],
   "source": [
    "task = Task.conversations(conv1, conv2)"
   ]
  },
  {
   "cell_type": "code",
   "execution_count": null,
   "metadata": {},
   "outputs": [],
   "source": [
    "agent.execute(task)"
   ]
  }
 ],
 "metadata": {
  "kernelspec": {
   "display_name": "py3108",
   "language": "python",
   "name": "python3"
  },
  "language_info": {
   "codemirror_mode": {
    "name": "ipython",
    "version": 3
   },
   "file_extension": ".py",
   "mimetype": "text/x-python",
   "name": "python",
   "nbconvert_exporter": "python",
   "pygments_lexer": "ipython3",
   "version": "3.10.8"
  }
 },
 "nbformat": 4,
 "nbformat_minor": 2
}
