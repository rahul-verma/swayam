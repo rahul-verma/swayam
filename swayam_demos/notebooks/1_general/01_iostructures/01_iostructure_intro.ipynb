{
 "cells": [
  {
   "cell_type": "code",
   "execution_count": null,
   "metadata": {},
   "outputs": [],
   "source": [
    "from env import *\n",
    "from swayam import *"
   ]
  },
  {
   "cell_type": "markdown",
   "metadata": {},
   "source": [
    "## I/O Structures\n",
    "\n",
    "The I/O structures are utilized in the following ways:\n",
    "1. Generators accept and output data as a prescribed I/O Structure\n",
    "2. Tools accept and output data as a prescribed I/O Structure\n",
    "3. Used to prescribe response format in an LLM prompt.\n",
    "\n",
    "The names of attributes are kept deliberately verbose as the names appear as placeholders in definition files in practical usage. "
   ]
  },
  {
   "cell_type": "markdown",
   "metadata": {},
   "source": [
    "You can refer the project structure of swayam_demos to know more about it. "
   ]
  },
  {
   "cell_type": "markdown",
   "metadata": {},
   "source": [
    "### A Simple Example\n",
    "\n",
    "Here we are making basic use of pydantic to create a Data Model and using it to create an IOStructure using **Structure.build** method.\n",
    "\n",
    "Note that the build call returns a tuple of 2 objects: An Atomic Structure and A Composite Structure (List of Items with the generated Structure)."
   ]
  },
  {
   "cell_type": "code",
   "execution_count": null,
   "metadata": {},
   "outputs": [],
   "source": [
    "from pydantic import BaseModel, Field\n",
    "\n",
    "class TripDataModel(BaseModel):\n",
    "    city: str = Field(..., title=\"City\", description=\"City to visit\")\n",
    "    month: str = Field(..., title=\"Month\", description=\"Month to visit\")\n",
    "    task: str = Field(default=\"Tourism\", title=\"Task\", description=\"Task to complete\")\n",
    "    \n",
    "TripData, TripDataList = Structure.build(\"TripData\", model=TripDataModel, return_composite=True)"
   ]
  },
  {
   "cell_type": "markdown",
   "metadata": {},
   "source": [
    "You can get the definition of the this structure using the **definition** property."
   ]
  },
  {
   "cell_type": "code",
   "execution_count": null,
   "metadata": {},
   "outputs": [],
   "source": [
    "TripData.definition"
   ]
  },
  {
   "cell_type": "code",
   "execution_count": null,
   "metadata": {},
   "outputs": [],
   "source": [
    "TripDataList.definition"
   ]
  },
  {
   "cell_type": "markdown",
   "metadata": {},
   "source": [
    "To create an object as per this structure, always use keyword arguments."
   ]
  },
  {
   "cell_type": "code",
   "execution_count": null,
   "metadata": {},
   "outputs": [],
   "source": [
    "trip_data = TripData(city=\"Berlin\", month=\"July\", task=\"Visa\")"
   ]
  },
  {
   "cell_type": "markdown",
   "metadata": {},
   "source": [
    "To get the data contained in the IOStructureObject, you can use its **as_dict** method."
   ]
  },
  {
   "cell_type": "code",
   "execution_count": null,
   "metadata": {},
   "outputs": [],
   "source": [
    "trip_data.as_dict()"
   ]
  },
  {
   "cell_type": "code",
   "execution_count": null,
   "metadata": {},
   "outputs": [],
   "source": [
    "trip_data_list = TripDataList({'city': 'Berlin', 'month': 'July', 'task': 'Visa'}, {'city': 'Chicago', 'month': 'June', 'task': 'Visa'})"
   ]
  },
  {
   "cell_type": "code",
   "execution_count": null,
   "metadata": {},
   "outputs": [],
   "source": [
    "trip_data_list.as_list()"
   ]
  }
 ],
 "metadata": {
  "kernelspec": {
   "display_name": "py3108",
   "language": "python",
   "name": "python3"
  },
  "language_info": {
   "codemirror_mode": {
    "name": "ipython",
    "version": 3
   },
   "file_extension": ".py",
   "mimetype": "text/x-python",
   "name": "python",
   "nbconvert_exporter": "python",
   "pygments_lexer": "ipython3",
   "version": "3.10.8"
  }
 },
 "nbformat": 4,
 "nbformat_minor": 2
}
