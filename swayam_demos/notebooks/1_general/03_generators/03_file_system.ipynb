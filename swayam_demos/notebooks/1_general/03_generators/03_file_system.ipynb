{
 "cells": [
  {
   "cell_type": "code",
   "execution_count": null,
   "metadata": {},
   "outputs": [],
   "source": [
    "from env import *\n",
    "from swayam import *"
   ]
  },
  {
   "cell_type": "markdown",
   "metadata": {},
   "source": [
    "### Structured Generators\n",
    "\n",
    "Swayam has the concept of Structured Generators. \n",
    "\n",
    "The purpose of a generator typically is to give more than one units of data of one kind.\n",
    "\n",
    "The Structured Genertors can be looped over and provide one IOStructureObject at a time.\n",
    "\n",
    "One key feature is that rather than re-writing equivalent functionality, a Tool can be converted into a (greedy) generator using **as_generator** call."
   ]
  },
  {
   "cell_type": "code",
   "execution_count": null,
   "metadata": {},
   "outputs": [],
   "source": [
    "generator = Generator.DirFileInfo(dir_path=\"report\", file_filter_pattern=\".*json\")\n",
    "for i in generator:\n",
    "    print(i)"
   ]
  },
  {
   "cell_type": "code",
   "execution_count": null,
   "metadata": {},
   "outputs": [],
   "source": [
    "generator = Generator.DirFileContent(dir_path=\"report\", file_filter_pattern=\".*json\")\n",
    "for i in generator:\n",
    "    print(i)"
   ]
  },
  {
   "cell_type": "markdown",
   "metadata": {},
   "source": [
    "### Error in case of non-existing Generator"
   ]
  },
  {
   "cell_type": "code",
   "execution_count": null,
   "metadata": {},
   "outputs": [],
   "source": [
    "Generator.NonExisting"
   ]
  }
 ],
 "metadata": {
  "kernelspec": {
   "display_name": "py3108",
   "language": "python",
   "name": "python3"
  },
  "language_info": {
   "codemirror_mode": {
    "name": "ipython",
    "version": 3
   },
   "file_extension": ".py",
   "mimetype": "text/x-python",
   "name": "python",
   "nbconvert_exporter": "python",
   "pygments_lexer": "ipython3",
   "version": "3.10.8"
  }
 },
 "nbformat": 4,
 "nbformat_minor": 2
}
