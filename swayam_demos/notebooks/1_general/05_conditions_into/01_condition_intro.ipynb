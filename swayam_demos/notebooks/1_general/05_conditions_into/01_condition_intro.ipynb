{
 "cells": [
  {
   "cell_type": "code",
   "execution_count": 1,
   "metadata": {},
   "outputs": [],
   "source": [
    "from env import *\n",
    "from swayam import *"
   ]
  },
  {
   "cell_type": "markdown",
   "metadata": {},
   "source": [
    "## Structured Conditions\n",
    "\n",
    "Swayam has the concept of Structured Conditions. These tools deal with input and output in the form of Swayam IOStructure objects.\n",
    "\n",
    "The context of using a Condition is using it with a Prompt object for typically to check is something is true/false. This outcome can be used in many places."
   ]
  },
  {
   "cell_type": "markdown",
   "metadata": {},
   "source": [
    "### A Text Content Parser"
   ]
  },
  {
   "cell_type": "code",
   "execution_count": 9,
   "metadata": {},
   "outputs": [],
   "source": [
    "from typing import Union\n",
    "from pydantic import BaseModel, Field\n",
    "\n",
    "def find_value_of_test(*, content):\n",
    "    return Structure.NumericOutput(output = float(content.split(\"=\")[1]))\n",
    "\n",
    "FindValueOfTest = Parser.text(\n",
    "    \"FindValueOfTest\", \n",
    "    kallable=find_value_of_test, \n",
    "    output_structure=Structure.NumericOutput\n",
    ")"
   ]
  },
  {
   "cell_type": "code",
   "execution_count": 10,
   "metadata": {},
   "outputs": [
    {
     "data": {
      "text/plain": [
       "{'output': 3.0}"
      ]
     },
     "execution_count": 10,
     "metadata": {},
     "output_type": "execute_result"
    }
   ],
   "source": [
    "FindValueOfTest(content=\"test=3\")"
   ]
  },
  {
   "cell_type": "code",
   "execution_count": 11,
   "metadata": {},
   "outputs": [],
   "source": [
    "import json\n",
    "from json import JSONDecodeError\n",
    "from typing import Union\n",
    "from pydantic import BaseModel, Field\n",
    "\n",
    "def find_value_of_test(*, content):\n",
    "    return Structure.NumericOutput(output = json.loads(content)['test'])\n",
    "\n",
    "FindValueOfTest = Parser.json(\n",
    "    \"FindValueOfTest\", \n",
    "    kallable=find_value_of_test, \n",
    "    output_structure=Structure.NumericOutput\n",
    ")"
   ]
  },
  {
   "cell_type": "code",
   "execution_count": 14,
   "metadata": {},
   "outputs": [
    {
     "data": {
      "text/plain": [
       "{'output': 3}"
      ]
     },
     "execution_count": 14,
     "metadata": {},
     "output_type": "execute_result"
    }
   ],
   "source": [
    "FindValueOfTest(content=json.dumps({\"test\": 3}))"
   ]
  }
 ],
 "metadata": {
  "kernelspec": {
   "display_name": "py3108",
   "language": "python",
   "name": "python3"
  },
  "language_info": {
   "codemirror_mode": {
    "name": "ipython",
    "version": 3
   },
   "file_extension": ".py",
   "mimetype": "text/x-python",
   "name": "python",
   "nbconvert_exporter": "python",
   "pygments_lexer": "ipython3",
   "version": "3.10.8"
  }
 },
 "nbformat": 4,
 "nbformat_minor": 2
}
