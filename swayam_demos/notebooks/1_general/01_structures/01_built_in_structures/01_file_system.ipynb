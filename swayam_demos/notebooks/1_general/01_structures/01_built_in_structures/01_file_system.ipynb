{
 "cells": [
  {
   "cell_type": "code",
   "execution_count": 1,
   "metadata": {},
   "outputs": [],
   "source": [
    "from env import *\n",
    "from swayam import *"
   ]
  },
  {
   "cell_type": "markdown",
   "metadata": {},
   "source": [
    "### I/O Structures\n",
    "\n",
    "The I/O structures are utilized in the following ways:\n",
    "1. Generators accept and output data as a prescribed I/O Structure\n",
    "2. Tools accept and output data as a prescribed I/O Structure\n",
    "3. Used to prescribe response format in an LLM prompt.\n",
    "\n",
    "The names of attributes are kept deliberately verbose as the names appear as placeholders in definition files in practical usage."
   ]
  },
  {
   "cell_type": "markdown",
   "metadata": {},
   "source": [
    "### Built-in IO Structures"
   ]
  },
  {
   "cell_type": "code",
   "execution_count": 2,
   "metadata": {},
   "outputs": [
    {
     "name": "stdout",
     "output_type": "stream",
     "text": [
      "{'properties': {'dir_path': {'description': 'Name of the directory', 'examples': 'tools', 'type': 'string'}, 'file_filter_pattern': {'default': None, 'description': 'Regular Expression pattern to filter (include) the files', 'examples': '.*\\\\.txt', 'type': 'string'}}, 'required': ['dir_path'], 'title': 'DirPathModel', 'type': 'object'}\n",
      "<swayam.structure.structure.IOStructureObject object at 0x1159cb670>\n",
      "{'dir_path': 'data/test', 'file_filter_pattern': '.*html'}\n"
     ]
    }
   ],
   "source": [
    "structure_object = Structure.DirPath(\n",
    "    dir_path = \"data/test\",\n",
    "    file_filter_pattern=\".*html\" #optional \n",
    ")\n",
    "print(Structure.DirPath.definition)\n",
    "print(structure_object)\n",
    "print(structure_object.as_dict())"
   ]
  },
  {
   "cell_type": "code",
   "execution_count": 3,
   "metadata": {},
   "outputs": [
    {
     "name": "stdout",
     "output_type": "stream",
     "text": [
      "{'properties': {'file_path': {'description': 'Full or Project Relative Path of the file.', 'examples': ['/home/user/file.txt', 'user/file.txt'], 'type': 'string'}}, 'required': ['file_path'], 'title': 'FilePathModel', 'type': 'object'}\n",
      "{'file_path': 'data/test'}\n"
     ]
    }
   ],
   "source": [
    "structure_object = Structure.FilePath(file_path = \"data/test\")\n",
    "print(Structure.FilePath.definition)\n",
    "print(structure_object.as_dict())"
   ]
  },
  {
   "cell_type": "code",
   "execution_count": 4,
   "metadata": {},
   "outputs": [
    {
     "name": "stdout",
     "output_type": "stream",
     "text": [
      "{'properties': {'file_name': {'description': 'Name of the file', 'examples': 'file.txt', 'type': 'string'}, 'file_path': {'description': 'Full or Project Relative Path of the file.', 'examples': ['/home/user/file.txt', 'user/file.txt'], 'type': 'string'}}, 'required': ['file_name', 'file_path'], 'title': 'FileInfoModel', 'type': 'object'}\n",
      "{'file_name': 'test.txt', 'file_path': 'data/test.txt'}\n"
     ]
    }
   ],
   "source": [
    "structure_object = Structure.FileInfo(\n",
    "    file_name=\"test.txt\", \n",
    "    file_path=\"data/test.txt\"\n",
    ")\n",
    "print(Structure.FileInfo.definition)\n",
    "print(structure_object.as_dict())"
   ]
  },
  {
   "cell_type": "code",
   "execution_count": 5,
   "metadata": {},
   "outputs": [
    {
     "name": "stdout",
     "output_type": "stream",
     "text": [
      "{'properties': {'file_name': {'description': 'Name of the file', 'examples': 'file.txt', 'type': 'string'}, 'file_path': {'description': 'Full or Project Relative Path of the file.', 'examples': ['/home/user/file.txt', 'user/file.txt'], 'type': 'string'}, 'file_content': {'description': 'Content of the file', 'type': 'string'}}, 'required': ['file_name', 'file_path', 'file_content'], 'title': 'FileContentModel', 'type': 'object'}\n",
      "{'file_name': 'test.txt', 'file_path': 'data/test.txt', 'file_content': 'Hello world'}\n"
     ]
    }
   ],
   "source": [
    "structure_object = Structure.FileContent(\n",
    "    file_name=\"test.txt\", \n",
    "    file_path=\"data/test.txt\",\n",
    "    file_content=\"Hello world\"\n",
    ")\n",
    "print(Structure.FileContent.definition)\n",
    "print(structure_object.as_dict())"
   ]
  }
 ],
 "metadata": {
  "kernelspec": {
   "display_name": "py3108",
   "language": "python",
   "name": "python3"
  },
  "language_info": {
   "codemirror_mode": {
    "name": "ipython",
    "version": 3
   },
   "file_extension": ".py",
   "mimetype": "text/x-python",
   "name": "python",
   "nbconvert_exporter": "python",
   "pygments_lexer": "ipython3",
   "version": "3.10.8"
  }
 },
 "nbformat": 4,
 "nbformat_minor": 2
}
