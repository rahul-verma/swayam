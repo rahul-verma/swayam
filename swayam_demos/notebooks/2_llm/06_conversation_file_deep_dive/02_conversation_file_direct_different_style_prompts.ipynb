{
 "cells": [
  {
   "cell_type": "code",
   "execution_count": 1,
   "metadata": {},
   "outputs": [],
   "source": [
    "from env import *\n",
    "from swayam import *"
   ]
  },
  {
   "cell_type": "markdown",
   "metadata": {},
   "source": [
    "### A Complex Expression\n",
    "\n",
    "As we have seen earlier, prompts have choices to make when it comes to purpose, response format, tools and what not.\n",
    "\n",
    "A expression file just like the usual Expression object we saw earlier, can include a variety of such prompts."
   ]
  },
  {
   "cell_type": "code",
   "execution_count": 2,
   "metadata": {},
   "outputs": [
    {
     "name": "stdout",
     "output_type": "stream",
     "text": [
      "Executing Expression with 5 prompt(s).\n"
     ]
    },
    {
     "data": {
      "text/plain": [
       "'When considering a visa application, here are several key points to keep in mind:\\n\\n1. **Visa Type**: Determine the appropriate visa type for your purpose (e.g., tourist, student, work, etc.).\\n\\n2. **Documentation**: Prepare all necessary documents, including:\\n   - Passport (valid for at least six months beyond your stay)\\n   - Visa application form\\n   - Photographs (meeting specific requirements)\\n   - Proof of accommodation\\n   - Travel itinerary\\n   - Financial statements (to show you can support yourself)\\n\\n3. **Application Process**: Understand the application process, including:\\n   - Where to apply (embassy, consulate, or online)\\n   - Application fees\\n   - Processing times\\n\\n4. **Interview Preparation**: If an interview is required, be ready to answer questions about your travel plans, financial situation, and ties to your home country.\\n\\n5. **Health Insurance**: Some countries require proof of health insurance coverage for the duration of your stay.\\n\\n6. **Travel Restrictions**: Stay informed about any travel restrictions or requirements related to health (e.g., vaccinations).\\n\\n7. **Ties to Home Country**: Be prepared to demonstrate your intent to return to your home country, such as employment, family, or property.\\n\\n8. **Legal Compliance**: Ensure you comply with all visa regulations and laws of the destination country to avoid issues during your stay.\\n\\n9. **Updates and Changes**: Keep an eye on any changes in visa policies or requirements, especially due to evolving global situations.\\n\\n10. **Consultation**: If needed, consider consulting with a visa expert or immigration lawyer for guidance.\\n\\nBeing well-prepared and informed can significantly enhance your chances of a successful visa application.'"
      ]
     },
     "execution_count": 2,
     "metadata": {},
     "output_type": "execute_result"
    }
   ],
   "source": [
    "agent = Swayam.agent(run_id=\"test\")\n",
    "agent.enact(Expression.direct_different_style_prompts)"
   ]
  }
 ],
 "metadata": {
  "kernelspec": {
   "display_name": "py3108",
   "language": "python",
   "name": "python3"
  },
  "language_info": {
   "codemirror_mode": {
    "name": "ipython",
    "version": 3
   },
   "file_extension": ".py",
   "mimetype": "text/x-python",
   "name": "python",
   "nbconvert_exporter": "python",
   "pygments_lexer": "ipython3",
   "version": "3.10.8"
  }
 },
 "nbformat": 4,
 "nbformat_minor": 2
}
