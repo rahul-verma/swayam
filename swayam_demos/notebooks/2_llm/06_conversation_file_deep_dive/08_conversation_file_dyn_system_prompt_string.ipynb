{
 "cells": [
  {
   "cell_type": "code",
   "execution_count": null,
   "metadata": {},
   "outputs": [],
   "source": [
    "from env import *\n",
    "from swayam import *"
   ]
  },
  {
   "cell_type": "markdown",
   "metadata": {},
   "source": [
    "### Expression: Dynamic System Prompt String\n",
    "\n",
    "System prompt string can be formatted the same way the other prompt strings are formatted."
   ]
  },
  {
   "cell_type": "code",
   "execution_count": null,
   "metadata": {},
   "outputs": [],
   "source": [
    "narrator = Swayam.narrator(run_id=\"test\")\n",
    "\n",
    "persona = \"a person who has no idea about the place I am visiting.\"\n",
    "\n",
    "narrator.enact(Expression.formatter(\n",
    "    persona=persona, city=\"Tokyo\", month=\"July\", thought=\"Visa\").perspective_dyn_string\n",
    ")"
   ]
  }
 ],
 "metadata": {
  "kernelspec": {
   "display_name": "py3108",
   "language": "python",
   "name": "python3"
  },
  "language_info": {
   "codemirror_mode": {
    "name": "ipython",
    "version": 3
   },
   "file_extension": ".py",
   "mimetype": "text/x-python",
   "name": "python",
   "nbconvert_exporter": "python",
   "pygments_lexer": "ipython3",
   "version": "3.10.8"
  }
 },
 "nbformat": 4,
 "nbformat_minor": 2
}
