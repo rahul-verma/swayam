{
 "cells": [
  {
   "cell_type": "code",
   "execution_count": 1,
   "metadata": {},
   "outputs": [],
   "source": [
    "from env import *\n",
    "from swayam import *"
   ]
  },
  {
   "cell_type": "markdown",
   "metadata": {},
   "source": [
    "### Narrator : The underlying magic\n",
    "\n",
    "While using **Swayam.enact** is fine for very basic usage of Swayam, the real fun is in exploring the underlying objects.\n",
    "\n",
    "Narrator is the object responsible for routing prompts to appropriate enactors in Swayam. In the process, it provides many advanced features.\n",
    "\n",
    "We'll start with the basic usage here."
   ]
  },
  {
   "cell_type": "markdown",
   "metadata": {},
   "source": [
    "#### The Devil in the Details\n",
    "\n",
    "While **Swayam.enact** makes it absolutely easy to make a call to an LLM, following are some points to note, in a professional usage of a framework:\n",
    "1. The narrative management needs better control. At the prompt level execution, the experience is same as **Swayam.enact**, but as we dig deeper, we will find ways for better narrative management later.\n",
    "2. Console reporting is fine for chatting or debugging, but in a longer semi-automated scenarios, we need a better reporting system.\n",
    "3. Providing strings directly as prompts is ok for casual usage, not when you want to have a persistent prompt library maintained in a project. For that, you also need to plan a project structure."
   ]
  },
  {
   "cell_type": "markdown",
   "metadata": {},
   "source": [
    "### Equivalent of Swayam.enact"
   ]
  },
  {
   "cell_type": "code",
   "execution_count": 2,
   "metadata": {},
   "outputs": [],
   "source": [
    "narrator = Swayam.narrator(display=True, record_html=False)"
   ]
  },
  {
   "cell_type": "markdown",
   "metadata": {},
   "source": [
    "#### Executing a Text Prompt with Narrator\n",
    "\n",
    "The Router object deals with execution of multiple types of object.\n",
    "\n",
    "So, to execute a text based prompt, there are some steps that are needed (**Swayam.enact** deals with only one use case, so it does it for you in case of a text prompt.)"
   ]
  },
  {
   "cell_type": "code",
   "execution_count": 3,
   "metadata": {},
   "outputs": [
    {
     "name": "stdout",
     "output_type": "stream",
     "text": [
      "--------------------------------------------------------------------------------\n",
      "Prompt: (Role: user)\n",
      "I am planning a trip to Berlin in June. Create a list of places worth seeing there.\n",
      "--------------------------------------------------------------------------------\n",
      "Response:\n",
      "Berlin is a vibrant city with a rich history, diverse culture, and plenty of attractions. Here’s a list of must-see places to consider for your trip in June:\n",
      "\n",
      "1. **Brandenburg Gate (Brandenburger Tor)** - An iconic symbol of Berlin and a must-visit landmark.\n",
      "\n",
      "2. **Reichstag Building** - The seat of the German Parliament, featuring a stunning glass dome that offers panoramic views of the city.\n",
      "\n",
      "3. **Berlin Wall Memorial (Gedenkstätte Berliner Mauer)** - A historical site that commemorates the division of Berlin and includes a preserved section of the Wall.\n",
      "\n",
      "4. **East Side Gallery** - A 1.3 km-long stretch of the Berlin Wall covered in murals and street art, showcasing messages of freedom and unity.\n",
      "\n",
      "5. **Museum Island (Museumsinsel)** - A UNESCO World Heritage site that houses several world-renowned museums, including the Pergamon Museum and the Altes Museum.\n",
      "\n",
      "6. **Checkpoint Charlie** - The famous border crossing point between East and West Berlin during the Cold War, now a popular tourist attraction.\n",
      "\n",
      "7. **Berlin Cathedral (Berliner Dom)** - A stunning Protestant cathedral with a beautiful dome and impressive interior.\n",
      "\n",
      "8. **Potsdamer Platz** - A bustling square known for its modern architecture, shopping, and entertainment options.\n",
      "\n",
      "9. **Charlottenburg Palace (Schloss Charlottenburg)** - The largest palace in Berlin, featuring beautiful gardens and opulent rooms.\n",
      "\n",
      "10. **Tiergarten** - Berlin’s central park, perfect for a leisurely stroll, picnics, or cycling.\n",
      "\n",
      "11. **Kaiser Wilhelm Memorial Church (Kaiser-Wilhelm-Gedächtniskirche)** - A striking church that serves as a memorial to peace and reconciliation.\n",
      "\n",
      "12. **Topography of Terror** - An outdoor and indoor history museum located on the site of the former Gestapo and SS headquarters.\n",
      "\n",
      "13. **Jewish Museum Berlin** - A profound museum that explores Jewish history and culture in Germany.\n",
      "\n",
      "14. **Tempelhofer Feld** - A former airport turned public park, ideal for biking, skating, and enjoying outdoor activities.\n",
      "\n",
      "15. **Siegessäule (Victory Column)** - A monument with an observation deck offering great views of the city.\n",
      "\n",
      "16. **Mauerpark** - A popular park known for its flea market, karaoke sessions, and vibrant atmosphere.\n",
      "\n",
      "17. **Berlin Zoo (Zoologischer Garten Berlin)** - One of the oldest and most famous zoos in the world, home to a wide variety of animals.\n",
      "\n",
      "18. **Kreuzberg District** - A trendy neighborhood known for its multicultural vibe, street art, and lively nightlife.\n",
      "\n",
      "19. **Hackescher Markt** - A lively area filled with shops, restaurants, and bars, perfect for exploring and dining.\n",
      "\n",
      "20. **Spree River Cruise** - Consider taking a boat tour along the Spree River for a unique directive of the city’s landmarks.\n",
      "\n",
      "Make sure to check local events and festivals happening in June, as Berlin often hosts various cultural events during the summer months. Enjoy your trip!\n",
      "--------------------------------------------------------------------------------\n",
      "--------------------------------------------------------------------------------\n",
      "Prompt: (Role: user)\n",
      "What should I pack for my trip?\n",
      "--------------------------------------------------------------------------------\n",
      "Response:\n",
      "Packing for a trip to Berlin in June requires consideration of the weather, activities, and your personal preferences. Here’s a comprehensive packing list to help you prepare:\n",
      "\n",
      "### Clothing\n",
      "1. **Lightweight Clothing**: June in Berlin can be warm, so pack breathable, lightweight clothes like t-shirts, blouses, and shorts.\n",
      "2. **Layering Options**: Evenings can be cooler, so include a light sweater or cardigan.\n",
      "3. **Comfortable Pants**: Consider packing a pair of comfortable jeans or trousers for cooler days or evenings.\n",
      "4. **Dress or Skirt**: If you enjoy dressing up, a casual dress or skirt can be great for dining out or exploring.\n",
      "5. **Light Jacket**: A light, waterproof jacket is useful in case of rain.\n",
      "6. **Comfortable Shoes**: Bring walking shoes or sneakers for exploring the city, and consider sandals for warmer days.\n",
      "7. **Swimwear**: If you plan to visit pools or lakes, pack a swimsuit.\n",
      "\n",
      "### Accessories\n",
      "1. **Sunglasses**: Protect your eyes from the sun while exploring.\n",
      "2. **Hat**: A wide-brimmed hat can provide shade and keep you cool.\n",
      "3. **Scarf**: A lightweight scarf can be useful for cooler evenings or as a fashion accessory.\n",
      "4. **Backpack or Day Bag**: A small backpack or crossbody bag for carrying essentials while sightseeing.\n",
      "\n",
      "### Toiletries\n",
      "1. **Sunscreen**: Protect your skin from UV rays, especially if you plan to spend time outdoors.\n",
      "2. **Personal Care Items**: Bring your usual toiletries (toothbrush, toothpaste, shampoo, etc.).\n",
      "3. **Medications**: Don’t forget any prescription medications and a small first-aid kit.\n",
      "\n",
      "### Electronics\n",
      "1. **Phone and Charger**: Essential for navigation and communication.\n",
      "2. **Camera**: If you enjoy photography, bring a camera to capture your memories.\n",
      "3. **Power Adapter**: Germany uses Type C and F plugs, so bring a suitable adapter if needed.\n",
      "4. **Portable Charger**: Useful for keeping your devices charged while on the go.\n",
      "\n",
      "### Travel Essentials\n",
      "1. **Travel Documents**: Passport, travel insurance, and any necessary tickets or reservations.\n",
      "2. **Guidebook or Map**: While smartphones are handy, having a physical map can be useful in areas with poor reception.\n",
      "3. **Reusable Water Bottle**: Stay hydrated while exploring the city.\n",
      "4. **Snacks**: Pack some snacks for long days of sightseeing.\n",
      "\n",
      "### Optional Items\n",
      "1. **Umbrella**: A compact umbrella can be handy in case of unexpected rain.\n",
      "2. **Notebook or Journal**: If you like to document your travels.\n",
      "3. **Lightweight Blanket or Travel Pillow**: Useful for long flights or train rides.\n",
      "\n",
      "### Tips\n",
      "- **Check the Weather**: Before you pack, check the weather forecast for Berlin in June to adjust your clothing choices accordingly.\n",
      "- **Pack Light**: Try to pack versatile clothing that can be mixed and matched to save space in your luggage.\n",
      "- **Comfort is Key**: Prioritize comfort, especially for shoes, as you’ll likely be doing a lot of walking.\n",
      "\n",
      "With this packing list, you should be well-prepared for your trip to Berlin! Enjoy your travels!\n",
      "--------------------------------------------------------------------------------\n"
     ]
    },
    {
     "data": {
      "text/plain": [
       "'Packing for a trip to Berlin in June requires consideration of the weather, activities, and your personal preferences. Here’s a comprehensive packing list to help you prepare:\\n\\n### Clothing\\n1. **Lightweight Clothing**: June in Berlin can be warm, so pack breathable, lightweight clothes like t-shirts, blouses, and shorts.\\n2. **Layering Options**: Evenings can be cooler, so include a light sweater or cardigan.\\n3. **Comfortable Pants**: Consider packing a pair of comfortable jeans or trousers for cooler days or evenings.\\n4. **Dress or Skirt**: If you enjoy dressing up, a casual dress or skirt can be great for dining out or exploring.\\n5. **Light Jacket**: A light, waterproof jacket is useful in case of rain.\\n6. **Comfortable Shoes**: Bring walking shoes or sneakers for exploring the city, and consider sandals for warmer days.\\n7. **Swimwear**: If you plan to visit pools or lakes, pack a swimsuit.\\n\\n### Accessories\\n1. **Sunglasses**: Protect your eyes from the sun while exploring.\\n2. **Hat**: A wide-brimmed hat can provide shade and keep you cool.\\n3. **Scarf**: A lightweight scarf can be useful for cooler evenings or as a fashion accessory.\\n4. **Backpack or Day Bag**: A small backpack or crossbody bag for carrying essentials while sightseeing.\\n\\n### Toiletries\\n1. **Sunscreen**: Protect your skin from UV rays, especially if you plan to spend time outdoors.\\n2. **Personal Care Items**: Bring your usual toiletries (toothbrush, toothpaste, shampoo, etc.).\\n3. **Medications**: Don’t forget any prescription medications and a small first-aid kit.\\n\\n### Electronics\\n1. **Phone and Charger**: Essential for navigation and communication.\\n2. **Camera**: If you enjoy photography, bring a camera to capture your memories.\\n3. **Power Adapter**: Germany uses Type C and F plugs, so bring a suitable adapter if needed.\\n4. **Portable Charger**: Useful for keeping your devices charged while on the go.\\n\\n### Travel Essentials\\n1. **Travel Documents**: Passport, travel insurance, and any necessary tickets or reservations.\\n2. **Guidebook or Map**: While smartphones are handy, having a physical map can be useful in areas with poor reception.\\n3. **Reusable Water Bottle**: Stay hydrated while exploring the city.\\n4. **Snacks**: Pack some snacks for long days of sightseeing.\\n\\n### Optional Items\\n1. **Umbrella**: A compact umbrella can be handy in case of unexpected rain.\\n2. **Notebook or Journal**: If you like to document your travels.\\n3. **Lightweight Blanket or Travel Pillow**: Useful for long flights or train rides.\\n\\n### Tips\\n- **Check the Weather**: Before you pack, check the weather forecast for Berlin in June to adjust your clothing choices accordingly.\\n- **Pack Light**: Try to pack versatile clothing that can be mixed and matched to save space in your luggage.\\n- **Comfort is Key**: Prioritize comfort, especially for shoes, as you’ll likely be doing a lot of walking.\\n\\nWith this packing list, you should be well-prepared for your trip to Berlin! Enjoy your travels!'"
      ]
     },
     "execution_count": 3,
     "metadata": {},
     "output_type": "execute_result"
    }
   ],
   "source": [
    "narrator.enact(\"I am planning a trip to Berlin in June. Create a list of places worth seeing there.\")\n",
    "narrator.enact(\"What should I pack for my trip?\")"
   ]
  }
 ],
 "metadata": {
  "kernelspec": {
   "display_name": "py3108",
   "language": "python",
   "name": "python3"
  },
  "language_info": {
   "codemirror_mode": {
    "name": "ipython",
    "version": 3
   },
   "file_extension": ".py",
   "mimetype": "text/x-python",
   "name": "python",
   "nbconvert_exporter": "python",
   "pygments_lexer": "ipython3",
   "version": "3.10.8"
  }
 },
 "nbformat": 4,
 "nbformat_minor": 2
}
