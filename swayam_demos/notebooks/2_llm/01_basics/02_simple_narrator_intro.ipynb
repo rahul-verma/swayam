{
 "cells": [
  {
   "cell_type": "code",
   "execution_count": 1,
   "metadata": {},
   "outputs": [],
   "source": [
    "from env import *\n",
    "from swayam import *"
   ]
  },
  {
   "cell_type": "markdown",
   "metadata": {},
   "source": [
    "### Narrator : The underlying magic\n",
    "\n",
    "While using **Swayam.enact** is fine for very basic usage of Swayam, the real fun is in exploring the underlying objects.\n",
    "\n",
    "Narrator can handle all phases of STEP model by Rahul Verma: Story (in progress), Thought, Expression and Prompt.\n",
    "\n",
    "We'll start with the basic usage here."
   ]
  },
  {
   "cell_type": "markdown",
   "metadata": {},
   "source": [
    "#### The Devil in the Details\n",
    "\n",
    "While **Swayam.enact** makes it absolutely easy to make a call to an LLM, following are some points to note, in a professional usage of a framework:\n",
    "1. The narrative management needs better control. At the prompt level execution, the experience is same as **Swayam.enact**, but as we dig deeper, we will find ways for better narrative management later.\n",
    "2. Console narration is fine for chatting or debugging, but in a longer semi-automated scenarios, we need a better narration system.\n",
    "3. Providing strings directly as prompts is ok for casual usage, not when you want to have a persistent prompt library maintained in a project. For that, you also need to plan a project structure - a \"story\"."
   ]
  },
  {
   "cell_type": "markdown",
   "metadata": {},
   "source": [
    "### Equivalent of Swayam.enact"
   ]
  },
  {
   "cell_type": "code",
   "execution_count": 2,
   "metadata": {},
   "outputs": [],
   "source": [
    "narrator = Swayam.narrator.simple()"
   ]
  },
  {
   "cell_type": "markdown",
   "metadata": {},
   "source": [
    "#### Executing a Text Prompt with Narrator\n",
    "\n",
    "The Router object deals with execution of multiple types of object.\n",
    "\n",
    "So, to execute a text based prompt, there are some steps that are needed (**Swayam.enact** deals with only one use case, so it does it for you in case of a text prompt.)"
   ]
  },
  {
   "cell_type": "code",
   "execution_count": 3,
   "metadata": {},
   "outputs": [
    {
     "name": "stdout",
     "output_type": "stream",
     "text": [
      "--------------------------------------------------------------------------------\n",
      "Prompt: (Role: user)\n",
      "I am planning a trip to Berlin in June. Create a list of places worth seeing there.\n",
      "--------------------------------------------------------------------------------\n",
      "Response:\n",
      "Berlin is a vibrant city with a rich history, diverse culture, and plenty of attractions. Here’s a list of must-see places to consider for your trip in June:\n",
      "\n",
      "1. **Brandenburg Gate (Brandenburger Tor)** - An iconic symbol of Berlin and a must-visit landmark.\n",
      "\n",
      "2. **Berlin Wall Memorial (Gedenkstätte Berliner Mauer)** - A historical site that commemorates the division of the city and provides insight into the impact of the Berlin Wall.\n",
      "\n",
      "3. **Reichstag Building** - The seat of the German parliament, featuring a stunning glass dome that offers panoramic views of the city.\n",
      "\n",
      "4. **Museum Island (Museumsinsel)** - A UNESCO World Heritage site housing several world-renowned museums, including the Pergamon Museum and the Altes Museum.\n",
      "\n",
      "5. **Checkpoint Charlie** - The famous border crossing point between East and West Berlin during the Cold War, complete with a museum detailing its history.\n",
      "\n",
      "6. **East Side Gallery** - A long stretch of the Berlin Wall covered in colorful murals and street art, representing freedom and artistic expression.\n",
      "\n",
      "7. **Potsdamer Platz** - A bustling square known for its modern architecture, shopping, and entertainment options.\n",
      "\n",
      "8. **Charlottenburg Palace (Schloss Charlottenburg)** - A beautiful baroque palace with stunning gardens, perfect for a leisurely stroll.\n",
      "\n",
      "9. **Tiergarten** - Berlin's largest park, ideal for picnics, walks, and enjoying nature in the heart of the city.\n",
      "\n",
      "10. **Kaiser Wilhelm Memorial Church (Kaiser-Wilhelm-Gedächtniskirche)** - A striking church that serves as a memorial to peace and reconciliation.\n",
      "\n",
      "11. **Topography of Terror** - An outdoor and indoor museum located on the site of the former Gestapo and SS headquarters, detailing the history of the Nazi regime.\n",
      "\n",
      "12. **Berlin Cathedral (Berliner Dom)** - A magnificent Protestant cathedral with a stunning dome and beautiful interiors.\n",
      "\n",
      "13. **Sachsenhausen Concentration Camp Memorial** - A sobering site located just outside Berlin, offering insights into the Holocaust and the history of concentration camps.\n",
      "\n",
      "14. **Tempelhofer Feld** - A former airport turned public park, perfect for cycling, skating, and enjoying outdoor activities.\n",
      "\n",
      "15. **Friedrichshain and Kreuzberg** - Trendy neighborhoods known for their vibrant street art, cafes, and nightlife.\n",
      "\n",
      "16. **Gendarmenmarkt** - A beautiful square featuring the German and French Cathedrals and the Konzerthaus, often considered one of the most beautiful squares in Berlin.\n",
      "\n",
      "17. **Berlin Zoo (Zoologischer Garten Berlin)** - One of the oldest and most famous zoos in the world, home to a wide variety of animals.\n",
      "\n",
      "18. **Mauerpark** - A popular park known for its flea market, karaoke sessions, and vibrant atmosphere, especially on Sundays.\n",
      "\n",
      "19. **Spree River Cruise** - Consider taking a boat tour along the Spree River to see the city from a different perspective.\n",
      "\n",
      "20. **Currywurst Museum** - A fun and quirky museum dedicated to Berlin's famous street food, currywurst.\n",
      "\n",
      "Make sure to check the opening hours and any special events happening in June, as Berlin often hosts festivals and cultural events during the summer months. Enjoy your trip!\n",
      "--------------------------------------------------------------------------------\n",
      "--------------------------------------------------------------------------------\n",
      "Prompt: (Role: user)\n",
      "What should I pack for my trip?\n",
      "--------------------------------------------------------------------------------\n",
      "Response:\n",
      "Packing for a trip to Berlin in June requires consideration of the weather, activities, and your personal preferences. Here’s a comprehensive packing list to help you prepare:\n",
      "\n",
      "### Clothing\n",
      "1. **Lightweight Clothing**: June in Berlin can be warm, so pack breathable, lightweight clothing such as t-shirts, blouses, and shorts.\n",
      "2. **Layering Options**: Evenings can be cooler, so include a light sweater or cardigan.\n",
      "3. **Comfortable Walking Shoes**: Berlin is a city best explored on foot, so bring comfortable shoes for walking.\n",
      "4. **Dressy Outfit**: If you plan to dine out or attend events, consider packing a nicer outfit.\n",
      "5. **Rain Jacket or Light Waterproof Coat**: June can have occasional rain showers, so a light jacket is advisable.\n",
      "6. **Sunglasses and Hat**: Protect yourself from the sun while exploring the city.\n",
      "7. **Swimwear**: If you plan to visit pools or lakes, pack a swimsuit.\n",
      "\n",
      "### Accessories\n",
      "1. **Daypack or Backpack**: Useful for carrying your essentials while exploring.\n",
      "2. **Reusable Water Bottle**: Stay hydrated as you walk around the city.\n",
      "3. **Travel Umbrella**: Compact and handy for unexpected rain.\n",
      "4. **Power Adapter**: Germany uses Type C and F plugs, so bring a suitable adapter for your electronics.\n",
      "5. **Camera or Smartphone**: To capture your memories.\n",
      "\n",
      "### Toiletries\n",
      "1. **Basic Toiletries**: Toothbrush, toothpaste, shampoo, conditioner, soap, deodorant, etc.\n",
      "2. **Sunscreen**: Protect your skin from sun exposure.\n",
      "3. **Personal Medications**: Bring any necessary medications and a small first-aid kit.\n",
      "\n",
      "### Travel Essentials\n",
      "1. **Travel Documents**: Passport, travel insurance, and any necessary visas.\n",
      "2. **Itinerary and Reservations**: Print or have digital copies of your itinerary, accommodation, and any tickets.\n",
      "3. **Cash and Credit Cards**: While cards are widely accepted, it’s good to have some cash for smaller vendors.\n",
      "4. **Guidebook or Map**: If you prefer offline navigation, consider bringing a guidebook or printed maps.\n",
      "\n",
      "### Optional Items\n",
      "1. **Portable Charger**: Keep your devices charged while on the go.\n",
      "2. **Notebook or Journal**: For jotting down experiences or travel notes.\n",
      "3. **Snacks**: Pack some snacks for long days of sightseeing.\n",
      "\n",
      "### Tips\n",
      "- **Check the Weather**: Before you leave, check the weather forecast for Berlin in June to make any last-minute adjustments to your packing.\n",
      "- **Pack Light**: Try to pack versatile clothing that can be mixed and matched to save space in your luggage.\n",
      "\n",
      "By considering these items, you’ll be well-prepared for your trip to Berlin. Enjoy your travels!\n",
      "--------------------------------------------------------------------------------\n"
     ]
    }
   ],
   "source": [
    "narrator.enact(\"I am planning a trip to Berlin in June. Create a list of places worth seeing there.\")\n",
    "narrator.enact(\"What should I pack for my trip?\")"
   ]
  }
 ],
 "metadata": {
  "kernelspec": {
   "display_name": "py3108",
   "language": "python",
   "name": "python3"
  },
  "language_info": {
   "codemirror_mode": {
    "name": "ipython",
    "version": 3
   },
   "file_extension": ".py",
   "mimetype": "text/x-python",
   "name": "python",
   "nbconvert_exporter": "python",
   "pygments_lexer": "ipython3",
   "version": "3.10.8"
  }
 },
 "nbformat": 4,
 "nbformat_minor": 2
}
