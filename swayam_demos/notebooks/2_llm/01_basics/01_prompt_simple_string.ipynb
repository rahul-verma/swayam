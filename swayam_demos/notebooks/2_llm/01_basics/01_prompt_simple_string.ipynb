{
 "cells": [
  {
   "cell_type": "code",
   "execution_count": 1,
   "metadata": {},
   "outputs": [],
   "source": [
    "from env import *\n",
    "from swayam import *"
   ]
  },
  {
   "cell_type": "markdown",
   "metadata": {},
   "source": [
    "### Basic Chatting"
   ]
  },
  {
   "cell_type": "markdown",
   "metadata": {},
   "source": [
    "#### Prompt as a String\n",
    "\n",
    "Let's run a basic text prompt.\n",
    "\n",
    "We'll use the most basic form of using Swayam to start with."
   ]
  },
  {
   "cell_type": "code",
   "execution_count": 2,
   "metadata": {},
   "outputs": [
    {
     "name": "stdout",
     "output_type": "stream",
     "text": [
      "--------------------------------------------------------------------------------\n",
      "Prompt: (Role: user)\n",
      "I am planning a trip to Berlin in June. Create a list of places worth seeing there.\n",
      "--------------------------------------------------------------------------------\n",
      "Response:\n",
      "Berlin is a vibrant city with a rich history, diverse culture, and plenty of attractions. Here’s a list of must-see places to consider for your trip in June:\n",
      "\n",
      "1. **Brandenburg Gate (Brandenburger Tor)** - An iconic symbol of Berlin and a must-visit landmark.\n",
      "\n",
      "2. **Reichstag Building** - The seat of the German Parliament, featuring a stunning glass dome that offers panoramic views of the city.\n",
      "\n",
      "3. **Berlin Wall Memorial (Gedenkstätte Berliner Mauer)** - A historical site that commemorates the division of Berlin and includes a preserved section of the Wall.\n",
      "\n",
      "4. **East Side Gallery** - A 1.3 km-long stretch of the Berlin Wall covered in murals and street art, showcasing messages of peace and freedom.\n",
      "\n",
      "5. **Museum Island (Museumsinsel)** - A UNESCO World Heritage site that houses several world-renowned museums, including the Pergamon Museum and the Altes Museum.\n",
      "\n",
      "6. **Checkpoint Charlie** - The famous border crossing point between East and West Berlin during the Cold War, now a popular tourist attraction.\n",
      "\n",
      "7. **Berlin Cathedral (Berliner Dom)** - A stunning Protestant cathedral with a beautiful dome and impressive interior.\n",
      "\n",
      "8. **Potsdamer Platz** - A bustling square known for its modern architecture, shopping, and entertainment options.\n",
      "\n",
      "9. **Charlottenburg Palace (Schloss Charlottenburg)** - The largest palace in Berlin, featuring beautiful gardens and opulent rooms.\n",
      "\n",
      "10. **Tiergarten** - Berlin's central park, perfect for a leisurely stroll, picnics, or cycling.\n",
      "\n",
      "11. **Kaiser Wilhelm Memorial Church (Kaiser-Wilhelm-Gedächtniskirche)** - A striking church that serves as a memorial to peace and reconciliation.\n",
      "\n",
      "12. **Topography of Terror** - An outdoor and indoor history museum located on the site of the former Gestapo and SS headquarters.\n",
      "\n",
      "13. **Jewish Museum Berlin** - A profound museum that explores the history of Jews in Germany, featuring a unique architectural design.\n",
      "\n",
      "14. **Tempelhofer Feld** - A former airport turned public park, ideal for cycling, skating, and enjoying outdoor activities.\n",
      "\n",
      "15. **Siegessäule (Victory Column)** - A monument with an observation deck offering great views of the city.\n",
      "\n",
      "16. **Hackescher Markt** - A lively area filled with shops, restaurants, and nightlife, perfect for experiencing Berlin's contemporary culture.\n",
      "\n",
      "17. **Berlin Zoo (Zoologischer Garten Berlin)** - One of the oldest and most famous zoos in the world, home to a wide variety of animals.\n",
      "\n",
      "18. **Mauerpark** - A popular park known for its flea market, karaoke sessions, and vibrant atmosphere, especially on Sundays.\n",
      "\n",
      "19. **Gendarmenmarkt** - A beautiful square featuring the German and French Cathedrals and the Konzerthaus, often considered one of the most beautiful squares in Berlin.\n",
      "\n",
      "20. **Spree River Cruise** - Consider taking a boat tour along the Spree River to see the city from a different perspective.\n",
      "\n",
      "Make sure to check the opening hours and any special events happening during your visit in June. Enjoy your trip to Berlin!\n",
      "--------------------------------------------------------------------------------\n"
     ]
    },
    {
     "data": {
      "text/plain": [
       "\"Berlin is a vibrant city with a rich history, diverse culture, and plenty of attractions. Here’s a list of must-see places to consider for your trip in June:\\n\\n1. **Brandenburg Gate (Brandenburger Tor)** - An iconic symbol of Berlin and a must-visit landmark.\\n\\n2. **Reichstag Building** - The seat of the German Parliament, featuring a stunning glass dome that offers panoramic views of the city.\\n\\n3. **Berlin Wall Memorial (Gedenkstätte Berliner Mauer)** - A historical site that commemorates the division of Berlin and includes a preserved section of the Wall.\\n\\n4. **East Side Gallery** - A 1.3 km-long stretch of the Berlin Wall covered in murals and street art, showcasing messages of peace and freedom.\\n\\n5. **Museum Island (Museumsinsel)** - A UNESCO World Heritage site that houses several world-renowned museums, including the Pergamon Museum and the Altes Museum.\\n\\n6. **Checkpoint Charlie** - The famous border crossing point between East and West Berlin during the Cold War, now a popular tourist attraction.\\n\\n7. **Berlin Cathedral (Berliner Dom)** - A stunning Protestant cathedral with a beautiful dome and impressive interior.\\n\\n8. **Potsdamer Platz** - A bustling square known for its modern architecture, shopping, and entertainment options.\\n\\n9. **Charlottenburg Palace (Schloss Charlottenburg)** - The largest palace in Berlin, featuring beautiful gardens and opulent rooms.\\n\\n10. **Tiergarten** - Berlin's central park, perfect for a leisurely stroll, picnics, or cycling.\\n\\n11. **Kaiser Wilhelm Memorial Church (Kaiser-Wilhelm-Gedächtniskirche)** - A striking church that serves as a memorial to peace and reconciliation.\\n\\n12. **Topography of Terror** - An outdoor and indoor history museum located on the site of the former Gestapo and SS headquarters.\\n\\n13. **Jewish Museum Berlin** - A profound museum that explores the history of Jews in Germany, featuring a unique architectural design.\\n\\n14. **Tempelhofer Feld** - A former airport turned public park, ideal for cycling, skating, and enjoying outdoor activities.\\n\\n15. **Siegessäule (Victory Column)** - A monument with an observation deck offering great views of the city.\\n\\n16. **Hackescher Markt** - A lively area filled with shops, restaurants, and nightlife, perfect for experiencing Berlin's contemporary culture.\\n\\n17. **Berlin Zoo (Zoologischer Garten Berlin)** - One of the oldest and most famous zoos in the world, home to a wide variety of animals.\\n\\n18. **Mauerpark** - A popular park known for its flea market, karaoke sessions, and vibrant atmosphere, especially on Sundays.\\n\\n19. **Gendarmenmarkt** - A beautiful square featuring the German and French Cathedrals and the Konzerthaus, often considered one of the most beautiful squares in Berlin.\\n\\n20. **Spree River Cruise** - Consider taking a boat tour along the Spree River to see the city from a different perspective.\\n\\nMake sure to check the opening hours and any special events happening during your visit in June. Enjoy your trip to Berlin!\""
      ]
     },
     "execution_count": 2,
     "metadata": {},
     "output_type": "execute_result"
    }
   ],
   "source": [
    "prompt = \"I am planning a trip to Berlin in June. Create a list of places worth seeing there.\"\n",
    "Swayam.execute(prompt)"
   ]
  },
  {
   "cell_type": "markdown",
   "metadata": {},
   "source": [
    "#### Context Management\n",
    "\n",
    "By default prompts are executed in the same context. So, there is not need for managing it explicitly in Swayam."
   ]
  },
  {
   "cell_type": "code",
   "execution_count": 3,
   "metadata": {},
   "outputs": [
    {
     "name": "stdout",
     "output_type": "stream",
     "text": [
      "--------------------------------------------------------------------------------\n",
      "Prompt: (Role: user)\n",
      "What should I pack for my trip?\n",
      "--------------------------------------------------------------------------------\n",
      "Response:\n",
      "Packing for a trip to Berlin in June requires consideration of the weather, activities, and your personal preferences. Here’s a comprehensive packing list to help you prepare:\n",
      "\n",
      "### Clothing\n",
      "1. **Lightweight Clothing**: June in Berlin can be warm, with temperatures typically ranging from 15°C to 25°C (59°F to 77°F). Pack breathable fabrics like cotton and linen.\n",
      "2. **Layers**: Evenings can be cooler, so bring a light sweater or cardigan.\n",
      "3. **Comfortable Walking Shoes**: Berlin is a city best explored on foot, so pack comfortable sneakers or walking shoes.\n",
      "4. **Light Jacket or Raincoat**: June can have occasional rain showers, so a lightweight waterproof jacket is a good idea.\n",
      "5. **Dressy Outfit**: If you plan to dine out or attend events, consider packing a nicer outfit.\n",
      "6. **Accessories**: Sunglasses, a hat, and a scarf can be useful for sun protection and style.\n",
      "\n",
      "### Toiletries\n",
      "1. **Basic Toiletries**: Toothbrush, toothpaste, shampoo, conditioner, body wash, deodorant, etc.\n",
      "2. **Sunscreen**: Protect your skin from the sun, especially if you plan to spend a lot of time outdoors.\n",
      "3. **Personal Medications**: Bring any necessary medications and a small first-aid kit.\n",
      "\n",
      "### Electronics\n",
      "1. **Phone and Charger**: Essential for navigation and communication.\n",
      "2. **Camera**: If you enjoy photography, bring a camera or use your smartphone.\n",
      "3. **Power Adapter**: Germany uses Type C and F plugs, so bring a suitable adapter if your devices have different plugs.\n",
      "4. **Portable Charger**: Useful for keeping your devices charged while exploring.\n",
      "\n",
      "### Travel Essentials\n",
      "1. **Travel Documents**: Passport, travel insurance, and any necessary visas.\n",
      "2. **Itinerary and Maps**: Print or download your itinerary, maps, and any tickets for attractions.\n",
      "3. **Money**: Bring some cash (Euros) for small purchases, along with a credit/debit card.\n",
      "4. **Reusable Water Bottle**: Stay hydrated while exploring the city.\n",
      "\n",
      "### Optional Items\n",
      "1. **Guidebook or Travel Apps**: Helpful for finding attractions and navigating the city.\n",
      "2. **Backpack or Day Bag**: For carrying your essentials while exploring.\n",
      "3. **Umbrella**: A compact travel umbrella can be handy in case of rain.\n",
      "4. **Swimwear**: If you plan to visit pools or lakes in the area.\n",
      "\n",
      "### Tips\n",
      "- **Check the Weather**: Before you pack, check the weather forecast for Berlin in June to make any last-minute adjustments.\n",
      "- **Pack Light**: Try to pack versatile clothing that can be mixed and matched to save space in your luggage.\n",
      "- **Leave Room for Souvenirs**: If you plan to shop, leave some space in your bag for any items you might want to bring back.\n",
      "\n",
      "By considering these items, you’ll be well-prepared for your trip to Berlin. Enjoy your travels!\n",
      "--------------------------------------------------------------------------------\n"
     ]
    },
    {
     "data": {
      "text/plain": [
       "'Packing for a trip to Berlin in June requires consideration of the weather, activities, and your personal preferences. Here’s a comprehensive packing list to help you prepare:\\n\\n### Clothing\\n1. **Lightweight Clothing**: June in Berlin can be warm, with temperatures typically ranging from 15°C to 25°C (59°F to 77°F). Pack breathable fabrics like cotton and linen.\\n2. **Layers**: Evenings can be cooler, so bring a light sweater or cardigan.\\n3. **Comfortable Walking Shoes**: Berlin is a city best explored on foot, so pack comfortable sneakers or walking shoes.\\n4. **Light Jacket or Raincoat**: June can have occasional rain showers, so a lightweight waterproof jacket is a good idea.\\n5. **Dressy Outfit**: If you plan to dine out or attend events, consider packing a nicer outfit.\\n6. **Accessories**: Sunglasses, a hat, and a scarf can be useful for sun protection and style.\\n\\n### Toiletries\\n1. **Basic Toiletries**: Toothbrush, toothpaste, shampoo, conditioner, body wash, deodorant, etc.\\n2. **Sunscreen**: Protect your skin from the sun, especially if you plan to spend a lot of time outdoors.\\n3. **Personal Medications**: Bring any necessary medications and a small first-aid kit.\\n\\n### Electronics\\n1. **Phone and Charger**: Essential for navigation and communication.\\n2. **Camera**: If you enjoy photography, bring a camera or use your smartphone.\\n3. **Power Adapter**: Germany uses Type C and F plugs, so bring a suitable adapter if your devices have different plugs.\\n4. **Portable Charger**: Useful for keeping your devices charged while exploring.\\n\\n### Travel Essentials\\n1. **Travel Documents**: Passport, travel insurance, and any necessary visas.\\n2. **Itinerary and Maps**: Print or download your itinerary, maps, and any tickets for attractions.\\n3. **Money**: Bring some cash (Euros) for small purchases, along with a credit/debit card.\\n4. **Reusable Water Bottle**: Stay hydrated while exploring the city.\\n\\n### Optional Items\\n1. **Guidebook or Travel Apps**: Helpful for finding attractions and navigating the city.\\n2. **Backpack or Day Bag**: For carrying your essentials while exploring.\\n3. **Umbrella**: A compact travel umbrella can be handy in case of rain.\\n4. **Swimwear**: If you plan to visit pools or lakes in the area.\\n\\n### Tips\\n- **Check the Weather**: Before you pack, check the weather forecast for Berlin in June to make any last-minute adjustments.\\n- **Pack Light**: Try to pack versatile clothing that can be mixed and matched to save space in your luggage.\\n- **Leave Room for Souvenirs**: If you plan to shop, leave some space in your bag for any items you might want to bring back.\\n\\nBy considering these items, you’ll be well-prepared for your trip to Berlin. Enjoy your travels!'"
      ]
     },
     "execution_count": 3,
     "metadata": {},
     "output_type": "execute_result"
    }
   ],
   "source": [
    "Swayam.execute(\"What should I pack for my trip?\")"
   ]
  }
 ],
 "metadata": {
  "kernelspec": {
   "display_name": "py3108",
   "language": "python",
   "name": "python3"
  },
  "language_info": {
   "codemirror_mode": {
    "name": "ipython",
    "version": 3
   },
   "file_extension": ".py",
   "mimetype": "text/x-python",
   "name": "python",
   "nbconvert_exporter": "python",
   "pygments_lexer": "ipython3",
   "version": "3.10.8"
  }
 },
 "nbformat": 4,
 "nbformat_minor": 2
}
