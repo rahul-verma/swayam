{
 "cells": [
  {
   "cell_type": "code",
   "execution_count": null,
   "metadata": {},
   "outputs": [],
   "source": [
    "from env import *\n",
    "from swayam import *"
   ]
  },
  {
   "cell_type": "markdown",
   "metadata": {},
   "source": [
    "### HTML Report\n",
    "\n",
    "As discussed earlier, by default, the agent creates an HTML report and the console reporting is switched off.\n",
    "\n",
    "In the following code, although two separate invocations are made to **Agent.execute**, as the context is maintained, these are treated as a part of the same action and hence reported under the same action node."
   ]
  },
  {
   "cell_type": "markdown",
   "metadata": {},
   "source": [
    "### Creating Request Objects\n",
    "\n",
    "Rather than passing a string directly to execute call, we can convert it into a UserRequest object, which has many more provisions which we see in next chapter."
   ]
  },
  {
   "cell_type": "code",
   "execution_count": null,
   "metadata": {},
   "outputs": [],
   "source": [
    "agent = Swayam.agent(run_id=\"test\")\n",
    "\n",
    "# First request\n",
    "text_request = \"I am planning a trip to Berlin in June. Create a list of places worth seeing there.\"\n",
    "user_request = Request.text(text_request)\n",
    "agent.execute(user_request, show_in_browser=True)\n",
    "\n",
    "# Second request\n",
    "text_request = \"What should I pack for my trip?\"\n",
    "user_request = Request.text(text_request)\n",
    "agent.execute(user_request)"
   ]
  }
 ],
 "metadata": {
  "kernelspec": {
   "display_name": "py3108",
   "language": "python",
   "name": "python3"
  },
  "language_info": {
   "codemirror_mode": {
    "name": "ipython",
    "version": 3
   },
   "file_extension": ".py",
   "mimetype": "text/x-python",
   "name": "python",
   "nbconvert_exporter": "python",
   "pygments_lexer": "ipython3",
   "version": "3.10.8"
  }
 },
 "nbformat": 4,
 "nbformat_minor": 2
}
