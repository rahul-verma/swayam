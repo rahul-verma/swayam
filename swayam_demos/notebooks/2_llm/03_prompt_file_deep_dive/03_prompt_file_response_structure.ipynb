{
 "cells": [
  {
   "cell_type": "code",
   "execution_count": null,
   "metadata": {},
   "outputs": [],
   "source": [
    "from env import *\n",
    "from swayam import *"
   ]
  },
  {
   "cell_type": "markdown",
   "metadata": {},
   "source": [
    "### Defining Response Structure to be used in Prompt File\n",
    "\n",
    "You can use the Structure injectables as discussed earlier in a prompt file as well."
   ]
  },
  {
   "cell_type": "code",
   "execution_count": null,
   "metadata": {},
   "outputs": [],
   "source": [
    "\"\"\"\n",
    "The content of /definition/prompt/response_structure_example.yaml:\n",
    "\n",
    "\n",
    "prompt: |\n",
    "  Extract event information: Alice and Bob are going to a science fair on Friday.\n",
    "\n",
    "output_structure: CalendarEvent\n",
    "\"\"\"\n",
    "\n",
    "narrator = Swayam.narrator(narration=\"test\")\n",
    "narrator.enact(Prompt.user.response_structure_example)"
   ]
  }
 ],
 "metadata": {
  "kernelspec": {
   "display_name": "py3108",
   "language": "python",
   "name": "python3"
  },
  "language_info": {
   "codemirror_mode": {
    "name": "ipython",
    "version": 3
   },
   "file_extension": ".py",
   "mimetype": "text/x-python",
   "name": "python",
   "nbconvert_exporter": "python",
   "pygments_lexer": "ipython3",
   "version": "3.10.8"
  }
 },
 "nbformat": 4,
 "nbformat_minor": 2
}
