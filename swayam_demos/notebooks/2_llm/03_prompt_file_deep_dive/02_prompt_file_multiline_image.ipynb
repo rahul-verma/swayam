{
 "cells": [
  {
   "cell_type": "code",
   "execution_count": null,
   "metadata": {},
   "outputs": [],
   "source": [
    "from env import *\n",
    "from swayam import *"
   ]
  },
  {
   "cell_type": "markdown",
   "metadata": {},
   "source": [
    "### Beyond simple text\n",
    "\n",
    "Reading plain text from a yaml file in this manner means, all the new lines are lost.\n",
    "\n",
    "Also, there could be other meta-data which could be provided.\n",
    "\n",
    "So, we can instead give keys in the yaml file as:\n",
    "\n",
    "    image: <image path>\n",
    "    prompt: |\n",
    "        <the prompt text. the lines are preserved. if you do not want that then use '>' instead of '|'>"
   ]
  },
  {
   "cell_type": "code",
   "execution_count": null,
   "metadata": {},
   "outputs": [],
   "source": [
    "\"\"\"\n",
    "The file at /definition/prompt/multiline_and_image.yaml contains:\n",
    "    \n",
    "image: data/images/5EModel.png\n",
    "prompt: |\n",
    "  I am providing you an image of a visual model.\n",
    "\n",
    "  Please describe the image by clearly defining various phases shown in the model.\n",
    "\"\"\"\n",
    "\n",
    "agent = Swayam.agent(run_id=\"test\")\n",
    "agent.enact(Prompt.user.multiline_and_image)"
   ]
  }
 ],
 "metadata": {
  "kernelspec": {
   "display_name": "py3108",
   "language": "python",
   "name": "python3"
  },
  "language_info": {
   "codemirror_mode": {
    "name": "ipython",
    "version": 3
   },
   "file_extension": ".py",
   "mimetype": "text/x-python",
   "name": "python",
   "nbconvert_exporter": "python",
   "pygments_lexer": "ipython3",
   "version": "3.10.8"
  }
 },
 "nbformat": 4,
 "nbformat_minor": 2
}
