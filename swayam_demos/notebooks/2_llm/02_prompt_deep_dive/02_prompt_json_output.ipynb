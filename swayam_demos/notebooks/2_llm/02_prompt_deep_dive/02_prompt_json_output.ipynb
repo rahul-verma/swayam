{
 "cells": [
  {
   "cell_type": "code",
   "execution_count": null,
   "metadata": {},
   "outputs": [],
   "source": [
    "from env import *\n",
    "from swayam import *"
   ]
  },
  {
   "cell_type": "markdown",
   "metadata": {},
   "source": [
    "## JSON Output\n",
    "\n",
    "Beyond basic conversational usage of an LLM, especially when you want to integrate the output into a subsequent local functionality, getting structured output can be of great help."
   ]
  },
  {
   "cell_type": "code",
   "execution_count": null,
   "metadata": {},
   "outputs": [],
   "source": [
    "agent = Swayam.agent(run_id=\"test\")"
   ]
  },
  {
   "cell_type": "code",
   "execution_count": null,
   "metadata": {},
   "outputs": [],
   "source": [
    "## Following is a Swayam interpretation of an example from OpenAI website.\n",
    "from pydantic import BaseModel, Field\n",
    "\n",
    "class CalendarEventModel(BaseModel):\n",
    "    name:str = Field(..., description=\"Name of the event\")\n",
    "    date:str = Field(..., description=\"Date on which the event takes place.\")\n",
    "    participants:list[str] = Field(..., description=\"Names of participants.\")\n",
    "    city:list[str] = Field(..., description=\"City where the event takes place.\")\n",
    "    \n",
    "CalendarEvent = Structure.build(CalendarEventModel)"
   ]
  },
  {
   "cell_type": "code",
   "execution_count": null,
   "metadata": {},
   "outputs": [],
   "source": [
    "print(CalendarEvent.definition)"
   ]
  },
  {
   "cell_type": "code",
   "execution_count": null,
   "metadata": {},
   "outputs": [],
   "source": [
    "text = \"Extract event information: Alice and Bob are going to a science fair on Friday.\"\n",
    "prompt = Prompt.text(text, output_structure=CalendarEvent)\n",
    "agent.execute(prompt)"
   ]
  },
  {
   "cell_type": "markdown",
   "metadata": {},
   "source": [
    "Execution of multiple queries will need each one to be context free from another else there is an OpenAI exception relating to a tool call missing."
   ]
  },
  {
   "cell_type": "code",
   "execution_count": null,
   "metadata": {},
   "outputs": [],
   "source": [
    "prompts = [\n",
    "    \"Extract event information: Alice and Bob are going to a science fair on Friday.\",\n",
    "    \"Extract event information: We are going to a science fair on Tuesday.\",\n",
    "    \"Extract event information: Rahul and Pepe are going to the party on 12th August.\"\n",
    "]\n",
    "\n",
    "for prompt in prompts:\n",
    "    print(agent.execute(Prompt.text(prompt, output_structure=CalendarEvent)))"
   ]
  }
 ],
 "metadata": {
  "kernelspec": {
   "display_name": "py3108",
   "language": "python",
   "name": "python3"
  },
  "language_info": {
   "codemirror_mode": {
    "name": "ipython",
    "version": 3
   },
   "file_extension": ".py",
   "mimetype": "text/x-python",
   "name": "python",
   "nbconvert_exporter": "python",
   "pygments_lexer": "ipython3",
   "version": "3.10.8"
  }
 },
 "nbformat": 4,
 "nbformat_minor": 2
}
