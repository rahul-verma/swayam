{
 "cells": [
  {
   "cell_type": "code",
   "execution_count": 1,
   "metadata": {},
   "outputs": [],
   "source": [
    "from env import *\n",
    "from swayam import *"
   ]
  },
  {
   "cell_type": "markdown",
   "metadata": {},
   "source": [
    "## STEPs Model: Prompt\n",
    "\n",
    "Beyond a simple string, Prompt is the foundational and final block of the STEPs model. It needs to be defined in:\n",
    "\n",
    "    <Project Root Dir>/definition/prompt\n",
    "\n",
    "The definition file is a yaml file which can be a plain text or a dictionary that follows **Structure.Prompt**."
   ]
  },
  {
   "cell_type": "markdown",
   "metadata": {},
   "source": [
    "### HTML Narration\n",
    "\n",
    "The narrator creates an HTML narration (output) by default and the console narration (output) is switched off.\n",
    "\n",
    "The narration has a name associated by it, which by default is generated as a random string. You can provide a name yourself as well."
   ]
  },
  {
   "cell_type": "code",
   "execution_count": 2,
   "metadata": {},
   "outputs": [],
   "source": [
    "narrator = Swayam.narrator.prompt(narration=\"test\")"
   ]
  },
  {
   "cell_type": "markdown",
   "metadata": {},
   "source": []
  },
  {
   "cell_type": "code",
   "execution_count": 3,
   "metadata": {},
   "outputs": [],
   "source": [
    "text_prompt = \"I am planning a trip to Tokyo in June. Create a list of places worth seeing there.\"\n",
    "user_prompt = Prompt.text(text_prompt)\n",
    "narrator.enact(user_prompt)"
   ]
  }
 ],
 "metadata": {
  "kernelspec": {
   "display_name": "py3108",
   "language": "python",
   "name": "python3"
  },
  "language_info": {
   "codemirror_mode": {
    "name": "ipython",
    "version": 3
   },
   "file_extension": ".py",
   "mimetype": "text/x-python",
   "name": "python",
   "nbconvert_exporter": "python",
   "pygments_lexer": "ipython3",
   "version": "3.10.8"
  }
 },
 "nbformat": 4,
 "nbformat_minor": 2
}
