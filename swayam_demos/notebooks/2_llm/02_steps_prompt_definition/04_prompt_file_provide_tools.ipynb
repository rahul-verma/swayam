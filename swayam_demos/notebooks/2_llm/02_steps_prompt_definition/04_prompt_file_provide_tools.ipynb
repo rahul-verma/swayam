{
 "cells": [
  {
   "cell_type": "code",
   "execution_count": null,
   "metadata": {},
   "outputs": [],
   "source": [
    "from env import *\n",
    "from swayam import *"
   ]
  },
  {
   "cell_type": "markdown",
   "metadata": {},
   "source": [
    "### Tool Calling with Swayam Tools\n",
    "\n",
    "Let's now start to link the functionality of an LLM Narrator with locally available function calls.\n",
    "\n",
    "As a part of an LLM workflow, we want to trigger local function based on response from the LLM (using function calling).\n",
    "\n",
    "Before we can do that, we need to create a sort of bridge between a function from the view point of an LLM vs what it means in Python. This is where Swayam's Structured Tools come into picture."
   ]
  },
  {
   "cell_type": "markdown",
   "metadata": {},
   "source": [
    "Let's see what happens without a function call"
   ]
  },
  {
   "cell_type": "code",
   "execution_count": null,
   "metadata": {},
   "outputs": [],
   "source": [
    "Swayam.enact(\"What's the weather like in Boston?\")"
   ]
  },
  {
   "cell_type": "markdown",
   "metadata": {},
   "source": [
    "For the subsequent Prompt definitions, we are using the tools which we have defined in the project. For more information on Tools, check the corresponding notebooks, where they are discussed in detail as an Injectable.\n",
    "\n",
    "Tool.WeatherInfo, Tool.Calculator, Tool.EmailSearch"
   ]
  },
  {
   "cell_type": "code",
   "execution_count": null,
   "metadata": {},
   "outputs": [],
   "source": [
    "narrator = Swayam.narrator.prompt(narration=\"test\")\n",
    "narrator.reset() # To clean the report, as I reusing the narration name across notebooks"
   ]
  },
  {
   "cell_type": "code",
   "execution_count": null,
   "metadata": {},
   "outputs": [],
   "source": [
    "narrator.enact(Prompt.tools_example1)"
   ]
  },
  {
   "cell_type": "code",
   "execution_count": null,
   "metadata": {},
   "outputs": [],
   "source": [
    "narrator.enact(Prompt.tools_example2)"
   ]
  },
  {
   "cell_type": "code",
   "execution_count": null,
   "metadata": {},
   "outputs": [],
   "source": [
    "narrator.enact(Prompt.tools_example3)"
   ]
  }
 ],
 "metadata": {
  "kernelspec": {
   "display_name": "py3108",
   "language": "python",
   "name": "python3"
  },
  "language_info": {
   "codemirror_mode": {
    "name": "ipython",
    "version": 3
   },
   "file_extension": ".py",
   "mimetype": "text/x-python",
   "name": "python",
   "nbconvert_exporter": "python",
   "pygments_lexer": "ipython3",
   "version": "3.10.8"
  }
 },
 "nbformat": 4,
 "nbformat_minor": 2
}
