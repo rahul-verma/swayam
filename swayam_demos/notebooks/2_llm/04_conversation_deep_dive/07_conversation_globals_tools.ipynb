{
 "cells": [
  {
   "cell_type": "code",
   "execution_count": null,
   "metadata": {},
   "outputs": [],
   "source": [
    "from env import *\n",
    "from swayam import *"
   ]
  },
  {
   "cell_type": "markdown",
   "metadata": {},
   "source": [
    "### Providing Tools to All Prompts\n",
    "\n",
    "If we set the **tools** at Expression level, they are set for all prompts, except those who have their own defined tools."
   ]
  },
  {
   "cell_type": "markdown",
   "metadata": {},
   "source": [
    "A expression maintains narrative by default."
   ]
  },
  {
   "cell_type": "code",
   "execution_count": null,
   "metadata": {},
   "outputs": [],
   "source": [
    "narrator = Swayam.narrator(run_id=\"test\")"
   ]
  },
  {
   "cell_type": "code",
   "execution_count": null,
   "metadata": {},
   "outputs": [],
   "source": [
    "tools = [Tool.WeatherInfo]\n",
    "    "
   ]
  },
  {
   "cell_type": "code",
   "execution_count": null,
   "metadata": {},
   "outputs": [],
   "source": [
    "expression = Expression.prompts(\n",
    "    Prompt.text(\"What is the weather in Berlin\", purpose=\"Check a prompt without tools.\"),\n",
    "    Prompt.user.tools_example2,\n",
    "    Prompt.user.tools_example3,\n",
    "    Prompt.text(\"In the wild mountains of sugar lived an ant named Sarah.\", purpose=\"Check prompt without tool (irrelevant global).\"),\n",
    "    tools=tools)"
   ]
  },
  {
   "cell_type": "code",
   "execution_count": null,
   "metadata": {},
   "outputs": [],
   "source": [
    "narrator.enact(expression)"
   ]
  }
 ],
 "metadata": {
  "kernelspec": {
   "display_name": "py3108",
   "language": "python",
   "name": "python3"
  },
  "language_info": {
   "codemirror_mode": {
    "name": "ipython",
    "version": 3
   },
   "file_extension": ".py",
   "mimetype": "text/x-python",
   "name": "python",
   "nbconvert_exporter": "python",
   "pygments_lexer": "ipython3",
   "version": "3.10.8"
  }
 },
 "nbformat": 4,
 "nbformat_minor": 2
}
