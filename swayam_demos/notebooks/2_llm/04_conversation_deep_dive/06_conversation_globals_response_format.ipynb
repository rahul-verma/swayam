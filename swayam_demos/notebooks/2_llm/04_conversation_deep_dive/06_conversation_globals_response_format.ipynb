{
 "cells": [
  {
   "cell_type": "code",
   "execution_count": null,
   "metadata": {},
   "outputs": [],
   "source": [
    "from env import *\n",
    "from swayam import *"
   ]
  },
  {
   "cell_type": "markdown",
   "metadata": {},
   "source": [
    "### Providing Response Structure to All Prompts\n",
    "\n",
    "If we set the **output_structure** at Expression level, it is set for all prompts, except those who have their own defined structure."
   ]
  },
  {
   "cell_type": "code",
   "execution_count": null,
   "metadata": {},
   "outputs": [],
   "source": [
    "agent = Swayam.agent(run_id=\"test\")"
   ]
  },
  {
   "cell_type": "code",
   "execution_count": null,
   "metadata": {},
   "outputs": [],
   "source": [
    "from pydantic import BaseModel, Field\n",
    "\n",
    "class Info(BaseModel):\n",
    "    name: str = Field(..., description=\"Name of the person\")\n",
    "    place: str = Field(..., description=\"Place of the person\")\n",
    "    "
   ]
  },
  {
   "cell_type": "code",
   "execution_count": null,
   "metadata": {},
   "outputs": [],
   "source": [
    "expression = Expression.prompts(\n",
    "    Prompt.text(\"Alice stays in Frankfurt.\", purpose=\"Check a prompt without response format.\"),\n",
    "    Prompt.user.response_structure_example,\n",
    "    Prompt.text(\"In the wild mountains of sugar lived an ant named Sarah.\", purpose=\"Check a prompt without response format.\"),\n",
    "    output_structure=Info)"
   ]
  },
  {
   "cell_type": "code",
   "execution_count": null,
   "metadata": {},
   "outputs": [],
   "source": [
    "agent.execute(expression)"
   ]
  }
 ],
 "metadata": {
  "kernelspec": {
   "display_name": "py3108",
   "language": "python",
   "name": "python3"
  },
  "language_info": {
   "codemirror_mode": {
    "name": "ipython",
    "version": 3
   },
   "file_extension": ".py",
   "mimetype": "text/x-python",
   "name": "python",
   "nbconvert_exporter": "python",
   "pygments_lexer": "ipython3",
   "version": "3.10.8"
  }
 },
 "nbformat": 4,
 "nbformat_minor": 2
}
