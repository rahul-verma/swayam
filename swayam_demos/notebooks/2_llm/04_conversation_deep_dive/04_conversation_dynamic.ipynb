{
 "cells": [
  {
   "cell_type": "code",
   "execution_count": null,
   "metadata": {},
   "outputs": [],
   "source": [
    "from env import *\n",
    "from swayam import *"
   ]
  },
  {
   "cell_type": "markdown",
   "metadata": {},
   "source": [
    "### Action with Dynamic Request Files\n",
    "\n",
    "We earlier saw how we can create Request Files that have placeholders that can be formatted from outside.\n",
    "\n",
    "You can of course individually take care of the formatting of the requests. \n",
    "\n",
    "The power of a action object lies in formatting all child objects in one go.\n",
    "\n",
    "Just like **Request.formatter**, Swayam has a **Action.formatter** helper function."
   ]
  },
  {
   "cell_type": "code",
   "execution_count": null,
   "metadata": {},
   "outputs": [],
   "source": [
    "agent = Swayam.agent(run_id=\"test\")\n",
    "action = Action.formatter(city=\"Tokyo\", month=\"July\", task=\"Visa\").request_files(\n",
    "    Request.file.user.plan_a_trip, \n",
    "    Request.file.user.plan_a_trip_task\n",
    ")\n",
    "agent.execute(action)"
   ]
  }
 ],
 "metadata": {
  "kernelspec": {
   "display_name": "py3108",
   "language": "python",
   "name": "python3"
  },
  "language_info": {
   "codemirror_mode": {
    "name": "ipython",
    "version": 3
   },
   "file_extension": ".py",
   "mimetype": "text/x-python",
   "name": "python",
   "nbconvert_exporter": "python",
   "pygments_lexer": "ipython3",
   "version": "3.10.8"
  }
 },
 "nbformat": 4,
 "nbformat_minor": 2
}
