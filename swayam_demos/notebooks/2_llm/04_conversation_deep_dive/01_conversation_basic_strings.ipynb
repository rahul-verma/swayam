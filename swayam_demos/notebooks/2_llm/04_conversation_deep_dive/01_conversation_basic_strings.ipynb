{
 "cells": [
  {
   "cell_type": "code",
   "execution_count": null,
   "metadata": {},
   "outputs": [],
   "source": [
    "from env import *\n",
    "from swayam import *"
   ]
  },
  {
   "cell_type": "markdown",
   "metadata": {},
   "source": [
    "### Expression\n",
    "\n",
    "A expression is a sequence of one or more prompts sent in the same context.\n",
    "\n",
    "What we have done so far is executing a single-prompt expression.\n",
    "\n",
    "In successive execution of these single-prompts, we could choose to maintain the same context. We can do the same across multiple multi-prompt expressions as well (although as you understand more about the problem that you are solving, it should go away.)"
   ]
  },
  {
   "cell_type": "markdown",
   "metadata": {},
   "source": [
    "We had earlier executed the following two prompts with separate instantiation and with an explicit prompt to Agent to not to reset context (**reset_context = False**)"
   ]
  },
  {
   "cell_type": "code",
   "execution_count": null,
   "metadata": {},
   "outputs": [],
   "source": [
    "prompt1 = \"I am planning a trip to Berlin in June. Create a list of places worth seeing there.\"\n",
    "prompt2 = \"What should I pack for my trip?\""
   ]
  },
  {
   "cell_type": "code",
   "execution_count": null,
   "metadata": {},
   "outputs": [],
   "source": [
    "agent = Swayam.agent(run_id=\"test\")\n",
    "expression = Expression.texts(prompt1, prompt2)\n",
    "agent.execute(expression)"
   ]
  },
  {
   "cell_type": "markdown",
   "metadata": {},
   "source": [
    "### Context Management\n",
    "\n",
    "Expressions by default always start in a new context.\n",
    "\n",
    "The following expression should start in a fresh context"
   ]
  },
  {
   "cell_type": "code",
   "execution_count": null,
   "metadata": {},
   "outputs": [],
   "source": [
    "expression = Expression.texts(prompt1, prompt2, purpose=\"Fresh Default Conv - Empty Context\")\n",
    "agent.execute(expression)"
   ]
  },
  {
   "cell_type": "markdown",
   "metadata": {},
   "source": [
    "Following two expressions will inherit the context from previous expression"
   ]
  },
  {
   "cell_type": "code",
   "execution_count": null,
   "metadata": {},
   "outputs": [],
   "source": [
    "expression = Expression.texts(\"What is testing?\", reset_context=False, purpose=\"Inherit context 1\")\n",
    "agent.execute(expression)"
   ]
  },
  {
   "cell_type": "code",
   "execution_count": null,
   "metadata": {},
   "outputs": [],
   "source": [
    "expression = Expression.texts(\"What did you answer in the previous response?\", reset_context=False, purpose=\"Inherit context 2\")\n",
    "agent.execute(expression)"
   ]
  },
  {
   "cell_type": "markdown",
   "metadata": {},
   "source": [
    "Following expression has an empty context and is an independent expression."
   ]
  },
  {
   "cell_type": "code",
   "execution_count": null,
   "metadata": {},
   "outputs": [],
   "source": [
    "expression = Expression.texts(\"Explain your previous answer, please.\", purpose=\"Check context reset after two inheriting expressions\")\n",
    "agent.execute(expression)"
   ]
  }
 ],
 "metadata": {
  "kernelspec": {
   "display_name": "py3108",
   "language": "python",
   "name": "python3"
  },
  "language_info": {
   "codemirror_mode": {
    "name": "ipython",
    "version": 3
   },
   "file_extension": ".py",
   "mimetype": "text/x-python",
   "name": "python",
   "nbconvert_exporter": "python",
   "pygments_lexer": "ipython3",
   "version": "3.10.8"
  }
 },
 "nbformat": 4,
 "nbformat_minor": 2
}
