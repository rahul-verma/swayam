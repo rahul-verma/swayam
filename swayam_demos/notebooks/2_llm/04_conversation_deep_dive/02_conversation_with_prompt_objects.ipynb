{
 "cells": [
  {
   "cell_type": "code",
   "execution_count": null,
   "metadata": {},
   "outputs": [],
   "source": [
    "from env import *\n",
    "from swayam import *"
   ]
  },
  {
   "cell_type": "markdown",
   "metadata": {},
   "source": [
    "### Action with Request Objects\n",
    "\n",
    "We earlier saw that a user request can be much more that a simple string. It can have associated image, a response structure and/or tools. \n",
    "\n",
    "To support such requests, Action class also provides a **from_requests** factory method. \n",
    "\n",
    "To keep things sane, you can not mix user requests as strings with user request objects."
   ]
  },
  {
   "cell_type": "code",
   "execution_count": null,
   "metadata": {},
   "outputs": [],
   "source": [
    "request1 = Request.text(\"Extract event information from the following text marked by triple backticks. Don't guess. \\n```I am planning a trip to Berlin in June to attend a conference on LLMs.```\", output_structure=\"CalendarEvent\")\n",
    "request2 = Request.text(\"I need to contact rahul@swayam.com\", tools=[\"EmailSearch\"])\n",
    "request3 = Request.text(\"I need to talk to him about this model. What are the 5 key points I should ask about it?\", image=\"data/images/5EModel.png\")"
   ]
  },
  {
   "cell_type": "markdown",
   "metadata": {},
   "source": [
    "A action maintains context by default."
   ]
  },
  {
   "cell_type": "code",
   "execution_count": null,
   "metadata": {},
   "outputs": [],
   "source": [
    "agent = Swayam.agent(run_id=\"test\")\n",
    "action = Action.requests(request1, request2, request3)\n",
    "agent.execute(action)"
   ]
  }
 ],
 "metadata": {
  "kernelspec": {
   "display_name": "py3108",
   "language": "python",
   "name": "python3"
  },
  "language_info": {
   "codemirror_mode": {
    "name": "ipython",
    "version": 3
   },
   "file_extension": ".py",
   "mimetype": "text/x-python",
   "name": "python",
   "nbconvert_exporter": "python",
   "pygments_lexer": "ipython3",
   "version": "3.10.8"
  }
 },
 "nbformat": 4,
 "nbformat_minor": 2
}
