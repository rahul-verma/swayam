{
 "cells": [
  {
   "cell_type": "code",
   "execution_count": null,
   "metadata": {},
   "outputs": [],
   "source": [
    "from env import *\n",
    "from swayam import *"
   ]
  },
  {
   "cell_type": "markdown",
   "metadata": {},
   "source": [
    "### Expression with Prompt Objects\n",
    "\n",
    "We earlier saw that a user prompt can be much more that a simple string. It can have associated image, a response structure and/or tools. \n",
    "\n",
    "To support such prompts, Expression class also provides a **from_prompts** factory method. \n",
    "\n",
    "To keep things sane, you can not mix user prompts as strings with user prompt objects."
   ]
  },
  {
   "cell_type": "code",
   "execution_count": null,
   "metadata": {},
   "outputs": [],
   "source": [
    "prompt1 = Prompt.text(\"Extract event information from the following text marked by triple backticks. Don't guess. \\n```I am planning a trip to Berlin in June to attend a conference on LLMs.```\", output_structure=\"CalendarEvent\")\n",
    "prompt2 = Prompt.text(\"I need to contact rahul@swayam.com\", tools=[\"EmailSearch\"])\n",
    "prompt3 = Prompt.text(\"I need to talk to him about this model. What are the 5 key points I should ask about it?\", image=\"data/images/5EModel.png\")"
   ]
  },
  {
   "cell_type": "markdown",
   "metadata": {},
   "source": [
    "A expression maintains narrative by default."
   ]
  },
  {
   "cell_type": "code",
   "execution_count": null,
   "metadata": {},
   "outputs": [],
   "source": [
    "narrator = Swayam.narrator(narration=\"test\")\n",
    "expression = Expression.prompts(prompt1, prompt2, prompt3)\n",
    "narrator.enact(expression)"
   ]
  }
 ],
 "metadata": {
  "kernelspec": {
   "display_name": "py3108",
   "language": "python",
   "name": "python3"
  },
  "language_info": {
   "codemirror_mode": {
    "name": "ipython",
    "version": 3
   },
   "file_extension": ".py",
   "mimetype": "text/x-python",
   "name": "python",
   "nbconvert_exporter": "python",
   "pygments_lexer": "ipython3",
   "version": "3.10.8"
  }
 },
 "nbformat": 4,
 "nbformat_minor": 2
}
