{
 "cells": [
  {
   "cell_type": "code",
   "execution_count": null,
   "metadata": {},
   "outputs": [],
   "source": [
    "from env import *\n",
    "from swayam import *"
   ]
  },
  {
   "cell_type": "markdown",
   "metadata": {},
   "source": [
    "### Providing an image to all requests\n",
    "\n",
    "What if you want to ask multiple questions about the same image?\n",
    "\n",
    "There is no magic here. We don't need to send an image along with every request, as Swayam manages the context."
   ]
  },
  {
   "cell_type": "code",
   "execution_count": null,
   "metadata": {},
   "outputs": [],
   "source": [
    "agent = Swayam.agent(run_id=\"test\")"
   ]
  },
  {
   "cell_type": "code",
   "execution_count": null,
   "metadata": {},
   "outputs": [],
   "source": [
    "action = Action.requests(\n",
    "    Request.user.multiline_and_image,\n",
    "    Request.user.image_question1,\n",
    "    Request.user.image_question2,\n",
    "    Request.user.image_question3,\n",
    "    Request.user.image_question4,\n",
    "    Request.user.image_question5,\n",
    "    Request.user.image_question6)"
   ]
  },
  {
   "cell_type": "code",
   "execution_count": null,
   "metadata": {},
   "outputs": [],
   "source": [
    "agent.execute(action)"
   ]
  },
  {
   "cell_type": "markdown",
   "metadata": {},
   "source": [
    "However, it could be intuitive to set an image at a Action level in some situations, where you need to run multiple user requests against the same image. \n",
    "\n",
    "You can add another image at a user request level."
   ]
  },
  {
   "cell_type": "code",
   "execution_count": null,
   "metadata": {},
   "outputs": [],
   "source": [
    "action = Action.requests(\n",
    "    Request.text(\"Explain this image.\", purpose=\"Setting global image\"),\n",
    "    Request.user.image_question1,\n",
    "    Request.user.image_question2,\n",
    "    Request.user.image_question3,\n",
    "    Request.user.image_question4,\n",
    "    Request.user.image_question5, # Here the request adds another image.\n",
    "    Request.user.image_question6,\n",
    "    image = \"data/images/5EModel.png\")"
   ]
  },
  {
   "cell_type": "code",
   "execution_count": null,
   "metadata": {},
   "outputs": [],
   "source": [
    "agent.execute(action)"
   ]
  }
 ],
 "metadata": {
  "kernelspec": {
   "display_name": "py3108",
   "language": "python",
   "name": "python3"
  },
  "language_info": {
   "codemirror_mode": {
    "name": "ipython",
    "version": 3
   },
   "file_extension": ".py",
   "mimetype": "text/x-python",
   "name": "python",
   "nbconvert_exporter": "python",
   "pygments_lexer": "ipython3",
   "version": "3.10.8"
  }
 },
 "nbformat": 4,
 "nbformat_minor": 2
}
