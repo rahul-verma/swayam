{
 "cells": [
  {
   "cell_type": "code",
   "execution_count": null,
   "metadata": {},
   "outputs": [],
   "source": [
    "from env import *\n",
    "from swayam import *"
   ]
  },
  {
   "cell_type": "markdown",
   "metadata": {},
   "source": [
    "### Defining Response Format\n",
    "\n",
    "You can suggest an output structure for a prompt, as the IOStructure that is defined by you or by Swayam."
   ]
  },
  {
   "cell_type": "code",
   "execution_count": null,
   "metadata": {},
   "outputs": [],
   "source": [
    "narrator = Swayam.narrator(narration=\"test\")"
   ]
  },
  {
   "cell_type": "code",
   "execution_count": null,
   "metadata": {},
   "outputs": [],
   "source": [
    "prompts = [\n",
    "    \"Extract event information: Alice and Bob are going to a science fair on Friday.\",\n",
    "    \"Extract event information: We are going to a science fair on Tuesday.\",\n",
    "    \"Extract event information: Rahul and Pepe are going to the party on 12th August.\"\n",
    "]\n",
    "\n",
    "for prompt in prompts:\n",
    "    print(narrator.enact(Prompt.text(prompt, output_structure=Structure.CalendarEvent)))"
   ]
  }
 ],
 "metadata": {
  "kernelspec": {
   "display_name": "py3108",
   "language": "python",
   "name": "python3"
  },
  "language_info": {
   "codemirror_mode": {
    "name": "ipython",
    "version": 3
   },
   "file_extension": ".py",
   "mimetype": "text/x-python",
   "name": "python",
   "nbconvert_exporter": "python",
   "pygments_lexer": "ipython3",
   "version": "3.10.8"
  }
 },
 "nbformat": 4,
 "nbformat_minor": 2
}
