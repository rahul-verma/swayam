{
 "cells": [
  {
   "cell_type": "code",
   "execution_count": 1,
   "metadata": {},
   "outputs": [],
   "source": [
    "from env import *\n",
    "from swayam import *"
   ]
  },
  {
   "cell_type": "markdown",
   "metadata": {},
   "source": [
    "### HTML Report\n",
    "\n",
    "As discussed earlier, by default, the narrator creates an HTML report and the console reporting is switched off.\n",
    "\n",
    "In the following code, although two separate invocations are made to **Narrator.execute**, as the narrative is maintained, these are treated as a part of the same action and hence reported under the same action node."
   ]
  },
  {
   "cell_type": "markdown",
   "metadata": {},
   "source": [
    "### Creating Request Objects\n",
    "\n",
    "Rather than passing a string directly to execute call, we can convert it into a UserRequest object, which has many more provisions which we see in next chapter."
   ]
  },
  {
   "cell_type": "code",
   "execution_count": 2,
   "metadata": {},
   "outputs": [
    {
     "data": {
      "text/plain": [
       "'Packing for a trip to Tokyo in June requires consideration of the weather, activities, and cultural norms. Here’s a comprehensive packing list to help you prepare:\\n\\n### Clothing\\n1. **Lightweight Clothing**: June can be warm and humid, so pack breathable, lightweight clothing such as cotton or linen shirts, t-shirts, and shorts.\\n2. **Layering Options**: Bring a light jacket or cardigan for cooler evenings or air-conditioned places.\\n3. **Rain Gear**: Since June is part of the rainy season, pack a compact umbrella or a waterproof rain jacket.\\n4. **Comfortable Shoes**: Bring comfortable walking shoes, as you’ll likely be doing a lot of walking. Consider sandals or breathable sneakers.\\n5. **Dressy Outfit**: If you plan to dine at upscale restaurants or attend events, include a nicer outfit.\\n6. **Swimwear**: If you plan to visit a hotel pool or onsen (hot spring), pack a swimsuit.\\n\\n### Accessories\\n7. **Sunglasses and Hat**: Protect yourself from the sun while exploring.\\n8. **Daypack or Tote Bag**: A small backpack or tote for daily outings to carry essentials.\\n9. **Reusable Water Bottle**: Stay hydrated while exploring the city.\\n\\n### Toiletries\\n10. **Travel-sized Toiletries**: Shampoo, conditioner, body wash, toothpaste, etc. (Note: many hotels provide basic toiletries.)\\n11. **Sunscreen**: Protect your skin from UV rays.\\n12. **Personal Medications**: Bring any necessary medications and a small first-aid kit.\\n\\n### Electronics\\n13. **Power Adapter**: Japan uses Type A and Type B plugs, so bring a suitable power adapter.\\n14. **Portable Charger**: Keep your devices charged while on the go.\\n15. **Camera or Smartphone**: Capture your memories, along with any necessary chargers.\\n\\n### Travel Essentials\\n16. **Travel Documents**: Passport, visa (if required), travel insurance, and copies of important documents.\\n17. **Cash and Credit Cards**: While credit cards are accepted in many places, some smaller shops and restaurants may only take cash. It’s good to have yen on hand.\\n18. **Guidebook or Map**: While smartphones are handy, having a physical guidebook can be useful in areas with limited service.\\n\\n### Optional Items\\n19. **Japanese Phrasebook**: Helpful for communication, especially in less touristy areas.\\n20. **Snacks**: Bring some snacks for travel days or when you’re out exploring.\\n\\n### Tips\\n- **Pack Light**: Consider packing versatile clothing that can be mixed and matched.\\n- **Check the Weather**: Before you leave, check the weather forecast for Tokyo to make any last-minute adjustments to your packing list.\\n\\nBy preparing with these items, you’ll be well-equipped to enjoy your trip to Tokyo in June! Safe travels!'"
      ]
     },
     "execution_count": 2,
     "metadata": {},
     "output_type": "execute_result"
    }
   ],
   "source": [
    "narrator = Swayam.narrator(narration=\"test\")\n",
    "\n",
    "# First prompt\n",
    "text_prompt = \"I am planning a trip to Tokyo in June. Create a list of places worth seeing there.\"\n",
    "user_prompt = Prompt.text(text_prompt)\n",
    "narrator.enact(user_prompt, show_in_browser=True)\n",
    "\n",
    "# Second prompt\n",
    "text_prompt = \"What should I pack for my trip?\"\n",
    "user_prompt = Prompt.text(text_prompt)\n",
    "narrator.enact(user_prompt)"
   ]
  }
 ],
 "metadata": {
  "kernelspec": {
   "display_name": "py3108",
   "language": "python",
   "name": "python3"
  },
  "language_info": {
   "codemirror_mode": {
    "name": "ipython",
    "version": 3
   },
   "file_extension": ".py",
   "mimetype": "text/x-python",
   "name": "python",
   "nbconvert_exporter": "python",
   "pygments_lexer": "ipython3",
   "version": "3.10.8"
  }
 },
 "nbformat": 4,
 "nbformat_minor": 2
}
