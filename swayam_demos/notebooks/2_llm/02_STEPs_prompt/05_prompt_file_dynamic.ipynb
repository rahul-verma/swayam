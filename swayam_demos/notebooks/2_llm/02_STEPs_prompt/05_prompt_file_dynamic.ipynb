{
 "cells": [
  {
   "cell_type": "code",
   "execution_count": null,
   "metadata": {},
   "outputs": [],
   "source": [
    "from env import *\n",
    "from swayam import *"
   ]
  },
  {
   "cell_type": "markdown",
   "metadata": {},
   "source": [
    "### Dynamic Content in a Prompt File\n",
    "\n",
    "A prompt file with static content is of limited use. You would want to pass input content to it to format the text before it is loaded as a prompt object.\n",
    "\n",
    "This should be pretty evident in the previous examples where the city or expression or the target text should be dynamic values that can be passed from outside the loading logic. This is the true beginning of re-usable prompts."
   ]
  },
  {
   "cell_type": "code",
   "execution_count": null,
   "metadata": {},
   "outputs": [],
   "source": [
    "narrator = Swayam.narrator(narration=\"test\")"
   ]
  },
  {
   "cell_type": "code",
   "execution_count": null,
   "metadata": {},
   "outputs": [],
   "source": [
    "target_texts = [\n",
    "    \"This is a sample with no email.\",\n",
    "    \"This is has a single a@b.com address.\",\n",
    "    \"This has a@b.com, c@d.com - two of them.\"\n",
    "]\n",
    "\n",
    "for text in target_texts:\n",
    "    print(narrator.enact(Prompt.formatter(text=text).user.formatting_example))"
   ]
  }
 ],
 "metadata": {
  "kernelspec": {
   "display_name": "py3108",
   "language": "python",
   "name": "python3"
  },
  "language_info": {
   "codemirror_mode": {
    "name": "ipython",
    "version": 3
   },
   "file_extension": ".py",
   "mimetype": "text/x-python",
   "name": "python",
   "nbconvert_exporter": "python",
   "pygments_lexer": "ipython3",
   "version": "3.10.8"
  }
 },
 "nbformat": 4,
 "nbformat_minor": 2
}
