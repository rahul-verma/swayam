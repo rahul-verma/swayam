{
 "cells": [
  {
   "cell_type": "code",
   "execution_count": null,
   "metadata": {},
   "outputs": [],
   "source": [
    "from env import *\n",
    "from swayam import *"
   ]
  },
  {
   "cell_type": "markdown",
   "metadata": {},
   "source": [
    "### Dynamic System Request File\n",
    "\n",
    "Like regular requests, you can also parameterize system request files"
   ]
  },
  {
   "cell_type": "markdown",
   "metadata": {},
   "source": [
    "Let's take a more involved example this time, where all the requests including the system request are dynamic files and needs to be formatted using the **Action.formatter** call, rather than doing them one at a time ourselves."
   ]
  },
  {
   "cell_type": "code",
   "execution_count": null,
   "metadata": {},
   "outputs": [],
   "source": [
    "agent = Swayam.agent(run_id=\"test\")\n",
    "\n",
    "persona = \"my friend who talks always in a friendly, informal tone.\"\n",
    "\n",
    "action = Action.formatter(persona=persona, city=\"Tokyo\", month=\"July\", task=\"Visa\").request_files(\n",
    "    Request.file.user.plan_a_trip, \n",
    "    Request.file.user.plan_a_trip_task,\n",
    "    system_request=Request.file.system.trip_persona\n",
    ")\n",
    "agent.execute(action)"
   ]
  },
  {
   "cell_type": "code",
   "execution_count": null,
   "metadata": {},
   "outputs": [],
   "source": [
    "agent = Swayam.agent(run_id=\"test\")\n",
    "\n",
    "persona = \"a person who has no idea about the place I am visiting.\"\n",
    "\n",
    "action = Action.formatter(persona=persona, city=\"Tokyo\", month=\"July\", task=\"Visa\").request_files(\n",
    "    Request.file.user.plan_a_trip, \n",
    "    Request.file.user.plan_a_trip_task,\n",
    "    system_request=Request.file.system.trip_persona\n",
    ")\n",
    "agent.execute(action)"
   ]
  }
 ],
 "metadata": {
  "kernelspec": {
   "display_name": "py3108",
   "language": "python",
   "name": "python3"
  },
  "language_info": {
   "codemirror_mode": {
    "name": "ipython",
    "version": 3
   },
   "file_extension": ".py",
   "mimetype": "text/x-python",
   "name": "python",
   "nbconvert_exporter": "python",
   "pygments_lexer": "ipython3",
   "version": "3.10.8"
  }
 },
 "nbformat": 4,
 "nbformat_minor": 2
}
