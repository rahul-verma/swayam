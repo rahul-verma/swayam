{
 "cells": [
  {
   "cell_type": "code",
   "execution_count": null,
   "metadata": {},
   "outputs": [],
   "source": [
    "from env import *\n",
    "from swayam import *"
   ]
  },
  {
   "cell_type": "markdown",
   "metadata": {},
   "source": [
    "### System Request\n",
    "\n",
    "So far we dealt only with user requests and grouping them into a **Action**.\n",
    "\n",
    "One of the powerful concepts in a Action object is that you can set a **system_request**. The system request is the first request (message) sent to the LLM and can have a huge impact on the whole action."
   ]
  },
  {
   "cell_type": "code",
   "execution_count": null,
   "metadata": {},
   "outputs": [],
   "source": [
    "request1 = \"I am planning a trip to Berlin in June. Create a list of places worth seeing there.\"\n",
    "request2 = \"What should I pack for my trip?\""
   ]
  },
  {
   "cell_type": "markdown",
   "metadata": {},
   "source": [
    "### A basic system request as a string"
   ]
  },
  {
   "cell_type": "code",
   "execution_count": null,
   "metadata": {},
   "outputs": [],
   "source": [
    "agent = Swayam.agent(run_id=\"test\")\n",
    "\n",
    "request = \"From now on, act as Leo, my friend who loves nature. Answer my queries related to my planned trip as a friend in a casual, actional manner. Never answer in ordered or unordered lists. Also, use the word 'we' instead of 'you' or 'I' to make the action more engaging.\"\n",
    "\n",
    "action = Action.texts(request1, request2, system_request=request)\n",
    "agent.execute(action)"
   ]
  }
 ],
 "metadata": {
  "kernelspec": {
   "display_name": "py3108",
   "language": "python",
   "name": "python3"
  },
  "language_info": {
   "codemirror_mode": {
    "name": "ipython",
    "version": 3
   },
   "file_extension": ".py",
   "mimetype": "text/x-python",
   "name": "python",
   "nbconvert_exporter": "python",
   "pygments_lexer": "ipython3",
   "version": "3.10.8"
  }
 },
 "nbformat": 4,
 "nbformat_minor": 2
}
