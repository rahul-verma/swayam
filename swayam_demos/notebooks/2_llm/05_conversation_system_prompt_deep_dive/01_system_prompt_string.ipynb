{
 "cells": [
  {
   "cell_type": "code",
   "execution_count": null,
   "metadata": {},
   "outputs": [],
   "source": [
    "from env import *\n",
    "from swayam import *"
   ]
  },
  {
   "cell_type": "markdown",
   "metadata": {},
   "source": [
    "### System Prompt\n",
    "\n",
    "So far we dealt only with user prompts and grouping them into a **Expression**.\n",
    "\n",
    "One of the powerful concepts in a Expression object is that you can set a **perspective**. The system prompt is the first prompt (message) sent to the LLM and can have a huge impact on the whole expression."
   ]
  },
  {
   "cell_type": "code",
   "execution_count": null,
   "metadata": {},
   "outputs": [],
   "source": [
    "prompt1 = \"I am planning a trip to Berlin in June. Create a list of places worth seeing there.\"\n",
    "prompt2 = \"What should I pack for my trip?\""
   ]
  },
  {
   "cell_type": "markdown",
   "metadata": {},
   "source": [
    "### A basic system prompt as a string"
   ]
  },
  {
   "cell_type": "code",
   "execution_count": null,
   "metadata": {},
   "outputs": [],
   "source": [
    "narrator = Swayam.narrator(run_id=\"test\")\n",
    "\n",
    "prompt = \"From now on, act as Leo, my friend who loves nature. Answer my queries related to my planned trip as a friend in a casual, expressional manner. Never answer in ordered or unordered lists. Also, use the word 'we' instead of 'you' or 'I' to make the expression more engaging.\"\n",
    "\n",
    "expression = Expression.texts(prompt1, prompt2, perspective=prompt)\n",
    "narrator.enact(expression)"
   ]
  }
 ],
 "metadata": {
  "kernelspec": {
   "display_name": "py3108",
   "language": "python",
   "name": "python3"
  },
  "language_info": {
   "codemirror_mode": {
    "name": "ipython",
    "version": 3
   },
   "file_extension": ".py",
   "mimetype": "text/x-python",
   "name": "python",
   "nbconvert_exporter": "python",
   "pygments_lexer": "ipython3",
   "version": "3.10.8"
  }
 },
 "nbformat": 4,
 "nbformat_minor": 2
}
