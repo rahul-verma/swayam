{
 "cells": [
  {
   "cell_type": "code",
   "execution_count": 1,
   "metadata": {},
   "outputs": [],
   "source": [
    "from env import *\n",
    "from swayam import *"
   ]
  },
  {
   "cell_type": "markdown",
   "metadata": {},
   "source": [
    "### Conversation: Using Prompt definitions\n",
    "\n",
    "Rather than providing prompts directly in the conversation file, you can also refer to the prompt definitions using the **definitions** key and providing the corresponding file names (without the yaml extension)"
   ]
  },
  {
   "cell_type": "code",
   "execution_count": 2,
   "metadata": {},
   "outputs": [
    {
     "name": "stdout",
     "output_type": "stream",
     "text": [
      "Executing Conversation with 2 prompt(s).\n"
     ]
    },
    {
     "data": {
      "text/plain": [
       "'Packing for a trip to Berlin in June requires consideration of the weather, activities, and your personal preferences. Here’s a comprehensive packing list to help you prepare:\\n\\n### Clothing\\n1. **Lightweight Clothing**: June in Berlin can be warm, with temperatures typically ranging from 15°C to 25°C (59°F to 77°F). Pack breathable fabrics like cotton and linen.\\n2. **Layers**: Evenings can be cooler, so bring a light sweater or cardigan.\\n3. **Comfortable Shoes**: You’ll likely be doing a lot of walking, so pack comfortable walking shoes or sneakers.\\n4. **Rain Jacket or Umbrella**: June can have occasional rain showers, so a lightweight, packable rain jacket or a small umbrella is advisable.\\n5. **Sunglasses and Hat**: Protect yourself from the sun while exploring the city.\\n6. **Swimwear**: If you plan to visit any pools or lakes, bring a swimsuit.\\n\\n### Accessories\\n1. **Daypack or Backpack**: A small bag for daily outings to carry essentials like water, snacks, and a camera.\\n2. **Reusable Water Bottle**: Stay hydrated while exploring the city.\\n3. **Travel Adapter**: Germany uses Type C and Type F plugs, so bring a suitable adapter for your electronics.\\n4. **Camera or Smartphone**: To capture your memories in Berlin.\\n\\n### Toiletries\\n1. **Basic Toiletries**: Toothbrush, toothpaste, shampoo, conditioner, soap, deodorant, etc.\\n2. **Sunscreen**: Protect your skin from UV rays, especially if you plan to spend time outdoors.\\n3. **Personal Medications**: Bring any necessary medications and a small first-aid kit.\\n\\n### Travel Documents\\n1. **Passport**: Ensure it’s valid for the duration of your stay.\\n2. **Travel Insurance**: A copy of your travel insurance policy.\\n3. **Itinerary and Reservations**: Print or have digital copies of your accommodation, transportation, and any tickets for attractions.\\n\\n### Miscellaneous\\n1. **Guidebook or Map**: While smartphones are handy, having a physical map or guidebook can be useful.\\n2. **Notebook and Pen**: For jotting down notes or travel memories.\\n3. **Snacks**: A few snacks for travel days or when you’re out exploring.\\n\\n### Optional\\n1. **Lightweight Scarf or Shawl**: Useful for cooler evenings or as a wrap in religious sites.\\n2. **Portable Charger**: To keep your devices charged while on the go.\\n3. **Travel Pillow**: If you have a long flight or train journey.\\n\\nMake sure to check the weather forecast closer to your departure date for any last-minute adjustments to your packing list. Enjoy your trip to Berlin!'"
      ]
     },
     "execution_count": 2,
     "metadata": {},
     "output_type": "execute_result"
    }
   ],
   "source": [
    "agent = Swayam.agent(run_id=\"test\")\n",
    "agent.execute(Conversation.prompt_definitions)"
   ]
  },
  {
   "cell_type": "markdown",
   "metadata": {},
   "source": [
    "### Formatting Prompt Definitions"
   ]
  },
  {
   "cell_type": "code",
   "execution_count": 3,
   "metadata": {},
   "outputs": [
    {
     "name": "stdout",
     "output_type": "stream",
     "text": [
      "Executing Conversation with 2 prompt(s).\n"
     ]
    },
    {
     "data": {
      "text/plain": [
       "'When planning your trip to Tokyo, Japan, it\\'s important to consider visa requirements based on your nationality and the purpose of your visit. Here are some key points to keep in mind regarding visas:\\n\\n### 1. **Visa Exemption**\\n- **Short-Term Stay**: Many nationalities can enter Japan without a visa for short stays (typically up to 90 days) for tourism, business, or family visits. Check if your country is on the visa exemption list.\\n- **Countries with Visa Waiver**: Countries like the United States, Canada, the UK, Australia, and many EU nations are generally allowed to enter Japan without a visa for tourism.\\n\\n### 2. **Visa Application**\\n- **If Required**: If your nationality does not qualify for visa exemption, you will need to apply for a visa before your trip. This usually involves submitting an application form, passport-sized photos, proof of accommodation, travel itinerary, and financial statements.\\n- **Types of Visas**: For tourism, you would typically apply for a \"Temporary Visitor\" visa.\\n\\n### 3. **Duration of Stay**\\n- **Stay Limits**: Be aware of the maximum duration of stay allowed under your visa category. Overstaying can lead to penalties, including fines or future entry bans.\\n\\n### 4. **Documentation**\\n- **Required Documents**: Ensure you have all necessary documents ready for your visa application, including:\\n  - Valid passport (with at least six months validity beyond your planned stay)\\n  - Completed visa application form\\n  - Recent passport-sized photographs\\n  - Proof of travel arrangements (flight bookings, itinerary)\\n  - Proof of accommodation (hotel reservations)\\n  - Financial proof (bank statements, pay slips)\\n\\n### 5. **Health and Safety Regulations**\\n- **COVID-19 Regulations**: Check for any health-related entry requirements, such as vaccination proof or testing, as these can change frequently.\\n- **Travel Insurance**: While not a visa requirement, having travel insurance is highly recommended for health coverage and emergencies.\\n\\n### 6. **Entry Procedures**\\n- **Immigration Control**: Upon arrival, you will go through immigration control. Be prepared to show your passport, visa (if applicable), and any other required documents.\\n- **Customs Regulations**: Familiarize yourself with customs regulations regarding what you can bring into Japan, including restrictions on food, plants, and other items.\\n\\n### 7. **Stay Informed**\\n- **Check Official Sources**: Always refer to the official website of the Japanese embassy or consulate in your country for the most accurate and up-to-date information regarding visa requirements and application procedures.\\n\\n### 8. **Plan Ahead**\\n- **Processing Time**: Visa processing times can vary, so apply well in advance of your travel date to avoid any last-minute issues.\\n\\nBy keeping these points in mind, you can ensure a smoother visa application process and enjoy your trip to Tokyo without any complications. Safe travels!'"
      ]
     },
     "execution_count": 3,
     "metadata": {},
     "output_type": "execute_result"
    }
   ],
   "source": [
    "agent = Swayam.agent(run_id=\"test\")\n",
    "agent.execute(Conversation.formatter(city=\"Tokyo\", month=\"July\", task=\"Visa\").formatting_prompt_defs_example)"
   ]
  }
 ],
 "metadata": {
  "kernelspec": {
   "display_name": "py3108",
   "language": "python",
   "name": "python3"
  },
  "language_info": {
   "codemirror_mode": {
    "name": "ipython",
    "version": 3
   },
   "file_extension": ".py",
   "mimetype": "text/x-python",
   "name": "python",
   "nbconvert_exporter": "python",
   "pygments_lexer": "ipython3",
   "version": "3.10.8"
  }
 },
 "nbformat": 4,
 "nbformat_minor": 2
}
