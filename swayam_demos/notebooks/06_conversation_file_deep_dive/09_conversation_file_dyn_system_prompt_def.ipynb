{
 "cells": [
  {
   "cell_type": "code",
   "execution_count": null,
   "metadata": {},
   "outputs": [],
   "source": [
    "from env import *\n",
    "from swayam import *"
   ]
  },
  {
   "cell_type": "markdown",
   "metadata": {},
   "source": [
    "### Conversation: Using System Prompt Definition\n",
    "\n",
    "You can refer to a system prompt definition in a conversation file using **system_prompt_def**"
   ]
  },
  {
   "cell_type": "code",
   "execution_count": null,
   "metadata": {},
   "outputs": [],
   "source": [
    "router = Router(run_id=\"test\")\n",
    "\n",
    "persona = \"a very close friend who loves joking with me with strange ideas.\"\n",
    "\n",
    "router.execute(Conversation.formatter(\n",
    "    persona=persona, city=\"Tokyo\", month=\"July\", task=\"Visa\").system_prompt_dyn_def\n",
    ")"
   ]
  }
 ],
 "metadata": {
  "kernelspec": {
   "display_name": "py3108",
   "language": "python",
   "name": "python3"
  },
  "language_info": {
   "codemirror_mode": {
    "name": "ipython",
    "version": 3
   },
   "file_extension": ".py",
   "mimetype": "text/x-python",
   "name": "python",
   "nbconvert_exporter": "python",
   "pygments_lexer": "ipython3",
   "version": "3.10.8"
  }
 },
 "nbformat": 4,
 "nbformat_minor": 2
}
