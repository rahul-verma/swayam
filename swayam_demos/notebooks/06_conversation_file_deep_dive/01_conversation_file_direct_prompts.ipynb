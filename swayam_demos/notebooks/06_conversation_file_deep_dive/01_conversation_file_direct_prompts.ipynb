{
 "cells": [
  {
   "cell_type": "code",
   "execution_count": null,
   "metadata": {},
   "outputs": [],
   "source": [
    "from test_utils import *\n",
    "from swayam import *"
   ]
  },
  {
   "cell_type": "markdown",
   "metadata": {},
   "source": [
    "### Conversation File\n",
    "\n",
    "We can also represent conversation in yaml files. These files need to be placed in the following directory:\n",
    "\n",
    "    ```<project_root>/definition/conversation```"
   ]
  },
  {
   "cell_type": "markdown",
   "metadata": {},
   "source": [
    "We had earlier executed the following two prompts with separate instantiation and with an explicit request to Router to not to reset context (**reset_context = False**)"
   ]
  },
  {
   "cell_type": "code",
   "execution_count": null,
   "metadata": {},
   "outputs": [],
   "source": [
    "prompt1 = \"I am planning a trip to Berlin in June. Create a list of places worth seeing there.\"\n",
    "prompt2 = \"What should I pack for my trip?\""
   ]
  },
  {
   "cell_type": "markdown",
   "metadata": {},
   "source": [
    "A conversation maintains context by default."
   ]
  },
  {
   "cell_type": "code",
   "execution_count": null,
   "metadata": {},
   "outputs": [],
   "source": [
    "router = Router(run_id=\"test\")\n",
    "conversation = Conversation.texts(prompt1, prompt2)\n",
    "router.execute(conversation)"
   ]
  }
 ],
 "metadata": {
  "kernelspec": {
   "display_name": "py3108",
   "language": "python",
   "name": "python3"
  },
  "language_info": {
   "codemirror_mode": {
    "name": "ipython",
    "version": 3
   },
   "file_extension": ".py",
   "mimetype": "text/x-python",
   "name": "python",
   "nbconvert_exporter": "python",
   "pygments_lexer": "ipython3",
   "version": "3.10.8"
  }
 },
 "nbformat": 4,
 "nbformat_minor": 2
}
