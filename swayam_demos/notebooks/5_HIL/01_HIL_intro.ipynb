{
 "cells": [
  {
   "cell_type": "markdown",
   "metadata": {},
   "source": [
    "## Human-in-the-Loop\n",
    "\n",
    "Whether we want HIL during prompts and expressions, is open ended.\n",
    "\n",
    "If you are thinking in terms of atleast a Thought phase, it means you are dealing with a decently complex problem.\n",
    "\n",
    "What differentiates the Thought phase from Expression phase is human involvement.\n",
    "\n",
    "For inter-dependent thoughts, to remove HIL, you'd need to take explicit steps. This is to make sure that you understand the risk that you are taking."
   ]
  }
 ],
 "metadata": {
  "kernelspec": {
   "display_name": "py3108",
   "language": "python",
   "name": "python3"
  },
  "language_info": {
   "codemirror_mode": {
    "name": "ipython",
    "version": 3
   },
   "file_extension": ".py",
   "mimetype": "text/x-python",
   "name": "python",
   "nbconvert_exporter": "python",
   "pygments_lexer": "ipython3",
   "version": "3.10.8"
  }
 },
 "nbformat": 4,
 "nbformat_minor": 2
}
