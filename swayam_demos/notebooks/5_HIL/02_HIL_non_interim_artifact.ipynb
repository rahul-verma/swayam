{
 "cells": [
  {
   "cell_type": "code",
   "execution_count": 1,
   "metadata": {},
   "outputs": [],
   "source": [
    "from env import *\n",
    "from swayam import *"
   ]
  },
  {
   "cell_type": "markdown",
   "metadata": {},
   "source": [
    "## Beyond Interim Drafting\n",
    "\n",
    "By default the draft construct creates **interim** drafts of artifacts.\n",
    "\n",
    "This means that they are local to a thought, available across its expressions.\n",
    "\n",
    "However, you can explicitly mark **interim=False** in an Artifact's definition.\n",
    "\n",
    "When you do this:\n",
    "1. The artifact draft content is copied to **artifact** directory in folio.\n",
    "2. If **export_as** argument is provided, then this the name used. Along with this a new definition with this name is written to artifact definitions directory.\n",
    "3. In all cases, a \"generated_\" prefix is added to enforce the HIL: it brings into attention that this artifact is machine generated. By taking this as an input for your next thoughts directly, there is a risk which is involved and needs to be decided about."
   ]
  },
  {
   "cell_type": "code",
   "execution_count": 2,
   "metadata": {},
   "outputs": [],
   "source": [
    "narrator = Swayam.narrator.expression(narration=\"test\")\n",
    "narrator.reset()"
   ]
  },
  {
   "cell_type": "code",
   "execution_count": null,
   "metadata": {},
   "outputs": [],
   "source": [
    "narrator.narrate(Expression.drafter_interim_false)"
   ]
  }
 ],
 "metadata": {
  "kernelspec": {
   "display_name": "py3108",
   "language": "python",
   "name": "python3"
  },
  "language_info": {
   "codemirror_mode": {
    "name": "ipython",
    "version": 3
   },
   "file_extension": ".py",
   "mimetype": "text/x-python",
   "name": "python",
   "nbconvert_exporter": "python",
   "pygments_lexer": "ipython3",
   "version": "3.10.8"
  }
 },
 "nbformat": 4,
 "nbformat_minor": 2
}
