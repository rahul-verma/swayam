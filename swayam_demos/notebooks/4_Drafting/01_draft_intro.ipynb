{
 "cells": [
  {
   "cell_type": "markdown",
   "metadata": {},
   "source": [
    "## Expression Drafter\n",
    "\n",
    "Expression definition can contain a **draft** key. If present, this key automatically instructs the children prompts to draft their output as per the Draft's guidelines.\n",
    "\n",
    "The prompts which fall under the loop of drafting, always work as **Standalone Prompt-Chain**, which means the first prompt in the chain does not get the conversation context form the narrative for what has happened so far. Similarly, the conversation which happens in this prompt chain is not made a part of the rest of the overarching conversation for other prompts/prompt chains.\n",
    "\n",
    "The draft content is taken at the end of an iteration. This means that if more than one prompt is a part of an iteration, then the response content for the last prompt is used for drafting."
   ]
  }
 ],
 "metadata": {
  "kernelspec": {
   "display_name": "py3108",
   "language": "python",
   "name": "python3"
  },
  "language_info": {
   "codemirror_mode": {
    "name": "ipython",
    "version": 3
   },
   "file_extension": ".py",
   "mimetype": "text/x-python",
   "name": "python",
   "nbconvert_exporter": "python",
   "pygments_lexer": "ipython3",
   "version": "3.10.8"
  }
 },
 "nbformat": 4,
 "nbformat_minor": 2
}
