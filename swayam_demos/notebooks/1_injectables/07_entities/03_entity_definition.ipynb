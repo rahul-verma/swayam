{
 "cells": [
  {
   "cell_type": "code",
   "execution_count": 1,
   "metadata": {},
   "outputs": [],
   "source": [
    "from env import *\n",
    "from swayam import *"
   ]
  },
  {
   "cell_type": "markdown",
   "metadata": {},
   "source": [
    "### Entity Definitions"
   ]
  },
  {
   "cell_type": "code",
   "execution_count": 2,
   "metadata": {},
   "outputs": [
    {
     "name": "stdout",
     "output_type": "stream",
     "text": [
      "basic\n",
      "Story\n",
      "Stories\n",
      "A Story In Calendar\n",
      "{'properties': {'basic_name': {'description': 'Name of the Story', 'type': 'string'}, 'basic_content': {'description': 'Data Content for a story in Calendar', 'type': 'string'}}, 'required': ['basic_name', 'basic_content'], 'type': 'object'}\n"
     ]
    }
   ],
   "source": [
    "entity = Entity.basic\n",
    "print(entity.name)\n",
    "print(entity.singular_name)\n",
    "print(entity.plural_name)\n",
    "print(entity.description)\n",
    "print(entity.template.definition)"
   ]
  }
 ],
 "metadata": {
  "kernelspec": {
   "display_name": "py3108",
   "language": "python",
   "name": "python3"
  },
  "language_info": {
   "codemirror_mode": {
    "name": "ipython",
    "version": 3
   },
   "file_extension": ".py",
   "mimetype": "text/x-python",
   "name": "python",
   "nbconvert_exporter": "python",
   "pygments_lexer": "ipython3",
   "version": "3.10.8"
  }
 },
 "nbformat": 4,
 "nbformat_minor": 2
}
