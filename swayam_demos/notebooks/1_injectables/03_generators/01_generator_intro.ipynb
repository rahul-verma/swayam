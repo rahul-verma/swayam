{
 "cells": [
  {
   "cell_type": "code",
   "execution_count": null,
   "metadata": {},
   "outputs": [],
   "source": [
    "from env import *\n",
    "from swayam import *"
   ]
  },
  {
   "cell_type": "markdown",
   "metadata": {},
   "source": [
    "### Structured Generators\n",
    "\n",
    "Swayam has the concept of Structured Generators. \n",
    "\n",
    "The purpose of a generator typically is to give more than one units of data of one kind.\n",
    "\n",
    "The Structured Generators can be looped over and provide one IOStructureObject at a time.\n",
    "\n",
    "Generators can be created from different types of objects:\n",
    "1. A list of IO Structure compatible dictionaries/IOStructure objects.\n",
    "2. A function or any iterable generating IO Structure objects.\n",
    "3. Swayam Tools with using **as_generator** call."
   ]
  },
  {
   "cell_type": "markdown",
   "metadata": {},
   "source": [
    "### Creating Generator from Data"
   ]
  },
  {
   "cell_type": "code",
   "execution_count": null,
   "metadata": {},
   "outputs": [],
   "source": [
    "from pydantic import BaseModel, Field\n",
    "\n",
    "numbers = [\n",
    "    {\"i\": 0, \"j\": 0},\n",
    "    {\"i\": 1, \"j\": 1},\n",
    "    {\"i\": 2, \"j\": 2},\n",
    "    {\"i\": 3, \"j\": 3}\n",
    "]\n",
    "\n",
    "class TwoNumbersModel(BaseModel):\n",
    "    i: int = Field(..., title=\"First number\")\n",
    "    j: int = Field(..., title=\"Second number\")\n",
    "\n",
    "TwoNumbers = Structure.build(\"TwoNumbers\", model=TwoNumbersModel)"
   ]
  },
  {
   "cell_type": "code",
   "execution_count": null,
   "metadata": {},
   "outputs": [],
   "source": [
    "TwoNumbersGenerator  = Generator.data(\"TwoNumbers\", data=numbers, io_structure=TwoNumbers)\n",
    "print(TwoNumbersGenerator)"
   ]
  },
  {
   "cell_type": "code",
   "execution_count": null,
   "metadata": {},
   "outputs": [],
   "source": [
    "for output in TwoNumbersGenerator():\n",
    "    print(output)"
   ]
  },
  {
   "cell_type": "markdown",
   "metadata": {},
   "source": [
    "### Creating Generator from a Fucntion"
   ]
  },
  {
   "cell_type": "code",
   "execution_count": null,
   "metadata": {},
   "outputs": [],
   "source": [
    "def nums_gen(*, size):\n",
    "    i = iter(range(size))\n",
    "    j = iter(range(size))\n",
    "    while True:\n",
    "        try:\n",
    "            yield {\"i\": next(i), \"j\": next(j)}\n",
    "        except StopIteration:\n",
    "            break\n",
    "        \n",
    "class SizeModel(BaseModel):\n",
    "    size: int = Field(..., title=\"First number\")\n",
    "\n",
    "Size = Structure.build(\"Size\", model=SizeModel)"
   ]
  },
  {
   "cell_type": "code",
   "execution_count": null,
   "metadata": {},
   "outputs": [],
   "source": [
    "TwoNumbersGenerator  = Generator.callable(\"TwoNumbers\", callable=nums_gen, input_structure=Size, output_structure=TwoNumbers)"
   ]
  },
  {
   "cell_type": "code",
   "execution_count": null,
   "metadata": {},
   "outputs": [],
   "source": [
    "for output in TwoNumbersGenerator(size=10):\n",
    "    print(output)"
   ]
  }
 ],
 "metadata": {
  "kernelspec": {
   "display_name": "py3108",
   "language": "python",
   "name": "python3"
  },
  "language_info": {
   "codemirror_mode": {
    "name": "ipython",
    "version": 3
   },
   "file_extension": ".py",
   "mimetype": "text/x-python",
   "name": "python",
   "nbconvert_exporter": "python",
   "pygments_lexer": "ipython3",
   "version": "3.10.8"
  }
 },
 "nbformat": 4,
 "nbformat_minor": 2
}
