{
 "cells": [
  {
   "cell_type": "code",
   "execution_count": null,
   "metadata": {},
   "outputs": [],
   "source": [
    "from env import *\n",
    "from swayam import *"
   ]
  },
  {
   "cell_type": "markdown",
   "metadata": {},
   "source": [
    "### Structured Generators\n",
    "\n",
    "Swayam has the concept of Structured Generators. \n",
    "\n",
    "The purpose of a generator typically is to give more than one units of data of one kind.\n",
    "\n",
    "The Structured Generators can be looped over and provide one IOStructureObject at a time."
   ]
  },
  {
   "cell_type": "markdown",
   "metadata": {},
   "source": [
    "### Creating Generator from a Fucntion"
   ]
  },
  {
   "cell_type": "code",
   "execution_count": null,
   "metadata": {},
   "outputs": [],
   "source": [
    "from pydantic import BaseModel, Field\n",
    "\n",
    "def nums_gen(, store, size):\n",
    "    i = iter(range(size))\n",
    "    j = iter(range(size))\n",
    "    while True:\n",
    "        try:\n",
    "            yield TwoNumbers(i= next(i), j= next(j))\n",
    "        except StopIteration:\n",
    "            break\n",
    "        \n",
    "class SizeModel(BaseModel):\n",
    "    size: int = Field(..., title=\"First number\")\n",
    "    \n",
    "class TwoNumbersModel(BaseModel):\n",
    "    i: int = Field(..., title=\"Number1\", description=\"First number\")\n",
    "    j: int = Field(..., title=\"Number2\", description=\"Second number\")\n",
    "\n",
    "Size = Structure.build(\"Size\", model=SizeModel)\n",
    "TwoNumbers = Structure.build(\"TwoNumbers\", model=TwoNumbersModel)"
   ]
  },
  {
   "cell_type": "code",
   "execution_count": null,
   "metadata": {},
   "outputs": [],
   "source": [
    "TwoNumbersGenerator  = Generator.build(\n",
    "    \"TwoNumbers\", \n",
    "    callable=nums_gen, \n",
    "    input_structure=Size, \n",
    "    output_structure=TwoNumbers)"
   ]
  },
  {
   "cell_type": "code",
   "execution_count": null,
   "metadata": {},
   "outputs": [],
   "source": [
    "for output in TwoNumbersGenerator(size=10):\n",
    "    print(output)"
   ]
  }
 ],
 "metadata": {
  "kernelspec": {
   "display_name": "py3108",
   "language": "python",
   "name": "python3"
  },
  "language_info": {
   "codemirror_mode": {
    "name": "ipython",
    "version": 3
   },
   "file_extension": ".py",
   "mimetype": "text/x-python",
   "name": "python",
   "nbconvert_exporter": "python",
   "pygments_lexer": "ipython3",
   "version": "3.10.8"
  }
 },
 "nbformat": 4,
 "nbformat_minor": 2
}
