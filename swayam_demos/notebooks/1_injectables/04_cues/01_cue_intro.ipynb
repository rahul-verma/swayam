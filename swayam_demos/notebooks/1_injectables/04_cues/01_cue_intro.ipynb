{
 "cells": [
  {
   "cell_type": "code",
   "execution_count": null,
   "metadata": {},
   "outputs": [],
   "source": [
    "from env import *\n",
    "from swayam import *"
   ]
  },
  {
   "cell_type": "markdown",
   "metadata": {},
   "source": [
    "## Cues\n",
    "\n",
    "Swayam has the concept of Cues. The cues are templated conditions that return a Data of type Template.BoolValue. \n",
    "\n",
    "The purpose of using a Cure is using it with a Prompt object for typically to check if **something is true**. This outcome can be used in decision making.\n",
    "\n",
    "Note: To map to an if-else, the cue's are used only in the \"if\" context in terms of their impact, the 'else' path (the False evaluated path) is auto-determined by the caller depending upon the context in which the Cue is injected."
   ]
  },
  {
   "cell_type": "markdown",
   "metadata": {},
   "source": [
    "### A Simple Cue"
   ]
  },
  {
   "cell_type": "code",
   "execution_count": null,
   "metadata": {},
   "outputs": [],
   "source": [
    "def dummy_func(*, invoker):\n",
    "    return Template.BoolValue(value=False)\n",
    "\n",
    "DummyCue = Cue.build(\n",
    "    \"DummyCue\", \n",
    "    callable=dummy_func\n",
    ")"
   ]
  },
  {
   "cell_type": "code",
   "execution_count": null,
   "metadata": {},
   "outputs": [],
   "source": [
    "DummyCue()"
   ]
  },
  {
   "cell_type": "code",
   "execution_count": null,
   "metadata": {},
   "outputs": [],
   "source": [
    "def dummy_func_2(*, invoker, value):\n",
    "    return Template.BoolValue(value=value > 1)\n",
    "\n",
    "DummyCue2 = Cue.build(\n",
    "    \"DummyCue2\", \n",
    "    callable=dummy_func_2,\n",
    "    in_template=Template.NumericValue\n",
    ")"
   ]
  },
  {
   "cell_type": "code",
   "execution_count": null,
   "metadata": {},
   "outputs": [],
   "source": [
    "DummyCue2(value=2)"
   ]
  },
  {
   "cell_type": "code",
   "execution_count": null,
   "metadata": {},
   "outputs": [],
   "source": [
    "DummyCue2(value=0)"
   ]
  }
 ],
 "metadata": {
  "kernelspec": {
   "display_name": "py3108",
   "language": "python",
   "name": "python3"
  },
  "language_info": {
   "codemirror_mode": {
    "name": "ipython",
    "version": 3
   },
   "file_extension": ".py",
   "mimetype": "text/x-python",
   "name": "python",
   "nbconvert_exporter": "python",
   "pygments_lexer": "ipython3",
   "version": "3.10.8"
  }
 },
 "nbformat": 4,
 "nbformat_minor": 2
}
