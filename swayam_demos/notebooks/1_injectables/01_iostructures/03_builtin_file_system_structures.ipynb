{
 "cells": [
  {
   "cell_type": "code",
   "execution_count": 1,
   "metadata": {},
   "outputs": [],
   "source": [
    "from env import *\n",
    "from swayam import *"
   ]
  },
  {
   "cell_type": "markdown",
   "metadata": {},
   "source": [
    "### Built-in IO Structures"
   ]
  },
  {
   "cell_type": "code",
   "execution_count": 2,
   "metadata": {},
   "outputs": [
    {
     "name": "stdout",
     "output_type": "stream",
     "text": [
      "{'properties': {'dir_path': {'description': 'Full or Project Relative Path of the directory', 'examples': ['/project/home/user', 'user/test'], 'type': 'string'}}, 'required': ['dir_path'], 'title': 'DirPathModel', 'type': 'object'}\n",
      "<swayam.inject.structure.structure.IOStructureObject object at 0x10e86d6c0>\n",
      "{'dir_path': 'data/test'}\n"
     ]
    }
   ],
   "source": [
    "structure_object = Structure.DirPath(\n",
    "    dir_path = \"data/test\",\n",
    "    file_filter_pattern=\".*html\" #optional \n",
    ")\n",
    "print(Structure.DirPath.definition)\n",
    "print(structure_object)\n",
    "print(structure_object.as_dict())"
   ]
  },
  {
   "cell_type": "code",
   "execution_count": 3,
   "metadata": {},
   "outputs": [
    {
     "name": "stdout",
     "output_type": "stream",
     "text": [
      "{'properties': {'file_path': {'description': 'Full or Project Relative Path of the file. Must include file name.', 'examples': ['/home/user/file.txt', 'user/file.txt'], 'type': 'string'}}, 'required': ['file_path'], 'title': 'FilePathModel', 'type': 'object'}\n",
      "{'file_path': 'data/test'}\n"
     ]
    }
   ],
   "source": [
    "structure_object = Structure.FilePath(file_path = \"data/test\")\n",
    "print(Structure.FilePath.definition)\n",
    "print(structure_object.as_dict())"
   ]
  },
  {
   "cell_type": "code",
   "execution_count": 4,
   "metadata": {},
   "outputs": [
    {
     "name": "stdout",
     "output_type": "stream",
     "text": [
      "{'properties': {'file_name': {'description': 'Name of the file', 'examples': ['file.txt'], 'type': 'string'}, 'file_path': {'description': 'Full or Project Relative Path of the file. Must include file name.', 'examples': ['/home/user/file.txt', 'user/file.txt'], 'type': 'string'}}, 'required': ['file_name', 'file_path'], 'title': 'FileInfoModel', 'type': 'object'}\n",
      "{'file_name': 'test.txt', 'file_path': 'data/test.txt'}\n"
     ]
    }
   ],
   "source": [
    "structure_object = Structure.FileInfo(\n",
    "    file_name=\"test.txt\", \n",
    "    file_path=\"data/test.txt\"\n",
    ")\n",
    "print(Structure.FileInfo.definition)\n",
    "print(structure_object.as_dict())"
   ]
  },
  {
   "cell_type": "code",
   "execution_count": 5,
   "metadata": {},
   "outputs": [
    {
     "name": "stdout",
     "output_type": "stream",
     "text": [
      "{'properties': {'file_name': {'description': 'Name of the file', 'examples': ['file.txt'], 'type': 'string'}, 'file_path': {'description': 'Full or Project Relative Path of the file. Must include file name.', 'examples': ['/home/user/file.txt', 'user/file.txt'], 'type': 'string'}, 'file_content': {'description': 'Content of the file', 'type': 'string'}}, 'required': ['file_name', 'file_path', 'file_content'], 'title': 'TextFileContentModel', 'type': 'object'}\n",
      "{'file_name': 'test.txt', 'file_path': 'data/test.txt', 'file_content': 'Hello world'}\n"
     ]
    }
   ],
   "source": [
    "structure_object = Structure.TextFileContent(\n",
    "    file_name=\"test.txt\", \n",
    "    file_path=\"data/test.txt\",\n",
    "    file_content=\"Hello world\"\n",
    ")\n",
    "print(Structure.TextFileContent.definition)\n",
    "print(structure_object.as_dict())"
   ]
  },
  {
   "cell_type": "markdown",
   "metadata": {},
   "source": [
    "### Error in case of non-existing structure"
   ]
  },
  {
   "cell_type": "code",
   "execution_count": 6,
   "metadata": {},
   "outputs": [
    {
     "name": "stdout",
     "output_type": "stream",
     "text": [
      "structure\n"
     ]
    },
    {
     "ename": "InjectableNotFoundError",
     "evalue": "Structure >>non_existing<<: Neither defined in the project, nor defined by Swayam. Further Info: The >>Structure.non_existing<< call originated from the file /var/folders/ft/_2znf0px48x3yg9r75kk40_c0000gn/T/ipykernel_68909/2432575603.py.",
     "output_type": "error",
     "traceback": [
      "\u001b[0;31m---------------------------------------------------------------------------\u001b[0m",
      "\u001b[0;31mInjectableNotFoundError\u001b[0m                   Traceback (most recent call last)",
      "Cell \u001b[0;32mIn[6], line 1\u001b[0m\n\u001b[0;32m----> 1\u001b[0m \u001b[43mStructure\u001b[49m\u001b[38;5;241;43m.\u001b[39;49m\u001b[43mnon_existing\u001b[49m\n",
      "File \u001b[0;32m~/Documents/GitHub/swayam/swayam/inject/structure/meta.py:26\u001b[0m, in \u001b[0;36mStructureMeta.__getattr__\u001b[0;34m(cls, name)\u001b[0m\n\u001b[1;32m     24\u001b[0m \u001b[38;5;28;01mdef\u001b[39;00m \u001b[38;5;21m__getattr__\u001b[39m(\u001b[38;5;28mcls\u001b[39m, name):\n\u001b[1;32m     25\u001b[0m     \u001b[38;5;28;01mfrom\u001b[39;00m \u001b[38;5;21;01mswayam\u001b[39;00m\u001b[38;5;21;01m.\u001b[39;00m\u001b[38;5;21;01minject\u001b[39;00m \u001b[38;5;28;01mimport\u001b[39;00m Injectable\n\u001b[0;32m---> 26\u001b[0m     \u001b[38;5;28;01mreturn\u001b[39;00m \u001b[43mInjectable\u001b[49m\u001b[38;5;241;43m.\u001b[39;49m\u001b[43mload_module\u001b[49m\u001b[43m(\u001b[49m\u001b[38;5;124;43m\"\u001b[39;49m\u001b[38;5;124;43mStructure\u001b[39;49m\u001b[38;5;124;43m\"\u001b[39;49m\u001b[43m,\u001b[49m\u001b[43m \u001b[49m\u001b[43mname\u001b[49m\u001b[43m,\u001b[49m\u001b[43m \u001b[49m\u001b[43mget_caller_module_file_location\u001b[49m\u001b[43m(\u001b[49m\u001b[43m)\u001b[49m\u001b[43m)\u001b[49m\n",
      "File \u001b[0;32m~/Documents/GitHub/swayam/swayam/inject/__init__.py:71\u001b[0m, in \u001b[0;36mInjectable.load_module\u001b[0;34m(cls, type, name, caller_file)\u001b[0m\n\u001b[1;32m     68\u001b[0m         frame \u001b[38;5;241m=\u001b[39m traceback\u001b[38;5;241m.\u001b[39mextract_tb(e\u001b[38;5;241m.\u001b[39m__traceback__)[\u001b[38;5;241m-\u001b[39m\u001b[38;5;241m1\u001b[39m]\n\u001b[1;32m     69\u001b[0m         \u001b[38;5;28mcls\u001b[39m\u001b[38;5;241m.\u001b[39mraise_import_exception(\u001b[38;5;28mtype\u001b[39m, name, module_name, \u001b[38;5;28mstr\u001b[39m(e) \u001b[38;5;241m+\u001b[39m \u001b[38;5;124mf\u001b[39m\u001b[38;5;124m\"\u001b[39m\u001b[38;5;124m. Check: \u001b[39m\u001b[38;5;132;01m{\u001b[39;00m\u001b[38;5;28mcls\u001b[39m\u001b[38;5;241m.\u001b[39mextract_caller_from_frame(frame)\u001b[38;5;132;01m}\u001b[39;00m\u001b[38;5;124m\"\u001b[39m)       \n\u001b[0;32m---> 71\u001b[0m \u001b[38;5;28;01mraise\u001b[39;00m InjectableNotFoundError(\n\u001b[1;32m     72\u001b[0m                         \u001b[38;5;28mcls\u001b[39m\u001b[38;5;241m.\u001b[39mcreate_metadata_object(\u001b[38;5;28mtype\u001b[39m\u001b[38;5;241m=\u001b[39m\u001b[38;5;28mtype\u001b[39m, name\u001b[38;5;241m=\u001b[39mname), caller_file\u001b[38;5;241m=\u001b[39mcaller_file)\n",
      "\u001b[0;31mInjectableNotFoundError\u001b[0m: Structure >>non_existing<<: Neither defined in the project, nor defined by Swayam. Further Info: The >>Structure.non_existing<< call originated from the file /var/folders/ft/_2znf0px48x3yg9r75kk40_c0000gn/T/ipykernel_68909/2432575603.py."
     ]
    }
   ],
   "source": [
    "Structure.non_existing"
   ]
  }
 ],
 "metadata": {
  "kernelspec": {
   "display_name": "py3108",
   "language": "python",
   "name": "python3"
  },
  "language_info": {
   "codemirror_mode": {
    "name": "ipython",
    "version": 3
   },
   "file_extension": ".py",
   "mimetype": "text/x-python",
   "name": "python",
   "nbconvert_exporter": "python",
   "pygments_lexer": "ipython3",
   "version": "3.10.8"
  }
 },
 "nbformat": 4,
 "nbformat_minor": 2
}
