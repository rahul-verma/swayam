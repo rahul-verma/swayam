{
 "cells": [
  {
   "cell_type": "code",
   "execution_count": null,
   "metadata": {},
   "outputs": [],
   "source": [
    "from env import *\n",
    "from swayam import *"
   ]
  },
  {
   "cell_type": "markdown",
   "metadata": {},
   "source": [
    "### Built-in IO Structures"
   ]
  },
  {
   "cell_type": "code",
   "execution_count": null,
   "metadata": {},
   "outputs": [],
   "source": [
    "structure_object = Structure.DirPath(\n",
    "    dir_path = \"data/test\",\n",
    "    file_filter_pattern=\".*html\" #optional \n",
    ")\n",
    "print(Structure.DirPath.definition)\n",
    "print(structure_object)\n",
    "print(structure_object.as_dict())"
   ]
  },
  {
   "cell_type": "code",
   "execution_count": null,
   "metadata": {},
   "outputs": [],
   "source": [
    "structure_object = Structure.FilePath(file_path = \"data/test\")\n",
    "print(Structure.FilePath.definition)\n",
    "print(structure_object.as_dict())"
   ]
  },
  {
   "cell_type": "code",
   "execution_count": null,
   "metadata": {},
   "outputs": [],
   "source": [
    "structure_object = Structure.FileInfo(\n",
    "    file_name=\"test.txt\", \n",
    "    file_path=\"data/test.txt\"\n",
    ")\n",
    "print(Structure.FileInfo.definition)\n",
    "print(structure_object.as_dict())"
   ]
  },
  {
   "cell_type": "code",
   "execution_count": null,
   "metadata": {},
   "outputs": [],
   "source": [
    "structure_object = Structure.FileContent(\n",
    "    file_name=\"test.txt\", \n",
    "    file_path=\"data/test.txt\",\n",
    "    file_content=\"Hello world\"\n",
    ")\n",
    "print(Structure.FileContent.definition)\n",
    "print(structure_object.as_dict())"
   ]
  },
  {
   "cell_type": "markdown",
   "metadata": {},
   "source": [
    "### Error in case of non-existing structure"
   ]
  },
  {
   "cell_type": "code",
   "execution_count": null,
   "metadata": {},
   "outputs": [],
   "source": [
    "Structure.non_existing"
   ]
  }
 ],
 "metadata": {
  "kernelspec": {
   "display_name": "py3108",
   "language": "python",
   "name": "python3"
  },
  "language_info": {
   "codemirror_mode": {
    "name": "ipython",
    "version": 3
   },
   "file_extension": ".py",
   "mimetype": "text/x-python",
   "name": "python",
   "nbconvert_exporter": "python",
   "pygments_lexer": "ipython3",
   "version": "3.10.8"
  }
 },
 "nbformat": 4,
 "nbformat_minor": 2
}
