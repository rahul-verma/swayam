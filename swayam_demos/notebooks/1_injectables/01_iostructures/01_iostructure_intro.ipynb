{
 "cells": [
  {
   "cell_type": "code",
   "execution_count": null,
   "metadata": {},
   "outputs": [],
   "source": [
    "from env import *\n",
    "from swayam import *"
   ]
  },
  {
   "cell_type": "markdown",
   "metadata": {},
   "source": [
    "## I/O Structures\n",
    "\n",
    "The I/O structures are across Swayam to impose rules on data exchange as a dictionary with prescribed format.\n",
    "\n",
    "Tip: The names of attributes should be kept deliberately verbose especially when these are used in formatting definition files (e.g. generators), response format communication to LLM, Tool Calling. "
   ]
  },
  {
   "cell_type": "markdown",
   "metadata": {},
   "source": [
    "You can refer the project structure of swayam_demos to know more about it. "
   ]
  },
  {
   "cell_type": "markdown",
   "metadata": {},
   "source": [
    "### A Simple Example\n",
    "\n",
    "Here we are making basic use of pydantic to create a Data Model and using it to create an IOStructure using **Structure.build** method.\n",
    "\n",
    "Note that the build call returns a tuple of 2 objects: An Atomic Structure and A Composite Structure (List of Items with the generated Structure)."
   ]
  },
  {
   "cell_type": "code",
   "execution_count": null,
   "metadata": {},
   "outputs": [],
   "source": [
    "from pydantic import BaseModel, Field\n",
    "\n",
    "class TripDataModel(BaseModel):\n",
    "    city: str = Field(..., title=\"City\", description=\"City to visit\")\n",
    "    month: str = Field(..., title=\"Month\", description=\"Month to visit\")\n",
    "    thought: str = Field(default=\"Tourism\", title=\"Thought\", description=\"Thought to complete\")\n",
    "    \n",
    "TripData = Structure.build(\"TripData\", model=TripDataModel)"
   ]
  },
  {
   "cell_type": "markdown",
   "metadata": {},
   "source": [
    "You can get the definition of the this structure using the **definition** property."
   ]
  },
  {
   "cell_type": "code",
   "execution_count": null,
   "metadata": {},
   "outputs": [],
   "source": [
    "TripData.definition"
   ]
  },
  {
   "cell_type": "markdown",
   "metadata": {},
   "source": [
    "To create an object as per this structure, always use keyword arguments."
   ]
  },
  {
   "cell_type": "code",
   "execution_count": null,
   "metadata": {},
   "outputs": [],
   "source": [
    "trip_data = TripData(city=\"Berlin\", month=\"July\", thought=\"Visa\")"
   ]
  },
  {
   "cell_type": "markdown",
   "metadata": {},
   "source": [
    "To get the data contained in the IOStructureObject, you can use its **as_dict** method."
   ]
  },
  {
   "cell_type": "code",
   "execution_count": null,
   "metadata": {},
   "outputs": [],
   "source": [
    "trip_data.as_dict()"
   ]
  },
  {
   "cell_type": "markdown",
   "metadata": {},
   "source": [
    "### Error Situations"
   ]
  },
  {
   "cell_type": "code",
   "execution_count": null,
   "metadata": {},
   "outputs": [],
   "source": [
    "## Missing mandatory key\n",
    "trip_data = TripData(city=\"Berlin\")"
   ]
  }
 ],
 "metadata": {
  "kernelspec": {
   "display_name": "py3108",
   "language": "python",
   "name": "python3"
  },
  "language_info": {
   "codemirror_mode": {
    "name": "ipython",
    "version": 3
   },
   "file_extension": ".py",
   "mimetype": "text/x-python",
   "name": "python",
   "nbconvert_exporter": "python",
   "pygments_lexer": "ipython3",
   "version": "3.10.8"
  }
 },
 "nbformat": 4,
 "nbformat_minor": 2
}
