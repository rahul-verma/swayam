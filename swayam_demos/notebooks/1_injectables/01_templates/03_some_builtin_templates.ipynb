{
 "cells": [
  {
   "cell_type": "code",
   "execution_count": null,
   "metadata": {},
   "outputs": [],
   "source": [
    "from env import *\n",
    "from swayam import *"
   ]
  },
  {
   "cell_type": "markdown",
   "metadata": {},
   "source": [
    "### Built-in Templates"
   ]
  },
  {
   "cell_type": "code",
   "execution_count": null,
   "metadata": {},
   "outputs": [],
   "source": [
    "structure_object = Template.DirPath(\n",
    "    dir_path = \"data/test\",\n",
    "    file_filter_pattern=\".*html\" #optional \n",
    ")\n",
    "print(Template.DirPath.definition)\n",
    "print(structure_object)\n",
    "print(structure_object.as_dict())"
   ]
  },
  {
   "cell_type": "code",
   "execution_count": null,
   "metadata": {},
   "outputs": [],
   "source": [
    "structure_object = Template.FilePath(file_path = \"data/test\")\n",
    "print(Template.FilePath.definition)\n",
    "print(structure_object.as_dict())"
   ]
  },
  {
   "cell_type": "code",
   "execution_count": null,
   "metadata": {},
   "outputs": [],
   "source": [
    "structure_object = Template.FileInfo(\n",
    "    file_name=\"test.txt\", \n",
    "    file_path=\"data/test.txt\"\n",
    ")\n",
    "print(Template.FileInfo.definition)\n",
    "print(structure_object.as_dict())"
   ]
  },
  {
   "cell_type": "code",
   "execution_count": null,
   "metadata": {},
   "outputs": [],
   "source": [
    "structure_object = Template.TextFileContent(\n",
    "    file_name=\"test.txt\", \n",
    "    file_path=\"data/test.txt\",\n",
    "    file_content=\"Hello world\"\n",
    ")\n",
    "print(Template.TextFileContent.definition)\n",
    "print(structure_object.as_dict())"
   ]
  },
  {
   "cell_type": "markdown",
   "metadata": {},
   "source": [
    "### Error in case of non-existing template"
   ]
  },
  {
   "cell_type": "code",
   "execution_count": null,
   "metadata": {},
   "outputs": [],
   "source": [
    "Template.non_existing"
   ]
  }
 ],
 "metadata": {
  "kernelspec": {
   "display_name": "py3108",
   "language": "python",
   "name": "python3"
  },
  "language_info": {
   "codemirror_mode": {
    "name": "ipython",
    "version": 3
   },
   "file_extension": ".py",
   "mimetype": "text/x-python",
   "name": "python",
   "nbconvert_exporter": "python",
   "pygments_lexer": "ipython3",
   "version": "3.10.8"
  }
 },
 "nbformat": 4,
 "nbformat_minor": 2
}
