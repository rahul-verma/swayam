{
 "cells": [
  {
   "cell_type": "code",
   "execution_count": null,
   "metadata": {},
   "outputs": [],
   "source": [
    "from env import *\n",
    "from swayam import *"
   ]
  },
  {
   "cell_type": "markdown",
   "metadata": {},
   "source": [
    "## Templates and Data\n",
    "\n",
    "The Templates are used across Swayam to impose rules on data exchange as a dictionary with prescribed format.\n",
    "\n",
    "Tip: The names of attributes should be kept deliberately verbose especially when these are used in formatting definition files (e.g. drivers), response format communication to LLM, Tool Calling with Actions. \n",
    "\n",
    "Templates are callable. When we call them with keyword arguments for data, the call returns a **Data** object."
   ]
  },
  {
   "cell_type": "markdown",
   "metadata": {},
   "source": [
    "You can refer the project structure of swayam_demos to know more about it. "
   ]
  },
  {
   "cell_type": "markdown",
   "metadata": {},
   "source": [
    "### A Simple Example\n",
    "\n",
    "Here we are making basic use of pydantic to create a Data Model and using it to create an DataTemplate using **Template.build** method."
   ]
  },
  {
   "cell_type": "code",
   "execution_count": null,
   "metadata": {},
   "outputs": [],
   "source": [
    "from pydantic import BaseModel, Field\n",
    "\n",
    "class TripDataModel(BaseModel):\n",
    "    city: str = Field(..., title=\"City\", description=\"City to visit\")\n",
    "    month: str = Field(..., title=\"Month\", description=\"Month to visit\")\n",
    "    thought: str = Field(default=\"Tourism\", title=\"Thought\", description=\"Thought to complete\")\n",
    "    \n",
    "TripData = Template.build(\"TripData\", model=TripDataModel)"
   ]
  },
  {
   "cell_type": "markdown",
   "metadata": {},
   "source": [
    "You can get the definition of the this template using the **definition** property."
   ]
  },
  {
   "cell_type": "code",
   "execution_count": null,
   "metadata": {},
   "outputs": [],
   "source": [
    "TripData.definition"
   ]
  },
  {
   "cell_type": "markdown",
   "metadata": {},
   "source": [
    "To create a **Data** object as per this template. Always use keyword arguments."
   ]
  },
  {
   "cell_type": "code",
   "execution_count": null,
   "metadata": {},
   "outputs": [],
   "source": [
    "trip_data = TripData(city=\"Berlin\", month=\"July\", thought=\"Visa\")"
   ]
  },
  {
   "cell_type": "markdown",
   "metadata": {},
   "source": [
    "To get the data contained in the Data, you can use its **as_dict** method."
   ]
  },
  {
   "cell_type": "code",
   "execution_count": null,
   "metadata": {},
   "outputs": [],
   "source": [
    "trip_data.as_dict()"
   ]
  },
  {
   "cell_type": "markdown",
   "metadata": {},
   "source": [
    "### Error Situations"
   ]
  },
  {
   "cell_type": "code",
   "execution_count": null,
   "metadata": {},
   "outputs": [],
   "source": [
    "## Missing mandatory key\n",
    "trip_data = TripData(city=\"Berlin\")"
   ]
  }
 ],
 "metadata": {
  "kernelspec": {
   "display_name": "py3108",
   "language": "python",
   "name": "python3"
  },
  "language_info": {
   "codemirror_mode": {
    "name": "ipython",
    "version": 3
   },
   "file_extension": ".py",
   "mimetype": "text/x-python",
   "name": "python",
   "nbconvert_exporter": "python",
   "pygments_lexer": "ipython3",
   "version": "3.10.8"
  }
 },
 "nbformat": 4,
 "nbformat_minor": 2
}
