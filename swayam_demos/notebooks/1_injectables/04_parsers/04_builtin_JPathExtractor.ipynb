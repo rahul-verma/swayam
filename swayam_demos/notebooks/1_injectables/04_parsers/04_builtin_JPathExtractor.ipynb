{
 "cells": [
  {
   "cell_type": "code",
   "execution_count": null,
   "metadata": {},
   "outputs": [],
   "source": [
    "from env import *\n",
    "from swayam import *"
   ]
  },
  {
   "cell_type": "markdown",
   "metadata": {},
   "source": [
    "### JPathExtractor"
   ]
  },
  {
   "cell_type": "markdown",
   "metadata": {},
   "source": [
    "### Simple usage"
   ]
  },
  {
   "cell_type": "code",
   "execution_count": null,
   "metadata": {},
   "outputs": [],
   "source": [
    "content = {\n",
    "        \"book\": [\n",
    "            { \"category\": \"reference\", \"author\": \"Nigel Rees\", \"title\": \"Sayings of the Century\", \"price\": 8.95 },\n",
    "            { \"category\": \"fiction\", \"author\": \"Evelyn Waugh\", \"title\": \"Sword of Honour\", \"price\": 12.99 },\n",
    "            { \"category\": \"fiction\", \"author\": \"Herman Melville\", \"title\": \"Moby Dick\", \"isbn\": \"0-553-21311-3\", \"price\": 8.99 },\n",
    "            { \"category\": \"fiction\", \"author\": \"J.R.R. Tolkien\", \"title\": \"The Lord of the Rings\", \"isbn\": \"0-395-19395-8\", \"price\": 22.99 }\n",
    "        ],\n",
    "        \"bicycle\": { \"color\": \"red\", \"price\": 19.95 }\n",
    "    }\n",
    "\n",
    "Parser.JPathExtractor()(content=content, jpath='$.book[*]')"
   ]
  },
  {
   "cell_type": "code",
   "execution_count": null,
   "metadata": {},
   "outputs": [],
   "source": [
    "from typing import List, Optional\n",
    "from pydantic import BaseModel, Field\n",
    "\n",
    "class BookModel(BaseModel):\n",
    "    category:str\n",
    "    author: str\n",
    "    title: str\n",
    "    isbn: Optional[str]  = Field(None)\n",
    "    price: float\n",
    "    \n",
    "class BicycleModel(BaseModel):\n",
    "    color: str\n",
    "    price: float\n",
    "    \n",
    "class StoreModel(BaseModel):\n",
    "    book: List[BookModel]\n",
    "    bicycle: BicycleModel\n",
    "    \n",
    "Store = Structure.build(\"Store\", model=StoreModel)\n",
    "Book = Structure.build(\"Book\", model=BookModel)\n",
    "\n",
    "content = {\n",
    "        \"book\": [\n",
    "            { \"category\": \"reference\", \"author\": \"Nigel Rees\", \"title\": \"Sayings of the Century\", \"price\": 8.95 },\n",
    "            { \"category\": \"fiction\", \"author\": \"Evelyn Waugh\", \"title\": \"Sword of Honour\", \"price\": 12.99 },\n",
    "            { \"category\": \"fiction\", \"author\": \"Herman Melville\", \"title\": \"Moby Dick\", \"isbn\": \"0-553-21311-3\", \"price\": 8.99 },\n",
    "            { \"category\": \"fiction\", \"author\": \"J.R.R. Tolkien\", \"title\": \"The Lord of the Rings\", \"isbn\": \"0-395-19395-8\", \"price\": 22.99 }\n",
    "        ],\n",
    "        \"bicycle\": { \"color\": \"red\", \"price\": 19.95 }\n",
    "    }\n",
    "# StoreModel(**content[\"store\"])\n",
    "\n",
    "\n",
    "Parser.JPathExtractor(content_structure=Store)(content=content, jpath='$.book[*]')\n"
   ]
  },
  {
   "cell_type": "markdown",
   "metadata": {},
   "source": [
    "### strict = False\n",
    "\n",
    "By default in case of no matches an exception is raised."
   ]
  },
  {
   "cell_type": "code",
   "execution_count": null,
   "metadata": {},
   "outputs": [],
   "source": [
    "Parser.JPathExtractor(content_structure=Store)(content=content, jpath='$.book[10]', strict=False)"
   ]
  },
  {
   "cell_type": "code",
   "execution_count": null,
   "metadata": {},
   "outputs": [],
   "source": [
    "class AnotherBookModel(BaseModel):\n",
    "    category:str\n",
    "    author: str\n",
    "    title_something: str\n",
    "    isbn: Optional[str]  = Field(None)\n",
    "    price: float\n",
    "    \n",
    "Store = Structure.build(\"Store\", model=StoreModel)\n",
    "AnotherBook = Structure.build(\"AnotherBook\", model=AnotherBookModel)"
   ]
  },
  {
   "cell_type": "markdown",
   "metadata": {},
   "source": [
    "### Restriction on Output"
   ]
  },
  {
   "cell_type": "code",
   "execution_count": null,
   "metadata": {},
   "outputs": [],
   "source": [
    "Parser.JPathExtractor(content_structure=Store, output_structure=AnotherBook)(content=content, jpath='$.book[0]')"
   ]
  }
 ],
 "metadata": {
  "kernelspec": {
   "display_name": "py3108",
   "language": "python",
   "name": "python3"
  },
  "language_info": {
   "codemirror_mode": {
    "name": "ipython",
    "version": 3
   },
   "file_extension": ".py",
   "mimetype": "text/x-python",
   "name": "python",
   "nbconvert_exporter": "python",
   "pygments_lexer": "ipython3",
   "version": "3.10.8"
  }
 },
 "nbformat": 4,
 "nbformat_minor": 2
}
