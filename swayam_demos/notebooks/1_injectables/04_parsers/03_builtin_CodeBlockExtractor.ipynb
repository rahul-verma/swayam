{
 "cells": [
  {
   "cell_type": "code",
   "execution_count": 1,
   "metadata": {},
   "outputs": [],
   "source": [
    "from env import *\n",
    "from swayam import *"
   ]
  },
  {
   "cell_type": "markdown",
   "metadata": {},
   "source": [
    "### CodeBlockExtractor"
   ]
  },
  {
   "cell_type": "code",
   "execution_count": 2,
   "metadata": {},
   "outputs": [
    {
     "name": "stdout",
     "output_type": "stream",
     "text": [
      "{'code_blocks': [{'code_block': 'This is markdown content.', 'language': 'markdown'}]}\n"
     ]
    }
   ],
   "source": [
    "text = \"\"\"\n",
    "This is a sample text with a markdown block:\n",
    "\n",
    "```\n",
    "This is markdown content.\n",
    "```\n",
    "\"\"\"\n",
    "\n",
    "code_blocks = Parser.CodeBlockExtractor(content=text)\n",
    "print(code_blocks)"
   ]
  },
  {
   "cell_type": "code",
   "execution_count": 3,
   "metadata": {},
   "outputs": [
    {
     "name": "stdout",
     "output_type": "stream",
     "text": [
      "{'code_blocks': [{'code_block': '[1,2,3]', 'language': 'json'}]}\n"
     ]
    }
   ],
   "source": [
    "text = \"\"\"\n",
    "This is a sample text with a json block:\n",
    "\n",
    "```json\n",
    "[1,2,3]\n",
    "```\n",
    "\"\"\"\n",
    "\n",
    "code_blocks = Parser.CodeBlockExtractor(content=text)\n",
    "print(code_blocks)"
   ]
  },
  {
   "cell_type": "code",
   "execution_count": 4,
   "metadata": {},
   "outputs": [
    {
     "name": "stdout",
     "output_type": "stream",
     "text": [
      "{'code_blocks': [{'code_block': '[1,2,3]', 'language': 'json'}, {'code_block': '[1,2,3]', 'language': 'python'}, {'code_block': '[1,2,3]', 'language': 'markdown'}]}\n"
     ]
    }
   ],
   "source": [
    "text = \"\"\"\n",
    "This is a sample text with multiple code blocks:\n",
    "\n",
    "```json\n",
    "[1,2,3]\n",
    "```\n",
    "\n",
    "```python\n",
    "[1,2,3]\n",
    "```\n",
    "\n",
    "```\n",
    "[1,2,3]\n",
    "```\n",
    "\n",
    "\"\"\"\n",
    "\n",
    "code_blocks = Parser.CodeBlockExtractor(content=text)\n",
    "print(code_blocks)"
   ]
  },
  {
   "cell_type": "code",
   "execution_count": 5,
   "metadata": {},
   "outputs": [
    {
     "name": "stdout",
     "output_type": "stream",
     "text": [
      "{'code_blocks': [{'code_block': '[1,2,3]', 'language': 'python'}]}\n"
     ]
    }
   ],
   "source": [
    "text = \"\"\"\n",
    "This is a sample text with multiple code blocks:\n",
    "\n",
    "```json\n",
    "[1,2,3]\n",
    "```\n",
    "\n",
    "```python\n",
    "[1,2,3]\n",
    "```\n",
    "\n",
    "```\n",
    "[1,2,3]\n",
    "```\n",
    "\n",
    "\"\"\"\n",
    "\n",
    "code_blocks = Parser.CodeBlockExtractor(content=text, languages=[\"python\"])\n",
    "print(code_blocks)"
   ]
  },
  {
   "cell_type": "code",
   "execution_count": 6,
   "metadata": {},
   "outputs": [
    {
     "ename": "InjectableCallError",
     "evalue": "TextContentParser >>CodeBlockExtractor<<: A run-time error happened when extract_code_blocks was called. Error: No Code block was found in for languages ['python'] in the following content:\n>>\nThis is a sample text with no code block.\n<<.. Check: File: /Users/rahulverma/Documents/GitHub/swayam/swayam/inject/parser/builtin/injectable/CodeBlockExtractor.py, Line: 60, Function: extract_code_blocks, Code: raise Exception(f\"No Code block was found in for languages {languages} in the following content:\\n>>{content}<<.\")",
     "output_type": "error",
     "traceback": [
      "\u001b[0;31m---------------------------------------------------------------------------\u001b[0m",
      "\u001b[0;31mException\u001b[0m                                 Traceback (most recent call last)",
      "File \u001b[0;32m~/Documents/GitHub/swayam/swayam/inject/injectable.py:122\u001b[0m, in \u001b[0;36mStructuredInjectableWithCallable.call_encapsulated_callable\u001b[0;34m(self, **kwargs)\u001b[0m\n\u001b[1;32m    121\u001b[0m         \u001b[38;5;28;01melse\u001b[39;00m:\n\u001b[0;32m--> 122\u001b[0m             \u001b[38;5;28;01mreturn\u001b[39;00m \u001b[38;5;28;43mself\u001b[39;49m\u001b[38;5;241;43m.\u001b[39;49m\u001b[43mcallable\u001b[49m\u001b[43m(\u001b[49m\u001b[43mstore\u001b[49m\u001b[38;5;241;43m=\u001b[39;49m\u001b[38;5;28;43mself\u001b[39;49m\u001b[38;5;241;43m.\u001b[39;49m\u001b[43mstore\u001b[49m\u001b[43m,\u001b[49m\u001b[43m \u001b[49m\u001b[38;5;241;43m*\u001b[39;49m\u001b[38;5;241;43m*\u001b[39;49m\u001b[43mupdated_kwargs\u001b[49m\u001b[43m)\u001b[49m\n\u001b[1;32m    123\u001b[0m \u001b[38;5;28;01mexcept\u001b[39;00m \u001b[38;5;167;01mException\u001b[39;00m \u001b[38;5;28;01mas\u001b[39;00m e:\n",
      "File \u001b[0;32m~/Documents/GitHub/swayam/swayam/inject/parser/builtin/injectable/CodeBlockExtractor.py:60\u001b[0m, in \u001b[0;36mextract_code_blocks\u001b[0;34m(store, content, languages, strict)\u001b[0m\n\u001b[1;32m     59\u001b[0m \u001b[38;5;28;01mif\u001b[39;00m strict \u001b[38;5;129;01mand\u001b[39;00m \u001b[38;5;129;01mnot\u001b[39;00m extracted_content:\n\u001b[0;32m---> 60\u001b[0m     \u001b[38;5;28;01mraise\u001b[39;00m \u001b[38;5;167;01mException\u001b[39;00m(\u001b[38;5;124mf\u001b[39m\u001b[38;5;124m\"\u001b[39m\u001b[38;5;124mNo Code block was found in for languages \u001b[39m\u001b[38;5;132;01m{\u001b[39;00mlanguages\u001b[38;5;132;01m}\u001b[39;00m\u001b[38;5;124m in the following content:\u001b[39m\u001b[38;5;130;01m\\n\u001b[39;00m\u001b[38;5;124m>>\u001b[39m\u001b[38;5;132;01m{\u001b[39;00mcontent\u001b[38;5;132;01m}\u001b[39;00m\u001b[38;5;124m<<.\u001b[39m\u001b[38;5;124m\"\u001b[39m)\n\u001b[1;32m     61\u001b[0m \u001b[38;5;28;01mreturn\u001b[39;00m Structure\u001b[38;5;241m.\u001b[39mCodeBlocks(code_blocks\u001b[38;5;241m=\u001b[39mextracted_content)\n",
      "\u001b[0;31mException\u001b[0m: No Code block was found in for languages ['python'] in the following content:\n>>\nThis is a sample text with no code block.\n<<.",
      "\nDuring handling of the above exception, another exception occurred:\n",
      "\u001b[0;31mInjectableCallError\u001b[0m                       Traceback (most recent call last)",
      "Cell \u001b[0;32mIn[6], line 5\u001b[0m\n\u001b[1;32m      1\u001b[0m text \u001b[38;5;241m=\u001b[39m \u001b[38;5;124m\"\"\"\u001b[39m\n\u001b[1;32m      2\u001b[0m \u001b[38;5;124mThis is a sample text with no code block.\u001b[39m\n\u001b[1;32m      3\u001b[0m \u001b[38;5;124m\"\"\"\u001b[39m\n\u001b[0;32m----> 5\u001b[0m code_blocks \u001b[38;5;241m=\u001b[39m \u001b[43mParser\u001b[49m\u001b[38;5;241;43m.\u001b[39;49m\u001b[43mCodeBlockExtractor\u001b[49m\u001b[43m(\u001b[49m\u001b[43mcontent\u001b[49m\u001b[38;5;241;43m=\u001b[39;49m\u001b[43mtext\u001b[49m\u001b[43m,\u001b[49m\u001b[43m \u001b[49m\u001b[43mlanguages\u001b[49m\u001b[38;5;241;43m=\u001b[39;49m\u001b[43m[\u001b[49m\u001b[38;5;124;43m\"\u001b[39;49m\u001b[38;5;124;43mpython\u001b[39;49m\u001b[38;5;124;43m\"\u001b[39;49m\u001b[43m]\u001b[49m\u001b[43m)\u001b[49m\n\u001b[1;32m      6\u001b[0m \u001b[38;5;28mprint\u001b[39m(code_blocks)\n",
      "File \u001b[0;32m~/Documents/GitHub/swayam/swayam/inject/injectable.py:140\u001b[0m, in \u001b[0;36mStructuredInjectableWithCallable.__call__\u001b[0;34m(self, **kwargs)\u001b[0m\n\u001b[1;32m    139\u001b[0m \u001b[38;5;28;01mdef\u001b[39;00m \u001b[38;5;21m__call__\u001b[39m(\u001b[38;5;28mself\u001b[39m, \u001b[38;5;241m*\u001b[39m\u001b[38;5;241m*\u001b[39mkwargs):\n\u001b[0;32m--> 140\u001b[0m     output \u001b[38;5;241m=\u001b[39m \u001b[38;5;28;43mself\u001b[39;49m\u001b[38;5;241;43m.\u001b[39;49m\u001b[43mcall_encapsulated_callable\u001b[49m\u001b[43m(\u001b[49m\u001b[38;5;241;43m*\u001b[39;49m\u001b[38;5;241;43m*\u001b[39;49m\u001b[43mkwargs\u001b[49m\u001b[43m)\u001b[49m     \n\u001b[1;32m    141\u001b[0m     output \u001b[38;5;241m=\u001b[39m \u001b[38;5;28mself\u001b[39m\u001b[38;5;241m.\u001b[39mvalidate_output(output)\n\u001b[1;32m    142\u001b[0m     \u001b[38;5;28;01mreturn\u001b[39;00m output\u001b[38;5;241m.\u001b[39mas_dict()\n",
      "File \u001b[0;32m~/Documents/GitHub/swayam/swayam/inject/injectable.py:127\u001b[0m, in \u001b[0;36mStructuredInjectableWithCallable.call_encapsulated_callable\u001b[0;34m(self, **kwargs)\u001b[0m\n\u001b[1;32m    125\u001b[0m frame \u001b[38;5;241m=\u001b[39m traceback\u001b[38;5;241m.\u001b[39mextract_tb(e\u001b[38;5;241m.\u001b[39m__traceback__)[\u001b[38;5;241m-\u001b[39m\u001b[38;5;241m1\u001b[39m]\n\u001b[1;32m    126\u001b[0m frame_str \u001b[38;5;241m=\u001b[39m Injectable\u001b[38;5;241m.\u001b[39mextract_caller_from_frame(frame)\n\u001b[0;32m--> 127\u001b[0m \u001b[38;5;28;01mraise\u001b[39;00m InjectableCallError(\u001b[38;5;28mself\u001b[39m, error\u001b[38;5;241m=\u001b[39m\u001b[38;5;28mstr\u001b[39m(e) \u001b[38;5;241m+\u001b[39m \u001b[38;5;124mf\u001b[39m\u001b[38;5;124m\"\u001b[39m\u001b[38;5;124m. Check: \u001b[39m\u001b[38;5;132;01m{\u001b[39;00mframe_str\u001b[38;5;132;01m}\u001b[39;00m\u001b[38;5;124m\"\u001b[39m)\n",
      "\u001b[0;31mInjectableCallError\u001b[0m: TextContentParser >>CodeBlockExtractor<<: A run-time error happened when extract_code_blocks was called. Error: No Code block was found in for languages ['python'] in the following content:\n>>\nThis is a sample text with no code block.\n<<.. Check: File: /Users/rahulverma/Documents/GitHub/swayam/swayam/inject/parser/builtin/injectable/CodeBlockExtractor.py, Line: 60, Function: extract_code_blocks, Code: raise Exception(f\"No Code block was found in for languages {languages} in the following content:\\n>>{content}<<.\")"
     ]
    }
   ],
   "source": [
    "text = \"\"\"\n",
    "This is a sample text with no code block.\n",
    "\"\"\"\n",
    "\n",
    "code_blocks = Parser.CodeBlockExtractor(content=text, languages=[\"python\"])\n",
    "print(code_blocks)"
   ]
  },
  {
   "cell_type": "code",
   "execution_count": 7,
   "metadata": {},
   "outputs": [
    {
     "name": "stdout",
     "output_type": "stream",
     "text": [
      "{'code_blocks': []}\n"
     ]
    }
   ],
   "source": [
    "code_blocks = Parser.CodeBlockExtractor(content=text, languages=[\"python\"], strict=False)\n",
    "print(code_blocks)"
   ]
  }
 ],
 "metadata": {
  "kernelspec": {
   "display_name": "py3108",
   "language": "python",
   "name": "python3"
  },
  "language_info": {
   "codemirror_mode": {
    "name": "ipython",
    "version": 3
   },
   "file_extension": ".py",
   "mimetype": "text/x-python",
   "name": "python",
   "nbconvert_exporter": "python",
   "pygments_lexer": "ipython3",
   "version": "3.10.8"
  }
 },
 "nbformat": 4,
 "nbformat_minor": 2
}
