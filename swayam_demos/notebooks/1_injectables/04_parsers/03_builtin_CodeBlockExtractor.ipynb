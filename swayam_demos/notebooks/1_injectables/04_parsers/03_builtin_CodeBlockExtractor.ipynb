{
 "cells": [
  {
   "cell_type": "code",
   "execution_count": 1,
   "metadata": {},
   "outputs": [],
   "source": [
    "from env import *\n",
    "from swayam import *"
   ]
  },
  {
   "cell_type": "markdown",
   "metadata": {},
   "source": [
    "### CodeBlockExtractor"
   ]
  },
  {
   "cell_type": "code",
   "execution_count": 2,
   "metadata": {},
   "outputs": [
    {
     "name": "stdout",
     "output_type": "stream",
     "text": [
      "[{'content': 'This is markdown content.', 'language': 'markdown'}]\n"
     ]
    }
   ],
   "source": [
    "text = \"\"\"\n",
    "This is a sample text with a markdown block:\n",
    "\n",
    "```\n",
    "This is markdown content.\n",
    "```\n",
    "\"\"\"\n",
    "\n",
    "code_blocks = Parser.CodeBlockExtractor(content=text)\n",
    "print(code_blocks)"
   ]
  },
  {
   "cell_type": "code",
   "execution_count": 3,
   "metadata": {},
   "outputs": [
    {
     "name": "stdout",
     "output_type": "stream",
     "text": [
      "[{'content': '[1,2,3]', 'language': 'json'}]\n"
     ]
    }
   ],
   "source": [
    "text = \"\"\"\n",
    "This is a sample text with a json block:\n",
    "\n",
    "```json\n",
    "[1,2,3]\n",
    "```\n",
    "\"\"\"\n",
    "\n",
    "code_blocks = Parser.CodeBlockExtractor(content=text)\n",
    "print(code_blocks)"
   ]
  },
  {
   "cell_type": "code",
   "execution_count": 4,
   "metadata": {},
   "outputs": [
    {
     "name": "stdout",
     "output_type": "stream",
     "text": [
      "[{'content': '[1,2,3]', 'language': 'json'}, {'content': '[1,2,3]', 'language': 'python'}, {'content': '[1,2,3]', 'language': 'markdown'}]\n"
     ]
    }
   ],
   "source": [
    "text = \"\"\"\n",
    "This is a sample text with multiple code blocks:\n",
    "\n",
    "```json\n",
    "[1,2,3]\n",
    "```\n",
    "\n",
    "```python\n",
    "[1,2,3]\n",
    "```\n",
    "\n",
    "```\n",
    "[1,2,3]\n",
    "```\n",
    "\n",
    "\"\"\"\n",
    "\n",
    "code_blocks = Parser.CodeBlockExtractor(content=text)\n",
    "print(code_blocks)"
   ]
  },
  {
   "cell_type": "code",
   "execution_count": 5,
   "metadata": {},
   "outputs": [
    {
     "name": "stdout",
     "output_type": "stream",
     "text": [
      "[{'content': '[1,2,3]', 'language': 'python'}]\n"
     ]
    }
   ],
   "source": [
    "text = \"\"\"\n",
    "This is a sample text with multiple code blocks:\n",
    "\n",
    "```json\n",
    "[1,2,3]\n",
    "```\n",
    "\n",
    "```python\n",
    "[1,2,3]\n",
    "```\n",
    "\n",
    "```\n",
    "[1,2,3]\n",
    "```\n",
    "\n",
    "\"\"\"\n",
    "\n",
    "code_blocks = Parser.CodeBlockExtractor(content=text, languages=[\"python\"])\n",
    "print(code_blocks)"
   ]
  },
  {
   "cell_type": "code",
   "execution_count": 6,
   "metadata": {},
   "outputs": [
    {
     "ename": "ParserNoMatchError",
     "evalue": "Parser >>CodeBlockExtractor<<: Parser did not find any match. No Code block was found in for languages ['python'] in the following content:\n>>\nThis is a sample text with no code block.\n<<.",
     "output_type": "error",
     "traceback": [
      "\u001b[0;31m---------------------------------------------------------------------------\u001b[0m",
      "\u001b[0;31mParserNoMatchError\u001b[0m                        Traceback (most recent call last)",
      "Cell \u001b[0;32mIn[6], line 5\u001b[0m\n\u001b[1;32m      1\u001b[0m text \u001b[38;5;241m=\u001b[39m \u001b[38;5;124m\"\"\"\u001b[39m\n\u001b[1;32m      2\u001b[0m \u001b[38;5;124mThis is a sample text with no code block.\u001b[39m\n\u001b[1;32m      3\u001b[0m \u001b[38;5;124m\"\"\"\u001b[39m\n\u001b[0;32m----> 5\u001b[0m code_blocks \u001b[38;5;241m=\u001b[39m \u001b[43mParser\u001b[49m\u001b[38;5;241;43m.\u001b[39;49m\u001b[43mCodeBlockExtractor\u001b[49m\u001b[43m(\u001b[49m\u001b[43mcontent\u001b[49m\u001b[38;5;241;43m=\u001b[39;49m\u001b[43mtext\u001b[49m\u001b[43m,\u001b[49m\u001b[43m \u001b[49m\u001b[43mlanguages\u001b[49m\u001b[38;5;241;43m=\u001b[39;49m\u001b[43m[\u001b[49m\u001b[38;5;124;43m\"\u001b[39;49m\u001b[38;5;124;43mpython\u001b[39;49m\u001b[38;5;124;43m\"\u001b[39;49m\u001b[43m]\u001b[49m\u001b[43m)\u001b[49m\n\u001b[1;32m      6\u001b[0m \u001b[38;5;28mprint\u001b[39m(code_blocks)\n",
      "File \u001b[0;32m~/Documents/GitHub/swayam/swayam/inject/parser/parser.py:70\u001b[0m, in \u001b[0;36mStructuredParser.__call__\u001b[0;34m(self, content, **kwargs)\u001b[0m\n\u001b[1;32m     67\u001b[0m kwargs[\u001b[38;5;124m\"\u001b[39m\u001b[38;5;124mparser\u001b[39m\u001b[38;5;124m\"\u001b[39m] \u001b[38;5;241m=\u001b[39m \u001b[38;5;28mself\u001b[39m\n\u001b[1;32m     69\u001b[0m \u001b[38;5;66;03m# Actual call\u001b[39;00m\n\u001b[0;32m---> 70\u001b[0m output \u001b[38;5;241m=\u001b[39m \u001b[38;5;28;43mself\u001b[39;49m\u001b[38;5;241;43m.\u001b[39;49m\u001b[43m__callable\u001b[49m\u001b[43m(\u001b[49m\u001b[38;5;241;43m*\u001b[39;49m\u001b[38;5;241;43m*\u001b[39;49m\u001b[43mkwargs\u001b[49m\u001b[43m)\u001b[49m\n\u001b[1;32m     72\u001b[0m \u001b[38;5;28;01mif\u001b[39;00m \u001b[38;5;28misinstance\u001b[39m(output, IOStructureObject):\n\u001b[1;32m     73\u001b[0m     output \u001b[38;5;241m=\u001b[39m output\u001b[38;5;241m.\u001b[39mas_dict()\n",
      "File \u001b[0;32m~/Documents/GitHub/swayam/swayam/inject/parser/builtin/injectable/CodeBlockExtractor.py:59\u001b[0m, in \u001b[0;36mextract_code_blocks\u001b[0;34m(parser, content, languages, strict)\u001b[0m\n\u001b[1;32m     57\u001b[0m \u001b[38;5;28;01mfrom\u001b[39;00m \u001b[38;5;21;01mswayam\u001b[39;00m\u001b[38;5;21;01m.\u001b[39;00m\u001b[38;5;21;01minject\u001b[39;00m\u001b[38;5;21;01m.\u001b[39;00m\u001b[38;5;21;01mparser\u001b[39;00m\u001b[38;5;21;01m.\u001b[39;00m\u001b[38;5;21;01merror\u001b[39;00m \u001b[38;5;28;01mimport\u001b[39;00m ParserNoMatchError\n\u001b[1;32m     58\u001b[0m \u001b[38;5;28;01mif\u001b[39;00m strict \u001b[38;5;129;01mand\u001b[39;00m \u001b[38;5;129;01mnot\u001b[39;00m extracted_content:\n\u001b[0;32m---> 59\u001b[0m     \u001b[38;5;28;01mraise\u001b[39;00m ParserNoMatchError(parser\u001b[38;5;241m.\u001b[39mname, \u001b[38;5;124mf\u001b[39m\u001b[38;5;124m\"\u001b[39m\u001b[38;5;124mNo Code block was found in for languages \u001b[39m\u001b[38;5;132;01m{\u001b[39;00mlanguages\u001b[38;5;132;01m}\u001b[39;00m\u001b[38;5;124m in the following content:\u001b[39m\u001b[38;5;130;01m\\n\u001b[39;00m\u001b[38;5;124m>>\u001b[39m\u001b[38;5;132;01m{\u001b[39;00mcontent\u001b[38;5;132;01m}\u001b[39;00m\u001b[38;5;124m<<.\u001b[39m\u001b[38;5;124m\"\u001b[39m)\n\u001b[1;32m     60\u001b[0m \u001b[38;5;28;01mreturn\u001b[39;00m extracted_content\n",
      "\u001b[0;31mParserNoMatchError\u001b[0m: Parser >>CodeBlockExtractor<<: Parser did not find any match. No Code block was found in for languages ['python'] in the following content:\n>>\nThis is a sample text with no code block.\n<<."
     ]
    }
   ],
   "source": [
    "text = \"\"\"\n",
    "This is a sample text with no code block.\n",
    "\"\"\"\n",
    "\n",
    "code_blocks = Parser.CodeBlockExtractor(content=text, languages=[\"python\"])\n",
    "print(code_blocks)"
   ]
  },
  {
   "cell_type": "code",
   "execution_count": null,
   "metadata": {},
   "outputs": [],
   "source": [
    "code_blocks = Parser.CodeBlockExtractor(content=text, languages=[\"python\"], strict=False)\n",
    "print(code_blocks)"
   ]
  }
 ],
 "metadata": {
  "kernelspec": {
   "display_name": "py3108",
   "language": "python",
   "name": "python3"
  },
  "language_info": {
   "codemirror_mode": {
    "name": "ipython",
    "version": 3
   },
   "file_extension": ".py",
   "mimetype": "text/x-python",
   "name": "python",
   "nbconvert_exporter": "python",
   "pygments_lexer": "ipython3",
   "version": "3.10.8"
  }
 },
 "nbformat": 4,
 "nbformat_minor": 2
}
