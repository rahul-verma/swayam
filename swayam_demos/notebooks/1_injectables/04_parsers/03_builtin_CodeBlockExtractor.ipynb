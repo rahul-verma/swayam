{
 "cells": [
  {
   "cell_type": "code",
   "execution_count": null,
   "metadata": {},
   "outputs": [],
   "source": [
    "from env import *\n",
    "from swayam import *"
   ]
  },
  {
   "cell_type": "markdown",
   "metadata": {},
   "source": [
    "### CodeBlockExtractor"
   ]
  },
  {
   "cell_type": "code",
   "execution_count": null,
   "metadata": {},
   "outputs": [],
   "source": [
    "text = \"\"\"\n",
    "This is a sample text with a markdown block:\n",
    "\n",
    "```\n",
    "This is markdown content.\n",
    "```\n",
    "\"\"\"\n",
    "\n",
    "code_blocks = Parser.CodeBlockExtractor(content=text)\n",
    "print(code_blocks)"
   ]
  },
  {
   "cell_type": "code",
   "execution_count": null,
   "metadata": {},
   "outputs": [],
   "source": [
    "text = \"\"\"\n",
    "This is a sample text with a json block:\n",
    "\n",
    "```json\n",
    "[1,2,3]\n",
    "```\n",
    "\"\"\"\n",
    "\n",
    "code_blocks = Parser.CodeBlockExtractor(content=text)\n",
    "print(code_blocks)"
   ]
  },
  {
   "cell_type": "code",
   "execution_count": null,
   "metadata": {},
   "outputs": [],
   "source": [
    "text = \"\"\"\n",
    "This is a sample text with multiple code blocks:\n",
    "\n",
    "```json\n",
    "[1,2,3]\n",
    "```\n",
    "\n",
    "```python\n",
    "[1,2,3]\n",
    "```\n",
    "\n",
    "```\n",
    "[1,2,3]\n",
    "```\n",
    "\n",
    "\"\"\"\n",
    "\n",
    "code_blocks = Parser.CodeBlockExtractor(content=text)\n",
    "print(code_blocks)"
   ]
  },
  {
   "cell_type": "code",
   "execution_count": null,
   "metadata": {},
   "outputs": [],
   "source": [
    "text = \"\"\"\n",
    "This is a sample text with multiple code blocks:\n",
    "\n",
    "```json\n",
    "[1,2,3]\n",
    "```\n",
    "\n",
    "```python\n",
    "[1,2,3]\n",
    "```\n",
    "\n",
    "```\n",
    "[1,2,3]\n",
    "```\n",
    "\n",
    "\"\"\"\n",
    "\n",
    "code_blocks = Parser.CodeBlockExtractor(content=text, languages=[\"python\"])\n",
    "print(code_blocks)"
   ]
  },
  {
   "cell_type": "code",
   "execution_count": null,
   "metadata": {},
   "outputs": [],
   "source": [
    "text = \"\"\"\n",
    "This is a sample text with no code block.\n",
    "\"\"\"\n",
    "\n",
    "code_blocks = Parser.CodeBlockExtractor(content=text, languages=[\"python\"])\n",
    "print(code_blocks)"
   ]
  },
  {
   "cell_type": "code",
   "execution_count": null,
   "metadata": {},
   "outputs": [],
   "source": [
    "code_blocks = Parser.CodeBlockExtractor(content=text, languages=[\"python\"], strict=False)\n",
    "print(code_blocks)"
   ]
  }
 ],
 "metadata": {
  "kernelspec": {
   "display_name": "py3108",
   "language": "python",
   "name": "python3"
  },
  "language_info": {
   "codemirror_mode": {
    "name": "ipython",
    "version": 3
   },
   "file_extension": ".py",
   "mimetype": "text/x-python",
   "name": "python",
   "nbconvert_exporter": "python",
   "pygments_lexer": "ipython3",
   "version": "3.10.8"
  }
 },
 "nbformat": 4,
 "nbformat_minor": 2
}
