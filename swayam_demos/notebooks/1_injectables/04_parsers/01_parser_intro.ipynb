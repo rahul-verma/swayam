{
 "cells": [
  {
   "cell_type": "code",
   "execution_count": null,
   "metadata": {},
   "outputs": [],
   "source": [
    "from env import *\n",
    "from swayam import *"
   ]
  },
  {
   "cell_type": "markdown",
   "metadata": {},
   "source": [
    "## Structured Parsers\n",
    "\n",
    "Swayam has the concept of Structured Parsers. These tools deal with input and output in the form of Swayam IOStructure objects.\n",
    "\n",
    "The context of using a Parser is using it with a Prompt object for parsing its content. The content itself can be plain text or an IOStructureObject of output structure is provided."
   ]
  },
  {
   "cell_type": "markdown",
   "metadata": {},
   "source": [
    "### A Text Content Parser"
   ]
  },
  {
   "cell_type": "code",
   "execution_count": null,
   "metadata": {},
   "outputs": [],
   "source": [
    "from typing import Union\n",
    "from pydantic import BaseModel, Field\n",
    "\n",
    "def find_value_of_test(*, invoker, content):\n",
    "    return Structure.NumericValue(value = float(content.split(\"=\")[1]))\n",
    "\n",
    "FindValueOfTest = Parser.text(\n",
    "    \"FindValueOfTest\", \n",
    "    callable=find_value_of_test, \n",
    "    output_structure=Structure.NumericValue\n",
    ")"
   ]
  },
  {
   "cell_type": "code",
   "execution_count": null,
   "metadata": {},
   "outputs": [],
   "source": [
    "FindValueOfTest(content=\"test=3\")"
   ]
  },
  {
   "cell_type": "code",
   "execution_count": null,
   "metadata": {},
   "outputs": [],
   "source": [
    "import json\n",
    "from json import JSONDecodeError\n",
    "from typing import Union\n",
    "from pydantic import BaseModel, Field\n",
    "\n",
    "def find_value_of_test(*, invoker, content):\n",
    "    number_string = content['value']\n",
    "    calc = float(number_string.split(\"=\")[1])\n",
    "    return Structure.NumericValue(value = calc)\n",
    "\n",
    "FindValueOfTest = Parser.json(\n",
    "    \"FindValueOfTest\", \n",
    "    callable=find_value_of_test,\n",
    "    input_structure=Structure.JsonContent,\n",
    "    output_structure=Structure.NumericValue\n",
    ")"
   ]
  },
  {
   "cell_type": "code",
   "execution_count": null,
   "metadata": {},
   "outputs": [],
   "source": [
    "FindValueOfTest(content={\"value\": \"test=5\"})"
   ]
  },
  {
   "cell_type": "code",
   "execution_count": null,
   "metadata": {},
   "outputs": [],
   "source": [
    "from pydantic import BaseModel, Field\n",
    "\n",
    "class DummyModel(BaseModel):\n",
    "    value: str = Field(..., title=\"Value\")\n",
    "\n",
    "Dummy = Structure.build(\"Dummy\", DummyModel)\n",
    "    \n",
    "\n",
    "FindValueOfTest = Parser.json(\n",
    "    \"FindValueOfTest\", \n",
    "    callable=find_value_of_test,\n",
    "    input_structure=Structure.JsonContent,\n",
    "    content_structure=Dummy,\n",
    "    output_structure=Structure.NumericValue\n",
    ")"
   ]
  },
  {
   "cell_type": "code",
   "execution_count": null,
   "metadata": {},
   "outputs": [],
   "source": [
    "FindValueOfTest(content={\"value\": \"test=5\"})"
   ]
  }
 ],
 "metadata": {
  "kernelspec": {
   "display_name": "py3108",
   "language": "python",
   "name": "python3"
  },
  "language_info": {
   "codemirror_mode": {
    "name": "ipython",
    "version": 3
   },
   "file_extension": ".py",
   "mimetype": "text/x-python",
   "name": "python",
   "nbconvert_exporter": "python",
   "pygments_lexer": "ipython3",
   "version": "3.10.8"
  }
 },
 "nbformat": 4,
 "nbformat_minor": 2
}
