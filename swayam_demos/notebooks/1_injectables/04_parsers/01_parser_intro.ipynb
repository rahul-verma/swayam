{
 "cells": [
  {
   "cell_type": "code",
   "execution_count": null,
   "metadata": {},
   "outputs": [],
   "source": [
    "from env import *\n",
    "from swayam import *"
   ]
  },
  {
   "cell_type": "markdown",
   "metadata": {},
   "source": [
    "## Structured Parsers\n",
    "\n",
    "Swayam has the concept of Structured Parsers. These tools deal with input and output in the form of Swayam IOStructure objects.\n",
    "\n",
    "The context of using a Parser is using it with a Prompt object for parsing its content. The content itself can be plain text or an IOStructureObject of output structure is provided."
   ]
  },
  {
   "cell_type": "markdown",
   "metadata": {},
   "source": [
    "### A Text Content Parser"
   ]
  },
  {
   "cell_type": "code",
   "execution_count": null,
   "metadata": {},
   "outputs": [],
   "source": [
    "from typing import Union\n",
    "from pydantic import BaseModel, Field\n",
    "\n",
    "def find_value_of_test(*, content):\n",
    "    return Structure.NumericOutput(output = float(content.split(\"=\")[1]))\n",
    "\n",
    "FindValueOfTest = Parser.text(\n",
    "    \"FindValueOfTest\", \n",
    "    callable=find_value_of_test, \n",
    "    output_structure=Structure.NumericOutput\n",
    ")"
   ]
  },
  {
   "cell_type": "code",
   "execution_count": null,
   "metadata": {},
   "outputs": [],
   "source": [
    "FindValueOfTest(content=\"test=3\")"
   ]
  },
  {
   "cell_type": "code",
   "execution_count": null,
   "metadata": {},
   "outputs": [],
   "source": [
    "import json\n",
    "from json import JSONDecodeError\n",
    "from typing import Union\n",
    "from pydantic import BaseModel, Field\n",
    "\n",
    "def find_value_of_test(*, content):\n",
    "    number_string = content['output']\n",
    "    calc = float(number_string.split(\"=\")[1])\n",
    "    return Structure.NumericOutput(output = calc)\n",
    "\n",
    "FindValueOfTest = Parser.json(\n",
    "    \"FindValueOfTest\", \n",
    "    callable=find_value_of_test, \n",
    "    content_structure=Structure.StringOutput,\n",
    "    output_structure=Structure.NumericOutput\n",
    ")"
   ]
  },
  {
   "cell_type": "code",
   "execution_count": null,
   "metadata": {},
   "outputs": [],
   "source": [
    "FindValueOfTest(content='{\"output\": \"test=5\"}')"
   ]
  }
 ],
 "metadata": {
  "kernelspec": {
   "display_name": "py3108",
   "language": "python",
   "name": "python3"
  },
  "language_info": {
   "codemirror_mode": {
    "name": "ipython",
    "version": 3
   },
   "file_extension": ".py",
   "mimetype": "text/x-python",
   "name": "python",
   "nbconvert_exporter": "python",
   "pygments_lexer": "ipython3",
   "version": "3.10.8"
  }
 },
 "nbformat": 4,
 "nbformat_minor": 2
}
