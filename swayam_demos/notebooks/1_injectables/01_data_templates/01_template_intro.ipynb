{
 "cells": [
  {
   "cell_type": "code",
   "execution_count": 1,
   "metadata": {},
   "outputs": [],
   "source": [
    "from env import *\n",
    "from swayam import *"
   ]
  },
  {
   "cell_type": "markdown",
   "metadata": {},
   "source": [
    "## I/O Structures\n",
    "\n",
    "The I/O structures are across Swayam to impose rules on data exchange as a dictionary with prescribed format.\n",
    "\n",
    "Tip: The names of attributes should be kept deliberately verbose especially when these are used in formatting definition files (e.g. generators), response format communication to LLM, Tool Calling. "
   ]
  },
  {
   "cell_type": "markdown",
   "metadata": {},
   "source": [
    "You can refer the project structure of swayam_demos to know more about it. "
   ]
  },
  {
   "cell_type": "markdown",
   "metadata": {},
   "source": [
    "### A Simple Example\n",
    "\n",
    "Here we are making basic use of pydantic to create a Data Model and using it to create an DataTemplate using **Template.build** method.\n",
    "\n",
    "Note that the build call returns a tuple of 2 objects: An Atomic Structure and A Composite Structure (List of Items with the generated Structure)."
   ]
  },
  {
   "cell_type": "code",
   "execution_count": 2,
   "metadata": {},
   "outputs": [],
   "source": [
    "from pydantic import BaseModel, Field\n",
    "\n",
    "class TripDataModel(BaseModel):\n",
    "    city: str = Field(..., title=\"City\", description=\"City to visit\")\n",
    "    month: str = Field(..., title=\"Month\", description=\"Month to visit\")\n",
    "    thought: str = Field(default=\"Tourism\", title=\"Thought\", description=\"Thought to complete\")\n",
    "    \n",
    "TripData = Template.build(\"TripData\", model=TripDataModel)"
   ]
  },
  {
   "cell_type": "markdown",
   "metadata": {},
   "source": [
    "You can get the definition of the this structure using the **definition** property."
   ]
  },
  {
   "cell_type": "code",
   "execution_count": 3,
   "metadata": {},
   "outputs": [
    {
     "data": {
      "text/plain": [
       "{'properties': {'city': {'description': 'City to visit', 'type': 'string'},\n",
       "  'month': {'description': 'Month to visit', 'type': 'string'},\n",
       "  'thought': {'default': 'Tourism',\n",
       "   'description': 'Thought to complete',\n",
       "   'type': 'string'}},\n",
       " 'required': ['city', 'month'],\n",
       " 'title': 'TripDataModel',\n",
       " 'type': 'object'}"
      ]
     },
     "execution_count": 3,
     "metadata": {},
     "output_type": "execute_result"
    }
   ],
   "source": [
    "TripData.definition"
   ]
  },
  {
   "cell_type": "markdown",
   "metadata": {},
   "source": [
    "To create an object as per this structure, always use keyword arguments."
   ]
  },
  {
   "cell_type": "code",
   "execution_count": 4,
   "metadata": {},
   "outputs": [],
   "source": [
    "trip_data = TripData(city=\"Berlin\", month=\"July\", thought=\"Visa\")"
   ]
  },
  {
   "cell_type": "markdown",
   "metadata": {},
   "source": [
    "To get the data contained in the Data, you can use its **as_dict** method."
   ]
  },
  {
   "cell_type": "code",
   "execution_count": 5,
   "metadata": {},
   "outputs": [
    {
     "data": {
      "text/plain": [
       "{'city': 'Berlin', 'month': 'July', 'thought': 'Visa'}"
      ]
     },
     "execution_count": 5,
     "metadata": {},
     "output_type": "execute_result"
    }
   ],
   "source": [
    "trip_data.as_dict()"
   ]
  },
  {
   "cell_type": "markdown",
   "metadata": {},
   "source": [
    "### Error Situations"
   ]
  },
  {
   "cell_type": "code",
   "execution_count": 6,
   "metadata": {},
   "outputs": [
    {
     "ename": "StructureValidationError",
     "evalue": "Structure >>TripData<<: Invalid input data for creating structure. Expected: {'properties': {'city': {'description': 'City to visit', 'type': 'string'}, 'month': {'description': 'Month to visit', 'type': 'string'}, 'thought': {'default': 'Tourism', 'description': 'Thought to complete', 'type': 'string'}}, 'required': ['city', 'month'], 'title': 'TripDataModel', 'type': 'object'}. Provided input: {'city': 'Berlin'}. Error: 1 validation error for TripDataModel\nmonth\n  Field required [type=missing, input_value={'city': 'Berlin'}, input_type=dict]\n    For further information visit https://errors.pydantic.dev/2.8/v/missing",
     "output_type": "error",
     "traceback": [
      "\u001b[0;31m---------------------------------------------------------------------------\u001b[0m",
      "\u001b[0;31mValidationError\u001b[0m                           Traceback (most recent call last)",
      "File \u001b[0;32m~/Documents/GitHub/swayam/swayam/inject/structure/structure.py:88\u001b[0m, in \u001b[0;36mIOTemplate.__call__\u001b[0;34m(self, **fields)\u001b[0m\n\u001b[1;32m     87\u001b[0m \u001b[38;5;28;01mtry\u001b[39;00m:\n\u001b[0;32m---> 88\u001b[0m     data_object \u001b[38;5;241m=\u001b[39m \u001b[38;5;28;43mself\u001b[39;49m\u001b[38;5;241;43m.\u001b[39;49m\u001b[43m__model\u001b[49m\u001b[43m(\u001b[49m\u001b[38;5;241;43m*\u001b[39;49m\u001b[38;5;241;43m*\u001b[39;49m\u001b[43mfields\u001b[49m\u001b[43m)\u001b[49m\n\u001b[1;32m     89\u001b[0m     \u001b[38;5;28;01mreturn\u001b[39;00m Data(\u001b[38;5;28mself\u001b[39m, data_object)\n",
      "File \u001b[0;32m~/Documents/lab/pyvenv/py3108/lib/python3.10/site-packages/pydantic/main.py:193\u001b[0m, in \u001b[0;36mBaseModel.__init__\u001b[0;34m(self, **data)\u001b[0m\n\u001b[1;32m    192\u001b[0m __tracebackhide__ \u001b[38;5;241m=\u001b[39m \u001b[38;5;28;01mTrue\u001b[39;00m\n\u001b[0;32m--> 193\u001b[0m \u001b[38;5;28;43mself\u001b[39;49m\u001b[38;5;241;43m.\u001b[39;49m\u001b[43m__pydantic_validator__\u001b[49m\u001b[38;5;241;43m.\u001b[39;49m\u001b[43mvalidate_python\u001b[49m\u001b[43m(\u001b[49m\u001b[43mdata\u001b[49m\u001b[43m,\u001b[49m\u001b[43m \u001b[49m\u001b[43mself_instance\u001b[49m\u001b[38;5;241;43m=\u001b[39;49m\u001b[38;5;28;43mself\u001b[39;49m\u001b[43m)\u001b[49m\n",
      "\u001b[0;31mValidationError\u001b[0m: 1 validation error for TripDataModel\nmonth\n  Field required [type=missing, input_value={'city': 'Berlin'}, input_type=dict]\n    For further information visit https://errors.pydantic.dev/2.8/v/missing",
      "\nDuring handling of the above exception, another exception occurred:\n",
      "\u001b[0;31mStructureValidationError\u001b[0m                  Traceback (most recent call last)",
      "Cell \u001b[0;32mIn[6], line 2\u001b[0m\n\u001b[1;32m      1\u001b[0m \u001b[38;5;66;03m## Missing mandatory key\u001b[39;00m\n\u001b[0;32m----> 2\u001b[0m trip_data \u001b[38;5;241m=\u001b[39m \u001b[43mTripData\u001b[49m\u001b[43m(\u001b[49m\u001b[43mcity\u001b[49m\u001b[38;5;241;43m=\u001b[39;49m\u001b[38;5;124;43m\"\u001b[39;49m\u001b[38;5;124;43mBerlin\u001b[39;49m\u001b[38;5;124;43m\"\u001b[39;49m\u001b[43m)\u001b[49m\n",
      "File \u001b[0;32m~/Documents/GitHub/swayam/swayam/inject/structure/structure.py:91\u001b[0m, in \u001b[0;36mIOTemplate.__call__\u001b[0;34m(self, **fields)\u001b[0m\n\u001b[1;32m     89\u001b[0m     \u001b[38;5;28;01mreturn\u001b[39;00m Data(\u001b[38;5;28mself\u001b[39m, data_object)\n\u001b[1;32m     90\u001b[0m \u001b[38;5;28;01mexcept\u001b[39;00m ValidationError \u001b[38;5;28;01mas\u001b[39;00m e:\n\u001b[0;32m---> 91\u001b[0m     \u001b[38;5;28;01mraise\u001b[39;00m StructureValidationError(\n\u001b[1;32m     92\u001b[0m         \u001b[38;5;28mself\u001b[39m, \n\u001b[1;32m     93\u001b[0m         provided_input\u001b[38;5;241m=\u001b[39mfields, \n\u001b[1;32m     94\u001b[0m         error\u001b[38;5;241m=\u001b[39me\n\u001b[1;32m     95\u001b[0m     )\n",
      "\u001b[0;31mStructureValidationError\u001b[0m: Structure >>TripData<<: Invalid input data for creating structure. Expected: {'properties': {'city': {'description': 'City to visit', 'type': 'string'}, 'month': {'description': 'Month to visit', 'type': 'string'}, 'thought': {'default': 'Tourism', 'description': 'Thought to complete', 'type': 'string'}}, 'required': ['city', 'month'], 'title': 'TripDataModel', 'type': 'object'}. Provided input: {'city': 'Berlin'}. Error: 1 validation error for TripDataModel\nmonth\n  Field required [type=missing, input_value={'city': 'Berlin'}, input_type=dict]\n    For further information visit https://errors.pydantic.dev/2.8/v/missing"
     ]
    }
   ],
   "source": [
    "## Missing mandatory key\n",
    "trip_data = TripData(city=\"Berlin\")"
   ]
  }
 ],
 "metadata": {
  "kernelspec": {
   "display_name": "py3108",
   "language": "python",
   "name": "python3"
  },
  "language_info": {
   "codemirror_mode": {
    "name": "ipython",
    "version": 3
   },
   "file_extension": ".py",
   "mimetype": "text/x-python",
   "name": "python",
   "nbconvert_exporter": "python",
   "pygments_lexer": "ipython3",
   "version": "3.10.8"
  }
 },
 "nbformat": 4,
 "nbformat_minor": 2
}
