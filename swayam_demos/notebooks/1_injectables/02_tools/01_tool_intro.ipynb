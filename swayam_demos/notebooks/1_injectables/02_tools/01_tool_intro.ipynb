{
 "cells": [
  {
   "cell_type": "code",
   "execution_count": 1,
   "metadata": {},
   "outputs": [],
   "source": [
    "from env import *\n",
    "from swayam import *"
   ]
  },
  {
   "cell_type": "markdown",
   "metadata": {},
   "source": [
    "## Structured Tools\n",
    "\n",
    "Swayam has the concept of Structured Tools. These tools deal with input and output in the form of Swayam DataTemplate objects.\n",
    "\n",
    "The output from a Tool is in the form of a ToolResponse object, whose content attribute contains either a single Data or a list of such objects (of same type)."
   ]
  },
  {
   "cell_type": "markdown",
   "metadata": {},
   "source": [
    "### A Simple Example\n",
    "\n",
    "Let's start by defining a function **calculate** which takes a string expression and returns the calculation as an int or a float.\n",
    "\n",
    "You need 3 things:\n",
    "1. The input DataTemplate\n",
    "2. The output DataTemplate\n",
    "3. The function"
   ]
  },
  {
   "cell_type": "code",
   "execution_count": 2,
   "metadata": {},
   "outputs": [],
   "source": [
    "from typing import Union\n",
    "from pydantic import BaseModel, Field\n",
    "\n",
    "class ExpressionModel(BaseModel):\n",
    "    calculation_expression:str = Field(..., title=\"Expression\", description=\"The expression to be evaluated\")\n",
    "    \n",
    "class NumericResultModel(BaseModel):\n",
    "    result:Union[int,float] = Field(..., title=\"Number\", description=\"A  numeric result (int or float)\")\n",
    "    \n",
    "Expression = Template.build(\"Expression\", model=ExpressionModel)\n",
    "NumericResult = Template.build(\"NumericResult\", model=NumericResultModel)"
   ]
  },
  {
   "cell_type": "code",
   "execution_count": 3,
   "metadata": {},
   "outputs": [],
   "source": [
    "def calculate(*, invoker, calculation_expression:str):\n",
    "    return NumericResult(result=eval(calculation_expression))"
   ]
  },
  {
   "cell_type": "code",
   "execution_count": 4,
   "metadata": {},
   "outputs": [
    {
     "data": {
      "text/plain": [
       "<swayam.inject.template.template.Data at 0x10b245210>"
      ]
     },
     "execution_count": 4,
     "metadata": {},
     "output_type": "execute_result"
    }
   ],
   "source": [
    "calculate(invoker=None, calculation_expression=\"2+2\")"
   ]
  },
  {
   "cell_type": "markdown",
   "metadata": {},
   "source": [
    "Now, let's create the tool."
   ]
  },
  {
   "cell_type": "code",
   "execution_count": 5,
   "metadata": {},
   "outputs": [],
   "source": [
    "Calculator = Tool.build(\"Calculator\", \n",
    "                        description=\"A simple calculator tool\",\n",
    "                        callable=calculate,\n",
    "                        in_template=Expression,\n",
    "                        out_template=NumericResult\n",
    ")"
   ]
  },
  {
   "cell_type": "markdown",
   "metadata": {},
   "source": [
    "#### Check Tool Definition\n",
    "\n",
    "Just like a structure, you can get the definition of a StructureTool using the **definition**."
   ]
  },
  {
   "cell_type": "code",
   "execution_count": 6,
   "metadata": {},
   "outputs": [
    {
     "data": {
      "text/plain": [
       "{'type': 'function',\n",
       " 'function': {'name': 'Calculator',\n",
       "  'description': 'A simple calculator tool',\n",
       "  'parameters': {'properties': {'calculation_expression': {'description': 'The expression to be evaluated',\n",
       "     'type': 'string'}},\n",
       "   'required': ['calculation_expression'],\n",
       "   'title': 'ExpressionModel',\n",
       "   'type': 'object'}}}"
      ]
     },
     "execution_count": 6,
     "metadata": {},
     "output_type": "execute_result"
    }
   ],
   "source": [
    "Calculator.definition"
   ]
  },
  {
   "cell_type": "code",
   "execution_count": 7,
   "metadata": {},
   "outputs": [
    {
     "ename": "TypeError",
     "evalue": "StructuredInjectableWithCallable.__call__() missing 1 required keyword-only argument: 'phase'",
     "output_type": "error",
     "traceback": [
      "\u001b[0;31m---------------------------------------------------------------------------\u001b[0m",
      "\u001b[0;31mTypeError\u001b[0m                                 Traceback (most recent call last)",
      "Cell \u001b[0;32mIn[7], line 1\u001b[0m\n\u001b[0;32m----> 1\u001b[0m result_dict \u001b[38;5;241m=\u001b[39m \u001b[43mCalculator\u001b[49m\u001b[43m(\u001b[49m\u001b[43mcalculation_expression\u001b[49m\u001b[38;5;241;43m=\u001b[39;49m\u001b[38;5;124;43m\"\u001b[39;49m\u001b[38;5;124;43m2+2\u001b[39;49m\u001b[38;5;124;43m\"\u001b[39;49m\u001b[43m)\u001b[49m\n",
      "\u001b[0;31mTypeError\u001b[0m: StructuredInjectableWithCallable.__call__() missing 1 required keyword-only argument: 'phase'"
     ]
    }
   ],
   "source": [
    "result_dict = Calculator(calculation_expression=\"2+2\")"
   ]
  },
  {
   "cell_type": "code",
   "execution_count": null,
   "metadata": {},
   "outputs": [
    {
     "data": {
      "text/plain": [
       "{'result': 4}"
      ]
     },
     "execution_count": 8,
     "metadata": {},
     "output_type": "execute_result"
    }
   ],
   "source": [
    "result_dict"
   ]
  },
  {
   "cell_type": "markdown",
   "metadata": {},
   "source": []
  }
 ],
 "metadata": {
  "kernelspec": {
   "display_name": "py3108",
   "language": "python",
   "name": "python3"
  },
  "language_info": {
   "codemirror_mode": {
    "name": "ipython",
    "version": 3
   },
   "file_extension": ".py",
   "mimetype": "text/x-python",
   "name": "python",
   "nbconvert_exporter": "python",
   "pygments_lexer": "ipython3",
   "version": "3.10.8"
  }
 },
 "nbformat": 4,
 "nbformat_minor": 2
}
