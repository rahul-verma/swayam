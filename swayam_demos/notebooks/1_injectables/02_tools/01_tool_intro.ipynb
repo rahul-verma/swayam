{
 "cells": [
  {
   "cell_type": "code",
   "execution_count": 1,
   "metadata": {},
   "outputs": [
    {
     "name": "stdout",
     "output_type": "stream",
     "text": [
      "Caller module file: /var/folders/ft/_2znf0px48x3yg9r75kk40_c0000gn/T/ipykernel_59652/4120446312.py\n"
     ]
    },
    {
     "ename": "InjectableNotFoundError",
     "evalue": "Structure >>what<<: Neither defined in the project, nor defined by Swayam. Further Info: The >>Structure.what<< call originated from the file /var/folders/ft/_2znf0px48x3yg9r75kk40_c0000gn/T/ipykernel_59652/4120446312.py..",
     "output_type": "error",
     "traceback": [
      "\u001b[0;31m---------------------------------------------------------------------------\u001b[0m",
      "\u001b[0;31mInjectableNotFoundError\u001b[0m                   Traceback (most recent call last)",
      "File \u001b[0;32m~/Documents/GitHub/swayam/swayam/inject/structure/meta.py:36\u001b[0m, in \u001b[0;36mStructureMeta.__getattr__\u001b[0;34m(cls, name)\u001b[0m\n\u001b[1;32m     35\u001b[0m \u001b[38;5;28;01mtry\u001b[39;00m:\n\u001b[0;32m---> 36\u001b[0m     \u001b[38;5;28;01mreturn\u001b[39;00m \u001b[43mInjectable\u001b[49m\u001b[38;5;241;43m.\u001b[39;49m\u001b[43mload_module\u001b[49m\u001b[43m(\u001b[49m\u001b[38;5;124;43m\"\u001b[39;49m\u001b[38;5;124;43mStructure\u001b[39;49m\u001b[38;5;124;43m\"\u001b[39;49m\u001b[43m,\u001b[49m\u001b[43m \u001b[49m\u001b[43mname\u001b[49m\u001b[43m)\u001b[49m\n\u001b[1;32m     37\u001b[0m \u001b[38;5;28;01mexcept\u001b[39;00m InjectableNotFoundError \u001b[38;5;28;01mas\u001b[39;00m e:\n",
      "File \u001b[0;32m~/Documents/GitHub/swayam/swayam/inject/__init__.py:53\u001b[0m, in \u001b[0;36mInjectable.load_module\u001b[0;34m(cls, type, name)\u001b[0m\n\u001b[1;32m     51\u001b[0m     \u001b[38;5;28;01mpass\u001b[39;00m\n\u001b[0;32m---> 53\u001b[0m \u001b[38;5;28;01mraise\u001b[39;00m InjectableNotFoundError(\n\u001b[1;32m     54\u001b[0m     \u001b[38;5;28mcls\u001b[39m\u001b[38;5;241m.\u001b[39mcreate_metadata_object(\u001b[38;5;28mtype\u001b[39m\u001b[38;5;241m=\u001b[39m\u001b[38;5;28mtype\u001b[39m, name\u001b[38;5;241m=\u001b[39mname))\n",
      "\u001b[0;31mInjectableNotFoundError\u001b[0m: Structure >>what<<: Neither defined in the project, nor defined by Swayam. ",
      "\nDuring handling of the above exception, another exception occurred:\n",
      "\u001b[0;31mInjectableNotFoundError\u001b[0m                   Traceback (most recent call last)",
      "Cell \u001b[0;32mIn[1], line 3\u001b[0m\n\u001b[1;32m      1\u001b[0m \u001b[38;5;28;01mfrom\u001b[39;00m \u001b[38;5;21;01menv\u001b[39;00m \u001b[38;5;28;01mimport\u001b[39;00m \u001b[38;5;241m*\u001b[39m\n\u001b[1;32m      2\u001b[0m \u001b[38;5;28;01mfrom\u001b[39;00m \u001b[38;5;21;01mswayam\u001b[39;00m \u001b[38;5;28;01mimport\u001b[39;00m \u001b[38;5;241m*\u001b[39m\n\u001b[0;32m----> 3\u001b[0m \u001b[43mStructure\u001b[49m\u001b[38;5;241;43m.\u001b[39;49m\u001b[43mwhat\u001b[49m\n",
      "File \u001b[0;32m~/Documents/GitHub/swayam/swayam/inject/structure/meta.py:40\u001b[0m, in \u001b[0;36mStructureMeta.__getattr__\u001b[0;34m(cls, name)\u001b[0m\n\u001b[1;32m     37\u001b[0m \u001b[38;5;28;01mexcept\u001b[39;00m InjectableNotFoundError \u001b[38;5;28;01mas\u001b[39;00m e:\n\u001b[1;32m     38\u001b[0m     injectable_meta_data \u001b[38;5;241m=\u001b[39m Injectable\u001b[38;5;241m.\u001b[39mcreate_metadata_object(\n\u001b[1;32m     39\u001b[0m         \u001b[38;5;28mtype\u001b[39m\u001b[38;5;241m=\u001b[39me\u001b[38;5;241m.\u001b[39minjectable_type, name\u001b[38;5;241m=\u001b[39me\u001b[38;5;241m.\u001b[39minjectable_name)\n\u001b[0;32m---> 40\u001b[0m     \u001b[38;5;28;01mraise\u001b[39;00m InjectableNotFoundError(injectable_meta_data, error\u001b[38;5;241m=\u001b[39m\u001b[38;5;124mf\u001b[39m\u001b[38;5;124m\"\u001b[39m\u001b[38;5;124mThe >>Structure.\u001b[39m\u001b[38;5;132;01m{\u001b[39;00mname\u001b[38;5;132;01m}\u001b[39;00m\u001b[38;5;124m<< call originated from the file \u001b[39m\u001b[38;5;132;01m{\u001b[39;00mcaller_file\u001b[38;5;132;01m}\u001b[39;00m\u001b[38;5;124m.\u001b[39m\u001b[38;5;124m\"\u001b[39m)\n",
      "\u001b[0;31mInjectableNotFoundError\u001b[0m: Structure >>what<<: Neither defined in the project, nor defined by Swayam. Further Info: The >>Structure.what<< call originated from the file /var/folders/ft/_2znf0px48x3yg9r75kk40_c0000gn/T/ipykernel_59652/4120446312.py.."
     ]
    }
   ],
   "source": [
    "from env import *\n",
    "from swayam import *\n",
    "Structure.what"
   ]
  },
  {
   "cell_type": "markdown",
   "metadata": {},
   "source": [
    "## Structured Tools\n",
    "\n",
    "Swayam has the concept of Structured Tools. These tools deal with input and output in the form of Swayam IOStructure objects.\n",
    "\n",
    "The output from a Tool is in the form of a ToolResponse object, whose content attribute contains either a single IOStructureObject or a list of such objects (of same type)."
   ]
  },
  {
   "cell_type": "markdown",
   "metadata": {},
   "source": [
    "### A Simple Example\n",
    "\n",
    "Let's start by defining a function **calculate** which takes a string expression and returns the calculation as an int or a float.\n",
    "\n",
    "You need 3 things:\n",
    "1. The input IOStructure\n",
    "2. The output IOStructure\n",
    "3. The function"
   ]
  },
  {
   "cell_type": "code",
   "execution_count": null,
   "metadata": {},
   "outputs": [],
   "source": [
    "from typing import Union\n",
    "from pydantic import BaseModel, Field\n",
    "\n",
    "class ExpressionModel(BaseModel):\n",
    "    calculation_expression:str = Field(..., title=\"Expression\", description=\"The expression to be evaluated\")\n",
    "    \n",
    "class NumericResultModel(BaseModel):\n",
    "    result:Union[int,float] = Field(..., title=\"Number\", description=\"A  numeric result (int or float)\")\n",
    "    \n",
    "Expression = Structure.build(\"Expression\", model=ExpressionModel)\n",
    "NumericResult = Structure.build(\"NumericResult\", model=NumericResultModel)"
   ]
  },
  {
   "cell_type": "code",
   "execution_count": null,
   "metadata": {},
   "outputs": [],
   "source": [
    "def calculate(*, caller, calculation_expression:str):\n",
    "    return NumericResult(result=eval(calculation_expression))"
   ]
  },
  {
   "cell_type": "code",
   "execution_count": null,
   "metadata": {},
   "outputs": [],
   "source": [
    "calculate(caller=None, calculation_expression=\"2+2\")"
   ]
  },
  {
   "cell_type": "markdown",
   "metadata": {},
   "source": [
    "Now, let's create the tool."
   ]
  },
  {
   "cell_type": "code",
   "execution_count": null,
   "metadata": {},
   "outputs": [],
   "source": [
    "Calculator = Tool.build(\"Calculator\", \n",
    "                        description=\"A simple calculator tool\",\n",
    "                        callable=calculate,\n",
    "                        input_structure=Expression,\n",
    "                        output_structure=NumericResult\n",
    ")"
   ]
  },
  {
   "cell_type": "markdown",
   "metadata": {},
   "source": [
    "#### Check Tool Definition\n",
    "\n",
    "Just like a structure, you can get the definition of a StructureTool using the **definition**."
   ]
  },
  {
   "cell_type": "code",
   "execution_count": null,
   "metadata": {},
   "outputs": [],
   "source": [
    "Calculator.definition"
   ]
  },
  {
   "cell_type": "code",
   "execution_count": null,
   "metadata": {},
   "outputs": [],
   "source": [
    "result_dict = Calculator(calculation_expression=\"2+2\")"
   ]
  },
  {
   "cell_type": "code",
   "execution_count": null,
   "metadata": {},
   "outputs": [],
   "source": [
    "result_dict"
   ]
  },
  {
   "cell_type": "markdown",
   "metadata": {},
   "source": []
  }
 ],
 "metadata": {
  "kernelspec": {
   "display_name": "py3108",
   "language": "python",
   "name": "python3"
  },
  "language_info": {
   "codemirror_mode": {
    "name": "ipython",
    "version": 3
   },
   "file_extension": ".py",
   "mimetype": "text/x-python",
   "name": "python",
   "nbconvert_exporter": "python",
   "pygments_lexer": "ipython3",
   "version": "3.10.8"
  }
 },
 "nbformat": 4,
 "nbformat_minor": 2
}
