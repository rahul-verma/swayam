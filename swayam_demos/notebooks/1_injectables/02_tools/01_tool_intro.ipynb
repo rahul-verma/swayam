{
 "cells": [
  {
   "cell_type": "code",
   "execution_count": null,
   "metadata": {},
   "outputs": [],
   "source": [
    "from env import *\n",
    "from swayam import *"
   ]
  },
  {
   "cell_type": "markdown",
   "metadata": {},
   "source": [
    "## Structured Tools\n",
    "\n",
    "Swayam has the concept of Structured Tools. These tools deal with input and output in the form of Swayam IOStructure objects.\n",
    "\n",
    "The output from a Tool is in the form of a ToolResponse object, whose content attribute contains either a single IOStructureObject or a list of such objects (of same type)."
   ]
  },
  {
   "cell_type": "markdown",
   "metadata": {},
   "source": [
    "### A Simple Example\n",
    "\n",
    "Let's start by defining a function **calculate** which takes a string expression and returns the calculation as an int or a float.\n",
    "\n",
    "You need 3 things:\n",
    "1. The input IOStructure\n",
    "2. The output IOStructure\n",
    "3. The function"
   ]
  },
  {
   "cell_type": "code",
   "execution_count": null,
   "metadata": {},
   "outputs": [],
   "source": [
    "from typing import Union\n",
    "from pydantic import BaseModel, Field\n",
    "\n",
    "class ExpressionModel(BaseModel):\n",
    "    calculation_expression:str = Field(..., title=\"Expression\", description=\"The expression to be evaluated\")\n",
    "    \n",
    "class NumericResultModel(BaseModel):\n",
    "    result:Union[int,float] = Field(..., title=\"Number\", description=\"A  numeric result (int or float)\")\n",
    "    \n",
    "Expression = Structure.build(\"Expression\", model=ExpressionModel)\n",
    "NumericResult = Structure.build(\"NumericResult\", model=NumericResultModel)"
   ]
  },
  {
   "cell_type": "code",
   "execution_count": null,
   "metadata": {},
   "outputs": [],
   "source": [
    "def calculate(*, calculation_expression:str):\n",
    "    return NumericResult(result=eval(calculation_expression))"
   ]
  },
  {
   "cell_type": "code",
   "execution_count": null,
   "metadata": {},
   "outputs": [],
   "source": [
    "calculate(calculation_expression=\"2+2\")"
   ]
  },
  {
   "cell_type": "markdown",
   "metadata": {},
   "source": [
    "Now, let's create the tool."
   ]
  },
  {
   "cell_type": "code",
   "execution_count": null,
   "metadata": {},
   "outputs": [],
   "source": [
    "Calculator = Tool.build(\"Calculator\", \n",
    "                        description=\"A simple calculator tool\",\n",
    "                        target=calculate,\n",
    "                        input_structure=Expression,\n",
    "                        output_structure=NumericResult,\n",
    "                        atomic=True) # Does it return a single object or a list of objects"
   ]
  },
  {
   "cell_type": "markdown",
   "metadata": {},
   "source": [
    "#### Check Tool Definition\n",
    "\n",
    "Just like a structure, you can get the definition of a StructureTool using the **definition**."
   ]
  },
  {
   "cell_type": "code",
   "execution_count": null,
   "metadata": {},
   "outputs": [],
   "source": [
    "Calculator.definition"
   ]
  },
  {
   "cell_type": "code",
   "execution_count": null,
   "metadata": {},
   "outputs": [],
   "source": [
    "result_dict = Calculator(calculation_expression=\"2+2\")"
   ]
  },
  {
   "cell_type": "code",
   "execution_count": null,
   "metadata": {},
   "outputs": [],
   "source": [
    "result_dict.content"
   ]
  },
  {
   "cell_type": "markdown",
   "metadata": {},
   "source": []
  }
 ],
 "metadata": {
  "kernelspec": {
   "display_name": "py3108",
   "language": "python",
   "name": "python3"
  },
  "language_info": {
   "codemirror_mode": {
    "name": "ipython",
    "version": 3
   },
   "file_extension": ".py",
   "mimetype": "text/x-python",
   "name": "python",
   "nbconvert_exporter": "python",
   "pygments_lexer": "ipython3",
   "version": "3.10.8"
  }
 },
 "nbformat": 4,
 "nbformat_minor": 2
}
