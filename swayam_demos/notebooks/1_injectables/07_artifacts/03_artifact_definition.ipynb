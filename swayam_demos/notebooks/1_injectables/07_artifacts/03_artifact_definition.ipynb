{
 "cells": [
  {
   "cell_type": "code",
   "execution_count": null,
   "metadata": {},
   "outputs": [],
   "source": [
    "from env import *\n",
    "from swayam import *"
   ]
  },
  {
   "cell_type": "markdown",
   "metadata": {},
   "source": [
    "### Artifact Definitions"
   ]
  },
  {
   "cell_type": "code",
   "execution_count": null,
   "metadata": {},
   "outputs": [],
   "source": [
    "artifact = Artifact.basic1\n",
    "print(artifact.name)\n",
    "print(artifact.singular_name)\n",
    "print(artifact.plural_name)\n",
    "print(artifact.description)\n",
    "print(artifact.template.definition)\n",
    "print(artifact.has_dependencies)\n",
    "print(artifact.feeders)\n",
    "print(artifact.references)"
   ]
  },
  {
   "cell_type": "code",
   "execution_count": null,
   "metadata": {},
   "outputs": [],
   "source": [
    "artifact = Artifact.basic2\n",
    "print(artifact.name)\n",
    "print(artifact.singular_name)\n",
    "print(artifact.plural_name)\n",
    "print(artifact.description)\n",
    "print(artifact.template.definition)\n",
    "print(artifact.has_dependencies)\n",
    "print(artifact.feeders)\n",
    "print(artifact.references)"
   ]
  },
  {
   "cell_type": "code",
   "execution_count": null,
   "metadata": {},
   "outputs": [],
   "source": [
    "artifact = Artifact.basic3\n",
    "print(artifact.name)\n",
    "print(artifact.singular_name)\n",
    "print(artifact.plural_name)\n",
    "print(artifact.description)\n",
    "print(artifact.template.definition)\n",
    "print(artifact.has_dependencies)\n",
    "print(artifact.feeders)\n",
    "print(artifact.references)"
   ]
  },
  {
   "cell_type": "code",
   "execution_count": null,
   "metadata": {},
   "outputs": [],
   "source": [
    "artifact = Artifact.basic4\n",
    "print(artifact.name)\n",
    "print(artifact.singular_name)\n",
    "print(artifact.plural_name)\n",
    "print(artifact.description)\n",
    "print(artifact.template.definition)\n",
    "print(artifact.has_dependencies)\n",
    "print(artifact.feeders)\n",
    "print(artifact.references)"
   ]
  },
  {
   "cell_type": "code",
   "execution_count": null,
   "metadata": {},
   "outputs": [],
   "source": [
    "artifact = Artifact.basic5\n",
    "print(artifact.name)\n",
    "print(artifact.singular_name)\n",
    "print(artifact.plural_name)\n",
    "print(artifact.description)\n",
    "print(artifact.template.definition)\n",
    "print(artifact.has_dependencies)\n",
    "print(artifact.feeders)\n",
    "print(artifact.references)"
   ]
  },
  {
   "cell_type": "code",
   "execution_count": null,
   "metadata": {},
   "outputs": [],
   "source": [
    "artifact = Artifact.basic6\n",
    "print(artifact.name)\n",
    "print(artifact.singular_name)\n",
    "print(artifact.plural_name)\n",
    "print(artifact.description)\n",
    "print(artifact.template.definition)\n",
    "print(artifact.has_dependencies)\n",
    "print(artifact.feeders)\n",
    "print(artifact.references)"
   ]
  }
 ],
 "metadata": {
  "kernelspec": {
   "display_name": "py3108",
   "language": "python",
   "name": "python3"
  },
  "language_info": {
   "codemirror_mode": {
    "name": "ipython",
    "version": 3
   },
   "file_extension": ".py",
   "mimetype": "text/x-python",
   "name": "python",
   "nbconvert_exporter": "python",
   "pygments_lexer": "ipython3",
   "version": "3.10.8"
  }
 },
 "nbformat": 4,
 "nbformat_minor": 2
}
