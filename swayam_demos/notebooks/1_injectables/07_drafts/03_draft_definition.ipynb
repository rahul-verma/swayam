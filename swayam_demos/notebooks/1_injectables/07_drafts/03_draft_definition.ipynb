{
 "cells": [
  {
   "cell_type": "code",
   "execution_count": null,
   "metadata": {},
   "outputs": [],
   "source": [
    "from env import *\n",
    "from swayam import *"
   ]
  },
  {
   "cell_type": "markdown",
   "metadata": {},
   "source": [
    "### Draft Definitions"
   ]
  },
  {
   "cell_type": "code",
   "execution_count": null,
   "metadata": {},
   "outputs": [],
   "source": [
    "draft = Draft.simple\n",
    "print(draft.name)\n",
    "print(draft.file_name)\n",
    "print(draft.description)\n",
    "print(draft.template.definition)\n",
    "print(draft.dependencies)"
   ]
  },
  {
   "cell_type": "code",
   "execution_count": null,
   "metadata": {},
   "outputs": [],
   "source": [
    "draft = Draft.events\n",
    "print(draft.name)\n",
    "print(draft.file_name)\n",
    "print(draft.description)\n",
    "print(draft.template.definition)\n",
    "print(draft.dependencies)"
   ]
  },
  {
   "cell_type": "code",
   "execution_count": null,
   "metadata": {},
   "outputs": [],
   "source": [
    "draft = Draft.depends\n",
    "print(draft.name)\n",
    "print(draft.file_name)\n",
    "print(draft.description)\n",
    "print(draft.template.definition)\n",
    "print([dep.name for dep in draft.dependencies])"
   ]
  }
 ],
 "metadata": {
  "kernelspec": {
   "display_name": "py3108",
   "language": "python",
   "name": "python3"
  },
  "language_info": {
   "codemirror_mode": {
    "name": "ipython",
    "version": 3
   },
   "file_extension": ".py",
   "mimetype": "text/x-python",
   "name": "python",
   "nbconvert_exporter": "python",
   "pygments_lexer": "ipython3",
   "version": "3.10.8"
  }
 },
 "nbformat": 4,
 "nbformat_minor": 2
}
