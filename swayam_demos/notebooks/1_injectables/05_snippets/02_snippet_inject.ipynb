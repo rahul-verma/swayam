{
 "cells": [
  {
   "cell_type": "code",
   "execution_count": 1,
   "metadata": {},
   "outputs": [],
   "source": [
    "from env import *\n",
    "from swayam import *"
   ]
  },
  {
   "cell_type": "markdown",
   "metadata": {},
   "source": [
    "## Snippet Injection\n",
    "\n",
    "Just like other injectables, you can also define snippets so that Swayam can find them given just the name.\n",
    "\n",
    "To enable this, in Swayam, you need to define it as as an importable object. "
   ]
  },
  {
   "cell_type": "markdown",
   "metadata": {},
   "source": [
    "You can refer the project structure of swayam_demos to know more about it. "
   ]
  },
  {
   "cell_type": "markdown",
   "metadata": {},
   "source": [
    "### Snippet as a YAML Definition File\n",
    "\n",
    "Snippet can be a YAML based snippet definition file:\n",
    "        \n",
    "        <your project name>/definition/snippet/<path_to_snippet.yaml>\n",
    "\n",
    "The snippet name and any snippet sub-directories in its path it, should be a valid Python variable names. A good convention is snake case : a_b_c.yaml\n",
    "\n",
    "You can use it in your user/system prompt text strings or definition files using Swayam's placeholder notation $Snippet.<name>$"
   ]
  }
 ],
 "metadata": {
  "kernelspec": {
   "display_name": "py3108",
   "language": "python",
   "name": "python3"
  },
  "language_info": {
   "codemirror_mode": {
    "name": "ipython",
    "version": 3
   },
   "file_extension": ".py",
   "mimetype": "text/x-python",
   "name": "python",
   "nbconvert_exporter": "python",
   "pygments_lexer": "ipython3",
   "version": "3.10.8"
  }
 },
 "nbformat": 4,
 "nbformat_minor": 2
}
