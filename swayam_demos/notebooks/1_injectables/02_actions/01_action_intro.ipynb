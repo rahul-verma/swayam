{
 "cells": [
  {
   "cell_type": "code",
   "execution_count": 1,
   "metadata": {},
   "outputs": [],
   "source": [
    "from env import *\n",
    "from swayam import *"
   ]
  },
  {
   "cell_type": "markdown",
   "metadata": {},
   "source": [
    "## Actions\n",
    "\n",
    "Swayam has the concept of templated Actions. These actions deal with input and output in the form of **Data** objects."
   ]
  },
  {
   "cell_type": "markdown",
   "metadata": {},
   "source": [
    "### A Simple Example\n",
    "\n",
    "Let's start by defining a function **calculate** which takes a string expression and returns the calculation as an int or a float.\n",
    "\n",
    "You need 3 things:\n",
    "1. The input DataTemplate\n",
    "2. The output DataTemplate\n",
    "3. The function"
   ]
  },
  {
   "cell_type": "code",
   "execution_count": 2,
   "metadata": {},
   "outputs": [],
   "source": [
    "from typing import Union\n",
    "from pydantic import BaseModel, Field\n",
    "\n",
    "class ExpressionModel(BaseModel):\n",
    "    calculation_expression:str = Field(..., title=\"Expression\", description=\"The expression to be evaluated\")\n",
    "    \n",
    "class NumericResultModel(BaseModel):\n",
    "    result:Union[int,float] = Field(..., title=\"Number\", description=\"A  numeric result (int or float)\")\n",
    "    \n",
    "Expression = Template.build(\"Expression\", model=ExpressionModel)\n",
    "NumericResult = Template.build(\"NumericResult\", model=NumericResultModel)"
   ]
  },
  {
   "cell_type": "code",
   "execution_count": 3,
   "metadata": {},
   "outputs": [],
   "source": [
    "def calculate(*, invoker, calculation_expression:str):\n",
    "    return NumericResult(result=eval(calculation_expression))"
   ]
  },
  {
   "cell_type": "code",
   "execution_count": null,
   "metadata": {},
   "outputs": [],
   "source": [
    "calculate(invoker=None, calculation_expression=\"2+2\")"
   ]
  },
  {
   "cell_type": "markdown",
   "metadata": {},
   "source": [
    "Now, let's create the action."
   ]
  },
  {
   "cell_type": "code",
   "execution_count": 5,
   "metadata": {},
   "outputs": [],
   "source": [
    "Calculate = Action.build(\"Calculate\", \n",
    "                        description=\"A simple calculator action\",\n",
    "                        callable=calculate,\n",
    "                        in_template=Expression,\n",
    "                        out_template=NumericResult\n",
    ")"
   ]
  },
  {
   "cell_type": "markdown",
   "metadata": {},
   "source": [
    "#### Check Action Definition\n",
    "\n",
    "Just like a **DataTemplate**, you can get the definition of a **Action** using the **definition** property."
   ]
  },
  {
   "cell_type": "code",
   "execution_count": null,
   "metadata": {},
   "outputs": [],
   "source": [
    "Calculate.definition"
   ]
  },
  {
   "cell_type": "code",
   "execution_count": 7,
   "metadata": {},
   "outputs": [],
   "source": [
    "result_dict = Calculate(calculation_expression=\"2+2\")"
   ]
  },
  {
   "cell_type": "code",
   "execution_count": null,
   "metadata": {},
   "outputs": [],
   "source": [
    "result_dict"
   ]
  },
  {
   "cell_type": "markdown",
   "metadata": {},
   "source": []
  }
 ],
 "metadata": {
  "kernelspec": {
   "display_name": "py3108",
   "language": "python",
   "name": "python3"
  },
  "language_info": {
   "codemirror_mode": {
    "name": "ipython",
    "version": 3
   },
   "file_extension": ".py",
   "mimetype": "text/x-python",
   "name": "python",
   "nbconvert_exporter": "python",
   "pygments_lexer": "ipython3",
   "version": "3.10.8"
  }
 },
 "nbformat": 4,
 "nbformat_minor": 2
}
