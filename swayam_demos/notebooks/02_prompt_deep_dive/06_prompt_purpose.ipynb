{
 "cells": [
  {
   "cell_type": "code",
   "execution_count": null,
   "metadata": {},
   "outputs": [],
   "source": [
    "from test_utils import *\n",
    "from swayam import *"
   ]
  },
  {
   "cell_type": "markdown",
   "metadata": {},
   "source": [
    "### Defining the purpose of a prompt\n",
    "\n",
    "We can define the purpose of a prompt.\n",
    "\n",
    "At this stage the benefit may not become evident. For now, just notice that the node in the HTML report now has its name as what you provide in the **purpose** argument to the **Prompt.user_prompt** factory method."
   ]
  },
  {
   "cell_type": "code",
   "execution_count": null,
   "metadata": {},
   "outputs": [],
   "source": [
    "text = \"I am planning a trip to Berlin in June. Create a list of places worth seeing there.\"\n",
    "user_prompt = Prompt.user_prompt(text, purpose=\"Create a list of places\")"
   ]
  },
  {
   "cell_type": "code",
   "execution_count": null,
   "metadata": {},
   "outputs": [],
   "source": [
    "router = Router(run_id=\"test\", display=True)\n",
    "router.execute(user_prompt)"
   ]
  }
 ],
 "metadata": {
  "kernelspec": {
   "display_name": "py3108",
   "language": "python",
   "name": "python3"
  },
  "language_info": {
   "codemirror_mode": {
    "name": "ipython",
    "version": 3
   },
   "file_extension": ".py",
   "mimetype": "text/x-python",
   "name": "python",
   "nbconvert_exporter": "python",
   "pygments_lexer": "ipython3",
   "version": "3.10.8"
  }
 },
 "nbformat": 4,
 "nbformat_minor": 2
}
