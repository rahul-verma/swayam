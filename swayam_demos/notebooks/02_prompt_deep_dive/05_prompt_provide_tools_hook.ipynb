{
 "cells": [
  {
   "cell_type": "code",
   "execution_count": null,
   "metadata": {},
   "outputs": [],
   "source": [
    "from test_utils import *\n",
    "from swayam import *"
   ]
  },
  {
   "cell_type": "markdown",
   "metadata": {},
   "source": [
    "### Defining Tool hooks\n",
    "\n",
    "Just like structures, you can also define tools so that Swayam can find them given just the name.\n",
    "\n",
    "To enable this, in Swayam, you need to define it as as an importable object.\n",
    "\n",
    "This feature is a part of hooks in Swayam:\n",
    "1. The hooks are defined as objects inside importable modules.\n",
    "2. These modules (or packages) are created inside <project_root>/lib/hook directory.\n",
    "3. For defining the tools, they should be importable as:\n",
    "        \n",
    "        from <your project name>.lib.hook.tool import <Tool Name>"
   ]
  },
  {
   "cell_type": "markdown",
   "metadata": {},
   "source": [
    "You can refer to the project structure of **swayam_demos** to know more about it. The tools GetWeatherInfo, Caculator and Weather Search from the earlier example have been included there.\n",
    "\n",
    "The prompt file can refer to the structure using **tools** key in the yaml file to point to a lits of tool names"
   ]
  },
  {
   "cell_type": "code",
   "execution_count": null,
   "metadata": {},
   "outputs": [],
   "source": [
    "router = Router(run_id=\"test\")"
   ]
  },
  {
   "cell_type": "code",
   "execution_count": null,
   "metadata": {},
   "outputs": [],
   "source": [
    "tools = [\"WeatherInfo\", \"Calculator\", \"EmailSearch\"]"
   ]
  },
  {
   "cell_type": "markdown",
   "metadata": {},
   "source": [
    "Pass tools to the user prompt with **tools** argument."
   ]
  },
  {
   "cell_type": "code",
   "execution_count": null,
   "metadata": {},
   "outputs": [],
   "source": [
    "user_prompt = Prompt.text(\"What's the weather like in Boston?\", tools=tools)\n",
    "router.execute(user_prompt)"
   ]
  },
  {
   "cell_type": "code",
   "execution_count": null,
   "metadata": {},
   "outputs": [],
   "source": [
    "router.execute(Prompt.text(\"What is 7 *30 + 13?\", tools=tools))"
   ]
  },
  {
   "cell_type": "code",
   "execution_count": null,
   "metadata": {},
   "outputs": [],
   "source": [
    "text = \"This is a sample text with a@b.com and c@d.com addresses\"\n",
    "prompt_text = f\"\"\"Find whether there is an email address in the following text marked with triple backticks \n",
    "            ```{text}```\n",
    "            \"\"\"\n",
    "router.execute(Prompt.text(prompt_text, tools=tools))"
   ]
  }
 ],
 "metadata": {
  "kernelspec": {
   "display_name": "py3108",
   "language": "python",
   "name": "python3"
  },
  "language_info": {
   "codemirror_mode": {
    "name": "ipython",
    "version": 3
   },
   "file_extension": ".py",
   "mimetype": "text/x-python",
   "name": "python",
   "nbconvert_exporter": "python",
   "pygments_lexer": "ipython3",
   "version": "3.10.8"
  }
 },
 "nbformat": 4,
 "nbformat_minor": 2
}
