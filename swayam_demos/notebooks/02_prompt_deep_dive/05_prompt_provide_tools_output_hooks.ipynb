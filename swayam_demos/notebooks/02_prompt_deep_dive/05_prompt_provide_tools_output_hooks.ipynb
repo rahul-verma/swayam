{
 "cells": [
  {
   "cell_type": "code",
   "execution_count": null,
   "metadata": {},
   "outputs": [],
   "source": [
    "from env import *\n",
    "from swayam import *"
   ]
  },
  {
   "cell_type": "markdown",
   "metadata": {},
   "source": [
    "### Tool Calling with Output Hooks\n",
    "\n",
    "In tool creation you can reuse structures using structure hooks discussed earlier."
   ]
  },
  {
   "cell_type": "code",
   "execution_count": null,
   "metadata": {},
   "outputs": [],
   "source": [
    "router = Router(run_id=\"test\")"
   ]
  },
  {
   "cell_type": "markdown",
   "metadata": {},
   "source": [
    "### Some Dummy Functions\n",
    "\n",
    "Let's create some dummy functions"
   ]
  },
  {
   "cell_type": "code",
   "execution_count": null,
   "metadata": {},
   "outputs": [],
   "source": [
    "from enum import Enum\n",
    "class UnitEnum(Enum):\n",
    "    CELSIUS = \"celsius\"\n",
    "    FAHRENHEIT = \"fahrenheit\"\n",
    "\n",
    "import json\n",
    "\n",
    "# Example dummy function hard coded to return the same weather\n",
    "# In production, this could be your backend API or an external API\n",
    "def get_current_weather(location, unit):\n",
    "    import random\n",
    "    i = random.randint(-10, 40)\n",
    "    # As the UnitEnum in externalised Structure is a different enum class, modifying the logic\n",
    "    if not isinstance(unit, UnitEnum):\n",
    "        unit = UnitEnum[unit.name]\n",
    "\n",
    "    if unit == UnitEnum.CELSIUS:\n",
    "        return f\"{i}°C\"\n",
    "    elif unit == UnitEnum.FAHRENHEIT:\n",
    "        return f\"{i*9/5 + 32}°F\"\n",
    "    else:\n",
    "        raise ValueError(\"Invalid unit\")\n",
    "    \n",
    "def calculate(expression):\n",
    "    return eval(expression)\n",
    "\n",
    "def search_email(text):\n",
    "    import re\n",
    "    emails = re.findall(r'([\\w\\.-]+@[\\w\\.-]+)', text)\n",
    "    if emails:\n",
    "        return emails\n",
    "    else:\n",
    "        return None"
   ]
  },
  {
   "cell_type": "code",
   "execution_count": null,
   "metadata": {},
   "outputs": [],
   "source": [
    "from swayam import Tool\n",
    "\n",
    "WeatherInfo = Tool.build(\"WeatherInfo\", \n",
    "                         target=get_current_weather, \n",
    "                         desc=\"Get the current weather in a given location\",\n",
    "                         call_structure=Structure.WeatherInfo\n",
    ")\n",
    "\n",
    "Calculator = Tool.build(\"Calculator\",\n",
    "                        target=calculate,\n",
    "                        desc=\"Evaluates a mathematical expression\",\n",
    "                        call_structure=Structure.Calculation\n",
    ")\n",
    "\n",
    "EmailSearch = Tool.build(\"EmailSearch\",\n",
    "                        target=search_email,\n",
    "                        desc=\"Searches email addresses in a given text\",\n",
    "                        call_structure=Structure.EmailSearch\n",
    ")"
   ]
  },
  {
   "cell_type": "code",
   "execution_count": null,
   "metadata": {},
   "outputs": [],
   "source": [
    "tools = [WeatherInfo, Calculator, EmailSearch]"
   ]
  },
  {
   "cell_type": "code",
   "execution_count": null,
   "metadata": {},
   "outputs": [],
   "source": [
    "user_prompt = Prompt.text(\"What's the weather like in Boston?\", tools=tools)\n",
    "router.execute(user_prompt)"
   ]
  },
  {
   "cell_type": "code",
   "execution_count": null,
   "metadata": {},
   "outputs": [],
   "source": [
    "router.execute(Prompt.text(\"What is 7 *30 + 13?\", tools=tools))"
   ]
  },
  {
   "cell_type": "code",
   "execution_count": null,
   "metadata": {},
   "outputs": [],
   "source": [
    "text = \"This is a sample text with a@b.com and c@d.com addresses\"\n",
    "prompt_text = f\"\"\"Find whether there is an email address in the following text marked with triple backticks \n",
    "            ```{text}```\n",
    "            \"\"\"\n",
    "router.execute(Prompt.text(prompt_text, tools=tools))"
   ]
  }
 ],
 "metadata": {
  "kernelspec": {
   "display_name": "py3108",
   "language": "python",
   "name": "python3"
  },
  "language_info": {
   "codemirror_mode": {
    "name": "ipython",
    "version": 3
   },
   "file_extension": ".py",
   "mimetype": "text/x-python",
   "name": "python",
   "nbconvert_exporter": "python",
   "pygments_lexer": "ipython3",
   "version": "3.10.8"
  }
 },
 "nbformat": 4,
 "nbformat_minor": 2
}
