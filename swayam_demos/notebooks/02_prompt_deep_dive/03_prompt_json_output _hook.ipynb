{
 "cells": [
  {
   "cell_type": "code",
   "execution_count": null,
   "metadata": {},
   "outputs": [],
   "source": [
    "from test_utils import *\n",
    "from swayam import *"
   ]
  },
  {
   "cell_type": "markdown",
   "metadata": {},
   "source": [
    "## Creating JSON Structure Hooks\n",
    "\n",
    "You might want to define the structures in a single place which Swayam can easily find.\n",
    "\n",
    "To automatically find a structure given its name, in Swayam, you need to define it as as an importable object.\n",
    "\n",
    "This feature is a part of hooks in Swayam:\n",
    "1. The hooks are defined as objects inside importable modules.\n",
    "2. These modules (or packages) are created inside <project_root>/lib/hook directory.\n",
    "3. For defining the structure, it should be importable as:\n",
    "        \n",
    "        from <your project name>.lib.hook.structure import <Structure Name>"
   ]
  },
  {
   "cell_type": "markdown",
   "metadata": {},
   "source": [
    "You can refer the project structure of swayam_demos to know more about it. The structure CalendarEvent from the earlier example has been included there.\n",
    "\n",
    "Now, you can refer to the structure using **response_format** argument in the **Prompt.text** call."
   ]
  },
  {
   "cell_type": "code",
   "execution_count": null,
   "metadata": {},
   "outputs": [],
   "source": [
    "router = Router(run_id=\"test\")"
   ]
  },
  {
   "cell_type": "markdown",
   "metadata": {},
   "source": [
    "Notice how the response_format is provided as a string rather than as a Python object from previous example."
   ]
  },
  {
   "cell_type": "code",
   "execution_count": null,
   "metadata": {},
   "outputs": [],
   "source": [
    "prompts = [\n",
    "    \"Extract event information: Alice and Bob are going to a science fair on Friday.\",\n",
    "    \"Extract event information: We are going to a science fair on Tuesday.\",\n",
    "    \"Extract event information: Rahul and Pepe are going to the party on 12th August.\"\n",
    "]\n",
    "\n",
    "for prompt in prompts:\n",
    "    print(router.execute(Prompt.text(prompt, response_format=\"CalendarEvent\")))"
   ]
  }
 ],
 "metadata": {
  "kernelspec": {
   "display_name": "py3108",
   "language": "python",
   "name": "python3"
  },
  "language_info": {
   "codemirror_mode": {
    "name": "ipython",
    "version": 3
   },
   "file_extension": ".py",
   "mimetype": "text/x-python",
   "name": "python",
   "nbconvert_exporter": "python",
   "pygments_lexer": "ipython3",
   "version": "3.10.8"
  }
 },
 "nbformat": 4,
 "nbformat_minor": 2
}
