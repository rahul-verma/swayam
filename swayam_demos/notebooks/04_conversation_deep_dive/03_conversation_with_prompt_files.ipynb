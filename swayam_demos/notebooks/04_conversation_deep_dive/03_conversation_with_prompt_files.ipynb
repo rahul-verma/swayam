{
 "cells": [
  {
   "cell_type": "code",
   "execution_count": 1,
   "metadata": {},
   "outputs": [],
   "source": [
    "from test_utils import *\n",
    "from swayam import *"
   ]
  },
  {
   "cell_type": "markdown",
   "metadata": {},
   "source": [
    "### Conversation with Prompt Files\n",
    "\n",
    "We earlier saw that we can define prompt files which can be executed.\n",
    "\n",
    "Let's see how we can use prompt files in a conversation."
   ]
  },
  {
   "cell_type": "markdown",
   "metadata": {},
   "source": [
    "A conversation maintains context by default."
   ]
  },
  {
   "cell_type": "code",
   "execution_count": 2,
   "metadata": {},
   "outputs": [
    {
     "name": "stdout",
     "output_type": "stream",
     "text": [
      "Executing Conversation with 2 step(s)\n"
     ]
    }
   ],
   "source": [
    "router = Router(run_id=\"test\")\n",
    "conversation = Conversation.from_prompts(Prompt.user.trip_command, Prompt.user.trip_query)\n",
    "router.execute(conversation)"
   ]
  }
 ],
 "metadata": {
  "kernelspec": {
   "display_name": "py3108",
   "language": "python",
   "name": "python3"
  },
  "language_info": {
   "codemirror_mode": {
    "name": "ipython",
    "version": 3
   },
   "file_extension": ".py",
   "mimetype": "text/x-python",
   "name": "python",
   "nbconvert_exporter": "python",
   "pygments_lexer": "ipython3",
   "version": "3.10.8"
  }
 },
 "nbformat": 4,
 "nbformat_minor": 2
}
