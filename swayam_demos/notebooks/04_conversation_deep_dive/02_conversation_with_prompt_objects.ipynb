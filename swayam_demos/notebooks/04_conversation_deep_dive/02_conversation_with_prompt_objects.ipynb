{
 "cells": [
  {
   "cell_type": "code",
   "execution_count": null,
   "metadata": {},
   "outputs": [],
   "source": [
    "from test_utils import *\n",
    "from swayam import *"
   ]
  },
  {
   "cell_type": "markdown",
   "metadata": {},
   "source": [
    "### Conversation with Prompt Objects\n",
    "\n",
    "We earlier saw that a user prompt can be much more that a simple string. It can have associated image, a response structure and/or tools. \n",
    "\n",
    "To support such prompts, Conversation class also provides a **from_prompts** factory method. \n",
    "\n",
    "To keep things sane, you can not mix user prompts as strings with user prompt objects."
   ]
  },
  {
   "cell_type": "code",
   "execution_count": null,
   "metadata": {},
   "outputs": [],
   "source": [
    "prompt1 = Prompt.user_prompt(\"Extract event information from the following text marked by triple backticks. Don't guess. \\nI am planning a trip to Berlin in June to attend a conference on LLMs.\", response_format=\"CalendarEvent\")\n",
    "prompt2 = Prompt.user_prompt(\"I need to contact rahul@swayam.com\", tools=[\"EmailSearch\"])\n",
    "prompt3 = Prompt.user_prompt(\"I need to talk to him about this model. What are the 5 key points I should ask about it?\", image=\"data/images/5EModel.png\")"
   ]
  },
  {
   "cell_type": "markdown",
   "metadata": {},
   "source": [
    "A conversation maintains context by default."
   ]
  },
  {
   "cell_type": "code",
   "execution_count": null,
   "metadata": {},
   "outputs": [],
   "source": [
    "router = Router(run_id=\"test\")\n",
    "conversation = Conversation.from_prompts(prompt1, prompt2, prompt3)\n",
    "router.execute(conversation)"
   ]
  }
 ],
 "metadata": {
  "kernelspec": {
   "display_name": "py3108",
   "language": "python",
   "name": "python3"
  },
  "language_info": {
   "codemirror_mode": {
    "name": "ipython",
    "version": 3
   },
   "file_extension": ".py",
   "mimetype": "text/x-python",
   "name": "python",
   "nbconvert_exporter": "python",
   "pygments_lexer": "ipython3",
   "version": "3.10.8"
  }
 },
 "nbformat": 4,
 "nbformat_minor": 2
}
