{
 "cells": [
  {
   "cell_type": "code",
   "execution_count": 1,
   "metadata": {},
   "outputs": [],
   "source": [
    "from test_utils import *\n",
    "from swayam import *"
   ]
  },
  {
   "cell_type": "markdown",
   "metadata": {},
   "source": [
    "### Conversation with Dynamic Prompt Files\n",
    "\n",
    "We earlier saw how we can create Prompt Files that have placeholders that can be formatted from outside.\n",
    "\n",
    "You can of course individually take care of the formatting of the prompts. \n",
    "\n",
    "The power of a conversation object lies in formatting all child objects in one go.\n",
    "\n",
    "Just like **Prompt.formatter**, Swayam has a **Conversation.formatter** helper function."
   ]
  },
  {
   "cell_type": "code",
   "execution_count": 2,
   "metadata": {},
   "outputs": [
    {
     "name": "stdout",
     "output_type": "stream",
     "text": [
      "Executing Conversation with 2 step(s)\n"
     ]
    }
   ],
   "source": [
    "router = Router(run_id=\"test\")\n",
    "conversation = Conversation.formatter(city=\"Tokyo\", month=\"July\", task=\"Visa\").files(\n",
    "    Prompt.file.user.plan_a_trip, \n",
    "    Prompt.file.user.plan_a_trip_task\n",
    ")\n",
    "router.execute(conversation)"
   ]
  }
 ],
 "metadata": {
  "kernelspec": {
   "display_name": "py3108",
   "language": "python",
   "name": "python3"
  },
  "language_info": {
   "codemirror_mode": {
    "name": "ipython",
    "version": 3
   },
   "file_extension": ".py",
   "mimetype": "text/x-python",
   "name": "python",
   "nbconvert_exporter": "python",
   "pygments_lexer": "ipython3",
   "version": "3.10.8"
  }
 },
 "nbformat": 4,
 "nbformat_minor": 2
}
