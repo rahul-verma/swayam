{
 "cells": [
  {
   "cell_type": "code",
   "execution_count": 1,
   "metadata": {},
   "outputs": [],
   "source": [
    "from test_utils import *\n",
    "from swayam import *"
   ]
  },
  {
   "cell_type": "markdown",
   "metadata": {},
   "source": [
    "### A simple prompt as a file.\n",
    "\n",
    "You can represent a prompt as a yaml file. In its simplest form, just put the text of your prompt in a yaml file.\n",
    "\n",
    "1. Swayam enforces a project structure. The file must be located relative to \"definition/prompt\" directory, in your project root directory.\n",
    "2. The file name should be a valid Python name.\n",
    "\n",
    "This is where you'll see Swayam doing a lot of ground work for you."
   ]
  },
  {
   "cell_type": "code",
   "execution_count": 2,
   "metadata": {},
   "outputs": [
    {
     "name": "stdout",
     "output_type": "stream",
     "text": [
      "Executing Conversation with 1 step(s)\n"
     ]
    },
    {
     "data": {
      "text/plain": [
       "'Berlin is a vibrant city with a rich history, diverse culture, and plenty of attractions. Here’s a list of must-see places to consider for your trip in June:\\n\\n1. **Brandenburg Gate (Brandenburger Tor)** - An iconic symbol of Berlin and a must-visit landmark.\\n\\n2. **Reichstag Building** - The seat of the German Parliament, featuring a stunning glass dome that offers panoramic views of the city.\\n\\n3. **Berlin Wall Memorial (Gedenkstätte Berliner Mauer)** - A historical site that commemorates the division of Berlin and includes a preserved section of the Wall.\\n\\n4. **East Side Gallery** - A 1.3 km-long stretch of the Berlin Wall covered in murals and street art, showcasing messages of peace and freedom.\\n\\n5. **Museum Island (Museumsinsel)** - A UNESCO World Heritage site housing several world-renowned museums, including the Pergamon Museum and the Altes Museum.\\n\\n6. **Checkpoint Charlie** - The famous border crossing point between East and West Berlin during the Cold War, now a museum.\\n\\n7. **Potsdamer Platz** - A bustling square known for its modern architecture, shopping, and entertainment options.\\n\\n8. **Charlottenburg Palace (Schloss Charlottenburg)** - A beautiful baroque palace with stunning gardens, perfect for a leisurely stroll.\\n\\n9. **Kaiser Wilhelm Memorial Church** - A striking church that serves as a memorial to peace and reconciliation, with its partially destroyed tower.\\n\\n10. **Tiergarten** - Berlin’s largest park, ideal for a relaxing walk, a picnic, or renting a bike.\\n\\n11. **Berlin Cathedral (Berliner Dom)** - A magnificent Protestant cathedral with a stunning dome and beautiful interiors.\\n\\n12. **Jewish Museum Berlin** - A poignant museum that explores Jewish history and culture in Germany.\\n\\n13. **Tempelhofer Feld** - A former airport turned public park, great for cycling, skating, and picnicking.\\n\\n14. **Sachsenhausen Concentration Camp Memorial** - A sobering site located just outside Berlin, offering insights into the Holocaust.\\n\\n15. **Mauerpark** - A lively park known for its flea market, karaoke sessions, and vibrant atmosphere, especially on Sundays.\\n\\n16. **Gendarmenmarkt** - A beautiful square featuring the French and German Cathedrals and the Konzerthaus, often considered one of the most beautiful squares in Berlin.\\n\\n17. **Berlin Zoo and Aquarium** - One of the oldest zoos in the world, home to a wide variety of animals and a great place for families.\\n\\n18. **Street Art Tour** - Explore Berlin’s famous street art scene with a guided tour or on your own, particularly in neighborhoods like Kreuzberg and Friedrichshain.\\n\\n19. **Kreuzberg District** - Known for its multicultural vibe, trendy cafes, and vibrant nightlife.\\n\\n20. **Spree River Cruise** - Consider taking a boat tour along the Spree River for a unique perspective of the city’s landmarks.\\n\\nMake sure to check the opening hours and any special events happening in June, as Berlin often hosts festivals and cultural events during the summer. Enjoy your trip!'"
      ]
     },
     "execution_count": 2,
     "metadata": {},
     "output_type": "execute_result"
    }
   ],
   "source": [
    "\"\"\"\n",
    "The file definition/prompt/trip_command.yaml contains the following text:\n",
    "\n",
    "I am planning a trip to Berlin in June. Create a list of places worth seeing there.\n",
    "\"\"\"\n",
    "\n",
    "router = Router(run_id=\"test\")\n",
    "router.execute(Prompt.user.trip_command)"
   ]
  }
 ],
 "metadata": {
  "kernelspec": {
   "display_name": "py3108",
   "language": "python",
   "name": "python3"
  },
  "language_info": {
   "codemirror_mode": {
    "name": "ipython",
    "version": 3
   },
   "file_extension": ".py",
   "mimetype": "text/x-python",
   "name": "python",
   "nbconvert_exporter": "python",
   "pygments_lexer": "ipython3",
   "version": "3.10.8"
  }
 },
 "nbformat": 4,
 "nbformat_minor": 2
}
