{
 "cells": [
  {
   "cell_type": "code",
   "execution_count": 2,
   "metadata": {},
   "outputs": [],
   "source": [
    "from test_utils import *\n",
    "from swayam import *"
   ]
  },
  {
   "cell_type": "markdown",
   "metadata": {},
   "source": [
    "### Basic Chatting"
   ]
  },
  {
   "cell_type": "markdown",
   "metadata": {},
   "source": [
    "#### Prompt as a String\n",
    "\n",
    "Let's run a basic text prompt.\n",
    "\n",
    "We'll use the most basic form of using Swayam to start with."
   ]
  },
  {
   "cell_type": "code",
   "execution_count": 3,
   "metadata": {},
   "outputs": [
    {
     "name": "stdout",
     "output_type": "stream",
     "text": [
      "Executing Conversation with 1 step(s)\n",
      "--------------------------------------------------------------------------------\n",
      "Prompt: (Role: system)\n",
      "You are a helpful assistant who deliberates and provides useful answers to my queries.\n",
      "--------------------------------------------------------------------------------\n",
      "--------------------------------------------------------------------------------\n",
      "Prompt: (Role: user)\n",
      "I am planning a trip to Berlin in June. Create a list of places worth seeing there.\n",
      "--------------------------------------------------------------------------------\n",
      "Response:\n",
      "Berlin is a vibrant city with a rich history, diverse culture, and plenty of attractions. Here’s a list of must-see places to consider for your trip in June:\n",
      "\n",
      "1. **Brandenburg Gate (Brandenburger Tor)** - An iconic symbol of Berlin and a must-visit landmark.\n",
      "\n",
      "2. **Reichstag Building** - The seat of the German Parliament, featuring a stunning glass dome that offers panoramic views of the city.\n",
      "\n",
      "3. **Berlin Wall Memorial (Gedenkstätte Berliner Mauer)** - A historical site that commemorates the division of Berlin and includes a preserved section of the Wall.\n",
      "\n",
      "4. **East Side Gallery** - A 1.3 km-long stretch of the Berlin Wall covered in murals and street art, showcasing messages of peace and freedom.\n",
      "\n",
      "5. **Museum Island (Museumsinsel)** - A UNESCO World Heritage site that houses several world-renowned museums, including the Pergamon Museum and the Altes Museum.\n",
      "\n",
      "6. **Checkpoint Charlie** - The famous border crossing point between East and West Berlin during the Cold War, now a popular tourist attraction.\n",
      "\n",
      "7. **Potsdamer Platz** - A bustling square known for its modern architecture, shopping, and entertainment options.\n",
      "\n",
      "8. **Charlottenburg Palace (Schloss Charlottenburg)** - A beautiful baroque palace with stunning gardens, perfect for a leisurely stroll.\n",
      "\n",
      "9. **Kaiser Wilhelm Memorial Church** - A striking church that serves as a memorial to peace and reconciliation, with its partially destroyed tower.\n",
      "\n",
      "10. **Tiergarten** - Berlin’s largest park, ideal for a relaxing walk, a picnic, or renting a bike to explore.\n",
      "\n",
      "11. **Berlin Cathedral (Berliner Dom)** - A magnificent Protestant cathedral with a stunning dome and beautiful interiors.\n",
      "\n",
      "12. **Jewish Museum Berlin** - A poignant museum that explores Jewish history and culture in Germany.\n",
      "\n",
      "13. **Tempelhofer Feld** - A former airport turned public park, where you can walk, cycle, or even kite-surf on the runways.\n",
      "\n",
      "14. **Sachsenhausen Concentration Camp Memorial** - A sobering site located just outside Berlin, offering insights into the Holocaust and Nazi history.\n",
      "\n",
      "15. **Mauerpark** - A lively park known for its flea market, karaoke sessions, and vibrant atmosphere, especially on Sundays.\n",
      "\n",
      "16. **Berlin Zoo and Aquarium** - One of the oldest zoos in the world, home to a wide variety of animals and a great place for families.\n",
      "\n",
      "17. **Gendarmenmarkt** - A beautiful square featuring the German and French Cathedrals and the Konzerthaus, often considered one of the most beautiful squares in Berlin.\n",
      "\n",
      "18. **Friedrichstraße** - A major shopping street with a mix of high-end shops, boutiques, and restaurants.\n",
      "\n",
      "19. **Kreuzberg District** - Known for its multicultural vibe, street art, and vibrant nightlife, it’s a great area to explore local cafes and bars.\n",
      "\n",
      "20. **Spree River Cruise** - Consider taking a boat tour along the Spree River for a unique perspective of the city’s landmarks.\n",
      "\n",
      "Make sure to check the opening hours and any special events happening in June, as Berlin often hosts festivals and cultural events during the summer. Enjoy your trip!\n",
      "--------------------------------------------------------------------------------\n"
     ]
    },
    {
     "data": {
      "text/plain": [
       "'Berlin is a vibrant city with a rich history, diverse culture, and plenty of attractions. Here’s a list of must-see places to consider for your trip in June:\\n\\n1. **Brandenburg Gate (Brandenburger Tor)** - An iconic symbol of Berlin and a must-visit landmark.\\n\\n2. **Reichstag Building** - The seat of the German Parliament, featuring a stunning glass dome that offers panoramic views of the city.\\n\\n3. **Berlin Wall Memorial (Gedenkstätte Berliner Mauer)** - A historical site that commemorates the division of Berlin and includes a preserved section of the Wall.\\n\\n4. **East Side Gallery** - A 1.3 km-long stretch of the Berlin Wall covered in murals and street art, showcasing messages of peace and freedom.\\n\\n5. **Museum Island (Museumsinsel)** - A UNESCO World Heritage site that houses several world-renowned museums, including the Pergamon Museum and the Altes Museum.\\n\\n6. **Checkpoint Charlie** - The famous border crossing point between East and West Berlin during the Cold War, now a popular tourist attraction.\\n\\n7. **Potsdamer Platz** - A bustling square known for its modern architecture, shopping, and entertainment options.\\n\\n8. **Charlottenburg Palace (Schloss Charlottenburg)** - A beautiful baroque palace with stunning gardens, perfect for a leisurely stroll.\\n\\n9. **Kaiser Wilhelm Memorial Church** - A striking church that serves as a memorial to peace and reconciliation, with its partially destroyed tower.\\n\\n10. **Tiergarten** - Berlin’s largest park, ideal for a relaxing walk, a picnic, or renting a bike to explore.\\n\\n11. **Berlin Cathedral (Berliner Dom)** - A magnificent Protestant cathedral with a stunning dome and beautiful interiors.\\n\\n12. **Jewish Museum Berlin** - A poignant museum that explores Jewish history and culture in Germany.\\n\\n13. **Tempelhofer Feld** - A former airport turned public park, where you can walk, cycle, or even kite-surf on the runways.\\n\\n14. **Sachsenhausen Concentration Camp Memorial** - A sobering site located just outside Berlin, offering insights into the Holocaust and Nazi history.\\n\\n15. **Mauerpark** - A lively park known for its flea market, karaoke sessions, and vibrant atmosphere, especially on Sundays.\\n\\n16. **Berlin Zoo and Aquarium** - One of the oldest zoos in the world, home to a wide variety of animals and a great place for families.\\n\\n17. **Gendarmenmarkt** - A beautiful square featuring the German and French Cathedrals and the Konzerthaus, often considered one of the most beautiful squares in Berlin.\\n\\n18. **Friedrichstraße** - A major shopping street with a mix of high-end shops, boutiques, and restaurants.\\n\\n19. **Kreuzberg District** - Known for its multicultural vibe, street art, and vibrant nightlife, it’s a great area to explore local cafes and bars.\\n\\n20. **Spree River Cruise** - Consider taking a boat tour along the Spree River for a unique perspective of the city’s landmarks.\\n\\nMake sure to check the opening hours and any special events happening in June, as Berlin often hosts festivals and cultural events during the summer. Enjoy your trip!'"
      ]
     },
     "execution_count": 3,
     "metadata": {},
     "output_type": "execute_result"
    }
   ],
   "source": [
    "prompt = \"I am planning a trip to Berlin in June. Create a list of places worth seeing there.\"\n",
    "Swayam.execute(prompt)"
   ]
  },
  {
   "cell_type": "markdown",
   "metadata": {},
   "source": [
    "#### Context Management\n",
    "\n",
    "By default the context is managed across all calls to Swayam.execute.\n",
    "\n",
    "This is done to ensure a chat-like experince in a single Python session."
   ]
  },
  {
   "cell_type": "code",
   "execution_count": 4,
   "metadata": {},
   "outputs": [
    {
     "name": "stdout",
     "output_type": "stream",
     "text": [
      "Executing Conversation with 1 step(s)\n",
      "--------------------------------------------------------------------------------\n",
      "Prompt: (Role: user)\n",
      "What should I pack for my trip?\n",
      "--------------------------------------------------------------------------------\n",
      "Response:\n",
      "Packing for a trip to Berlin in June requires consideration of the weather, activities, and your personal preferences. Here’s a comprehensive packing list to help you prepare:\n",
      "\n",
      "### Clothing\n",
      "1. **Lightweight Clothing**: June in Berlin can be warm, with temperatures typically ranging from 15°C to 25°C (59°F to 77°F). Pack breathable fabrics like cotton and linen.\n",
      "2. **Layers**: Evenings can be cooler, so bring a light sweater or cardigan.\n",
      "3. **Comfortable Walking Shoes**: You'll likely do a lot of walking, so pack comfortable sneakers or walking shoes.\n",
      "4. **Dressy Outfit**: If you plan to dine out or attend events, consider packing a nicer outfit.\n",
      "5. **Rain Jacket or Light Waterproof Coat**: June can have occasional rain showers, so a light jacket is advisable.\n",
      "6. **Sunglasses and Hat**: Protect yourself from the sun while exploring the city.\n",
      "7. **Swimwear**: If you plan to visit pools or lakes, pack a swimsuit.\n",
      "\n",
      "### Accessories\n",
      "1. **Daypack or Backpack**: For carrying your essentials while exploring.\n",
      "2. **Reusable Water Bottle**: Stay hydrated as you walk around the city.\n",
      "3. **Travel Umbrella**: Compact and useful for unexpected rain.\n",
      "4. **Power Bank**: To keep your devices charged while on the go.\n",
      "5. **Camera or Smartphone**: For capturing memories of your trip.\n",
      "\n",
      "### Toiletries\n",
      "1. **Basic Toiletries**: Toothbrush, toothpaste, shampoo, conditioner, soap, deodorant, etc.\n",
      "2. **Sunscreen**: Protect your skin from UV rays, especially if you plan to spend time outdoors.\n",
      "3. **Personal Medications**: Bring any necessary medications and a small first-aid kit.\n",
      "\n",
      "### Travel Essentials\n",
      "1. **Travel Documents**: Passport, travel insurance, accommodation details, and any necessary tickets.\n",
      "2. **Currency**: Euros for local purchases (though credit cards are widely accepted).\n",
      "3. **Guidebook or Map**: Helpful for navigating the city, though you can also use your smartphone.\n",
      "4. **Adapters/Converters**: Germany uses Type C and F plugs, so bring the appropriate power adapters for your devices.\n",
      "\n",
      "### Optional Items\n",
      "1. **Notebook or Journal**: If you like to document your travels.\n",
      "2. **Books or E-Reader**: For downtime or travel.\n",
      "3. **Snacks**: For long days of sightseeing.\n",
      "\n",
      "### Tips\n",
      "- **Check the Weather Forecast**: Before you leave, check the weather forecast for Berlin to make any last-minute adjustments to your packing.\n",
      "- **Pack Light**: Try to pack versatile clothing that can be mixed and matched to save space.\n",
      "- **Leave Room for Souvenirs**: If you plan to shop, consider leaving some space in your luggage for new items.\n",
      "\n",
      "By packing thoughtfully, you’ll be well-prepared to enjoy your trip to Berlin!\n",
      "--------------------------------------------------------------------------------\n"
     ]
    },
    {
     "data": {
      "text/plain": [
       "\"Packing for a trip to Berlin in June requires consideration of the weather, activities, and your personal preferences. Here’s a comprehensive packing list to help you prepare:\\n\\n### Clothing\\n1. **Lightweight Clothing**: June in Berlin can be warm, with temperatures typically ranging from 15°C to 25°C (59°F to 77°F). Pack breathable fabrics like cotton and linen.\\n2. **Layers**: Evenings can be cooler, so bring a light sweater or cardigan.\\n3. **Comfortable Walking Shoes**: You'll likely do a lot of walking, so pack comfortable sneakers or walking shoes.\\n4. **Dressy Outfit**: If you plan to dine out or attend events, consider packing a nicer outfit.\\n5. **Rain Jacket or Light Waterproof Coat**: June can have occasional rain showers, so a light jacket is advisable.\\n6. **Sunglasses and Hat**: Protect yourself from the sun while exploring the city.\\n7. **Swimwear**: If you plan to visit pools or lakes, pack a swimsuit.\\n\\n### Accessories\\n1. **Daypack or Backpack**: For carrying your essentials while exploring.\\n2. **Reusable Water Bottle**: Stay hydrated as you walk around the city.\\n3. **Travel Umbrella**: Compact and useful for unexpected rain.\\n4. **Power Bank**: To keep your devices charged while on the go.\\n5. **Camera or Smartphone**: For capturing memories of your trip.\\n\\n### Toiletries\\n1. **Basic Toiletries**: Toothbrush, toothpaste, shampoo, conditioner, soap, deodorant, etc.\\n2. **Sunscreen**: Protect your skin from UV rays, especially if you plan to spend time outdoors.\\n3. **Personal Medications**: Bring any necessary medications and a small first-aid kit.\\n\\n### Travel Essentials\\n1. **Travel Documents**: Passport, travel insurance, accommodation details, and any necessary tickets.\\n2. **Currency**: Euros for local purchases (though credit cards are widely accepted).\\n3. **Guidebook or Map**: Helpful for navigating the city, though you can also use your smartphone.\\n4. **Adapters/Converters**: Germany uses Type C and F plugs, so bring the appropriate power adapters for your devices.\\n\\n### Optional Items\\n1. **Notebook or Journal**: If you like to document your travels.\\n2. **Books or E-Reader**: For downtime or travel.\\n3. **Snacks**: For long days of sightseeing.\\n\\n### Tips\\n- **Check the Weather Forecast**: Before you leave, check the weather forecast for Berlin to make any last-minute adjustments to your packing.\\n- **Pack Light**: Try to pack versatile clothing that can be mixed and matched to save space.\\n- **Leave Room for Souvenirs**: If you plan to shop, consider leaving some space in your luggage for new items.\\n\\nBy packing thoughtfully, you’ll be well-prepared to enjoy your trip to Berlin!\""
      ]
     },
     "execution_count": 4,
     "metadata": {},
     "output_type": "execute_result"
    }
   ],
   "source": [
    "Swayam.execute(\"What should I pack for my trip?\")"
   ]
  },
  {
   "cell_type": "markdown",
   "metadata": {},
   "source": [
    "#### Resetting Context\n",
    "\n",
    "You might want to reset the context at some stage.\n",
    "\n",
    "You can do that by passing **reset_context** to True to the execute call."
   ]
  },
  {
   "cell_type": "code",
   "execution_count": 5,
   "metadata": {},
   "outputs": [
    {
     "name": "stdout",
     "output_type": "stream",
     "text": [
      "Executing Conversation with 1 step(s)\n",
      "--------------------------------------------------------------------------------\n",
      "Prompt: (Role: system)\n",
      "You are a helpful assistant who deliberates and provides useful answers to my queries.\n",
      "--------------------------------------------------------------------------------\n",
      "--------------------------------------------------------------------------------\n",
      "Prompt: (Role: user)\n",
      "What else should I take there?\n",
      "--------------------------------------------------------------------------------\n",
      "Response:\n",
      "To provide you with the best suggestions, could you please specify what type of trip you are planning? For example, are you going on a vacation, a business trip, a camping trip, or something else? Additionally, knowing the destination and duration of your trip would help tailor the recommendations.\n",
      "--------------------------------------------------------------------------------\n"
     ]
    },
    {
     "data": {
      "text/plain": [
       "'To provide you with the best suggestions, could you please specify what type of trip you are planning? For example, are you going on a vacation, a business trip, a camping trip, or something else? Additionally, knowing the destination and duration of your trip would help tailor the recommendations.'"
      ]
     },
     "execution_count": 5,
     "metadata": {},
     "output_type": "execute_result"
    }
   ],
   "source": [
    "Swayam.execute(\"What else should I take there?\", reset_context=True)"
   ]
  },
  {
   "cell_type": "code",
   "execution_count": 6,
   "metadata": {},
   "outputs": [
    {
     "name": "stdout",
     "output_type": "stream",
     "text": [
      "Executing Conversation with 1 step(s)\n",
      "--------------------------------------------------------------------------------\n",
      "Prompt: (Role: user)\n",
      "Sorry I forgot to mention. We were talking about Berlin.\n",
      "--------------------------------------------------------------------------------\n",
      "Response:\n",
      "No problem! If you're planning a trip to Berlin, here are some essential items and suggestions to consider bringing along:\n",
      "\n",
      "### Essentials:\n",
      "1. **Travel Documents**: Passport, visa (if required), travel insurance, and any necessary tickets or reservations.\n",
      "2. **Clothing**: Check the weather forecast for your travel dates. Bring layers, as Berlin can be quite variable. Comfortable walking shoes are a must!\n",
      "3. **Electronics**: Phone, charger, and a portable power bank. If you plan to take photos, consider a camera.\n",
      "4. **Adapters**: Germany uses Type C and F plugs, so bring a suitable power adapter if your devices have different plugs.\n",
      "5. **Personal Items**: Toiletries, medications, and any personal care items you may need.\n",
      "\n",
      "### Additional Suggestions:\n",
      "1. **Guidebook or Map**: While smartphones are handy, having a physical map or guidebook can be useful, especially if you want to explore areas with limited internet access.\n",
      "2. **Reusable Water Bottle**: Stay hydrated while exploring the city.\n",
      "3. **Umbrella or Rain Jacket**: Berlin weather can be unpredictable, so it's good to be prepared for rain.\n",
      "4. **Snacks**: Pack some snacks for your outings, especially if you plan to spend long days exploring.\n",
      "5. **Comfortable Backpack**: A small backpack or daypack for carrying your essentials while you explore.\n",
      "\n",
      "### Cultural Considerations:\n",
      "1. **Phrasebook or Language App**: While many people in Berlin speak English, knowing a few basic German phrases can enhance your experience.\n",
      "2. **Local Currency**: While credit cards are widely accepted, having some cash on hand for small purchases or in case you visit places that don’t accept cards is a good idea.\n",
      "\n",
      "### Activities and Experiences:\n",
      "1. **Museum Pass**: If you plan to visit multiple museums, consider getting a Berlin Museum Pass for savings.\n",
      "2. **Public Transport Card**: Get a Berlin Welcome Card for unlimited travel on public transport and discounts on attractions.\n",
      "\n",
      "### Optional Items:\n",
      "1. **Travel Journal**: If you like to document your travels, a journal can be a great way to capture your experiences.\n",
      "2. **Portable Wi-Fi Device**: If you need constant internet access, consider renting a portable Wi-Fi device.\n",
      "\n",
      "Feel free to adjust this list based on your personal preferences and the specific activities you plan to do in Berlin! Enjoy your trip!\n",
      "--------------------------------------------------------------------------------\n"
     ]
    },
    {
     "data": {
      "text/plain": [
       "\"No problem! If you're planning a trip to Berlin, here are some essential items and suggestions to consider bringing along:\\n\\n### Essentials:\\n1. **Travel Documents**: Passport, visa (if required), travel insurance, and any necessary tickets or reservations.\\n2. **Clothing**: Check the weather forecast for your travel dates. Bring layers, as Berlin can be quite variable. Comfortable walking shoes are a must!\\n3. **Electronics**: Phone, charger, and a portable power bank. If you plan to take photos, consider a camera.\\n4. **Adapters**: Germany uses Type C and F plugs, so bring a suitable power adapter if your devices have different plugs.\\n5. **Personal Items**: Toiletries, medications, and any personal care items you may need.\\n\\n### Additional Suggestions:\\n1. **Guidebook or Map**: While smartphones are handy, having a physical map or guidebook can be useful, especially if you want to explore areas with limited internet access.\\n2. **Reusable Water Bottle**: Stay hydrated while exploring the city.\\n3. **Umbrella or Rain Jacket**: Berlin weather can be unpredictable, so it's good to be prepared for rain.\\n4. **Snacks**: Pack some snacks for your outings, especially if you plan to spend long days exploring.\\n5. **Comfortable Backpack**: A small backpack or daypack for carrying your essentials while you explore.\\n\\n### Cultural Considerations:\\n1. **Phrasebook or Language App**: While many people in Berlin speak English, knowing a few basic German phrases can enhance your experience.\\n2. **Local Currency**: While credit cards are widely accepted, having some cash on hand for small purchases or in case you visit places that don’t accept cards is a good idea.\\n\\n### Activities and Experiences:\\n1. **Museum Pass**: If you plan to visit multiple museums, consider getting a Berlin Museum Pass for savings.\\n2. **Public Transport Card**: Get a Berlin Welcome Card for unlimited travel on public transport and discounts on attractions.\\n\\n### Optional Items:\\n1. **Travel Journal**: If you like to document your travels, a journal can be a great way to capture your experiences.\\n2. **Portable Wi-Fi Device**: If you need constant internet access, consider renting a portable Wi-Fi device.\\n\\nFeel free to adjust this list based on your personal preferences and the specific activities you plan to do in Berlin! Enjoy your trip!\""
      ]
     },
     "execution_count": 6,
     "metadata": {},
     "output_type": "execute_result"
    }
   ],
   "source": [
    "Swayam.execute(\"Sorry I forgot to mention. We were talking about Berlin.\")"
   ]
  }
 ],
 "metadata": {
  "kernelspec": {
   "display_name": "py3108",
   "language": "python",
   "name": "python3"
  },
  "language_info": {
   "codemirror_mode": {
    "name": "ipython",
    "version": 3
   },
   "file_extension": ".py",
   "mimetype": "text/x-python",
   "name": "python",
   "nbconvert_exporter": "python",
   "pygments_lexer": "ipython3",
   "version": "3.10.8"
  }
 },
 "nbformat": 4,
 "nbformat_minor": 2
}
