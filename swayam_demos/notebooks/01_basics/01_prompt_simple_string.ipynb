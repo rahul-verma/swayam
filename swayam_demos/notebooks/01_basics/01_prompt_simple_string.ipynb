{
 "cells": [
  {
   "cell_type": "code",
   "execution_count": 1,
   "metadata": {},
   "outputs": [],
   "source": [
    "from env import *\n",
    "from swayam import *"
   ]
  },
  {
   "cell_type": "markdown",
   "metadata": {},
   "source": [
    "### Basic Chatting"
   ]
  },
  {
   "cell_type": "markdown",
   "metadata": {},
   "source": [
    "#### Prompt as a String\n",
    "\n",
    "Let's run a basic text prompt.\n",
    "\n",
    "We'll use the most basic form of using Swayam to start with."
   ]
  },
  {
   "cell_type": "code",
   "execution_count": 2,
   "metadata": {},
   "outputs": [
    {
     "name": "stdout",
     "output_type": "stream",
     "text": [
      "Executing Conversation with 1 prompt(s).\n",
      "--------------------------------------------------------------------------------\n",
      "Prompt: (Role: user)\n",
      "I am planning a trip to Berlin in June. Create a list of places worth seeing there.\n",
      "--------------------------------------------------------------------------------\n",
      "Response:\n",
      "Berlin is a vibrant city with a rich history, diverse culture, and plenty of attractions. Here’s a list of must-see places to consider for your trip in June:\n",
      "\n",
      "1. **Brandenburg Gate (Brandenburger Tor)** - An iconic symbol of Berlin and a must-visit landmark.\n",
      "\n",
      "2. **Reichstag Building** - The seat of the German Parliament, featuring a stunning glass dome that offers panoramic views of the city.\n",
      "\n",
      "3. **Berlin Wall Memorial (Gedenkstätte Berliner Mauer)** - A historical site that commemorates the division of Berlin and includes a preserved section of the Wall.\n",
      "\n",
      "4. **East Side Gallery** - A 1.3 km-long stretch of the Berlin Wall covered in murals and street art, showcasing messages of peace and freedom.\n",
      "\n",
      "5. **Museum Island (Museumsinsel)** - A UNESCO World Heritage site that houses several world-renowned museums, including the Pergamon Museum and the Altes Museum.\n",
      "\n",
      "6. **Checkpoint Charlie** - The famous border crossing point between East and West Berlin during the Cold War, now a popular tourist attraction.\n",
      "\n",
      "7. **Potsdamer Platz** - A bustling square known for its modern architecture, shopping, and entertainment options.\n",
      "\n",
      "8. **Charlottenburg Palace (Schloss Charlottenburg)** - A beautiful baroque palace with stunning gardens, perfect for a leisurely stroll.\n",
      "\n",
      "9. **Kaiser Wilhelm Memorial Church** - A striking church that serves as a memorial to peace and reconciliation, with its partially destroyed tower.\n",
      "\n",
      "10. **Tiergarten** - Berlin’s largest park, ideal for a relaxing walk, a picnic, or renting a bike to explore.\n",
      "\n",
      "11. **Berlin Cathedral (Berliner Dom)** - A magnificent Protestant cathedral with a stunning dome and beautiful interiors.\n",
      "\n",
      "12. **Jewish Museum Berlin** - A thought-provoking museum that explores Jewish history and culture in Germany.\n",
      "\n",
      "13. **Tempelhofer Feld** - A former airport turned public park, where you can walk, cycle, or even kite-surf on the runways.\n",
      "\n",
      "14. **Sachsenhausen Concentration Camp Memorial** - A sobering site located just outside Berlin, offering insights into the Holocaust and Nazi history.\n",
      "\n",
      "15. **Mauerpark** - A lively park known for its flea market, karaoke sessions, and vibrant atmosphere, especially on Sundays.\n",
      "\n",
      "16. **Berlin Zoo and Aquarium** - One of the oldest zoos in the world, home to a wide variety of animals and a great place for families.\n",
      "\n",
      "17. **Gendarmenmarkt** - A beautiful square featuring the German and French Cathedrals and the Konzerthaus, often considered one of the most beautiful squares in Berlin.\n",
      "\n",
      "18. **Friedrichstraße** - A major shopping street with a mix of high-end shops, boutiques, and restaurants.\n",
      "\n",
      "19. **Kreuzberg District** - Known for its multicultural vibe, street art, and lively nightlife, it’s a great area to explore local cafes and bars.\n",
      "\n",
      "20. **Spree River Cruise** - Consider taking a boat tour along the Spree River for a unique perspective of the city’s landmarks.\n",
      "\n",
      "Make sure to check local events and festivals happening in June, as Berlin often hosts various cultural events during the summer months. Enjoy your trip!\n",
      "--------------------------------------------------------------------------------\n"
     ]
    },
    {
     "data": {
      "text/plain": [
       "'Berlin is a vibrant city with a rich history, diverse culture, and plenty of attractions. Here’s a list of must-see places to consider for your trip in June:\\n\\n1. **Brandenburg Gate (Brandenburger Tor)** - An iconic symbol of Berlin and a must-visit landmark.\\n\\n2. **Reichstag Building** - The seat of the German Parliament, featuring a stunning glass dome that offers panoramic views of the city.\\n\\n3. **Berlin Wall Memorial (Gedenkstätte Berliner Mauer)** - A historical site that commemorates the division of Berlin and includes a preserved section of the Wall.\\n\\n4. **East Side Gallery** - A 1.3 km-long stretch of the Berlin Wall covered in murals and street art, showcasing messages of peace and freedom.\\n\\n5. **Museum Island (Museumsinsel)** - A UNESCO World Heritage site that houses several world-renowned museums, including the Pergamon Museum and the Altes Museum.\\n\\n6. **Checkpoint Charlie** - The famous border crossing point between East and West Berlin during the Cold War, now a popular tourist attraction.\\n\\n7. **Potsdamer Platz** - A bustling square known for its modern architecture, shopping, and entertainment options.\\n\\n8. **Charlottenburg Palace (Schloss Charlottenburg)** - A beautiful baroque palace with stunning gardens, perfect for a leisurely stroll.\\n\\n9. **Kaiser Wilhelm Memorial Church** - A striking church that serves as a memorial to peace and reconciliation, with its partially destroyed tower.\\n\\n10. **Tiergarten** - Berlin’s largest park, ideal for a relaxing walk, a picnic, or renting a bike to explore.\\n\\n11. **Berlin Cathedral (Berliner Dom)** - A magnificent Protestant cathedral with a stunning dome and beautiful interiors.\\n\\n12. **Jewish Museum Berlin** - A thought-provoking museum that explores Jewish history and culture in Germany.\\n\\n13. **Tempelhofer Feld** - A former airport turned public park, where you can walk, cycle, or even kite-surf on the runways.\\n\\n14. **Sachsenhausen Concentration Camp Memorial** - A sobering site located just outside Berlin, offering insights into the Holocaust and Nazi history.\\n\\n15. **Mauerpark** - A lively park known for its flea market, karaoke sessions, and vibrant atmosphere, especially on Sundays.\\n\\n16. **Berlin Zoo and Aquarium** - One of the oldest zoos in the world, home to a wide variety of animals and a great place for families.\\n\\n17. **Gendarmenmarkt** - A beautiful square featuring the German and French Cathedrals and the Konzerthaus, often considered one of the most beautiful squares in Berlin.\\n\\n18. **Friedrichstraße** - A major shopping street with a mix of high-end shops, boutiques, and restaurants.\\n\\n19. **Kreuzberg District** - Known for its multicultural vibe, street art, and lively nightlife, it’s a great area to explore local cafes and bars.\\n\\n20. **Spree River Cruise** - Consider taking a boat tour along the Spree River for a unique perspective of the city’s landmarks.\\n\\nMake sure to check local events and festivals happening in June, as Berlin often hosts various cultural events during the summer months. Enjoy your trip!'"
      ]
     },
     "execution_count": 2,
     "metadata": {},
     "output_type": "execute_result"
    }
   ],
   "source": [
    "prompt = \"I am planning a trip to Berlin in June. Create a list of places worth seeing there.\"\n",
    "Swayam.execute(prompt)"
   ]
  },
  {
   "cell_type": "markdown",
   "metadata": {},
   "source": [
    "#### Context Management\n",
    "\n",
    "By default prompts are executed in the same context. So, there is not need for managing it explicitly in Swayam."
   ]
  },
  {
   "cell_type": "code",
   "execution_count": 3,
   "metadata": {},
   "outputs": [
    {
     "name": "stdout",
     "output_type": "stream",
     "text": [
      "Executing Conversation with 1 prompt(s).\n",
      "--------------------------------------------------------------------------------\n",
      "Prompt: (Role: user)\n",
      "What should I pack for my trip?\n",
      "--------------------------------------------------------------------------------\n",
      "Response:\n",
      "Packing for a trip to Berlin in June requires consideration of the weather, activities, and your personal preferences. Here’s a comprehensive packing list to help you prepare:\n",
      "\n",
      "### Clothing\n",
      "1. **Lightweight Clothing**: June in Berlin can be warm, with temperatures typically ranging from 15°C to 25°C (59°F to 77°F). Pack breathable fabrics like cotton and linen.\n",
      "2. **Layers**: Evenings can be cooler, so bring a light sweater or cardigan.\n",
      "3. **Comfortable Shoes**: You’ll likely be doing a lot of walking, so pack comfortable walking shoes or sneakers.\n",
      "4. **Dressy Outfit**: If you plan to dine out or attend events, consider packing a nicer outfit.\n",
      "5. **Rain Jacket or Umbrella**: June can have occasional rain showers, so a lightweight, packable rain jacket or a small umbrella is a good idea.\n",
      "6. **Sunglasses and Hat**: Protect yourself from the sun while exploring the city.\n",
      "\n",
      "### Accessories\n",
      "1. **Daypack or Tote Bag**: A small backpack or tote for daily excursions to carry essentials like water, snacks, and a camera.\n",
      "2. **Reusable Water Bottle**: Stay hydrated while exploring the city.\n",
      "3. **Travel Adapter**: Germany uses Type C and F plugs, so bring a suitable adapter for your electronics.\n",
      "4. **Camera or Smartphone**: To capture the sights and memories of your trip.\n",
      "\n",
      "### Toiletries\n",
      "1. **Basic Toiletries**: Toothbrush, toothpaste, shampoo, conditioner, soap, deodorant, etc.\n",
      "2. **Sunscreen**: Protect your skin from sun exposure, especially if you plan to spend a lot of time outdoors.\n",
      "3. **Personal Medications**: Bring any necessary medications, along with a small first-aid kit.\n",
      "\n",
      "### Travel Essentials\n",
      "1. **Passport and ID**: Ensure your passport is valid for the duration of your stay.\n",
      "2. **Travel Insurance**: Consider having a copy of your travel insurance policy.\n",
      "3. **Itinerary and Reservations**: Print or save digital copies of your travel itinerary, accommodation details, and any tickets for attractions.\n",
      "4. **Cash and Credit Cards**: While credit cards are widely accepted, it’s good to have some cash for smaller purchases or in case of emergencies.\n",
      "\n",
      "### Optional Items\n",
      "1. **Guidebook or Map**: If you prefer physical guides, bring a travel guidebook or a map of Berlin.\n",
      "2. **Portable Charger**: Keep your devices charged while on the go.\n",
      "3. **Notebook or Journal**: If you like to document your travels, bring a small notebook.\n",
      "\n",
      "### Tips\n",
      "- **Check the Weather**: Before you leave, check the weather forecast for Berlin to make any last-minute adjustments to your packing.\n",
      "- **Pack Light**: Try to pack versatile clothing that can be mixed and matched to save space in your luggage.\n",
      "\n",
      "By considering these items, you’ll be well-prepared for your trip to Berlin in June. Enjoy your travels!\n",
      "--------------------------------------------------------------------------------\n"
     ]
    },
    {
     "data": {
      "text/plain": [
       "'Packing for a trip to Berlin in June requires consideration of the weather, activities, and your personal preferences. Here’s a comprehensive packing list to help you prepare:\\n\\n### Clothing\\n1. **Lightweight Clothing**: June in Berlin can be warm, with temperatures typically ranging from 15°C to 25°C (59°F to 77°F). Pack breathable fabrics like cotton and linen.\\n2. **Layers**: Evenings can be cooler, so bring a light sweater or cardigan.\\n3. **Comfortable Shoes**: You’ll likely be doing a lot of walking, so pack comfortable walking shoes or sneakers.\\n4. **Dressy Outfit**: If you plan to dine out or attend events, consider packing a nicer outfit.\\n5. **Rain Jacket or Umbrella**: June can have occasional rain showers, so a lightweight, packable rain jacket or a small umbrella is a good idea.\\n6. **Sunglasses and Hat**: Protect yourself from the sun while exploring the city.\\n\\n### Accessories\\n1. **Daypack or Tote Bag**: A small backpack or tote for daily excursions to carry essentials like water, snacks, and a camera.\\n2. **Reusable Water Bottle**: Stay hydrated while exploring the city.\\n3. **Travel Adapter**: Germany uses Type C and F plugs, so bring a suitable adapter for your electronics.\\n4. **Camera or Smartphone**: To capture the sights and memories of your trip.\\n\\n### Toiletries\\n1. **Basic Toiletries**: Toothbrush, toothpaste, shampoo, conditioner, soap, deodorant, etc.\\n2. **Sunscreen**: Protect your skin from sun exposure, especially if you plan to spend a lot of time outdoors.\\n3. **Personal Medications**: Bring any necessary medications, along with a small first-aid kit.\\n\\n### Travel Essentials\\n1. **Passport and ID**: Ensure your passport is valid for the duration of your stay.\\n2. **Travel Insurance**: Consider having a copy of your travel insurance policy.\\n3. **Itinerary and Reservations**: Print or save digital copies of your travel itinerary, accommodation details, and any tickets for attractions.\\n4. **Cash and Credit Cards**: While credit cards are widely accepted, it’s good to have some cash for smaller purchases or in case of emergencies.\\n\\n### Optional Items\\n1. **Guidebook or Map**: If you prefer physical guides, bring a travel guidebook or a map of Berlin.\\n2. **Portable Charger**: Keep your devices charged while on the go.\\n3. **Notebook or Journal**: If you like to document your travels, bring a small notebook.\\n\\n### Tips\\n- **Check the Weather**: Before you leave, check the weather forecast for Berlin to make any last-minute adjustments to your packing.\\n- **Pack Light**: Try to pack versatile clothing that can be mixed and matched to save space in your luggage.\\n\\nBy considering these items, you’ll be well-prepared for your trip to Berlin in June. Enjoy your travels!'"
      ]
     },
     "execution_count": 3,
     "metadata": {},
     "output_type": "execute_result"
    }
   ],
   "source": [
    "Swayam.execute(\"What should I pack for my trip?\")"
   ]
  }
 ],
 "metadata": {
  "kernelspec": {
   "display_name": "py3108",
   "language": "python",
   "name": "python3"
  },
  "language_info": {
   "codemirror_mode": {
    "name": "ipython",
    "version": 3
   },
   "file_extension": ".py",
   "mimetype": "text/x-python",
   "name": "python",
   "nbconvert_exporter": "python",
   "pygments_lexer": "ipython3",
   "version": "3.10.8"
  }
 },
 "nbformat": 4,
 "nbformat_minor": 2
}
