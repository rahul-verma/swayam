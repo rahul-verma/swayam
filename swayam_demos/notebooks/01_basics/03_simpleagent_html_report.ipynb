{
 "cells": [
  {
   "cell_type": "code",
   "execution_count": null,
   "metadata": {},
   "outputs": [],
   "source": [
    "from env import *\n",
    "from swayam import *"
   ]
  },
  {
   "cell_type": "markdown",
   "metadata": {},
   "source": [
    "### HTML Report\n",
    "\n",
    "As discussed earlier, by default, the agent creates an HTML report and the console reporting is switched off.\n",
    "\n",
    "In the following code, although two separate invocations are made to **Agent.execute**, as the context is maintained, these are treated as a part of the same conversation and hence reported under the same conversation node."
   ]
  },
  {
   "cell_type": "code",
   "execution_count": null,
   "metadata": {},
   "outputs": [],
   "source": [
    "agent = Swayam.agent(run_id=\"test\")\n",
    "\n",
    "# First prompt\n",
    "text_prompt = \"I am planning a trip to Berlin in June. Create a list of places worth seeing there.\"\n",
    "user_prompt = Prompt.text(text_prompt)\n",
    "agent.execute(user_prompt, show_in_browser=True)\n",
    "\n",
    "# Second prompt\n",
    "text_prompt = \"What should I pack for my trip?\"\n",
    "user_prompt = Prompt.text(text_prompt)\n",
    "agent.execute(user_prompt, reset_context=False)"
   ]
  },
  {
   "cell_type": "markdown",
   "metadata": {},
   "source": [
    "Once the context is reset, a new conversation node is created."
   ]
  },
  {
   "cell_type": "code",
   "execution_count": null,
   "metadata": {},
   "outputs": [],
   "source": [
    "text_prompt = \"What else can you think of?\"\n",
    "user_prompt = Prompt.text(text_prompt)\n",
    "agent.execute(user_prompt) # Context resetting is the default behavior"
   ]
  }
 ],
 "metadata": {
  "kernelspec": {
   "display_name": "py3108",
   "language": "python",
   "name": "python3"
  },
  "language_info": {
   "codemirror_mode": {
    "name": "ipython",
    "version": 3
   },
   "file_extension": ".py",
   "mimetype": "text/x-python",
   "name": "python",
   "nbconvert_exporter": "python",
   "pygments_lexer": "ipython3",
   "version": "3.10.8"
  }
 },
 "nbformat": 4,
 "nbformat_minor": 2
}
