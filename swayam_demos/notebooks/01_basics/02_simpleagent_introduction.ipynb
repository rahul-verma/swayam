{
 "cells": [
  {
   "cell_type": "code",
   "execution_count": null,
   "metadata": {},
   "outputs": [],
   "source": [
    "from env import *\n",
    "from swayam import *"
   ]
  },
  {
   "cell_type": "markdown",
   "metadata": {},
   "source": [
    "### Agent : The underlying magic\n",
    "\n",
    "While using **Swayam.execute** is fine for very basic usage of Swayam, the real fun is in exploring the underlying objects.\n",
    "\n",
    "Agent is the object responsible for routing requests to appropriate executors in Swayam. In the process, it provides many advanced features.\n",
    "\n",
    "We'll start with the basic usage here."
   ]
  },
  {
   "cell_type": "markdown",
   "metadata": {},
   "source": [
    "#### The Devil in the Details\n",
    "\n",
    "While **Swayam.execute** makes it absolutely easy to make a call to an LLM, following are some points to note, in a professional usage of a frameworks:\n",
    "1. The context management carry over should be precisely controlled to avoid carry overs from one conversation to another. So, it is switched off by default.\n",
    "2. Console reporting is fine for chatting or debugging, but in a longer semi-automated scenarios, we need a better reporting system.\n",
    "3. Providing strings directly as prompts is ok for casual usage, not when you want to have a persistent prompt library maintained in a project. For that, you also need to plan a project structure.\n",
    "\n",
    "So, in the code that follows, at first glance one is bound to think that using **Router** is complex and almost negates the defaults in **Swayam.execute**. This is deliberate, not to make it intentionally difficult, rather to make the more difficult usage scenarios more approachable."
   ]
  },
  {
   "cell_type": "markdown",
   "metadata": {},
   "source": [
    "### Equivalent of Swayam.execute"
   ]
  },
  {
   "cell_type": "code",
   "execution_count": null,
   "metadata": {},
   "outputs": [],
   "source": [
    "agent = Swayam.agent(display=True, report_html=False)"
   ]
  },
  {
   "cell_type": "markdown",
   "metadata": {},
   "source": [
    "#### Executing a Text Prompt with Router\n",
    "\n",
    "The Router object deals with execution of multiple types of object.\n",
    "\n",
    "So, to execute a text based prompt, there are some steps that are needed (**Swayam.execute** deals with only one use case, so it does it for you in case of a text prompt.)"
   ]
  },
  {
   "cell_type": "markdown",
   "metadata": {},
   "source": [
    "#### Create a UserPrompt object"
   ]
  },
  {
   "cell_type": "code",
   "execution_count": null,
   "metadata": {},
   "outputs": [],
   "source": [
    "text_prompt = \"I am planning a trip to Berlin in June. Create a list of places worth seeing there.\"\n",
    "user_prompt = Prompt.text(text_prompt)"
   ]
  },
  {
   "cell_type": "markdown",
   "metadata": {},
   "source": [
    "#### Execution"
   ]
  },
  {
   "cell_type": "code",
   "execution_count": null,
   "metadata": {},
   "outputs": [],
   "source": [
    "agent.execute(user_prompt)"
   ]
  },
  {
   "cell_type": "markdown",
   "metadata": {},
   "source": [
    "#### Maintaining Context across multiple **Router.execute** Calls\n",
    "\n",
    "By default the context is reset unlike **Swayam.execute**"
   ]
  },
  {
   "cell_type": "code",
   "execution_count": null,
   "metadata": {},
   "outputs": [],
   "source": [
    "prompt = \"What should I pack for my trip?\"\n",
    "user_prompt = Prompt.text(prompt)\n",
    "agent.execute(user_prompt, reset_context=False)"
   ]
  },
  {
   "cell_type": "markdown",
   "metadata": {},
   "source": [
    "#### Resetting Context\n",
    "\n",
    "As this is the default in Router, a simple execute call suffices."
   ]
  },
  {
   "cell_type": "code",
   "execution_count": null,
   "metadata": {},
   "outputs": [],
   "source": [
    "prompt = \"What else should I take there?\"\n",
    "user_prompt = Prompt.text(prompt)\n",
    "agent.execute(user_prompt)"
   ]
  }
 ],
 "metadata": {
  "kernelspec": {
   "display_name": "py3108",
   "language": "python",
   "name": "python3"
  },
  "language_info": {
   "codemirror_mode": {
    "name": "ipython",
    "version": 3
   },
   "file_extension": ".py",
   "mimetype": "text/x-python",
   "name": "python",
   "nbconvert_exporter": "python",
   "pygments_lexer": "ipython3",
   "version": "3.10.8"
  }
 },
 "nbformat": 4,
 "nbformat_minor": 2
}
