{
 "cells": [
  {
   "cell_type": "code",
   "execution_count": 1,
   "metadata": {},
   "outputs": [
    {
     "ename": "ValueError",
     "evalue": "Tarkash has not been initialized.",
     "output_type": "error",
     "traceback": [
      "\u001b[0;31m---------------------------------------------------------------------------\u001b[0m",
      "\u001b[0;31mValueError\u001b[0m                                Traceback (most recent call last)",
      "Cell \u001b[0;32mIn[1], line 1\u001b[0m\n\u001b[0;32m----> 1\u001b[0m \u001b[38;5;28;01mfrom\u001b[39;00m \u001b[38;5;21;01mtest_utils\u001b[39;00m \u001b[38;5;28;01mimport\u001b[39;00m \u001b[38;5;241m*\u001b[39m\n\u001b[1;32m      2\u001b[0m \u001b[38;5;28;01mfrom\u001b[39;00m \u001b[38;5;21;01mswayam\u001b[39;00m \u001b[38;5;28;01mimport\u001b[39;00m \u001b[38;5;241m*\u001b[39m\n",
      "File \u001b[0;32m~/Documents/GitHub/swayam/swayam_demos/notebooks/07_builtin_tools/test_utils.py:7\u001b[0m\n\u001b[1;32m      4\u001b[0m     sys\u001b[38;5;241m.\u001b[39mpath\u001b[38;5;241m.\u001b[39mappend(os\u001b[38;5;241m.\u001b[39mpath\u001b[38;5;241m.\u001b[39mjoin(base_path, path)) \n\u001b[1;32m      6\u001b[0m \u001b[38;5;28;01mfrom\u001b[39;00m \u001b[38;5;21;01mswayam\u001b[39;00m \u001b[38;5;28;01mimport\u001b[39;00m Swayam\n\u001b[0;32m----> 7\u001b[0m \u001b[43mSwayam\u001b[49m\u001b[38;5;241;43m.\u001b[39;49m\u001b[43minit\u001b[49m\u001b[43m(\u001b[49m\u001b[43m)\u001b[49m\n",
      "File \u001b[0;32m~/Documents/GitHub/swayam/swayam/core/facade.py:86\u001b[0m, in \u001b[0;36mSwayam.init\u001b[0;34m(cls)\u001b[0m\n\u001b[1;32m     83\u001b[0m \u001b[38;5;129m@classmethod\u001b[39m\n\u001b[1;32m     84\u001b[0m \u001b[38;5;28;01mdef\u001b[39;00m \u001b[38;5;21minit\u001b[39m(\u001b[38;5;28mcls\u001b[39m):\n\u001b[1;32m     85\u001b[0m     \u001b[38;5;28mcls\u001b[39m\u001b[38;5;241m.\u001b[39m_SWAYAM_SINGLETON \u001b[38;5;241m=\u001b[39m _SwayamSingleton()\n\u001b[0;32m---> 86\u001b[0m     \u001b[38;5;28;43mcls\u001b[39;49m\u001b[38;5;241;43m.\u001b[39;49m\u001b[43m_SWAYAM_SINGLETON\u001b[49m\u001b[38;5;241;43m.\u001b[39;49m\u001b[43minit\u001b[49m\u001b[43m(\u001b[49m\u001b[43m)\u001b[49m\n",
      "File \u001b[0;32m~/Documents/GitHub/swayam/swayam/core/facade.py:51\u001b[0m, in \u001b[0;36m_SwayamSingleton.init\u001b[0;34m(self)\u001b[0m\n\u001b[1;32m     48\u001b[0m \u001b[38;5;66;03m# Swayam's initialisation depends on Tarkash.init() called  by the creator of the final project using the Traksh based stack of libs.\u001b[39;00m\n\u001b[1;32m     50\u001b[0m \u001b[38;5;28mself\u001b[39m\u001b[38;5;241m.\u001b[39m__root_dir \u001b[38;5;241m=\u001b[39m \u001b[38;5;28mself\u001b[39m\u001b[38;5;241m.\u001b[39m__join_paths(os\u001b[38;5;241m.\u001b[39mpath\u001b[38;5;241m.\u001b[39mdirname(os\u001b[38;5;241m.\u001b[39mpath\u001b[38;5;241m.\u001b[39mrealpath(\u001b[38;5;18m__file__\u001b[39m)), \u001b[38;5;124m\"\u001b[39m\u001b[38;5;124m..\u001b[39m\u001b[38;5;124m\"\u001b[39m)\n\u001b[0;32m---> 51\u001b[0m \u001b[38;5;28mself\u001b[39m\u001b[38;5;241m.\u001b[39m__project_dir \u001b[38;5;241m=\u001b[39m \u001b[43mTarkash\u001b[49m\u001b[38;5;241;43m.\u001b[39;49m\u001b[43mget_option_value\u001b[49m\u001b[43m(\u001b[49m\u001b[43mSwayamOption\u001b[49m\u001b[38;5;241;43m.\u001b[39;49m\u001b[43mPROJECT_DIR\u001b[49m\u001b[43m)\u001b[49m\n\u001b[1;32m     53\u001b[0m \u001b[38;5;28mself\u001b[39m\u001b[38;5;241m.\u001b[39m__register_config_with_tarkash()\n\u001b[1;32m     55\u001b[0m \u001b[38;5;66;03m# Create default router\u001b[39;00m\n",
      "File \u001b[0;32m~/Documents/GitHub/tarkash/tarkash/core/facade.py:89\u001b[0m, in \u001b[0;36mTarkash.get_option_value\u001b[0;34m(cls, enum_option)\u001b[0m\n\u001b[1;32m     84\u001b[0m \u001b[38;5;129m@classmethod\u001b[39m\n\u001b[1;32m     85\u001b[0m \u001b[38;5;28;01mdef\u001b[39;00m \u001b[38;5;21mget_option_value\u001b[39m(\u001b[38;5;28mcls\u001b[39m, enum_option):\n\u001b[1;32m     86\u001b[0m \u001b[38;5;250m    \u001b[39m\u001b[38;5;124;03m'''\u001b[39;00m\n\u001b[1;32m     87\u001b[0m \u001b[38;5;124;03m    Get configured value for an option.\u001b[39;00m\n\u001b[1;32m     88\u001b[0m \u001b[38;5;124;03m    '''\u001b[39;00m\n\u001b[0;32m---> 89\u001b[0m     \u001b[38;5;28;01mreturn\u001b[39;00m \u001b[38;5;28;43mcls\u001b[39;49m\u001b[38;5;241;43m.\u001b[39;49m\u001b[43m_TWrapper\u001b[49m\u001b[43m(\u001b[49m\u001b[43m)\u001b[49m\u001b[38;5;241m.\u001b[39mget_option_value(enum_option)\n",
      "File \u001b[0;32m~/Documents/GitHub/tarkash/tarkash/core/facade.py:69\u001b[0m, in \u001b[0;36mTarkash._TWrapper\u001b[0;34m(cls)\u001b[0m\n\u001b[1;32m     66\u001b[0m \u001b[38;5;129m@classmethod\u001b[39m\n\u001b[1;32m     67\u001b[0m \u001b[38;5;28;01mdef\u001b[39;00m \u001b[38;5;21m_TWrapper\u001b[39m(\u001b[38;5;28mcls\u001b[39m):\n\u001b[1;32m     68\u001b[0m     \u001b[38;5;28;01mif\u001b[39;00m \u001b[38;5;28mcls\u001b[39m\u001b[38;5;241m.\u001b[39m_TARKASH_SINGLETON \u001b[38;5;129;01mis\u001b[39;00m \u001b[38;5;28;01mNone\u001b[39;00m:\n\u001b[0;32m---> 69\u001b[0m         \u001b[38;5;28;01mraise\u001b[39;00m \u001b[38;5;167;01mValueError\u001b[39;00m(\u001b[38;5;124m\"\u001b[39m\u001b[38;5;124mTarkash has not been initialized.\u001b[39m\u001b[38;5;124m\"\u001b[39m)\n\u001b[1;32m     70\u001b[0m     \u001b[38;5;28;01mreturn\u001b[39;00m \u001b[38;5;28mcls\u001b[39m\u001b[38;5;241m.\u001b[39m_TARKASH_SINGLETON\n",
      "\u001b[0;31mValueError\u001b[0m: Tarkash has not been initialized."
     ]
    }
   ],
   "source": [
    "from env import *\n",
    "from swayam import *"
   ]
  },
  {
   "cell_type": "markdown",
   "metadata": {},
   "source": [
    "### Built-in Tools\n",
    "\n",
    "For now, we will try ListFiles, a built-in tool in Swayam."
   ]
  },
  {
   "cell_type": "code",
   "execution_count": null,
   "metadata": {},
   "outputs": [],
   "source": [
    "router = Router(run_id=\"test\")"
   ]
  },
  {
   "cell_type": "code",
   "execution_count": null,
   "metadata": {},
   "outputs": [],
   "source": [
    "Tool.ListFiles(path=\"/Users/rahulverma/Documents/GitHub/trendig/src/trendig_demos/requirements/screenshots\")"
   ]
  },
  {
   "cell_type": "code",
   "execution_count": null,
   "metadata": {},
   "outputs": [],
   "source": [
    "user_prompt = Prompt.text(\"What are the files in my directory: /Users/rahulverma/Documents/GitHub/swayam/swayam_demos/notebooks/02_prompt_deep_dive\", tools=[Tool.ListFiles])\n",
    "router.execute(user_prompt)"
   ]
  }
 ],
 "metadata": {
  "kernelspec": {
   "display_name": "py3108",
   "language": "python",
   "name": "python3"
  },
  "language_info": {
   "codemirror_mode": {
    "name": "ipython",
    "version": 3
   },
   "file_extension": ".py",
   "mimetype": "text/x-python",
   "name": "python",
   "nbconvert_exporter": "python",
   "pygments_lexer": "ipython3",
   "version": "3.10.8"
  }
 },
 "nbformat": 4,
 "nbformat_minor": 2
}
