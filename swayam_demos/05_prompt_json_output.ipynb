{
 "cells": [
  {
   "cell_type": "code",
   "execution_count": null,
   "metadata": {},
   "outputs": [],
   "source": [
    "from test_utils import *\n",
    "from swayam import *"
   ]
  },
  {
   "cell_type": "markdown",
   "metadata": {},
   "source": [
    "## JSON Output\n",
    "\n",
    "Beyond basic conversational usage of an LLM, especially when you want to integrate the output into a subsequent local functionality, getting structured output can be of great help."
   ]
  },
  {
   "cell_type": "code",
   "execution_count": null,
   "metadata": {},
   "outputs": [],
   "source": [
    "router = Router(run_id=\"test\")"
   ]
  },
  {
   "cell_type": "code",
   "execution_count": null,
   "metadata": {},
   "outputs": [],
   "source": [
    "## Following is a Swayam interpretation of an example from OpenAI website.\n",
    "builder = Structure.builder(\"CalendarEvent\")\n",
    "builder.add_field(\"name\", type=str, desc=\"Name of the event\")\n",
    "builder.add_field(\"date\", type=str, desc=\"Date on which the event takes place.\")\n",
    "builder.add_field(\"participants\", type=list[str], desc=\"Names of participants.\")\n",
    "builder.add_field(\"city\", type=list[str], desc=\"City where the event takes place.\")\n",
    "\n",
    "CalendarEvent = builder.build()"
   ]
  },
  {
   "cell_type": "code",
   "execution_count": null,
   "metadata": {},
   "outputs": [],
   "source": [
    "print(CalendarEvent.schema_json())"
   ]
  },
  {
   "cell_type": "code",
   "execution_count": null,
   "metadata": {},
   "outputs": [],
   "source": [
    "text = \"Extract event information: Alice and Bob are going to a science fair on Friday.\"\n",
    "prompt = Prompt.user_prompt(text, response_format=CalendarEvent)\n",
    "router.execute(prompt)"
   ]
  },
  {
   "cell_type": "markdown",
   "metadata": {},
   "source": [
    "Execution of multiple queries will need each one to be context free from another else there is an OpenAI exception relating to a tool call missing."
   ]
  },
  {
   "cell_type": "code",
   "execution_count": null,
   "metadata": {},
   "outputs": [],
   "source": [
    "prompts = [\n",
    "    \"Extract event information: Alice and Bob are going to a science fair on Friday.\",\n",
    "    \"Extract event information: We are going to a science fair on Tuesday.\",\n",
    "    \"Extract event information: Rahul and Pepe are going to the party on 12th August.\"\n",
    "]\n",
    "\n",
    "for prompt in prompts:\n",
    "    router.execute(Prompt.user_prompt(prompt, response_format=CalendarEvent))"
   ]
  }
 ],
 "metadata": {
  "kernelspec": {
   "display_name": "py3108",
   "language": "python",
   "name": "python3"
  },
  "language_info": {
   "codemirror_mode": {
    "name": "ipython",
    "version": 3
   },
   "file_extension": ".py",
   "mimetype": "text/x-python",
   "name": "python",
   "nbconvert_exporter": "python",
   "pygments_lexer": "ipython3",
   "version": "3.10.8"
  }
 },
 "nbformat": 4,
 "nbformat_minor": 2
}
