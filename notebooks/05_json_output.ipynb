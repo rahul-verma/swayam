{
 "cells": [
  {
   "cell_type": "code",
   "execution_count": 1,
   "metadata": {},
   "outputs": [],
   "source": [
    "from test_utils import *\n",
    "from swayam import Agent"
   ]
  },
  {
   "cell_type": "markdown",
   "metadata": {},
   "source": [
    "## JSON Output\n",
    "\n",
    "Beyond basic conversational usage of an LLM, especially when you want to integrate the output into a subsequent local functionality, getting structured output can be of great help."
   ]
  },
  {
   "cell_type": "code",
   "execution_count": 2,
   "metadata": {},
   "outputs": [],
   "source": [
    "agent = Agent()"
   ]
  },
  {
   "cell_type": "code",
   "execution_count": 3,
   "metadata": {},
   "outputs": [],
   "source": [
    "## Example from OpenAI website\n",
    "\n",
    "from swayam import Tool\n",
    "\n",
    "builder = Tool.structure_builder(\"CalendarEvent\")\n",
    "builder.add_field(\"name\", type=str, desc=\"Name of the event\")\n",
    "builder.add_field(\"date\", type=str, desc=\"Date on which the event takes place.\")\n",
    "builder.add_field(\"participants\", type=list[str], desc=\"Names of participants.\")\n",
    "builder.add_field(\"city\", type=list[str], desc=\"City where the event takes place.\")\n",
    "\n",
    "CalendarEvent = builder.build()\n",
    "    \n"
   ]
  },
  {
   "cell_type": "code",
   "execution_count": 4,
   "metadata": {},
   "outputs": [
    {
     "name": "stdout",
     "output_type": "stream",
     "text": [
      "{\"properties\": {\"name\": {\"description\": \"Name of the event\", \"title\": \"Name\", \"type\": \"string\"}, \"date\": {\"description\": \"Date on which the event takes place.\", \"title\": \"Date\", \"type\": \"string\"}, \"participants\": {\"description\": \"Names of participants.\", \"items\": {\"type\": \"string\"}, \"title\": \"Participants\", \"type\": \"array\"}, \"city\": {\"description\": \"City where the event takes place.\", \"items\": {\"type\": \"string\"}, \"title\": \"City\", \"type\": \"array\"}}, \"required\": [\"name\", \"date\", \"participants\", \"city\"], \"title\": \"CalendarEvent\", \"type\": \"object\"}\n"
     ]
    }
   ],
   "source": [
    "print(CalendarEvent.schema_json())"
   ]
  },
  {
   "cell_type": "code",
   "execution_count": 5,
   "metadata": {},
   "outputs": [
    {
     "data": {
      "text/plain": [
       "ParsedChatCompletionMessage[CalendarEvent](content='{\"name\":\"Science Fair\",\"date\":\"Friday\",\"participants\":[\"Alice\",\"Bob\"],\"city\":[] }', refusal=None, role='assistant', function_call=None, tool_calls=[], parsed=CalendarEvent(name='Science Fair', date='Friday', participants=['Alice', 'Bob'], city=[]))"
      ]
     },
     "execution_count": 5,
     "metadata": {},
     "output_type": "execute_result"
    }
   ],
   "source": [
    "prompt = \"Extract event information: Alice and Bob are going to a science fair on Friday.\"\n",
    "agent.execute(prompt, response_format=CalendarEvent, reset_report=True)"
   ]
  },
  {
   "cell_type": "markdown",
   "metadata": {},
   "source": [
    "Execution of multiple queries will need each one to be context free from another else there is an OpenAI exception relating to a tool call missing."
   ]
  },
  {
   "cell_type": "code",
   "execution_count": 6,
   "metadata": {},
   "outputs": [
    {
     "data": {
      "text/plain": [
       "[ParsedChatCompletionMessage[CalendarEvent](content='{\"name\":\"Science Fair\",\"date\":\"Friday\",\"participants\":[\"Alice\",\"Bob\"],\"city\":[] }', refusal=None, role='assistant', function_call=None, tool_calls=[], parsed=CalendarEvent(name='Science Fair', date='Friday', participants=['Alice', 'Bob'], city=[])),\n",
       " ParsedChatCompletionMessage[CalendarEvent](content='{\"name\":\"Science Fair\",\"date\":\"Tuesday\",\"participants\":[],\"city\":[]}', refusal=None, role='assistant', function_call=None, tool_calls=[], parsed=CalendarEvent(name='Science Fair', date='Tuesday', participants=[], city=[])),\n",
       " ParsedChatCompletionMessage[CalendarEvent](content='{\"name\":\"Party\",\"date\":\"2023-08-12\",\"participants\":[\"Rahul\",\"Pepe\"],\"city\":[] }', refusal=None, role='assistant', function_call=None, tool_calls=[], parsed=CalendarEvent(name='Party', date='2023-08-12', participants=['Rahul', 'Pepe'], city=[]))]"
      ]
     },
     "execution_count": 6,
     "metadata": {},
     "output_type": "execute_result"
    }
   ],
   "source": [
    "prompts = [\n",
    "    \"Extract event information: Alice and Bob are going to a science fair on Friday.\",\n",
    "    \"Extract event information: We are going to a science fair on Tuesday.\",\n",
    "    \"Extract event information: Rahul and Pepe are going to the party on 12th August.\"\n",
    "]\n",
    "agent.execute(*prompts, response_format=CalendarEvent, reset_report=True, same_context=False)"
   ]
  }
 ],
 "metadata": {
  "kernelspec": {
   "display_name": "py3108",
   "language": "python",
   "name": "python3"
  },
  "language_info": {
   "codemirror_mode": {
    "name": "ipython",
    "version": 3
   },
   "file_extension": ".py",
   "mimetype": "text/x-python",
   "name": "python",
   "nbconvert_exporter": "python",
   "pygments_lexer": "ipython3",
   "version": "3.10.8"
  }
 },
 "nbformat": 4,
 "nbformat_minor": 2
}
