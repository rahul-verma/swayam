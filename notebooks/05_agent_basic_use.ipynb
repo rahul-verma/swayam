{
 "cells": [
  {
   "cell_type": "code",
   "execution_count": 2,
   "metadata": {},
   "outputs": [],
   "source": [
    "from test_utils import *\n",
    "from swayam import Agent"
   ]
  },
  {
   "cell_type": "markdown",
   "metadata": {},
   "source": [
    "## Agent\n",
    "\n",
    "Under the hood, **Swayam.execute** creates an Agent and calls it's execute method to run prompts. \n",
    "\n",
    "**Swayam.execute** is a simple helper function and accordingly it has limited capabilities. For more involved use cases, **Agent** class is what we need.\n",
    "\n",
    "Here, we'd try a very basic Agent creation to see some equivalent functionality of the **System.execute**. \n",
    "\n",
    "The **Agent** by default uses **HTML Reporting** and the console display is disabled. You can switch on/off these reporting formats with **display** and **repport_html** options."
   ]
  },
  {
   "cell_type": "code",
   "execution_count": 3,
   "metadata": {},
   "outputs": [],
   "source": [
    "agent = Agent()"
   ]
  },
  {
   "cell_type": "code",
   "execution_count": 4,
   "metadata": {},
   "outputs": [
    {
     "data": {
      "text/plain": [
       "\"Berlin is a vibrant city with a rich history, diverse culture, and plenty of attractions. Here’s a list of must-see places to consider for your trip in June:\\n\\n1. **Brandenburg Gate (Brandenburger Tor)** - An iconic symbol of Berlin and a must-visit landmark.\\n\\n2. **Reichstag Building** - The seat of the German Parliament, featuring a stunning glass dome that offers panoramic views of the city.\\n\\n3. **Berlin Wall Memorial (Gedenkstätte Berliner Mauer)** - A historical site that commemorates the division of Berlin and includes a preserved section of the wall.\\n\\n4. **East Side Gallery** - A 1.3 km-long stretch of the Berlin Wall covered in murals and street art, showcasing messages of freedom and unity.\\n\\n5. **Museum Island (Museumsinsel)** - A UNESCO World Heritage site housing several world-renowned museums, including the Pergamon Museum and the Altes Museum.\\n\\n6. **Checkpoint Charlie** - The famous border crossing point between East and West Berlin during the Cold War, now a popular tourist attraction.\\n\\n7. **Potsdamer Platz** - A bustling square known for its modern architecture, shopping, and entertainment options.\\n\\n8. **Charlottenburg Palace (Schloss Charlottenburg)** - A beautiful baroque palace with stunning gardens, perfect for a leisurely stroll.\\n\\n9. **Kaiser Wilhelm Memorial Church** - A striking church that serves as a memorial to peace and reconciliation, with its partially destroyed tower.\\n\\n10. **Tiergarten** - Berlin's largest park, ideal for a relaxing walk, a picnic, or renting a bike to explore.\\n\\n11. **Berlin Cathedral (Berliner Dom)** - A magnificent Protestant cathedral with a stunning dome and beautiful interiors.\\n\\n12. **Jewish Museum Berlin** - A poignant museum that explores Jewish history and culture in Germany, housed in a striking building designed by Daniel Libeskind.\\n\\n13. **Tempelhofer Feld** - A former airport turned public park, where you can walk, cycle, or even kite surf on the runways.\\n\\n14. **Sachsenhausen Concentration Camp Memorial** - A sobering site located just outside Berlin, offering insights into the history of the Holocaust.\\n\\n15. **Mauerpark** - A lively park known for its flea market, karaoke sessions, and vibrant atmosphere, especially on Sundays.\\n\\n16. **Berlin Zoo and Aquarium** - One of the oldest zoos in the world, home to a wide variety of animals and a great place for families.\\n\\n17. **Gendarmenmarkt** - A beautiful square featuring the German and French Cathedrals and the Konzerthaus, often considered one of the most beautiful squares in Berlin.\\n\\n18. **Friedrichstraße** - A major shopping street with a mix of high-end boutiques, restaurants, and cafes.\\n\\n19. **Kreuzberg District** - Known for its multicultural vibe, street art, and lively nightlife, it's a great area to explore local culture.\\n\\n20. **Berlin Philharmonic** - If you're a music lover, consider attending a concert at this world-renowned concert hall.\\n\\nMake sure to check local events and festivals happening in June, as Berlin often hosts various cultural events during the summer months. Enjoy your trip!\""
      ]
     },
     "execution_count": 4,
     "metadata": {},
     "output_type": "execute_result"
    }
   ],
   "source": [
    "agent.execute(\"I am planning a trip to Berlin in June. Create a list of places worth seeing there.\")"
   ]
  },
  {
   "cell_type": "code",
   "execution_count": 5,
   "metadata": {},
   "outputs": [
    {
     "data": {
      "text/plain": [
       "['Berlin is a vibrant city with a rich history, diverse culture, and plenty of attractions. Here’s a list of must-see places to consider for your trip in June:\\n\\n1. **Brandenburg Gate (Brandenburger Tor)** - An iconic symbol of Berlin and a must-visit landmark.\\n\\n2. **Berlin Wall Memorial (Gedenkstätte Berliner Mauer)** - A historical site that commemorates the division of the city and offers insights into the Cold War.\\n\\n3. **Reichstag Building** - The seat of the German Parliament, featuring a stunning glass dome that offers panoramic views of the city.\\n\\n4. **Museum Island (Museumsinsel)** - A UNESCO World Heritage site housing several world-renowned museums, including the Pergamon Museum and the Altes Museum.\\n\\n5. **Checkpoint Charlie** - The famous border crossing point between East and West Berlin during the Cold War, complete with a museum detailing its history.\\n\\n6. **East Side Gallery** - A long stretch of the Berlin Wall covered in colorful murals and street art, representing freedom and artistic expression.\\n\\n7. **Potsdamer Platz** - A bustling square known for its modern architecture, shopping, and entertainment options.\\n\\n8. **Charlottenburg Palace (Schloss Charlottenburg)** - A beautiful baroque palace with stunning gardens, perfect for a leisurely stroll.\\n\\n9. **Tiergarten** - Berlin’s largest park, ideal for picnics, walks, and enjoying nature in the heart of the city.\\n\\n10. **Kaiser Wilhelm Memorial Church (Kaiser-Wilhelm-Gedächtniskirche)** - A striking church that serves as a memorial to peace and reconciliation.\\n\\n11. **Topography of Terror** - An outdoor and indoor history museum located on the site of the former Gestapo and SS headquarters, detailing the history of the Nazi regime.\\n\\n12. **Berlin Cathedral (Berliner Dom)** - A magnificent Protestant cathedral with a stunning dome and beautiful interiors.\\n\\n13. **Sachsenhausen Concentration Camp Memorial** - A sobering site located just outside Berlin, offering insights into the Holocaust and the history of Nazi Germany.\\n\\n14. **Tempelhofer Feld** - A former airport turned public park, perfect for cycling, picnicking, and enjoying outdoor activities.\\n\\n15. **Friedrichshain and Kreuzberg** - Trendy neighborhoods known for their vibrant street art, cafes, and nightlife.\\n\\n16. **Gendarmenmarkt** - A beautiful square featuring the German and French Cathedrals and the Konzerthaus, often considered one of the most beautiful squares in Berlin.\\n\\n17. **Berlin Zoo (Zoologischer Garten Berlin)** - One of the oldest and most famous zoos in the world, home to a wide variety of animals.\\n\\n18. **Mauerpark** - A popular park known for its flea market, karaoke sessions, and vibrant atmosphere, especially on Sundays.\\n\\n19. **Café am Neuen See** - A lovely lakeside café in Tiergarten, perfect for a relaxing break.\\n\\n20. **Berlin Philharmonic** - If you enjoy classical music, consider attending a concert at this renowned concert hall.\\n\\nMake sure to check the opening hours and any special events happening during your visit in June. Enjoy your trip to Berlin!',\n",
       " 'Packing for a trip to Berlin in June requires a balance of comfort, style, and practicality, as the weather can vary. Here’s a comprehensive packing list to help you prepare:\\n\\n### Clothing\\n1. **Lightweight Clothing**: T-shirts, blouses, and lightweight tops for warm days.\\n2. **Layers**: A light sweater or cardigan for cooler evenings.\\n3. **Pants/Shorts**: Comfortable jeans, trousers, or shorts depending on your preference.\\n4. **Dress or Skirt**: For a more polished look or if you plan to dine out.\\n5. **Comfortable Shoes**: Walking shoes or sneakers for exploring the city, plus a pair of sandals or dress shoes.\\n6. **Light Jacket**: A waterproof or windbreaker jacket in case of rain or cooler weather.\\n7. **Scarf or Shawl**: Useful for layering and can add style to your outfit.\\n8. **Undergarments**: Sufficient underwear and socks for your stay.\\n9. **Sleepwear**: Comfortable pajamas for your accommodation.\\n\\n### Accessories\\n1. **Sunglasses**: To protect your eyes from the sun.\\n2. **Hat**: A wide-brimmed hat or cap for sun protection.\\n3. **Daypack or Tote Bag**: For carrying essentials while exploring.\\n4. **Reusable Water Bottle**: Stay hydrated while on the go.\\n5. **Travel Umbrella**: Compact and useful in case of unexpected rain.\\n\\n### Toiletries\\n1. **Travel-sized Toiletries**: Shampoo, conditioner, body wash, toothpaste, etc.\\n2. **Sunscreen**: Protect your skin from UV rays.\\n3. **Deodorant**: Essential for warm weather.\\n4. **Makeup**: If you wear makeup, pack your essentials.\\n5. **Personal Hygiene Products**: Any specific items you may need.\\n6. **Medications**: Any prescription medications, plus a small first-aid kit with basics like pain relievers and band-aids.\\n\\n### Electronics\\n1. **Smartphone and Charger**: For navigation, photos, and communication.\\n2. **Camera**: If you want to take high-quality photos.\\n3. **Power Bank**: To keep your devices charged while out.\\n4. **Travel Adapter**: Germany uses Type C and F plugs (230V).\\n\\n### Travel Documents\\n1. **Passport**: Ensure it’s valid for your travel dates.\\n2. **Travel Insurance**: A copy of your policy and emergency contact numbers.\\n3. **Accommodation Confirmation**: Printouts or digital copies of your bookings.\\n4. **Transportation Tickets**: Any pre-booked train or flight tickets.\\n5. **Itinerary**: A list of places you want to visit and any reservations.\\n\\n### Miscellaneous\\n1. **Guidebook or Map**: Helpful for navigating the city.\\n2. **Notebook and Pen**: For jotting down notes or travel memories.\\n3. **Snacks**: A few snacks for travel days or when you’re out exploring.\\n4. **Plastic or Reusable Bags**: For dirty or wet clothes.\\n\\n### Optional\\n1. **Swimwear**: If you plan to visit a pool or beach.\\n2. **Lightweight Blanket or Travel Pillow**: For comfort during travel.\\n3. **Books or E-Reader**: For downtime or travel.\\n\\n### Tips\\n- Check the weather forecast closer to your departure date to adjust your packing accordingly.\\n- Consider packing versatile clothing that can be mixed and matched.\\n- Leave some space in your bag for souvenirs or items you may purchase during your trip.\\n\\nWith this packing list, you should be well-prepared for your trip to Berlin! Enjoy your travels!']"
      ]
     },
     "execution_count": 5,
     "metadata": {},
     "output_type": "execute_result"
    }
   ],
   "source": [
    "agent.execute(\"trip_sequence.ini\")"
   ]
  },
  {
   "cell_type": "markdown",
   "metadata": {},
   "source": [
    "### Using Console Reporting with Agent"
   ]
  },
  {
   "cell_type": "code",
   "execution_count": 6,
   "metadata": {},
   "outputs": [
    {
     "name": "stdout",
     "output_type": "stream",
     "text": [
      "--------------------------------------------------------------------------------\n",
      "Prompt: (Role: user)\n",
      "I am planning a trip to Berlin in June. Create a list of places worth seeing there.\n",
      "--------------------------------------------------------------------------------\n",
      "Response:\n",
      "Berlin is a vibrant city with a rich history, diverse culture, and plenty of attractions. Here’s a list of must-see places to consider for your trip in June:\n",
      "\n",
      "1. **Brandenburg Gate (Brandenburger Tor)** - An iconic symbol of Berlin and a must-visit landmark.\n",
      "\n",
      "2. **Berlin Wall Memorial (Gedenkstätte Berliner Mauer)** - A historical site that commemorates the division of the city and offers insights into the Cold War.\n",
      "\n",
      "3. **Reichstag Building** - The seat of the German Parliament, featuring a stunning glass dome that offers panoramic views of the city.\n",
      "\n",
      "4. **Museum Island (Museumsinsel)** - A UNESCO World Heritage site home to several world-class museums, including the Pergamon Museum and the Altes Museum.\n",
      "\n",
      "5. **Checkpoint Charlie** - The famous border crossing point between East and West Berlin during the Cold War, with a museum detailing its history.\n",
      "\n",
      "6. **East Side Gallery** - A 1.3 km-long stretch of the Berlin Wall covered in murals and street art, celebrating freedom and creativity.\n",
      "\n",
      "7. **Potsdamer Platz** - A bustling square known for its modern architecture, shopping, and entertainment options.\n",
      "\n",
      "8. **Charlottenburg Palace (Schloss Charlottenburg)** - A beautiful baroque palace with stunning gardens, perfect for a leisurely stroll.\n",
      "\n",
      "9. **Tiergarten** - Berlin’s largest park, ideal for picnics, walks, and enjoying nature in the heart of the city.\n",
      "\n",
      "10. **Kaiser Wilhelm Memorial Church (Kaiser-Wilhelm-Gedächtniskirche)** - A striking church that serves as a memorial to peace and reconciliation.\n",
      "\n",
      "11. **Topography of Terror** - An outdoor and indoor museum located on the site of the former Gestapo and SS headquarters, detailing the history of the Nazi regime.\n",
      "\n",
      "12. **Berlin Cathedral (Berliner Dom)** - A magnificent Protestant cathedral with a stunning dome and beautiful interiors.\n",
      "\n",
      "13. **Sachsenhausen Concentration Camp Memorial** - A sobering site located just outside Berlin, offering insights into the Holocaust and Nazi atrocities.\n",
      "\n",
      "14. **Tempelhofer Feld** - A former airport turned public park, perfect for cycling, skating, and enjoying outdoor activities.\n",
      "\n",
      "15. **Mauerpark** - A lively park known for its flea market, karaoke sessions, and vibrant atmosphere, especially on Sundays.\n",
      "\n",
      "16. **Friedrichshain and Kreuzberg** - Trendy neighborhoods known for their street art, cafes, and nightlife.\n",
      "\n",
      "17. **Berlin Zoo (Zoologischer Garten Berlin)** - One of the oldest and most famous zoos in the world, home to a wide variety of animals.\n",
      "\n",
      "18. **Jewish Museum Berlin** - A museum dedicated to Jewish history and culture, featuring a striking architectural design.\n",
      "\n",
      "19. **Gendarmenmarkt** - A beautiful square surrounded by historic buildings, including the French and German Cathedrals and the Concert House.\n",
      "\n",
      "20. **Spree River Cruise** - Consider taking a boat tour along the Spree River for a unique perspective of the city’s landmarks.\n",
      "\n",
      "Make sure to check the opening hours and any special events happening in June, as Berlin often hosts festivals and cultural events during the summer months. Enjoy your trip!\n",
      "--------------------------------------------------------------------------------\n",
      "Prompt: (Role: user)\n",
      "What all should I pack in my bag for the mentioned trip?\n",
      "--------------------------------------------------------------------------------\n",
      "Total Context Length (Previous Request-Response Pairs): 1\n",
      "--------------------------------------------------------------------------------\n",
      "Response:\n",
      "Packing for a trip to Berlin in June requires a balance of comfort, style, and practicality, as the weather can vary. Here’s a comprehensive packing list to help you prepare:\n",
      "\n",
      "### Clothing\n",
      "1. **Lightweight Clothing**: Pack breathable, lightweight clothes for warm days (t-shirts, blouses, shorts, skirts).\n",
      "2. **Layering Options**: Include a light sweater or cardigan for cooler evenings.\n",
      "3. **Comfortable Pants**: Consider packing a pair of jeans or lightweight trousers for versatility.\n",
      "4. **Rain Jacket or Umbrella**: June can have occasional rain showers, so be prepared.\n",
      "5. **Comfortable Walking Shoes**: Bring sturdy shoes for exploring the city (sneakers or walking sandals).\n",
      "6. **Dressy Outfit**: If you plan to dine out or attend events, pack a nicer outfit.\n",
      "7. **Accessories**: Sunglasses, a hat, and a scarf can be useful for sun protection and style.\n",
      "\n",
      "### Toiletries\n",
      "1. **Travel-sized Toiletries**: Shampoo, conditioner, body wash, toothpaste, etc.\n",
      "2. **Sunscreen**: Protect your skin from the sun, especially if you plan to spend time outdoors.\n",
      "3. **Personal Care Items**: Deodorant, makeup, and any other personal hygiene products.\n",
      "4. **Medications**: Bring any necessary prescription medications and a small first-aid kit.\n",
      "\n",
      "### Electronics\n",
      "1. **Smartphone and Charger**: Essential for navigation and communication.\n",
      "2. **Camera**: If you want to capture high-quality photos beyond your phone.\n",
      "3. **Power Bank**: To keep your devices charged while on the go.\n",
      "4. **Travel Adapter**: Germany uses Type C and F plugs, so bring an adapter if needed.\n",
      "\n",
      "### Travel Essentials\n",
      "1. **Passport and ID**: Ensure you have your passport and any necessary identification.\n",
      "2. **Travel Insurance Documents**: Keep a copy of your travel insurance policy.\n",
      "3. **Credit/Debit Cards and Cash**: While cards are widely accepted, it’s good to have some cash for smaller vendors.\n",
      "4. **Guidebook or Map**: If you prefer physical copies, or download offline maps on your phone.\n",
      "5. **Reusable Water Bottle**: Stay hydrated while exploring the city.\n",
      "\n",
      "### Miscellaneous\n",
      "1. **Daypack or Small Backpack**: For carrying essentials while sightseeing.\n",
      "2. **Snacks**: Pack some snacks for long days of exploring.\n",
      "3. **Notebook and Pen**: For jotting down memories or important information.\n",
      "4. **Travel Pillow and Eye Mask**: If you have a long flight or train journey.\n",
      "\n",
      "### Optional\n",
      "1. **Swimwear**: If you plan to visit pools or lakes.\n",
      "2. **Lightweight Blanket or Shawl**: Useful for picnics or cooler evenings.\n",
      "3. **Books or E-reader**: For downtime or travel.\n",
      "\n",
      "### Tips\n",
      "- **Check the Weather**: Before you pack, check the weather forecast for Berlin in June to adjust your clothing choices accordingly.\n",
      "- **Pack Light**: Try to pack versatile clothing that can be mixed and matched to save space.\n",
      "- **Leave Room for Souvenirs**: If you plan to shop, leave some space in your bag for new items.\n",
      "\n",
      "With this packing list, you should be well-prepared for your trip to Berlin! Enjoy your travels!\n",
      "--------------------------------------------------------------------------------\n"
     ]
    },
    {
     "data": {
      "text/plain": [
       "['Berlin is a vibrant city with a rich history, diverse culture, and plenty of attractions. Here’s a list of must-see places to consider for your trip in June:\\n\\n1. **Brandenburg Gate (Brandenburger Tor)** - An iconic symbol of Berlin and a must-visit landmark.\\n\\n2. **Berlin Wall Memorial (Gedenkstätte Berliner Mauer)** - A historical site that commemorates the division of the city and offers insights into the Cold War.\\n\\n3. **Reichstag Building** - The seat of the German Parliament, featuring a stunning glass dome that offers panoramic views of the city.\\n\\n4. **Museum Island (Museumsinsel)** - A UNESCO World Heritage site home to several world-class museums, including the Pergamon Museum and the Altes Museum.\\n\\n5. **Checkpoint Charlie** - The famous border crossing point between East and West Berlin during the Cold War, with a museum detailing its history.\\n\\n6. **East Side Gallery** - A 1.3 km-long stretch of the Berlin Wall covered in murals and street art, celebrating freedom and creativity.\\n\\n7. **Potsdamer Platz** - A bustling square known for its modern architecture, shopping, and entertainment options.\\n\\n8. **Charlottenburg Palace (Schloss Charlottenburg)** - A beautiful baroque palace with stunning gardens, perfect for a leisurely stroll.\\n\\n9. **Tiergarten** - Berlin’s largest park, ideal for picnics, walks, and enjoying nature in the heart of the city.\\n\\n10. **Kaiser Wilhelm Memorial Church (Kaiser-Wilhelm-Gedächtniskirche)** - A striking church that serves as a memorial to peace and reconciliation.\\n\\n11. **Topography of Terror** - An outdoor and indoor museum located on the site of the former Gestapo and SS headquarters, detailing the history of the Nazi regime.\\n\\n12. **Berlin Cathedral (Berliner Dom)** - A magnificent Protestant cathedral with a stunning dome and beautiful interiors.\\n\\n13. **Sachsenhausen Concentration Camp Memorial** - A sobering site located just outside Berlin, offering insights into the Holocaust and Nazi atrocities.\\n\\n14. **Tempelhofer Feld** - A former airport turned public park, perfect for cycling, skating, and enjoying outdoor activities.\\n\\n15. **Mauerpark** - A lively park known for its flea market, karaoke sessions, and vibrant atmosphere, especially on Sundays.\\n\\n16. **Friedrichshain and Kreuzberg** - Trendy neighborhoods known for their street art, cafes, and nightlife.\\n\\n17. **Berlin Zoo (Zoologischer Garten Berlin)** - One of the oldest and most famous zoos in the world, home to a wide variety of animals.\\n\\n18. **Jewish Museum Berlin** - A museum dedicated to Jewish history and culture, featuring a striking architectural design.\\n\\n19. **Gendarmenmarkt** - A beautiful square surrounded by historic buildings, including the French and German Cathedrals and the Concert House.\\n\\n20. **Spree River Cruise** - Consider taking a boat tour along the Spree River for a unique perspective of the city’s landmarks.\\n\\nMake sure to check the opening hours and any special events happening in June, as Berlin often hosts festivals and cultural events during the summer months. Enjoy your trip!',\n",
       " 'Packing for a trip to Berlin in June requires a balance of comfort, style, and practicality, as the weather can vary. Here’s a comprehensive packing list to help you prepare:\\n\\n### Clothing\\n1. **Lightweight Clothing**: Pack breathable, lightweight clothes for warm days (t-shirts, blouses, shorts, skirts).\\n2. **Layering Options**: Include a light sweater or cardigan for cooler evenings.\\n3. **Comfortable Pants**: Consider packing a pair of jeans or lightweight trousers for versatility.\\n4. **Rain Jacket or Umbrella**: June can have occasional rain showers, so be prepared.\\n5. **Comfortable Walking Shoes**: Bring sturdy shoes for exploring the city (sneakers or walking sandals).\\n6. **Dressy Outfit**: If you plan to dine out or attend events, pack a nicer outfit.\\n7. **Accessories**: Sunglasses, a hat, and a scarf can be useful for sun protection and style.\\n\\n### Toiletries\\n1. **Travel-sized Toiletries**: Shampoo, conditioner, body wash, toothpaste, etc.\\n2. **Sunscreen**: Protect your skin from the sun, especially if you plan to spend time outdoors.\\n3. **Personal Care Items**: Deodorant, makeup, and any other personal hygiene products.\\n4. **Medications**: Bring any necessary prescription medications and a small first-aid kit.\\n\\n### Electronics\\n1. **Smartphone and Charger**: Essential for navigation and communication.\\n2. **Camera**: If you want to capture high-quality photos beyond your phone.\\n3. **Power Bank**: To keep your devices charged while on the go.\\n4. **Travel Adapter**: Germany uses Type C and F plugs, so bring an adapter if needed.\\n\\n### Travel Essentials\\n1. **Passport and ID**: Ensure you have your passport and any necessary identification.\\n2. **Travel Insurance Documents**: Keep a copy of your travel insurance policy.\\n3. **Credit/Debit Cards and Cash**: While cards are widely accepted, it’s good to have some cash for smaller vendors.\\n4. **Guidebook or Map**: If you prefer physical copies, or download offline maps on your phone.\\n5. **Reusable Water Bottle**: Stay hydrated while exploring the city.\\n\\n### Miscellaneous\\n1. **Daypack or Small Backpack**: For carrying essentials while sightseeing.\\n2. **Snacks**: Pack some snacks for long days of exploring.\\n3. **Notebook and Pen**: For jotting down memories or important information.\\n4. **Travel Pillow and Eye Mask**: If you have a long flight or train journey.\\n\\n### Optional\\n1. **Swimwear**: If you plan to visit pools or lakes.\\n2. **Lightweight Blanket or Shawl**: Useful for picnics or cooler evenings.\\n3. **Books or E-reader**: For downtime or travel.\\n\\n### Tips\\n- **Check the Weather**: Before you pack, check the weather forecast for Berlin in June to adjust your clothing choices accordingly.\\n- **Pack Light**: Try to pack versatile clothing that can be mixed and matched to save space.\\n- **Leave Room for Souvenirs**: If you plan to shop, leave some space in your bag for new items.\\n\\nWith this packing list, you should be well-prepared for your trip to Berlin! Enjoy your travels!']"
      ]
     },
     "execution_count": 6,
     "metadata": {},
     "output_type": "execute_result"
    }
   ],
   "source": [
    "agent = Agent(display=True)\n",
    "agent.execute(\"trip_sequence.ini\")"
   ]
  },
  {
   "cell_type": "markdown",
   "metadata": {},
   "source": [
    "### Switch off HTML Reporting"
   ]
  },
  {
   "cell_type": "code",
   "execution_count": 7,
   "metadata": {},
   "outputs": [],
   "source": [
    "agent = Agent(display=True, report_html=False)"
   ]
  },
  {
   "cell_type": "code",
   "execution_count": 8,
   "metadata": {},
   "outputs": [
    {
     "name": "stdout",
     "output_type": "stream",
     "text": [
      "--------------------------------------------------------------------------------\n",
      "Prompt: (Role: user)\n",
      "I am planning a trip to Berlin in June. Create a list of places worth seeing there.\n",
      "--------------------------------------------------------------------------------\n",
      "Response:\n",
      "Berlin is a vibrant city with a rich history, diverse culture, and plenty of attractions. Here’s a list of must-see places to consider for your trip in June:\n",
      "\n",
      "1. **Brandenburg Gate (Brandenburger Tor)** - An iconic symbol of Berlin and a must-visit landmark.\n",
      "\n",
      "2. **Reichstag Building** - The seat of the German Parliament, featuring a stunning glass dome that offers panoramic views of the city.\n",
      "\n",
      "3. **Berlin Wall Memorial (Gedenkstätte Berliner Mauer)** - A historical site that commemorates the division of Berlin and includes a preserved section of the wall.\n",
      "\n",
      "4. **East Side Gallery** - A 1.3 km-long stretch of the Berlin Wall covered in murals and street art, showcasing messages of peace and freedom.\n",
      "\n",
      "5. **Museum Island (Museumsinsel)** - A UNESCO World Heritage site that houses several world-renowned museums, including the Pergamon Museum and the Altes Museum.\n",
      "\n",
      "6. **Checkpoint Charlie** - The famous border crossing point between East and West Berlin during the Cold War, now a popular tourist attraction.\n",
      "\n",
      "7. **Berlin Cathedral (Berliner Dom)** - A stunning Protestant cathedral with a beautiful dome and impressive interior.\n",
      "\n",
      "8. **Potsdamer Platz** - A bustling square known for its modern architecture, shopping, and entertainment options.\n",
      "\n",
      "9. **Charlottenburg Palace (Schloss Charlottenburg)** - The largest palace in Berlin, featuring beautiful gardens and opulent rooms.\n",
      "\n",
      "10. **Tiergarten** - Berlin’s central park, perfect for a leisurely stroll, picnics, or cycling.\n",
      "\n",
      "11. **Kaiser Wilhelm Memorial Church** - A striking church that serves as a memorial to peace and reconciliation, with a modern structure built alongside the ruins of the original church.\n",
      "\n",
      "12. **Topography of Terror** - An outdoor and indoor history museum located on the site of the former Gestapo and SS headquarters, detailing the history of the Nazi regime.\n",
      "\n",
      "13. **Jewish Museum Berlin** - A museum dedicated to Jewish history and culture, featuring a unique architectural design by Daniel Libeskind.\n",
      "\n",
      "14. **Tempelhofer Feld** - A former airport turned public park, where you can walk, cycle, or even kite-surf on the runways.\n",
      "\n",
      "15. **Siegessäule (Victory Column)** - A monument with an observation deck offering great views of the city, located in the middle of Tiergarten.\n",
      "\n",
      "16. **Mauerpark** - A popular park known for its flea market, karaoke sessions, and vibrant atmosphere, especially on Sundays.\n",
      "\n",
      "17. **Berlin Zoo (Zoologischer Garten Berlin)** - One of the oldest and most famous zoos in the world, home to a wide variety of animals.\n",
      "\n",
      "18. **Hackescher Markt** - A trendy area filled with shops, restaurants, and nightlife, perfect for exploring Berlin’s contemporary culture.\n",
      "\n",
      "19. **Gendarmenmarkt** - A beautiful square featuring the French and German Cathedrals and the Konzerthaus, often considered one of the most beautiful squares in Berlin.\n",
      "\n",
      "20. **Spree River Cruise** - Consider taking a boat tour along the Spree River for a unique perspective of the city’s landmarks.\n",
      "\n",
      "Make sure to check local events and festivals happening in June, as Berlin often hosts various cultural events during the summer months. Enjoy your trip!\n",
      "--------------------------------------------------------------------------------\n",
      "Prompt: (Role: user)\n",
      "What all should I pack in my bag for the mentioned trip?\n",
      "--------------------------------------------------------------------------------\n",
      "Total Context Length (Previous Request-Response Pairs): 1\n",
      "--------------------------------------------------------------------------------\n",
      "Response:\n",
      "Packing for a trip to Berlin in June requires consideration of the weather, activities, and your personal preferences. Here’s a comprehensive packing list to help you prepare:\n",
      "\n",
      "### Clothing\n",
      "1. **Lightweight Clothing**: Pack breathable, comfortable clothes suitable for warm weather (t-shirts, shorts, dresses).\n",
      "2. **Layering Options**: Include a light sweater or cardigan for cooler evenings.\n",
      "3. **Comfortable Walking Shoes**: Essential for exploring the city on foot. Consider sneakers or comfortable sandals.\n",
      "4. **Rain Jacket or Umbrella**: June can have occasional rain showers, so be prepared.\n",
      "5. **Sunglasses and Hat**: Protect yourself from the sun while sightseeing.\n",
      "6. **Swimwear**: If you plan to visit pools or lakes, pack a swimsuit.\n",
      "7. **Evening Outfit**: If you plan to dine out or attend events, bring a nicer outfit.\n",
      "\n",
      "### Accessories\n",
      "1. **Daypack or Backpack**: For carrying essentials while exploring the city.\n",
      "2. **Reusable Water Bottle**: Stay hydrated while walking around.\n",
      "3. **Travel Guide or Map**: Helpful for navigating the city, though you can also use your smartphone.\n",
      "4. **Camera or Smartphone**: To capture memories of your trip.\n",
      "5. **Portable Charger**: Keep your devices charged while on the go.\n",
      "\n",
      "### Toiletries\n",
      "1. **Basic Toiletries**: Toothbrush, toothpaste, shampoo, conditioner, soap, deodorant, etc.\n",
      "2. **Sunscreen**: Protect your skin from UV rays.\n",
      "3. **Personal Medications**: Bring any necessary medications and a small first-aid kit.\n",
      "4. **Makeup and Skincare Products**: If you use them, pack travel-sized versions.\n",
      "\n",
      "### Travel Essentials\n",
      "1. **Passport and ID**: Ensure you have your identification and any necessary travel documents.\n",
      "2. **Travel Insurance Information**: Keep a copy of your insurance details.\n",
      "3. **Credit/Debit Cards and Cash**: Have some euros on hand for small purchases.\n",
      "4. **Travel Adapter**: Germany uses Type C and F plugs, so bring an adapter if needed.\n",
      "5. **Guidebook or Travel Apps**: Useful for finding attractions, restaurants, and public transport information.\n",
      "\n",
      "### Optional Items\n",
      "1. **Notebook or Journal**: For jotting down experiences or travel notes.\n",
      "2. **Books or E-Reader**: For downtime or travel.\n",
      "3. **Snacks**: Pack some snacks for the journey or while exploring.\n",
      "4. **Lightweight Blanket or Travel Pillow**: If you have a long flight or train ride.\n",
      "\n",
      "### Tips\n",
      "- **Check the Weather**: Before you pack, check the weather forecast for Berlin in June to adjust your clothing choices accordingly.\n",
      "- **Pack Light**: Try to pack versatile clothing that can be mixed and matched to save space.\n",
      "- **Leave Room for Souvenirs**: If you plan to shop, leave some space in your bag for any items you might purchase.\n",
      "\n",
      "By following this packing list, you’ll be well-prepared for your trip to Berlin. Enjoy your travels!\n",
      "--------------------------------------------------------------------------------\n"
     ]
    },
    {
     "data": {
      "text/plain": [
       "['Berlin is a vibrant city with a rich history, diverse culture, and plenty of attractions. Here’s a list of must-see places to consider for your trip in June:\\n\\n1. **Brandenburg Gate (Brandenburger Tor)** - An iconic symbol of Berlin and a must-visit landmark.\\n\\n2. **Reichstag Building** - The seat of the German Parliament, featuring a stunning glass dome that offers panoramic views of the city.\\n\\n3. **Berlin Wall Memorial (Gedenkstätte Berliner Mauer)** - A historical site that commemorates the division of Berlin and includes a preserved section of the wall.\\n\\n4. **East Side Gallery** - A 1.3 km-long stretch of the Berlin Wall covered in murals and street art, showcasing messages of peace and freedom.\\n\\n5. **Museum Island (Museumsinsel)** - A UNESCO World Heritage site that houses several world-renowned museums, including the Pergamon Museum and the Altes Museum.\\n\\n6. **Checkpoint Charlie** - The famous border crossing point between East and West Berlin during the Cold War, now a popular tourist attraction.\\n\\n7. **Berlin Cathedral (Berliner Dom)** - A stunning Protestant cathedral with a beautiful dome and impressive interior.\\n\\n8. **Potsdamer Platz** - A bustling square known for its modern architecture, shopping, and entertainment options.\\n\\n9. **Charlottenburg Palace (Schloss Charlottenburg)** - The largest palace in Berlin, featuring beautiful gardens and opulent rooms.\\n\\n10. **Tiergarten** - Berlin’s central park, perfect for a leisurely stroll, picnics, or cycling.\\n\\n11. **Kaiser Wilhelm Memorial Church** - A striking church that serves as a memorial to peace and reconciliation, with a modern structure built alongside the ruins of the original church.\\n\\n12. **Topography of Terror** - An outdoor and indoor history museum located on the site of the former Gestapo and SS headquarters, detailing the history of the Nazi regime.\\n\\n13. **Jewish Museum Berlin** - A museum dedicated to Jewish history and culture, featuring a unique architectural design by Daniel Libeskind.\\n\\n14. **Tempelhofer Feld** - A former airport turned public park, where you can walk, cycle, or even kite-surf on the runways.\\n\\n15. **Siegessäule (Victory Column)** - A monument with an observation deck offering great views of the city, located in the middle of Tiergarten.\\n\\n16. **Mauerpark** - A popular park known for its flea market, karaoke sessions, and vibrant atmosphere, especially on Sundays.\\n\\n17. **Berlin Zoo (Zoologischer Garten Berlin)** - One of the oldest and most famous zoos in the world, home to a wide variety of animals.\\n\\n18. **Hackescher Markt** - A trendy area filled with shops, restaurants, and nightlife, perfect for exploring Berlin’s contemporary culture.\\n\\n19. **Gendarmenmarkt** - A beautiful square featuring the French and German Cathedrals and the Konzerthaus, often considered one of the most beautiful squares in Berlin.\\n\\n20. **Spree River Cruise** - Consider taking a boat tour along the Spree River for a unique perspective of the city’s landmarks.\\n\\nMake sure to check local events and festivals happening in June, as Berlin often hosts various cultural events during the summer months. Enjoy your trip!',\n",
       " 'Packing for a trip to Berlin in June requires consideration of the weather, activities, and your personal preferences. Here’s a comprehensive packing list to help you prepare:\\n\\n### Clothing\\n1. **Lightweight Clothing**: Pack breathable, comfortable clothes suitable for warm weather (t-shirts, shorts, dresses).\\n2. **Layering Options**: Include a light sweater or cardigan for cooler evenings.\\n3. **Comfortable Walking Shoes**: Essential for exploring the city on foot. Consider sneakers or comfortable sandals.\\n4. **Rain Jacket or Umbrella**: June can have occasional rain showers, so be prepared.\\n5. **Sunglasses and Hat**: Protect yourself from the sun while sightseeing.\\n6. **Swimwear**: If you plan to visit pools or lakes, pack a swimsuit.\\n7. **Evening Outfit**: If you plan to dine out or attend events, bring a nicer outfit.\\n\\n### Accessories\\n1. **Daypack or Backpack**: For carrying essentials while exploring the city.\\n2. **Reusable Water Bottle**: Stay hydrated while walking around.\\n3. **Travel Guide or Map**: Helpful for navigating the city, though you can also use your smartphone.\\n4. **Camera or Smartphone**: To capture memories of your trip.\\n5. **Portable Charger**: Keep your devices charged while on the go.\\n\\n### Toiletries\\n1. **Basic Toiletries**: Toothbrush, toothpaste, shampoo, conditioner, soap, deodorant, etc.\\n2. **Sunscreen**: Protect your skin from UV rays.\\n3. **Personal Medications**: Bring any necessary medications and a small first-aid kit.\\n4. **Makeup and Skincare Products**: If you use them, pack travel-sized versions.\\n\\n### Travel Essentials\\n1. **Passport and ID**: Ensure you have your identification and any necessary travel documents.\\n2. **Travel Insurance Information**: Keep a copy of your insurance details.\\n3. **Credit/Debit Cards and Cash**: Have some euros on hand for small purchases.\\n4. **Travel Adapter**: Germany uses Type C and F plugs, so bring an adapter if needed.\\n5. **Guidebook or Travel Apps**: Useful for finding attractions, restaurants, and public transport information.\\n\\n### Optional Items\\n1. **Notebook or Journal**: For jotting down experiences or travel notes.\\n2. **Books or E-Reader**: For downtime or travel.\\n3. **Snacks**: Pack some snacks for the journey or while exploring.\\n4. **Lightweight Blanket or Travel Pillow**: If you have a long flight or train ride.\\n\\n### Tips\\n- **Check the Weather**: Before you pack, check the weather forecast for Berlin in June to adjust your clothing choices accordingly.\\n- **Pack Light**: Try to pack versatile clothing that can be mixed and matched to save space.\\n- **Leave Room for Souvenirs**: If you plan to shop, leave some space in your bag for any items you might purchase.\\n\\nBy following this packing list, you’ll be well-prepared for your trip to Berlin. Enjoy your travels!']"
      ]
     },
     "execution_count": 8,
     "metadata": {},
     "output_type": "execute_result"
    }
   ],
   "source": [
    "agent.execute(\"trip_sequence.ini\")"
   ]
  }
 ],
 "metadata": {
  "kernelspec": {
   "display_name": "py3108",
   "language": "python",
   "name": "python3"
  },
  "language_info": {
   "codemirror_mode": {
    "name": "ipython",
    "version": 3
   },
   "file_extension": ".py",
   "mimetype": "text/x-python",
   "name": "python",
   "nbconvert_exporter": "python",
   "pygments_lexer": "ipython3",
   "version": "3.10.8"
  }
 },
 "nbformat": 4,
 "nbformat_minor": 2
}
