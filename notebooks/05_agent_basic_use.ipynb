{
 "cells": [
  {
   "cell_type": "code",
   "execution_count": 1,
   "metadata": {},
   "outputs": [],
   "source": [
    "from test_utils import *\n",
    "from swayam import Agent"
   ]
  },
  {
   "cell_type": "markdown",
   "metadata": {},
   "source": [
    "## Agent\n",
    "\n",
    "Under the hood, **Swayam.execute** creates an Agent and calls it's execute method to run prompts. \n",
    "\n",
    "**Swayam.execute** is a simple helper function and accordingly it has limited capabilities. For more involved use cases, **Agent** class is what we need.\n",
    "\n",
    "Here, we'd try a very basic Agent creation to see some equivalent functionality of the **System.execute**. \n",
    "\n",
    "The **Agent** by default uses **HTML Reporting** and the console display is disabled. You can switch on/off these reporting formats with **display** and **repport_html** options."
   ]
  },
  {
   "cell_type": "code",
   "execution_count": 2,
   "metadata": {},
   "outputs": [],
   "source": [
    "agent = Agent(display=True)"
   ]
  },
  {
   "cell_type": "code",
   "execution_count": 3,
   "metadata": {},
   "outputs": [
    {
     "name": "stdout",
     "output_type": "stream",
     "text": [
      "Is system prompt True You are a helpful assistant. You are here to help me with my queries.\n",
      "--------------------------------------------------------------------------------\n",
      "Prompt: (Role: system)\n",
      "--------------------------------------------------------------------------------\n",
      "Prompt: (Role: system)\n",
      "You are a helpful assistant. You are here to help me with my queries.\n",
      "--------------------------------------------------------------------------------\n",
      "Reporting System Prompt\n",
      "Reporting Prompt\n",
      "Response:\n",
      "I'm here to help! What questions do you have?\n",
      "Reporting Prompt Response\n",
      "Is system prompt False I am planning a trip to Berlin in June. Create a list of places worth seeing there.\n",
      "Total Context Length (Previous Request-Response Pairs): 0\n",
      "--------------------------------------------------------------------------------\n",
      "Reporting Context\n",
      "[]\n",
      "--------------------------------------------------------------------------------\n",
      "Prompt: (Role: user)\n",
      "I am planning a trip to Berlin in June. Create a list of places worth seeing there.\n",
      "--------------------------------------------------------------------------------\n",
      "Reporting Prompt\n",
      "Appending prompt node\n",
      "[{'children': [{'data': {'content': {'content': 'You are a helpful assistant. '\n",
      "                                                'You are here to help me with '\n",
      "                                                'my queries.',\n",
      "                                     'role': 'system'}},\n",
      "                'icon': 'jstree-file',\n",
      "                'id': 'chat_context_msg_ced2827627b74abe9ec955f1a47a3268',\n",
      "                'text': 'System'},\n",
      "               {'data': {'content': {'content': \"I'm here to help! What \"\n",
      "                                                'questions do you have?',\n",
      "                                     'refusal': None,\n",
      "                                     'role': 'assistant'}},\n",
      "                'icon': 'jstree-file',\n",
      "                'id': 'chat_context_msg_9f2fc7dde51b4964b8384ff2e9b16669',\n",
      "                'text': 'LLM'}],\n",
      "  'data': {'content': 'This is the sequences of messages sent to the LLM for '\n",
      "                      'context management.'},\n",
      "  'id': 'chat_context_1075ccc9be9d420086a5648e5e6b40e8',\n",
      "  'text': 'Chat Context'}]\n",
      "Response:\n",
      "Berlin is a vibrant city with a rich history and plenty of attractions. Here’s a list of must-see places to consider for your trip in June:\n",
      "\n",
      "1. **Brandenburg Gate (Brandenburger Tor)** - An iconic symbol of Berlin and a must-visit landmark.\n",
      "\n",
      "2. **Reichstag Building** - The seat of the German Parliament, known for its stunning glass dome that offers panoramic views of the city.\n",
      "\n",
      "3. **Berlin Wall Memorial (Gedenkstätte Berliner Mauer)** - A historical site that commemorates the division of Berlin and includes a preserved section of the wall.\n",
      "\n",
      "4. **East Side Gallery** - A 1.3 km-long stretch of the Berlin Wall covered in murals and street art, showcasing artistic expressions of freedom.\n",
      "\n",
      "5. **Museum Island (Museumsinsel)** - A UNESCO World Heritage site that houses several world-renowned museums, including the Pergamon Museum and the Altes Museum.\n",
      "\n",
      "6. **Checkpoint Charlie** - The famous border crossing point between East and West Berlin during the Cold War, with a museum detailing its history.\n",
      "\n",
      "7. **Alexanderplatz** - A bustling square known for the iconic TV Tower (Fernsehturm) and shopping opportunities.\n",
      "\n",
      "8. **Potsdamer Platz** - A modern square with shops, restaurants, and the Sony Center, showcasing Berlin's contemporary architecture.\n",
      "\n",
      "9. **Charlottenburg Palace (Schloss Charlottenburg)** - A beautiful baroque palace with stunning gardens, perfect for a leisurely stroll.\n",
      "\n",
      "10. **Tiergarten** - Berlin's largest park, ideal for a relaxing walk, a picnic, or cycling.\n",
      "\n",
      "11. **Kaiser Wilhelm Memorial Church** - A striking church that serves as a memorial to peace and reconciliation, with its partially destroyed tower.\n",
      "\n",
      "12. **Topography of Terror** - An outdoor and indoor history museum located on the site of the former Gestapo and SS headquarters, detailing the history of the Nazi regime.\n",
      "\n",
      "13. **Berlin Cathedral (Berliner Dom)** - A magnificent Protestant cathedral with a stunning dome and beautiful interiors.\n",
      "\n",
      "14. **Sachsenhausen Concentration Camp Memorial** - A sobering site located just outside Berlin, offering insights into the history of the Holocaust.\n",
      "\n",
      "15. **Tempelhofer Feld** - A former airport turned public park, where you can walk, cycle, or even kite-surf on the runways.\n",
      "\n",
      "16. **Kreuzberg District** - Known for its vibrant culture, street art, and diverse food scene, it's a great area to explore.\n",
      "\n",
      "17. **Friedrichshain District** - Famous for its nightlife, bars, and the lively Boxhagener Platz market.\n",
      "\n",
      "18. **Berlin Zoo (Zoologischer Garten Berlin)** - One of the oldest and most famous zoos in the world, located in the heart of the city.\n",
      "\n",
      "19. **Jewish Museum Berlin** - A museum dedicated to Jewish history and culture, featuring a striking architectural design.\n",
      "\n",
      "20. **Gendarmenmarkt** - A beautiful square featuring the German and French Cathedrals and the Concert House, often considered one of the most beautiful squares in Berlin.\n",
      "\n",
      "Make sure to check the opening hours and any special events happening in June, as the city often hosts festivals and outdoor activities during the summer. Enjoy your trip!\n",
      "Reporting Prompt Response\n",
      "[{'children': [{'data': {'content': {'content': 'You are a helpful assistant. '\n",
      "                                                'You are here to help me with '\n",
      "                                                'my queries.',\n",
      "                                     'role': 'system'}},\n",
      "                'icon': 'jstree-file',\n",
      "                'id': 'chat_context_msg_ced2827627b74abe9ec955f1a47a3268',\n",
      "                'text': 'System'},\n",
      "               {'data': {'content': {'content': \"I'm here to help! What \"\n",
      "                                                'questions do you have?',\n",
      "                                     'refusal': None,\n",
      "                                     'role': 'assistant'}},\n",
      "                'icon': 'jstree-file',\n",
      "                'id': 'chat_context_msg_9f2fc7dde51b4964b8384ff2e9b16669',\n",
      "                'text': 'LLM'}],\n",
      "  'data': {'content': 'This is the sequences of messages sent to the LLM for '\n",
      "                      'context management.'},\n",
      "  'id': 'chat_context_1075ccc9be9d420086a5648e5e6b40e8',\n",
      "  'text': 'Chat Context'},\n",
      " {'children': [],\n",
      "  'data': {'content': 'I am planning a trip to Berlin in June. Create a list '\n",
      "                      'of places worth seeing there.'},\n",
      "  'id': 'prompt_b91cd51b5f6c4a109efe6dfb4eb5a4a2',\n",
      "  'text': 'User Prompt'}]\n",
      "--------------------------------------------------------------------------------\n"
     ]
    },
    {
     "data": {
      "text/plain": [
       "[ChatCompletionMessage(content=\"I'm here to help! What questions do you have?\", refusal=None, role='assistant', function_call=None, tool_calls=None),\n",
       " ChatCompletionMessage(content=\"Berlin is a vibrant city with a rich history and plenty of attractions. Here’s a list of must-see places to consider for your trip in June:\\n\\n1. **Brandenburg Gate (Brandenburger Tor)** - An iconic symbol of Berlin and a must-visit landmark.\\n\\n2. **Reichstag Building** - The seat of the German Parliament, known for its stunning glass dome that offers panoramic views of the city.\\n\\n3. **Berlin Wall Memorial (Gedenkstätte Berliner Mauer)** - A historical site that commemorates the division of Berlin and includes a preserved section of the wall.\\n\\n4. **East Side Gallery** - A 1.3 km-long stretch of the Berlin Wall covered in murals and street art, showcasing artistic expressions of freedom.\\n\\n5. **Museum Island (Museumsinsel)** - A UNESCO World Heritage site that houses several world-renowned museums, including the Pergamon Museum and the Altes Museum.\\n\\n6. **Checkpoint Charlie** - The famous border crossing point between East and West Berlin during the Cold War, with a museum detailing its history.\\n\\n7. **Alexanderplatz** - A bustling square known for the iconic TV Tower (Fernsehturm) and shopping opportunities.\\n\\n8. **Potsdamer Platz** - A modern square with shops, restaurants, and the Sony Center, showcasing Berlin's contemporary architecture.\\n\\n9. **Charlottenburg Palace (Schloss Charlottenburg)** - A beautiful baroque palace with stunning gardens, perfect for a leisurely stroll.\\n\\n10. **Tiergarten** - Berlin's largest park, ideal for a relaxing walk, a picnic, or cycling.\\n\\n11. **Kaiser Wilhelm Memorial Church** - A striking church that serves as a memorial to peace and reconciliation, with its partially destroyed tower.\\n\\n12. **Topography of Terror** - An outdoor and indoor history museum located on the site of the former Gestapo and SS headquarters, detailing the history of the Nazi regime.\\n\\n13. **Berlin Cathedral (Berliner Dom)** - A magnificent Protestant cathedral with a stunning dome and beautiful interiors.\\n\\n14. **Sachsenhausen Concentration Camp Memorial** - A sobering site located just outside Berlin, offering insights into the history of the Holocaust.\\n\\n15. **Tempelhofer Feld** - A former airport turned public park, where you can walk, cycle, or even kite-surf on the runways.\\n\\n16. **Kreuzberg District** - Known for its vibrant culture, street art, and diverse food scene, it's a great area to explore.\\n\\n17. **Friedrichshain District** - Famous for its nightlife, bars, and the lively Boxhagener Platz market.\\n\\n18. **Berlin Zoo (Zoologischer Garten Berlin)** - One of the oldest and most famous zoos in the world, located in the heart of the city.\\n\\n19. **Jewish Museum Berlin** - A museum dedicated to Jewish history and culture, featuring a striking architectural design.\\n\\n20. **Gendarmenmarkt** - A beautiful square featuring the German and French Cathedrals and the Concert House, often considered one of the most beautiful squares in Berlin.\\n\\nMake sure to check the opening hours and any special events happening in June, as the city often hosts festivals and outdoor activities during the summer. Enjoy your trip!\", refusal=None, role='assistant', function_call=None, tool_calls=None)]"
      ]
     },
     "execution_count": 3,
     "metadata": {},
     "output_type": "execute_result"
    }
   ],
   "source": [
    "agent.execute(\"I am planning a trip to Berlin in June. Create a list of places worth seeing there.\")"
   ]
  },
  {
   "cell_type": "code",
   "execution_count": 4,
   "metadata": {},
   "outputs": [
    {
     "ename": "NameError",
     "evalue": "name 'b' is not defined",
     "output_type": "error",
     "traceback": [
      "\u001b[0;31m---------------------------------------------------------------------------\u001b[0m",
      "\u001b[0;31mNameError\u001b[0m                                 Traceback (most recent call last)",
      "Cell \u001b[0;32mIn[4], line 1\u001b[0m\n\u001b[0;32m----> 1\u001b[0m \u001b[43mb\u001b[49m\n",
      "\u001b[0;31mNameError\u001b[0m: name 'b' is not defined"
     ]
    }
   ],
   "source": [
    "b"
   ]
  },
  {
   "cell_type": "code",
   "execution_count": null,
   "metadata": {},
   "outputs": [],
   "source": [
    "agent.execute(\"trip_sequence.ini\")"
   ]
  },
  {
   "cell_type": "code",
   "execution_count": null,
   "metadata": {},
   "outputs": [],
   "source": [
    "b"
   ]
  },
  {
   "cell_type": "markdown",
   "metadata": {},
   "source": [
    "### Using Console Reporting with Agent"
   ]
  },
  {
   "cell_type": "code",
   "execution_count": null,
   "metadata": {},
   "outputs": [],
   "source": [
    "agent = Agent(display=True)\n",
    "agent.execute(\"trip_sequence.ini\")"
   ]
  },
  {
   "cell_type": "markdown",
   "metadata": {},
   "source": [
    "### Switch off HTML Reporting"
   ]
  },
  {
   "cell_type": "code",
   "execution_count": null,
   "metadata": {},
   "outputs": [],
   "source": [
    "agent = Agent(display=True, report_html=False)"
   ]
  },
  {
   "cell_type": "code",
   "execution_count": null,
   "metadata": {},
   "outputs": [],
   "source": [
    "agent.execute(\"trip_sequence.ini\")"
   ]
  }
 ],
 "metadata": {
  "kernelspec": {
   "display_name": "py3108",
   "language": "python",
   "name": "python3"
  },
  "language_info": {
   "codemirror_mode": {
    "name": "ipython",
    "version": 3
   },
   "file_extension": ".py",
   "mimetype": "text/x-python",
   "name": "python",
   "nbconvert_exporter": "python",
   "pygments_lexer": "ipython3",
   "version": "3.10.8"
  }
 },
 "nbformat": 4,
 "nbformat_minor": 2
}
