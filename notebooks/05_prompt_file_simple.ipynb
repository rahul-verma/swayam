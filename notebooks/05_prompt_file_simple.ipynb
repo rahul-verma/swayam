{
 "cells": [
  {
   "cell_type": "code",
   "execution_count": null,
   "metadata": {},
   "outputs": [],
   "source": [
    "from test_utils import *\n",
    "from swayam import *"
   ]
  },
  {
   "cell_type": "markdown",
   "metadata": {},
   "source": [
    "### A simple prompt as a file.\n",
    "\n",
    "You can represent a prompt as a yaml file. In its simplest form, just put the text of your prompt in a yaml file.\n",
    "\n",
    "1. Swayam enforces a project structure. The file must be located relative to \"definition/prompt\" directory, in your project root directory.\n",
    "2. The file name should be a valid Python name.\n",
    "\n",
    "This is where you'll see Swayam doing a lot of ground work for you."
   ]
  },
  {
   "cell_type": "code",
   "execution_count": null,
   "metadata": {},
   "outputs": [],
   "source": [
    "\"\"\"\n",
    "The file definition/prompt/trip_command.yaml contains the following text:\n",
    "\n",
    "I am planning a trip to Berlin in June. Create a list of places worth seeing there.\n",
    "\"\"\"\n",
    "\n",
    "router = Router(run_id=\"test\")\n",
    "router.execute(Prompt.namespace.trip_command)"
   ]
  }
 ],
 "metadata": {
  "kernelspec": {
   "display_name": "py3108",
   "language": "python",
   "name": "python3"
  },
  "language_info": {
   "codemirror_mode": {
    "name": "ipython",
    "version": 3
   },
   "file_extension": ".py",
   "mimetype": "text/x-python",
   "name": "python",
   "nbconvert_exporter": "python",
   "pygments_lexer": "ipython3",
   "version": "3.10.8"
  }
 },
 "nbformat": 4,
 "nbformat_minor": 2
}
