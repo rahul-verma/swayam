{
 "cells": [
  {
   "cell_type": "code",
   "execution_count": 1,
   "metadata": {},
   "outputs": [],
   "source": [
    "from test_utils import *\n",
    "from swayam import *"
   ]
  },
  {
   "cell_type": "markdown",
   "metadata": {},
   "source": [
    "# Prompt in a text file\n",
    "\n",
    "Swayam enforces a structure. The file must be located relative to \"prompts\" directory, in the project root directory."
   ]
  },
  {
   "cell_type": "markdown",
   "metadata": {},
   "source": [
    "### Using PromptFile"
   ]
  },
  {
   "cell_type": "code",
   "execution_count": 2,
   "metadata": {},
   "outputs": [],
   "source": [
    "f = PromptTextFile(\"trip_command.txt\")"
   ]
  },
  {
   "cell_type": "code",
   "execution_count": 3,
   "metadata": {},
   "outputs": [
    {
     "name": "stdout",
     "output_type": "stream",
     "text": [
      "--------------------------------------------------------------------------------\n",
      "Prompt: (Role: user)\n",
      "I am planning a trip to Berlin in June. Create a list of places worth seeing there.\n",
      "--------------------------------------------------------------------------------\n",
      "Response:\n",
      "Berlin is a vibrant city with a rich history, diverse culture, and plenty of attractions. Here’s a list of must-see places to consider for your trip in June:\n",
      "\n",
      "1. **Brandenburg Gate (Brandenburger Tor)** - An iconic symbol of Berlin and a must-visit landmark.\n",
      "\n",
      "2. **Berlin Wall Memorial (Gedenkstätte Berliner Mauer)** - A historical site that commemorates the division of the city and provides insight into the impact of the Berlin Wall.\n",
      "\n",
      "3. **Reichstag Building** - The seat of the German Parliament, featuring a stunning glass dome that offers panoramic views of the city.\n",
      "\n",
      "4. **Museum Island (Museumsinsel)** - A UNESCO World Heritage site home to several world-class museums, including the Pergamon Museum and the Altes Museum.\n",
      "\n",
      "5. **Checkpoint Charlie** - The famous border crossing point between East and West Berlin during the Cold War, complete with a museum detailing its history.\n",
      "\n",
      "6. **East Side Gallery** - A 1.3 km-long stretch of the Berlin Wall covered in murals and street art, celebrating freedom and creativity.\n",
      "\n",
      "7. **Potsdamer Platz** - A bustling square known for its modern architecture, shopping, and entertainment options.\n",
      "\n",
      "8. **Charlottenburg Palace (Schloss Charlottenburg)** - A beautiful baroque palace with stunning gardens, perfect for a leisurely stroll.\n",
      "\n",
      "9. **Tiergarten** - Berlin's largest park, ideal for picnics, walks, and enjoying nature in the heart of the city.\n",
      "\n",
      "10. **Kaiser Wilhelm Memorial Church (Kaiser-Wilhelm-Gedächtniskirche)** - A striking church that serves as a memorial to peace and reconciliation.\n",
      "\n",
      "11. **Topography of Terror** - An outdoor and indoor history museum located on the site of the former Gestapo and SS headquarters, detailing the history of the Nazi regime.\n",
      "\n",
      "12. **Berlin Cathedral (Berliner Dom)** - A magnificent Protestant cathedral with a stunning dome and beautiful interiors.\n",
      "\n",
      "13. **Sachsenhausen Concentration Camp Memorial** - A sobering site located just outside Berlin, offering insights into the Holocaust and the history of the Nazi regime.\n",
      "\n",
      "14. **Tempelhofer Feld** - A former airport turned public park, perfect for cycling, skating, and enjoying outdoor activities.\n",
      "\n",
      "15. **Mauerpark** - A lively park known for its flea market, karaoke sessions, and vibrant atmosphere, especially on Sundays.\n",
      "\n",
      "16. **Friedrichshain and Kreuzberg** - Trendy neighborhoods known for their street art, cafes, and nightlife.\n",
      "\n",
      "17. **Berlin Zoo (Zoologischer Garten Berlin)** - One of the oldest and most famous zoos in the world, home to a wide variety of animals.\n",
      "\n",
      "18. **Jewish Museum Berlin** - A museum dedicated to Jewish history and culture, featuring a striking architectural design.\n",
      "\n",
      "19. **Gendarmenmarkt** - A beautiful square surrounded by historic buildings, including the French and German Cathedrals and the Concert House.\n",
      "\n",
      "20. **Spree River Cruise** - Consider taking a boat tour along the Spree River for a unique perspective of the city’s landmarks.\n",
      "\n",
      "Make sure to check the opening hours and any special events happening during your visit in June. Enjoy your trip to Berlin!\n",
      "--------------------------------------------------------------------------------\n"
     ]
    },
    {
     "data": {
      "text/plain": [
       "\"Berlin is a vibrant city with a rich history, diverse culture, and plenty of attractions. Here’s a list of must-see places to consider for your trip in June:\\n\\n1. **Brandenburg Gate (Brandenburger Tor)** - An iconic symbol of Berlin and a must-visit landmark.\\n\\n2. **Berlin Wall Memorial (Gedenkstätte Berliner Mauer)** - A historical site that commemorates the division of the city and provides insight into the impact of the Berlin Wall.\\n\\n3. **Reichstag Building** - The seat of the German Parliament, featuring a stunning glass dome that offers panoramic views of the city.\\n\\n4. **Museum Island (Museumsinsel)** - A UNESCO World Heritage site home to several world-class museums, including the Pergamon Museum and the Altes Museum.\\n\\n5. **Checkpoint Charlie** - The famous border crossing point between East and West Berlin during the Cold War, complete with a museum detailing its history.\\n\\n6. **East Side Gallery** - A 1.3 km-long stretch of the Berlin Wall covered in murals and street art, celebrating freedom and creativity.\\n\\n7. **Potsdamer Platz** - A bustling square known for its modern architecture, shopping, and entertainment options.\\n\\n8. **Charlottenburg Palace (Schloss Charlottenburg)** - A beautiful baroque palace with stunning gardens, perfect for a leisurely stroll.\\n\\n9. **Tiergarten** - Berlin's largest park, ideal for picnics, walks, and enjoying nature in the heart of the city.\\n\\n10. **Kaiser Wilhelm Memorial Church (Kaiser-Wilhelm-Gedächtniskirche)** - A striking church that serves as a memorial to peace and reconciliation.\\n\\n11. **Topography of Terror** - An outdoor and indoor history museum located on the site of the former Gestapo and SS headquarters, detailing the history of the Nazi regime.\\n\\n12. **Berlin Cathedral (Berliner Dom)** - A magnificent Protestant cathedral with a stunning dome and beautiful interiors.\\n\\n13. **Sachsenhausen Concentration Camp Memorial** - A sobering site located just outside Berlin, offering insights into the Holocaust and the history of the Nazi regime.\\n\\n14. **Tempelhofer Feld** - A former airport turned public park, perfect for cycling, skating, and enjoying outdoor activities.\\n\\n15. **Mauerpark** - A lively park known for its flea market, karaoke sessions, and vibrant atmosphere, especially on Sundays.\\n\\n16. **Friedrichshain and Kreuzberg** - Trendy neighborhoods known for their street art, cafes, and nightlife.\\n\\n17. **Berlin Zoo (Zoologischer Garten Berlin)** - One of the oldest and most famous zoos in the world, home to a wide variety of animals.\\n\\n18. **Jewish Museum Berlin** - A museum dedicated to Jewish history and culture, featuring a striking architectural design.\\n\\n19. **Gendarmenmarkt** - A beautiful square surrounded by historic buildings, including the French and German Cathedrals and the Concert House.\\n\\n20. **Spree River Cruise** - Consider taking a boat tour along the Spree River for a unique perspective of the city’s landmarks.\\n\\nMake sure to check the opening hours and any special events happening during your visit in June. Enjoy your trip to Berlin!\""
      ]
     },
     "execution_count": 3,
     "metadata": {},
     "output_type": "execute_result"
    }
   ],
   "source": [
    "Swayam.execute(f)"
   ]
  },
  {
   "cell_type": "markdown",
   "metadata": {},
   "source": [
    "### Directly giving file path"
   ]
  },
  {
   "cell_type": "code",
   "execution_count": 4,
   "metadata": {},
   "outputs": [
    {
     "name": "stdout",
     "output_type": "stream",
     "text": [
      "--------------------------------------------------------------------------------\n",
      "Prompt: (Role: user)\n",
      "I am planning a trip to Berlin in June. Create a list of places worth seeing there.\n",
      "--------------------------------------------------------------------------------\n",
      "Response:\n",
      "Berlin is a vibrant city with a rich history, diverse culture, and plenty of attractions. Here’s a list of must-see places to consider for your trip in June:\n",
      "\n",
      "1. **Brandenburg Gate (Brandenburger Tor)** - An iconic symbol of Berlin and a must-visit landmark.\n",
      "\n",
      "2. **Reichstag Building** - The seat of the German Parliament, featuring a stunning glass dome that offers panoramic views of the city.\n",
      "\n",
      "3. **Berlin Wall Memorial (Gedenkstätte Berliner Mauer)** - A historical site that commemorates the division of Berlin and includes a preserved section of the Wall.\n",
      "\n",
      "4. **East Side Gallery** - A 1.3 km-long stretch of the Berlin Wall covered in murals and street art, showcasing messages of peace and freedom.\n",
      "\n",
      "5. **Museum Island (Museumsinsel)** - A UNESCO World Heritage site that houses several world-renowned museums, including the Pergamon Museum and the Altes Museum.\n",
      "\n",
      "6. **Checkpoint Charlie** - The famous border crossing point between East and West Berlin during the Cold War, now a popular tourist attraction.\n",
      "\n",
      "7. **Potsdamer Platz** - A bustling square known for its modern architecture, shopping, and entertainment options.\n",
      "\n",
      "8. **Charlottenburg Palace (Schloss Charlottenburg)** - A beautiful baroque palace with stunning gardens, perfect for a leisurely stroll.\n",
      "\n",
      "9. **Kaiser Wilhelm Memorial Church** - A striking church that serves as a memorial to peace and reconciliation, with its partially destroyed tower.\n",
      "\n",
      "10. **Tiergarten** - Berlin’s largest park, ideal for a relaxing walk, a picnic, or renting a bike to explore.\n",
      "\n",
      "11. **Berlin Cathedral (Berliner Dom)** - A magnificent Protestant cathedral with a stunning dome and beautiful interiors.\n",
      "\n",
      "12. **Jewish Museum Berlin** - A poignant museum that explores Jewish history and culture in Germany.\n",
      "\n",
      "13. **Tempelhofer Feld** - A former airport turned public park, great for cycling, skating, and picnicking.\n",
      "\n",
      "14. **Sachsenhausen Concentration Camp Memorial** - A sobering site located just outside Berlin, offering insights into the Holocaust and Nazi history.\n",
      "\n",
      "15. **Mauerpark** - A lively park known for its flea market, karaoke sessions, and vibrant atmosphere, especially on Sundays.\n",
      "\n",
      "16. **Berlin Zoo and Aquarium** - One of the oldest zoos in the world, home to a wide variety of animals and a great place for families.\n",
      "\n",
      "17. **Gendarmenmarkt** - A beautiful square featuring the German and French Cathedrals and the Konzerthaus, often considered one of the most beautiful squares in Berlin.\n",
      "\n",
      "18. **Friedrichstraße** - A major shopping street with a mix of high-end shops, boutiques, and restaurants.\n",
      "\n",
      "19. **Kreuzberg District** - Known for its multicultural vibe, street art, and lively nightlife, it’s a great area to explore local cafes and bars.\n",
      "\n",
      "20. **Spree River Cruise** - Consider taking a boat tour along the Spree River for a unique perspective of the city’s landmarks.\n",
      "\n",
      "Make sure to check local events and festivals happening in June, as Berlin often hosts various cultural events during the summer months. Enjoy your trip!\n",
      "--------------------------------------------------------------------------------\n"
     ]
    },
    {
     "data": {
      "text/plain": [
       "'Berlin is a vibrant city with a rich history, diverse culture, and plenty of attractions. Here’s a list of must-see places to consider for your trip in June:\\n\\n1. **Brandenburg Gate (Brandenburger Tor)** - An iconic symbol of Berlin and a must-visit landmark.\\n\\n2. **Reichstag Building** - The seat of the German Parliament, featuring a stunning glass dome that offers panoramic views of the city.\\n\\n3. **Berlin Wall Memorial (Gedenkstätte Berliner Mauer)** - A historical site that commemorates the division of Berlin and includes a preserved section of the Wall.\\n\\n4. **East Side Gallery** - A 1.3 km-long stretch of the Berlin Wall covered in murals and street art, showcasing messages of peace and freedom.\\n\\n5. **Museum Island (Museumsinsel)** - A UNESCO World Heritage site that houses several world-renowned museums, including the Pergamon Museum and the Altes Museum.\\n\\n6. **Checkpoint Charlie** - The famous border crossing point between East and West Berlin during the Cold War, now a popular tourist attraction.\\n\\n7. **Potsdamer Platz** - A bustling square known for its modern architecture, shopping, and entertainment options.\\n\\n8. **Charlottenburg Palace (Schloss Charlottenburg)** - A beautiful baroque palace with stunning gardens, perfect for a leisurely stroll.\\n\\n9. **Kaiser Wilhelm Memorial Church** - A striking church that serves as a memorial to peace and reconciliation, with its partially destroyed tower.\\n\\n10. **Tiergarten** - Berlin’s largest park, ideal for a relaxing walk, a picnic, or renting a bike to explore.\\n\\n11. **Berlin Cathedral (Berliner Dom)** - A magnificent Protestant cathedral with a stunning dome and beautiful interiors.\\n\\n12. **Jewish Museum Berlin** - A poignant museum that explores Jewish history and culture in Germany.\\n\\n13. **Tempelhofer Feld** - A former airport turned public park, great for cycling, skating, and picnicking.\\n\\n14. **Sachsenhausen Concentration Camp Memorial** - A sobering site located just outside Berlin, offering insights into the Holocaust and Nazi history.\\n\\n15. **Mauerpark** - A lively park known for its flea market, karaoke sessions, and vibrant atmosphere, especially on Sundays.\\n\\n16. **Berlin Zoo and Aquarium** - One of the oldest zoos in the world, home to a wide variety of animals and a great place for families.\\n\\n17. **Gendarmenmarkt** - A beautiful square featuring the German and French Cathedrals and the Konzerthaus, often considered one of the most beautiful squares in Berlin.\\n\\n18. **Friedrichstraße** - A major shopping street with a mix of high-end shops, boutiques, and restaurants.\\n\\n19. **Kreuzberg District** - Known for its multicultural vibe, street art, and lively nightlife, it’s a great area to explore local cafes and bars.\\n\\n20. **Spree River Cruise** - Consider taking a boat tour along the Spree River for a unique perspective of the city’s landmarks.\\n\\nMake sure to check local events and festivals happening in June, as Berlin often hosts various cultural events during the summer months. Enjoy your trip!'"
      ]
     },
     "execution_count": 4,
     "metadata": {},
     "output_type": "execute_result"
    }
   ],
   "source": [
    "Swayam.execute(\"trip_command.txt\")"
   ]
  }
 ],
 "metadata": {
  "kernelspec": {
   "display_name": "py3108",
   "language": "python",
   "name": "python3"
  },
  "language_info": {
   "codemirror_mode": {
    "name": "ipython",
    "version": 3
   },
   "file_extension": ".py",
   "mimetype": "text/x-python",
   "name": "python",
   "nbconvert_exporter": "python",
   "pygments_lexer": "ipython3",
   "version": "3.10.8"
  }
 },
 "nbformat": 4,
 "nbformat_minor": 2
}
