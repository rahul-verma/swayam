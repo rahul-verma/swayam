{
 "cells": [
  {
   "cell_type": "code",
   "execution_count": 1,
   "metadata": {},
   "outputs": [
    {
     "name": "stdout",
     "output_type": "stream",
     "text": [
      "Creating default router...\n"
     ]
    }
   ],
   "source": [
    "from test_utils import *\n",
    "from swayam import *"
   ]
  },
  {
   "cell_type": "markdown",
   "metadata": {},
   "source": [
    "## JSON Output\n",
    "\n",
    "Beyond basic conversational usage of an LLM, especially when you want to integrate the output into a subsequent local functionality, getting structured output can be of great help."
   ]
  },
  {
   "cell_type": "code",
   "execution_count": 2,
   "metadata": {},
   "outputs": [],
   "source": [
    "router = Router(run_id=\"test\")"
   ]
  },
  {
   "cell_type": "code",
   "execution_count": 3,
   "metadata": {},
   "outputs": [],
   "source": [
    "## Following is a Swayam interpretation of an example from OpenAI website.\n",
    "\n",
    "from swayam import Tool\n",
    "\n",
    "builder = Tool.structure_builder(\"CalendarEvent\")\n",
    "builder.add_field(\"name\", type=str, desc=\"Name of the event\")\n",
    "builder.add_field(\"date\", type=str, desc=\"Date on which the event takes place.\")\n",
    "builder.add_field(\"participants\", type=list[str], desc=\"Names of participants.\")\n",
    "builder.add_field(\"city\", type=list[str], desc=\"City where the event takes place.\")\n",
    "\n",
    "CalendarEvent = builder.build()"
   ]
  },
  {
   "cell_type": "code",
   "execution_count": 4,
   "metadata": {},
   "outputs": [
    {
     "name": "stdout",
     "output_type": "stream",
     "text": [
      "{\"properties\": {\"name\": {\"description\": \"Name of the event\", \"title\": \"Name\", \"type\": \"string\"}, \"date\": {\"description\": \"Date on which the event takes place.\", \"title\": \"Date\", \"type\": \"string\"}, \"participants\": {\"description\": \"Names of participants.\", \"items\": {\"type\": \"string\"}, \"title\": \"Participants\", \"type\": \"array\"}, \"city\": {\"description\": \"City where the event takes place.\", \"items\": {\"type\": \"string\"}, \"title\": \"City\", \"type\": \"array\"}}, \"required\": [\"name\", \"date\", \"participants\", \"city\"], \"title\": \"CalendarEvent\", \"type\": \"object\"}\n"
     ]
    }
   ],
   "source": [
    "print(CalendarEvent.schema_json())"
   ]
  },
  {
   "cell_type": "code",
   "execution_count": 5,
   "metadata": {},
   "outputs": [
    {
     "ename": "TypeError",
     "evalue": "Prompt.user_prompt() got an unexpected keyword argument 'response_format'",
     "output_type": "error",
     "traceback": [
      "\u001b[0;31m---------------------------------------------------------------------------\u001b[0m",
      "\u001b[0;31mTypeError\u001b[0m                                 Traceback (most recent call last)",
      "Cell \u001b[0;32mIn[5], line 1\u001b[0m\n\u001b[0;32m----> 1\u001b[0m prompt \u001b[38;5;241m=\u001b[39m \u001b[43mPrompt\u001b[49m\u001b[38;5;241;43m.\u001b[39;49m\u001b[43muser_prompt\u001b[49m\u001b[43m(\u001b[49m\u001b[38;5;124;43m\"\u001b[39;49m\u001b[38;5;124;43mExtract event information: Alice and Bob are going to a science fair on Friday.\u001b[39;49m\u001b[38;5;124;43m\"\u001b[39;49m\u001b[43m,\u001b[49m\u001b[43m \u001b[49m\u001b[43mresponse_format\u001b[49m\u001b[38;5;241;43m=\u001b[39;49m\u001b[43mCalendarEvent\u001b[49m\u001b[43m)\u001b[49m\n\u001b[1;32m      2\u001b[0m router\u001b[38;5;241m.\u001b[39mexecute(prompt, response_format\u001b[38;5;241m=\u001b[39mCalendarEvent, reset_report\u001b[38;5;241m=\u001b[39m\u001b[38;5;28;01mTrue\u001b[39;00m)\n",
      "\u001b[0;31mTypeError\u001b[0m: Prompt.user_prompt() got an unexpected keyword argument 'response_format'"
     ]
    }
   ],
   "source": [
    "prompt = Prompt.user_prompt(\"Extract event information: Alice and Bob are going to a science fair on Friday.\", response_format=CalendarEvent)\n",
    "router.execute(prompt, response_format=CalendarEvent, reset_report=True)"
   ]
  },
  {
   "cell_type": "markdown",
   "metadata": {},
   "source": [
    "Execution of multiple queries will need each one to be context free from another else there is an OpenAI exception relating to a tool call missing."
   ]
  },
  {
   "cell_type": "code",
   "execution_count": null,
   "metadata": {},
   "outputs": [],
   "source": [
    "prompts = [\n",
    "    \"Extract event information: Alice and Bob are going to a science fair on Friday.\",\n",
    "    \"Extract event information: We are going to a science fair on Tuesday.\",\n",
    "    \"Extract event information: Rahul and Pepe are going to the party on 12th August.\"\n",
    "]\n",
    "agent.execute(*prompts, response_format=CalendarEvent, reset_report=True, same_context=False)"
   ]
  }
 ],
 "metadata": {
  "kernelspec": {
   "display_name": "py3108",
   "language": "python",
   "name": "python3"
  },
  "language_info": {
   "codemirror_mode": {
    "name": "ipython",
    "version": 3
   },
   "file_extension": ".py",
   "mimetype": "text/x-python",
   "name": "python",
   "nbconvert_exporter": "python",
   "pygments_lexer": "ipython3",
   "version": "3.10.8"
  }
 },
 "nbformat": 4,
 "nbformat_minor": 2
}
