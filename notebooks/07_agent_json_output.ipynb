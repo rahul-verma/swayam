{
 "cells": [
  {
   "cell_type": "code",
   "execution_count": null,
   "metadata": {},
   "outputs": [],
   "source": [
    "from test_utils import *\n",
    "from swayam import Agent"
   ]
  },
  {
   "cell_type": "markdown",
   "metadata": {},
   "source": [
    "## JSON Output\n",
    "\n",
    "Beyond basic conversational usage of an LLM, especially when you want to integrate the output into a subsequent local functionality, getting structured output can be of great help."
   ]
  },
  {
   "cell_type": "code",
   "execution_count": null,
   "metadata": {},
   "outputs": [],
   "source": [
    "agent = Agent()"
   ]
  },
  {
   "cell_type": "code",
   "execution_count": null,
   "metadata": {},
   "outputs": [],
   "source": [
    "## Example from OpenAI website\n",
    "\n",
    "from swayam import create_structure\n",
    "\n",
    "CalendarEvent = create_structure(\"CalendarEvent\", name=str, date=str, participants=list[str], city=str)\n",
    "    \n",
    "prompt = \"Extract event information: Alice and Bob are going to a science fair on Friday.\"\n",
    "agent.execute(prompt, response_format=CalendarEvent)"
   ]
  }
 ],
 "metadata": {
  "kernelspec": {
   "display_name": "py3108",
   "language": "python",
   "name": "python3"
  },
  "language_info": {
   "codemirror_mode": {
    "name": "ipython",
    "version": 3
   },
   "file_extension": ".py",
   "mimetype": "text/x-python",
   "name": "python",
   "nbconvert_exporter": "python",
   "pygments_lexer": "ipython3",
   "version": "3.10.8"
  }
 },
 "nbformat": 4,
 "nbformat_minor": 2
}
