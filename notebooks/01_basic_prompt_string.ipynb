{
 "cells": [
  {
   "cell_type": "code",
   "execution_count": 1,
   "metadata": {},
   "outputs": [
    {
     "name": "stdout",
     "output_type": "stream",
     "text": [
      "Creating default router...\n"
     ]
    }
   ],
   "source": [
    "from test_utils import *\n",
    "from swayam import *"
   ]
  },
  {
   "cell_type": "markdown",
   "metadata": {},
   "source": [
    "### The most basic use case"
   ]
  },
  {
   "cell_type": "markdown",
   "metadata": {},
   "source": [
    "#### Prompt as a String\n",
    "\n",
    "Let's run a basic text prompt.\n",
    "\n",
    "We'll use the most basic form of using Swayam to start with."
   ]
  },
  {
   "cell_type": "code",
   "execution_count": 2,
   "metadata": {},
   "outputs": [
    {
     "name": "stdout",
     "output_type": "stream",
     "text": [
      "Conversation has system prompt? None\n",
      "Executing Conversation with 1 step(s)\n",
      "--------------------------------------------------------------------------------\n",
      "Prompt: (Role: system)\n",
      "You are a helpful assistant. You are here to help me with my queries.\n",
      "--------------------------------------------------------------------------------\n",
      "--------------------------------------------------------------------------------\n",
      "Prompt: (Role: user)\n",
      "I am planning a trip to Berlin in June. Create a list of places worth seeing there.\n",
      "--------------------------------------------------------------------------------\n",
      "Response:\n",
      "Berlin is a vibrant city with a rich history, diverse culture, and plenty of attractions. Here’s a list of must-see places to consider for your trip in June:\n",
      "\n",
      "1. **Brandenburg Gate (Brandenburger Tor)** - An iconic symbol of Berlin and a must-visit landmark.\n",
      "\n",
      "2. **Reichstag Building** - The seat of the German Parliament, featuring a stunning glass dome that offers panoramic views of the city.\n",
      "\n",
      "3. **Berlin Wall Memorial (Gedenkstätte Berliner Mauer)** - A historical site that commemorates the division of Berlin and includes a preserved section of the Wall.\n",
      "\n",
      "4. **East Side Gallery** - A 1.3 km-long stretch of the Berlin Wall covered in murals and street art, showcasing messages of freedom and unity.\n",
      "\n",
      "5. **Museum Island (Museumsinsel)** - A UNESCO World Heritage site that houses several world-renowned museums, including the Pergamon Museum and the Altes Museum.\n",
      "\n",
      "6. **Checkpoint Charlie** - The famous border crossing point between East and West Berlin during the Cold War, now a museum.\n",
      "\n",
      "7. **Potsdamer Platz** - A bustling square known for its modern architecture, shopping, and entertainment options.\n",
      "\n",
      "8. **Charlottenburg Palace (Schloss Charlottenburg)** - A beautiful baroque palace with stunning gardens, perfect for a leisurely stroll.\n",
      "\n",
      "9. **Berlin Cathedral (Berliner Dom)** - A magnificent Protestant cathedral with a stunning dome and beautiful interiors.\n",
      "\n",
      "10. **Tiergarten** - Berlin’s largest park, ideal for a relaxing walk, a picnic, or renting a bike.\n",
      "\n",
      "11. **Kaiser Wilhelm Memorial Church (Kaiser-Wilhelm-Gedächtniskirche)** - A striking church that serves as a memorial to peace and reconciliation.\n",
      "\n",
      "12. **Jewish Museum Berlin** - A poignant museum that explores the history of Jews in Germany, featuring a unique architectural design.\n",
      "\n",
      "13. **Topography of Terror** - An outdoor and indoor history museum located on the site of the former Gestapo and SS headquarters.\n",
      "\n",
      "14. **Sachsenhausen Concentration Camp Memorial** - A short trip from Berlin, this memorial site offers a sobering insight into the history of the Holocaust.\n",
      "\n",
      "15. **Tempelhofer Feld** - A former airport turned public park, perfect for cycling, skating, or picnicking.\n",
      "\n",
      "16. **Mauerpark** - A lively park known for its flea market and karaoke sessions on Sundays.\n",
      "\n",
      "17. **Berlin Zoo (Zoologischer Garten Berlin)** - One of the oldest and most famous zoos in the world, home to a wide variety of animals.\n",
      "\n",
      "18. **Friedrichstraße** - A major shopping street with a mix of high-end shops, boutiques, and cafes.\n",
      "\n",
      "19. **Kreuzberg District** - Known for its multicultural vibe, street art, and vibrant nightlife.\n",
      "\n",
      "20. **Spree River Cruise** - Consider taking a boat tour along the Spree River for a unique perspective of the city’s landmarks.\n",
      "\n",
      "Make sure to check the opening hours and any special events happening in June, as Berlin often hosts festivals and cultural events during the summer. Enjoy your trip!\n",
      "--------------------------------------------------------------------------------\n"
     ]
    }
   ],
   "source": [
    "prompt = \"I am planning a trip to Berlin in June. Create a list of places worth seeing there.\"\n",
    "Swayam.execute(prompt)"
   ]
  },
  {
   "cell_type": "markdown",
   "metadata": {},
   "source": [
    "The above returns the response content by default. If we don't want that, we can set **display** as False."
   ]
  }
 ],
 "metadata": {
  "kernelspec": {
   "display_name": "py3108",
   "language": "python",
   "name": "python3"
  },
  "language_info": {
   "codemirror_mode": {
    "name": "ipython",
    "version": 3
   },
   "file_extension": ".py",
   "mimetype": "text/x-python",
   "name": "python",
   "nbconvert_exporter": "python",
   "pygments_lexer": "ipython3",
   "version": "3.10.8"
  }
 },
 "nbformat": 4,
 "nbformat_minor": 2
}
