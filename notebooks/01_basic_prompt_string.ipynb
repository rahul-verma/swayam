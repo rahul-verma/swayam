{
 "cells": [
  {
   "cell_type": "code",
   "execution_count": 1,
   "metadata": {},
   "outputs": [],
   "source": [
    "from test_utils import *\n",
    "from swayam import *"
   ]
  },
  {
   "cell_type": "markdown",
   "metadata": {},
   "source": [
    "### The most basic use case"
   ]
  },
  {
   "cell_type": "markdown",
   "metadata": {},
   "source": [
    "#### Prompt as a String\n",
    "\n",
    "Let's run a basic text prompt.\n",
    "\n",
    "We'll use the most basic form of using Swayam to start with."
   ]
  },
  {
   "cell_type": "code",
   "execution_count": 2,
   "metadata": {},
   "outputs": [
    {
     "name": "stdout",
     "output_type": "stream",
     "text": [
      "[LOG] Normalising 1 nodes Object Properties: Object_Name: NOT_SET Class: swayam.llm.agent.Agent \n",
      "[LOG] Node:: 1 Object Properties: Object_Name: NOT_SET Class: swayam.llm.agent.Agent \n",
      "I am planning a trip to Berlin in June. Create a list of places worth seeing there.\n",
      "[LOG] Loading Prompt object\n",
      "[LOG] Input: <class 'str'>, Sequence: None\n",
      "[LOG] Returning: Sequence: <swayam.llm.prompt.request.PromptSequence object at 0x10c24bbb0>\n",
      "[LOG] Finished:: Current Nodes: [<swayam.llm.node.PromptNode object at 0x10c26cb80>] Object Properties: Object_Name: NOT_SET Class: swayam.llm.agent.Agent \n",
      "[LOG] Finished Normalisation:: Nodes: [<swayam.llm.node.PromptNode object at 0x10c26cb80>] Object Properties: Object_Name: NOT_SET Class: swayam.llm.agent.Agent \n",
      "[LOG] Executing 1 nodes with same_context=True\n",
      "[LOG] Found PromptNode\n",
      "--------------------------------------------------------------------------------\n",
      "Prompt:\n",
      "<swayam.llm.prompt.request.UserPrompt object at 0x10c26c550>\n",
      "--------------------------------------------------------------------------------\n",
      "Context Messages: None\n",
      "--------------------------------------------------------------------------------\n",
      "Response:\n",
      "Berlin is a vibrant city with a rich history, diverse culture, and plenty of attractions to explore. Here’s a list of must-see places in Berlin:\n",
      "\n",
      "1. **Brandenburg Gate (Brandenburger Tor)** - An iconic symbol of Berlin and a historical monument that has witnessed many significant events.\n",
      "\n",
      "2. **Berlin Wall Memorial (Gedenkstätte Berliner Mauer)** - A poignant reminder of the division of the city, featuring a preserved section of the wall and an informative visitor center.\n",
      "\n",
      "3. **Reichstag Building** - The seat of the German Parliament, known for its stunning glass dome that offers panoramic views of the city.\n",
      "\n",
      "4. **Museum Island (Museumsinsel)** - A UNESCO World Heritage site housing five world-renowned museums, including the Pergamon Museum and the Altes Museum.\n",
      "\n",
      "5. **Checkpoint Charlie** - The famous border crossing point between East and West Berlin during the Cold War, complete with a museum detailing its history.\n",
      "\n",
      "6. **East Side Gallery** - A 1.3 km-long stretch of the Berlin Wall covered in colorful murals and street art, celebrating freedom and creativity.\n",
      "\n",
      "7. **Potsdamer Platz** - A bustling square known for its modern architecture, shopping, and entertainment options, as well as the Sony Center.\n",
      "\n",
      "8. **Charlottenburg Palace (Schloss Charlottenburg)** - A beautiful baroque palace with stunning gardens, showcasing the opulence of Prussian royalty.\n",
      "\n",
      "9. **Tiergarten** - Berlin’s largest park, perfect for a leisurely stroll, picnicking, or cycling amidst nature.\n",
      "\n",
      "10. **Kaiser Wilhelm Memorial Church (Kaiser-Wilhelm-Gedächtniskirche)** - A striking church that serves as a memorial to peace and reconciliation, with its partially destroyed tower.\n",
      "\n",
      "11. **Topography of Terror** - An outdoor and indoor history museum located on the site of the former Gestapo and SS headquarters, detailing the horrors of the Nazi regime.\n",
      "\n",
      "12. **Sachsenhausen Concentration Camp Memorial** - A sobering site located just outside Berlin, offering insights into the history of the Holocaust.\n",
      "\n",
      "13. **Berlin Cathedral (Berliner Dom)** - A magnificent Protestant cathedral with a stunning dome, offering breathtaking views from its observation deck.\n",
      "\n",
      "14. **Gendarmenmarkt** - A beautiful square featuring the French and German Cathedrals and the Konzerthaus, known for its architectural harmony.\n",
      "\n",
      "15. **Tempelhofer Feld** - A former airport turned public park, where you can walk, cycle, or even kite-surf on the vast open spaces.\n",
      "\n",
      "16. **Mauerpark** - A lively park known for its flea market, karaoke sessions, and vibrant atmosphere, especially on Sundays.\n",
      "\n",
      "17. **Jewish Museum Berlin** - A striking architectural landmark that explores the history and culture of Jews in Germany.\n",
      "\n",
      "18. **Berlin Zoo and Aquarium** - One of the oldest zoos in the world, home to a wide variety of animals and a well-regarded aquarium.\n",
      "\n",
      "19. **Friedrichstraße** - A major shopping street with a mix of high-end boutiques, restaurants, and cultural venues.\n",
      "\n",
      "20. **Kreuzberg District** - Known for its multicultural vibe, street art, and vibrant nightlife, it’s a great area to explore local cafes and bars.\n",
      "\n",
      "Make sure to check the opening hours and any special events happening during your visit in June. Enjoy your trip to Berlin!\n",
      "--------------------------------------------------------------------------------\n",
      "[LOG] Finished PromptNode\n"
     ]
    }
   ],
   "source": [
    "prompt = \"I am planning a trip to Berlin in June. Create a list of places worth seeing there.\"\n",
    "Swayam.execute(prompt)"
   ]
  },
  {
   "cell_type": "markdown",
   "metadata": {},
   "source": [
    "The above returns the response content by default. If we don't want that, we can set **display** as False."
   ]
  },
  {
   "cell_type": "code",
   "execution_count": 3,
   "metadata": {},
   "outputs": [
    {
     "name": "stdout",
     "output_type": "stream",
     "text": [
      "[LOG] Normalising 1 nodes Object Properties: Object_Name: NOT_SET Class: swayam.llm.agent.Agent \n",
      "[LOG] Node:: 1 Object Properties: Object_Name: NOT_SET Class: swayam.llm.agent.Agent \n",
      "I am planning a trip to Berlin in June. Create a list of places worth seeing there.\n",
      "[LOG] Loading Prompt object\n",
      "[LOG] Input: <class 'str'>, Sequence: None\n",
      "[LOG] Returning: Sequence: <swayam.llm.prompt.request.PromptSequence object at 0x10c26f550>\n",
      "[LOG] Finished:: Current Nodes: [<swayam.llm.node.PromptNode object at 0x10bd30640>] Object Properties: Object_Name: NOT_SET Class: swayam.llm.agent.Agent \n",
      "[LOG] Finished Normalisation:: Nodes: [<swayam.llm.node.PromptNode object at 0x10bd30640>] Object Properties: Object_Name: NOT_SET Class: swayam.llm.agent.Agent \n",
      "[LOG] Executing 1 nodes with same_context=True\n",
      "[LOG] Found PromptNode\n",
      "[LOG] Finished PromptNode\n"
     ]
    }
   ],
   "source": [
    "content = Swayam.execute(prompt, display=False)"
   ]
  },
  {
   "cell_type": "code",
   "execution_count": 5,
   "metadata": {},
   "outputs": [
    {
     "name": "stdout",
     "output_type": "stream",
     "text": [
      "None\n"
     ]
    }
   ],
   "source": [
    "print(content)"
   ]
  }
 ],
 "metadata": {
  "kernelspec": {
   "display_name": "py3108",
   "language": "python",
   "name": "python3"
  },
  "language_info": {
   "codemirror_mode": {
    "name": "ipython",
    "version": 3
   },
   "file_extension": ".py",
   "mimetype": "text/x-python",
   "name": "python",
   "nbconvert_exporter": "python",
   "pygments_lexer": "ipython3",
   "version": "3.10.8"
  }
 },
 "nbformat": 4,
 "nbformat_minor": 2
}
