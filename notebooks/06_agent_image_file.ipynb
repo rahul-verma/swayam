{
 "cells": [
  {
   "cell_type": "code",
   "execution_count": 1,
   "metadata": {},
   "outputs": [],
   "source": [
    "from test_utils import *\n",
    "from swayam import Agent"
   ]
  },
  {
   "cell_type": "markdown",
   "metadata": {},
   "source": [
    "## Analysing Image File\n",
    "\n",
    "One of the powerful features of multi-modal LLMs is image analysis."
   ]
  },
  {
   "cell_type": "code",
   "execution_count": 2,
   "metadata": {},
   "outputs": [],
   "source": [
    "agent = Agent(display=True)"
   ]
  },
  {
   "cell_type": "markdown",
   "metadata": {},
   "source": [
    "#### Creating an Image Prompt\n",
    "\n",
    "We'll need to create an image prompt object."
   ]
  },
  {
   "cell_type": "code",
   "execution_count": 3,
   "metadata": {},
   "outputs": [],
   "source": [
    "from swayam import UserPrompt\n",
    "prompt = UserPrompt(content=\"Please explain this image to me.\", image=\"data/images/5EModel.png\")"
   ]
  },
  {
   "cell_type": "code",
   "execution_count": 4,
   "metadata": {},
   "outputs": [
    {
     "name": "stdout",
     "output_type": "stream",
     "text": [
      "--------------------------------------------------------------------------------\n",
      "Prompt: (Role: user)\n",
      "Please explain this image to me.\n",
      "/Users/rahulverma/Documents/GitHub/swayam/notebooks/data/images/5EModel.png\n",
      "--------------------------------------------------------------------------------\n",
      "Response:\n",
      "The image presents \"The 5E Mental Model for LLM-Assisted Pluralistic Testing,\" which outlines a structured approach to integrating large language models (LLMs) in testing processes. Here’s a breakdown of its components:\n",
      "\n",
      "1. **5E Framework**: The model is organized into five key stages:\n",
      "   - **Engage**: Identifying the testing problem and defining roles between humans and LLMs.\n",
      "   - **Explore**: Assessing if the problem is the right one and conducting experiments to gather insights.\n",
      "   - **Engineer**: Involves prompt engineering and knowledge augmentation to optimize LLM performance.\n",
      "   - **Embed**: Integrating solutions into workflows, considering protocols and the degree of autonomy.\n",
      "   - **Evolve**: Continuous improvement through feedback and adaptation.\n",
      "\n",
      "2. **Participants**: The model emphasizes the roles of different participants:\n",
      "   - **Humans**: Involved in verification and problem-solving.\n",
      "   - **LLMs**: Assist in generating solutions and augmenting human capabilities.\n",
      "\n",
      "3. **Feedback & Adaptation**: A crucial aspect of the model, highlighting the importance of iterative learning and adjustments based on outcomes.\n",
      "\n",
      "4. **Key Considerations**: The bottom section lists principles like fairness, transparency, and accountability, which are essential for ethical and effective testing practices.\n",
      "\n",
      "Overall, the image serves as a guide for leveraging LLMs in a collaborative and structured manner to enhance testing methodologies.\n",
      "--------------------------------------------------------------------------------\n"
     ]
    },
    {
     "data": {
      "text/plain": [
       "'The image presents \"The 5E Mental Model for LLM-Assisted Pluralistic Testing,\" which outlines a structured approach to integrating large language models (LLMs) in testing processes. Here’s a breakdown of its components:\\n\\n1. **5E Framework**: The model is organized into five key stages:\\n   - **Engage**: Identifying the testing problem and defining roles between humans and LLMs.\\n   - **Explore**: Assessing if the problem is the right one and conducting experiments to gather insights.\\n   - **Engineer**: Involves prompt engineering and knowledge augmentation to optimize LLM performance.\\n   - **Embed**: Integrating solutions into workflows, considering protocols and the degree of autonomy.\\n   - **Evolve**: Continuous improvement through feedback and adaptation.\\n\\n2. **Participants**: The model emphasizes the roles of different participants:\\n   - **Humans**: Involved in verification and problem-solving.\\n   - **LLMs**: Assist in generating solutions and augmenting human capabilities.\\n\\n3. **Feedback & Adaptation**: A crucial aspect of the model, highlighting the importance of iterative learning and adjustments based on outcomes.\\n\\n4. **Key Considerations**: The bottom section lists principles like fairness, transparency, and accountability, which are essential for ethical and effective testing practices.\\n\\nOverall, the image serves as a guide for leveraging LLMs in a collaborative and structured manner to enhance testing methodologies.'"
      ]
     },
     "execution_count": 4,
     "metadata": {},
     "output_type": "execute_result"
    }
   ],
   "source": [
    "agent.execute(prompt)"
   ]
  }
 ],
 "metadata": {
  "kernelspec": {
   "display_name": "py3108",
   "language": "python",
   "name": "python3"
  },
  "language_info": {
   "codemirror_mode": {
    "name": "ipython",
    "version": 3
   },
   "file_extension": ".py",
   "mimetype": "text/x-python",
   "name": "python",
   "nbconvert_exporter": "python",
   "pygments_lexer": "ipython3",
   "version": "3.10.8"
  }
 },
 "nbformat": 4,
 "nbformat_minor": 2
}
