{
 "cells": [
  {
   "cell_type": "code",
   "execution_count": 1,
   "metadata": {},
   "outputs": [
    {
     "name": "stdout",
     "output_type": "stream",
     "text": [
      "Creating default router...\n"
     ]
    }
   ],
   "source": [
    "from test_utils import *\n",
    "from swayam import *"
   ]
  },
  {
   "cell_type": "markdown",
   "metadata": {},
   "source": [
    "### HTML Report\n",
    "\n",
    "As discussed earlier, by default, the router creates an HTML report and the console reporting is switched off.\n",
    "\n",
    "In the following code, although two separate invocations are made to **Router.execute**, as the context is maintained, these are treated as a part of the same conversation and hence reported under the same conversation node."
   ]
  },
  {
   "cell_type": "code",
   "execution_count": 2,
   "metadata": {},
   "outputs": [
    {
     "name": "stdout",
     "output_type": "stream",
     "text": [
      "Executing Conversation with 1 step(s)\n",
      "You are a helpful assistant who deliberates and provides useful answers to my queries.\n",
      "I am planning a trip to Berlin in June. Create a list of places worth seeing there.\n",
      "Executing Conversation with 1 step(s)\n",
      "What should I pack for my trip?\n"
     ]
    }
   ],
   "source": [
    "router = Router(run_id=\"test\") # run_id: Mostly for testing purpose. Passing a run_id uses the same report across Routers with the same run_id. \n",
    "\n",
    "# First prompt\n",
    "text_prompt = \"I am planning a trip to Berlin in June. Create a list of places worth seeing there.\"\n",
    "user_prompt = Prompt.user_prompt(text_prompt)\n",
    "router.execute(user_prompt, show_in_browser=True)\n",
    "\n",
    "# Second prompt\n",
    "text_prompt = \"What should I pack for my trip?\"\n",
    "user_prompt = Prompt.user_prompt(text_prompt)\n",
    "router.execute(user_prompt, reset_context=False)"
   ]
  },
  {
   "cell_type": "markdown",
   "metadata": {},
   "source": [
    "Once the context is reset, a new conversation node is created."
   ]
  },
  {
   "cell_type": "code",
   "execution_count": 3,
   "metadata": {},
   "outputs": [
    {
     "name": "stdout",
     "output_type": "stream",
     "text": [
      "Executing Conversation with 1 step(s)\n",
      "You are a helpful assistant who deliberates and provides useful answers to my queries.\n",
      "What else can you think of?\n"
     ]
    }
   ],
   "source": [
    "text_prompt = \"What else can you think of?\"\n",
    "user_prompt = Prompt.user_prompt(text_prompt)\n",
    "router.execute(user_prompt) # Context resetting is the default behavior"
   ]
  }
 ],
 "metadata": {
  "kernelspec": {
   "display_name": "py3108",
   "language": "python",
   "name": "python3"
  },
  "language_info": {
   "codemirror_mode": {
    "name": "ipython",
    "version": 3
   },
   "file_extension": ".py",
   "mimetype": "text/x-python",
   "name": "python",
   "nbconvert_exporter": "python",
   "pygments_lexer": "ipython3",
   "version": "3.10.8"
  }
 },
 "nbformat": 4,
 "nbformat_minor": 2
}
