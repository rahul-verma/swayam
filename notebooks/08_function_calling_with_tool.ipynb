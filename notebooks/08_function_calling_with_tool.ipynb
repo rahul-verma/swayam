{
 "cells": [
  {
   "cell_type": "code",
   "execution_count": null,
   "metadata": {},
   "outputs": [],
   "source": [
    "from test_utils import *\n",
    "from swayam import Agent"
   ]
  },
  {
   "cell_type": "markdown",
   "metadata": {},
   "source": [
    "### Function Calling with Swayam Tools\n",
    "\n",
    "Let's now start to link the functionality of an LLM Agent with a locally available function call."
   ]
  },
  {
   "cell_type": "markdown",
   "metadata": {},
   "source": [
    "#### Let's see what happens without a function call"
   ]
  },
  {
   "cell_type": "code",
   "execution_count": null,
   "metadata": {},
   "outputs": [],
   "source": [
    "from swayam import Swayam\n",
    "Swayam.execute(\"What's the weather like in Boston?\")"
   ]
  },
  {
   "cell_type": "markdown",
   "metadata": {},
   "source": [
    "### Some Dummy Functions\n",
    "\n",
    "Let's create some dummy functions"
   ]
  },
  {
   "cell_type": "code",
   "execution_count": null,
   "metadata": {},
   "outputs": [],
   "source": [
    "from enum import Enum\n",
    "class UnitEnum(Enum):\n",
    "    CELSIUS = \"celsius\"\n",
    "    FAHRENHEIT = \"fahrenheit\"\n",
    "\n",
    "import json\n",
    "\n",
    "# Example dummy function hard coded to return the same weather\n",
    "# In production, this could be your backend API or an external API\n",
    "def get_current_weather(location, unit):\n",
    "    import random\n",
    "    i = random.randint(-10, 40)\n",
    "    if unit.lower() == \"celsius\":\n",
    "        return f\"{i}°C\"\n",
    "    elif unit.lower() == \"fahrenheit\":\n",
    "        return f\"{i*9/5 + 32}°F\"\n",
    "    else:\n",
    "        raise ValueError(\"Invalid unit\")\n",
    "    \n",
    "def calculate(expression):\n",
    "    return eval(expression)\n",
    "\n",
    "def search_email(text):\n",
    "    import re\n",
    "    emails = re.findall(r'([\\w\\.-]+@[\\w\\.-]+)', text)\n",
    "    if emails:\n",
    "        return emails\n",
    "    else:\n",
    "        return None"
   ]
  },
  {
   "cell_type": "markdown",
   "metadata": {},
   "source": [
    "## Tool Creation\n",
    "\n",
    "As a part of an LLM workflow, we want to trigger the above local function based on response from the LLM (using function calling).\n",
    "\n",
    "Before we can do that, we need to create a sort of bridge between a function from the view point of an LLM vs what it means in Python.\n",
    "\n",
    "Here we see how we can create convert a function into a Tool."
   ]
  },
  {
   "cell_type": "markdown",
   "metadata": {},
   "source": [
    "### ToolBuilder\n",
    "\n",
    "We use the tool builder to wrap the function created above.\n",
    "1. Provide the function callable and describe it.\n",
    "2. Add all arguments, while describing their types and purposes."
   ]
  },
  {
   "cell_type": "code",
   "execution_count": null,
   "metadata": {},
   "outputs": [],
   "source": [
    "from swayam import Tool\n",
    "builder = Tool.tool_builder(get_current_weather, desc=\"Get the current weather in a given location\")\n",
    "builder.add_field(\"location\", type=str, desc=\"Location to get weather information for\")\n",
    "builder.add_field(\"unit\", type=UnitEnum, desc=\"Unit of temperature\", default=UnitEnum.CELSIUS)\n",
    "get_current_weather_tool = builder.build()\n",
    "\n",
    "builder = Tool.tool_builder(calculate, desc=\"Evaluates a mathematical expression\")\n",
    "builder.add_field(\"expression\", type=str, desc=\"The expression to be evaluated.\")\n",
    "calc_tool = builder.build()\n",
    "\n",
    "builder = Tool.tool_builder(search_email, desc=\"Searches email addresses in a given text\")\n",
    "builder.add_field(\"text\", type=str, desc=\"The target text in which emails are to be searched.\")\n",
    "search_email_tool = builder.build()\n"
   ]
  },
  {
   "cell_type": "markdown",
   "metadata": {},
   "source": [
    "### Tool Execution\n",
    "\n",
    "The key thing to keep in mind is that all arguments are passed as keyword arguments irrespective of the underlying function."
   ]
  },
  {
   "cell_type": "code",
   "execution_count": null,
   "metadata": {},
   "outputs": [],
   "source": [
    "get_current_weather_tool(location=\"dummy\")"
   ]
  },
  {
   "cell_type": "code",
   "execution_count": null,
   "metadata": {},
   "outputs": [],
   "source": [
    "get_current_weather_tool(**{\"location\": \"dummy\"})"
   ]
  },
  {
   "cell_type": "code",
   "execution_count": null,
   "metadata": {},
   "outputs": [],
   "source": [
    "get_current_weather_tool(**{\"location\": \"dummy\", \"unit\":\"fahrenheit\"})"
   ]
  },
  {
   "cell_type": "code",
   "execution_count": null,
   "metadata": {},
   "outputs": [],
   "source": [
    "calc_tool(expression=\"2 + 5\")"
   ]
  },
  {
   "cell_type": "code",
   "execution_count": null,
   "metadata": {},
   "outputs": [],
   "source": [
    "search_email_tool(text=\"This is a sample text with a@b.com address\")"
   ]
  },
  {
   "cell_type": "code",
   "execution_count": null,
   "metadata": {},
   "outputs": [],
   "source": [
    "search_email_tool(text=\"This is a sample text with no email address\")"
   ]
  },
  {
   "cell_type": "markdown",
   "metadata": {},
   "source": [
    "### Tool Definition\n",
    "\n",
    "One of the key benefits of creating a Tool is that it self describes itself, in a way compatible with an LLM."
   ]
  },
  {
   "cell_type": "code",
   "execution_count": null,
   "metadata": {},
   "outputs": [],
   "source": [
    "print(get_current_weather_tool.definition)"
   ]
  },
  {
   "cell_type": "code",
   "execution_count": null,
   "metadata": {},
   "outputs": [],
   "source": [
    "print(calc_tool.definition)"
   ]
  },
  {
   "cell_type": "code",
   "execution_count": null,
   "metadata": {},
   "outputs": [],
   "source": [
    "print(search_email_tool.definition)"
   ]
  },
  {
   "cell_type": "markdown",
   "metadata": {},
   "source": [
    "Let's create the list of tool definitions to be shared with the LLM."
   ]
  },
  {
   "cell_type": "code",
   "execution_count": null,
   "metadata": {},
   "outputs": [],
   "source": [
    "tools = [get_current_weather_tool, calc_tool, search_email_tool]"
   ]
  },
  {
   "cell_type": "markdown",
   "metadata": {},
   "source": [
    "Let's create a tools dictionary so that once we know the name of the tool from LLM, we can call it with arguments returned from the LLM."
   ]
  },
  {
   "cell_type": "code",
   "execution_count": null,
   "metadata": {},
   "outputs": [],
   "source": [
    "from swayam import Agent, Prompt\n",
    "\n",
    "prompt = Prompt.as_system(\"You are a useful assistant. You are provided with a list of tools to help users with their queries.\", tools=tools)\n",
    "agent = Agent(system_prompt=prompt)"
   ]
  },
  {
   "cell_type": "code",
   "execution_count": null,
   "metadata": {},
   "outputs": [],
   "source": [
    "from swayam import Prompt\n",
    "agent.execute(\"What's the weather like in Boston?\", reset_report=True)"
   ]
  },
  {
   "cell_type": "code",
   "execution_count": null,
   "metadata": {},
   "outputs": [],
   "source": [
    "tools_dict = {tool.name: tool for tool in tools}"
   ]
  },
  {
   "cell_type": "code",
   "execution_count": null,
   "metadata": {},
   "outputs": [],
   "source": [
    "from swayam import Prompt\n",
    "calls = agent.execute(\"What's the weather like in Boston?\").tool_calls\n",
    "for call in calls:\n",
    "    print(tools_dict[call.function.name](**json.loads(call.function.arguments)))"
   ]
  },
  {
   "cell_type": "code",
   "execution_count": null,
   "metadata": {},
   "outputs": [],
   "source": [
    "calls = agent.execute(\"What is 7 *30 + 13?\").tool_calls\n",
    "for call in calls:\n",
    "    print(tools_dict[call.function.name](**json.loads(call.function.arguments)))"
   ]
  },
  {
   "cell_type": "code",
   "execution_count": null,
   "metadata": {},
   "outputs": [],
   "source": [
    "text = \"This is a sample text with a@b.com and c@d.com addresses\"\n",
    "calls = agent.execute(f\"Find whether there is an email address in the following text marked with triple backticks \\n ```{text}```\").tool_calls\n",
    "for call in calls:\n",
    "    print(tools_dict[call.function.name](**json.loads(call.function.arguments)))"
   ]
  }
 ],
 "metadata": {
  "kernelspec": {
   "display_name": "py3108",
   "language": "python",
   "name": "python3"
  },
  "language_info": {
   "codemirror_mode": {
    "name": "ipython",
    "version": 3
   },
   "file_extension": ".py",
   "mimetype": "text/x-python",
   "name": "python",
   "nbconvert_exporter": "python",
   "pygments_lexer": "ipython3",
   "version": "3.10.8"
  }
 },
 "nbformat": 4,
 "nbformat_minor": 2
}
