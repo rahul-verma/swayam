{
 "cells": [
  {
   "cell_type": "code",
   "execution_count": 1,
   "metadata": {},
   "outputs": [],
   "source": [
    "from test_utils import *\n",
    "from swayam import Agent"
   ]
  },
  {
   "cell_type": "markdown",
   "metadata": {},
   "source": [
    "### Function Calling with Swayam Tools\n",
    "\n",
    "Let's now start to link the functionality of an LLM Agent with a locally available function call."
   ]
  },
  {
   "cell_type": "markdown",
   "metadata": {},
   "source": [
    "#### Let's see what happens without a function call"
   ]
  },
  {
   "cell_type": "code",
   "execution_count": 2,
   "metadata": {},
   "outputs": [
    {
     "name": "stdout",
     "output_type": "stream",
     "text": [
      "Total Context Length (Previous Request-Response Pairs): 0\n",
      "--------------------------------------------------------------------------------\n",
      "--------------------------------------------------------------------------------\n",
      "Prompt: (Role: user)\n",
      "What's the weather like in Boston?\n",
      "--------------------------------------------------------------------------------\n",
      "Response:\n",
      "I don't have real-time data access to provide current weather conditions. To find out the weather in Boston, I recommend checking a reliable weather website or app for the most up-to-date information.\n",
      "--------------------------------------------------------------------------------\n"
     ]
    },
    {
     "data": {
      "text/plain": [
       "ChatCompletionMessage(content=\"I don't have real-time data access to provide current weather conditions. To find out the weather in Boston, I recommend checking a reliable weather website or app for the most up-to-date information.\", refusal=None, role='assistant', function_call=None, tool_calls=None)"
      ]
     },
     "execution_count": 2,
     "metadata": {},
     "output_type": "execute_result"
    }
   ],
   "source": [
    "from swayam import Swayam\n",
    "Swayam.execute(\"What's the weather like in Boston?\")"
   ]
  },
  {
   "cell_type": "markdown",
   "metadata": {},
   "source": [
    "### Some Dummy Functions\n",
    "\n",
    "Let's create some dummy functions"
   ]
  },
  {
   "cell_type": "code",
   "execution_count": 3,
   "metadata": {},
   "outputs": [],
   "source": [
    "from enum import Enum\n",
    "class UnitEnum(Enum):\n",
    "    CELSIUS = \"celsius\"\n",
    "    FAHRENHEIT = \"fahrenheit\"\n",
    "\n",
    "import json\n",
    "\n",
    "# Example dummy function hard coded to return the same weather\n",
    "# In production, this could be your backend API or an external API\n",
    "def get_current_weather(location, unit):\n",
    "    import random\n",
    "    i = random.randint(-10, 40)\n",
    "    if unit.lower() == \"celsius\":\n",
    "        return f\"{i}°C\"\n",
    "    elif unit.lower() == \"fahrenheit\":\n",
    "        return f\"{i*9/5 + 32}°F\"\n",
    "    else:\n",
    "        raise ValueError(\"Invalid unit\")\n",
    "    \n",
    "def calculate(expression):\n",
    "    return eval(expression)\n",
    "\n",
    "def search_email(text):\n",
    "    import re\n",
    "    emails = re.findall(r'([\\w\\.-]+@[\\w\\.-]+)', text)\n",
    "    if emails:\n",
    "        return emails\n",
    "    else:\n",
    "        return None"
   ]
  },
  {
   "cell_type": "markdown",
   "metadata": {},
   "source": [
    "## Tool Creation\n",
    "\n",
    "As a part of an LLM workflow, we want to trigger the above local function based on response from the LLM (using function calling).\n",
    "\n",
    "Before we can do that, we need to create a sort of bridge between a function from the view point of an LLM vs what it means in Python.\n",
    "\n",
    "Here we see how we can create convert a function into a Tool."
   ]
  },
  {
   "cell_type": "markdown",
   "metadata": {},
   "source": [
    "### ToolBuilder\n",
    "\n",
    "We use the tool builder to wrap the function created above.\n",
    "1. Provide the function callable and describe it.\n",
    "2. Add all arguments, while describing their types and purposes."
   ]
  },
  {
   "cell_type": "code",
   "execution_count": 4,
   "metadata": {},
   "outputs": [],
   "source": [
    "from swayam.llm.tool import ToolBuilder\n",
    "builder = ToolBuilder(get_current_weather, desc=\"Get the current weather in a given location\")\n",
    "builder.add_field(\"location\", type=str, desc=\"Location to get weather information for\")\n",
    "builder.add_field(\"unit\", type=UnitEnum, desc=\"Unit of temperature\", default=UnitEnum.CELSIUS)\n",
    "get_current_weather_tool = builder.build()\n",
    "\n",
    "builder = ToolBuilder(calculate, desc=\"Evaluates a mathematical expression\")\n",
    "builder.add_field(\"expression\", type=str, desc=\"The expression to be evaluated.\")\n",
    "calc_tool = builder.build()\n",
    "\n",
    "builder = ToolBuilder(search_email, desc=\"Searches email addresses in a given text\")\n",
    "builder.add_field(\"text\", type=str, desc=\"The target text in which emails are to be searched.\")\n",
    "search_email_tool = builder.build()\n"
   ]
  },
  {
   "cell_type": "markdown",
   "metadata": {},
   "source": [
    "### Tool Execution\n",
    "\n",
    "The key thing to keep in mind is that all arguments are passed as keyword arguments irrespective of the underlying function."
   ]
  },
  {
   "cell_type": "code",
   "execution_count": 5,
   "metadata": {},
   "outputs": [
    {
     "data": {
      "text/plain": [
       "'30°C'"
      ]
     },
     "execution_count": 5,
     "metadata": {},
     "output_type": "execute_result"
    }
   ],
   "source": [
    "get_current_weather_tool(location=\"dummy\")"
   ]
  },
  {
   "cell_type": "code",
   "execution_count": 6,
   "metadata": {},
   "outputs": [
    {
     "data": {
      "text/plain": [
       "'36°C'"
      ]
     },
     "execution_count": 6,
     "metadata": {},
     "output_type": "execute_result"
    }
   ],
   "source": [
    "get_current_weather_tool(**{\"location\": \"dummy\"})"
   ]
  },
  {
   "cell_type": "code",
   "execution_count": 7,
   "metadata": {},
   "outputs": [
    {
     "data": {
      "text/plain": [
       "'48.2°F'"
      ]
     },
     "execution_count": 7,
     "metadata": {},
     "output_type": "execute_result"
    }
   ],
   "source": [
    "get_current_weather_tool(**{\"location\": \"dummy\", \"unit\":\"fahrenheit\"})"
   ]
  },
  {
   "cell_type": "code",
   "execution_count": 8,
   "metadata": {},
   "outputs": [
    {
     "data": {
      "text/plain": [
       "7"
      ]
     },
     "execution_count": 8,
     "metadata": {},
     "output_type": "execute_result"
    }
   ],
   "source": [
    "calc_tool(expression=\"2 + 5\")"
   ]
  },
  {
   "cell_type": "code",
   "execution_count": 9,
   "metadata": {},
   "outputs": [
    {
     "data": {
      "text/plain": [
       "['a@b.com']"
      ]
     },
     "execution_count": 9,
     "metadata": {},
     "output_type": "execute_result"
    }
   ],
   "source": [
    "search_email_tool(text=\"This is a sample text with a@b.com address\")"
   ]
  },
  {
   "cell_type": "code",
   "execution_count": 10,
   "metadata": {},
   "outputs": [],
   "source": [
    "search_email_tool(text=\"This is a sample text with no email address\")"
   ]
  },
  {
   "cell_type": "markdown",
   "metadata": {},
   "source": [
    "### Tool Definition\n",
    "\n",
    "One of the key benefits of creating a Tool is that it self describes itself, in a way compatible with an LLM."
   ]
  },
  {
   "cell_type": "code",
   "execution_count": 11,
   "metadata": {},
   "outputs": [
    {
     "name": "stdout",
     "output_type": "stream",
     "text": [
      "{'name': 'get_current_weather', 'description': 'Get the current weather in a given location', 'parameters': {'properties': {'location': {'description': 'Location to get weather information for', 'title': 'Location', 'type': 'string'}, 'unit': {'description': 'Unit of temperature', 'enum': ['celsius', 'fahrenheit'], 'type': 'string'}}, 'required': ['location'], 'type': 'object'}}\n"
     ]
    }
   ],
   "source": [
    "print(get_current_weather_tool.definition)"
   ]
  },
  {
   "cell_type": "code",
   "execution_count": 12,
   "metadata": {},
   "outputs": [
    {
     "name": "stdout",
     "output_type": "stream",
     "text": [
      "{'name': 'calculate', 'description': 'Evaluates a mathematical expression', 'parameters': {'properties': {'expression': {'description': 'The expression to be evaluated.', 'title': 'Expression', 'type': 'string'}}, 'required': ['expression'], 'type': 'object'}}\n"
     ]
    }
   ],
   "source": [
    "print(calc_tool.definition)"
   ]
  },
  {
   "cell_type": "code",
   "execution_count": 13,
   "metadata": {},
   "outputs": [
    {
     "name": "stdout",
     "output_type": "stream",
     "text": [
      "{'name': 'search_email', 'description': 'Searches email addresses in a given text', 'parameters': {'properties': {'text': {'description': 'The target text in which emails are to be searched.', 'title': 'Text', 'type': 'string'}}, 'required': ['text'], 'type': 'object'}}\n"
     ]
    }
   ],
   "source": [
    "print(search_email_tool.definition)"
   ]
  },
  {
   "cell_type": "markdown",
   "metadata": {},
   "source": [
    "Let's create the list of function definitions to be shared with the LLM."
   ]
  },
  {
   "cell_type": "code",
   "execution_count": 14,
   "metadata": {},
   "outputs": [],
   "source": [
    "functions = [get_current_weather_tool.definition, calc_tool.definition, search_email_tool.definition]"
   ]
  },
  {
   "cell_type": "markdown",
   "metadata": {},
   "source": [
    "Let's create a tools dictionary so that once we know the name of the tool from LLM, we can call it with arguments returned from the LLM."
   ]
  },
  {
   "cell_type": "code",
   "execution_count": 15,
   "metadata": {},
   "outputs": [],
   "source": [
    "tools = {\n",
    "    get_current_weather_tool.name : get_current_weather_tool,\n",
    "    calc_tool.name : calc_tool,\n",
    "    search_email_tool.name : search_email_tool\n",
    "}"
   ]
  },
  {
   "cell_type": "code",
   "execution_count": 16,
   "metadata": {},
   "outputs": [],
   "source": [
    "from swayam import Agent\n",
    "agent = Agent(display=True)"
   ]
  },
  {
   "cell_type": "code",
   "execution_count": 17,
   "metadata": {},
   "outputs": [
    {
     "name": "stdout",
     "output_type": "stream",
     "text": [
      "Total Context Length (Previous Request-Response Pairs): 0\n",
      "--------------------------------------------------------------------------------\n",
      "--------------------------------------------------------------------------------\n",
      "Prompt: (Role: user)\n",
      "What's the weather like in Boston?\n",
      "--------------------------------------------------------------------------------\n",
      "Response:\n",
      "None\n",
      "--------------------------------------------------------------------------------\n",
      "FunctionCall(arguments='{\"location\":\"Boston\"}', name='get_current_weather')\n"
     ]
    },
    {
     "data": {
      "text/plain": [
       "'22°C'"
      ]
     },
     "execution_count": 17,
     "metadata": {},
     "output_type": "execute_result"
    }
   ],
   "source": [
    "function_json = agent.execute(\"What's the weather like in Boston?\", functions=functions).function_call\n",
    "tools[function_json.name](**json.loads(function_json.arguments))"
   ]
  },
  {
   "cell_type": "code",
   "execution_count": 18,
   "metadata": {},
   "outputs": [
    {
     "name": "stdout",
     "output_type": "stream",
     "text": [
      "Total Context Length (Previous Request-Response Pairs): 0\n",
      "--------------------------------------------------------------------------------\n",
      "--------------------------------------------------------------------------------\n",
      "Prompt: (Role: user)\n",
      "What is 7 *30 + 13?\n",
      "--------------------------------------------------------------------------------\n",
      "Response:\n",
      "None\n",
      "--------------------------------------------------------------------------------\n",
      "FunctionCall(arguments='{\"expression\":\"7 * 30 + 13\"}', name='calculate')\n"
     ]
    },
    {
     "data": {
      "text/plain": [
       "223"
      ]
     },
     "execution_count": 18,
     "metadata": {},
     "output_type": "execute_result"
    }
   ],
   "source": [
    "function_json = agent.execute(\"What is 7 *30 + 13?\", functions=functions).function_call\n",
    "tools[function_json.name](**json.loads(function_json.arguments))"
   ]
  },
  {
   "cell_type": "code",
   "execution_count": 19,
   "metadata": {},
   "outputs": [
    {
     "name": "stdout",
     "output_type": "stream",
     "text": [
      "Total Context Length (Previous Request-Response Pairs): 0\n",
      "--------------------------------------------------------------------------------\n",
      "--------------------------------------------------------------------------------\n",
      "Prompt: (Role: user)\n",
      "Find whether there is an email address in the following text marked with triple backticks \n",
      " ```This is a sample text with a@b.com and c@d.com addresses```?\n",
      "--------------------------------------------------------------------------------\n",
      "Response:\n",
      "None\n",
      "--------------------------------------------------------------------------------\n",
      "FunctionCall(arguments='{\"text\":\"This is a sample text with a@b.com and c@d.com addresses\"}', name='search_email')\n"
     ]
    },
    {
     "data": {
      "text/plain": [
       "['a@b.com', 'c@d.com']"
      ]
     },
     "execution_count": 19,
     "metadata": {},
     "output_type": "execute_result"
    }
   ],
   "source": [
    "text = \"This is a sample text with a@b.com and c@d.com addresses\"\n",
    "function_json = agent.execute(f\"Find whether there is an email address in the following text marked with triple backticks \\n ```{text}```?\", functions=functions).function_call\n",
    "tools[function_json.name](**json.loads(function_json.arguments))"
   ]
  }
 ],
 "metadata": {
  "kernelspec": {
   "display_name": "py3108",
   "language": "python",
   "name": "python3"
  },
  "language_info": {
   "codemirror_mode": {
    "name": "ipython",
    "version": 3
   },
   "file_extension": ".py",
   "mimetype": "text/x-python",
   "name": "python",
   "nbconvert_exporter": "python",
   "pygments_lexer": "ipython3",
   "version": "3.10.8"
  }
 },
 "nbformat": 4,
 "nbformat_minor": 2
}
