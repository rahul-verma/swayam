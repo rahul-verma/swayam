{
 "cells": [
  {
   "cell_type": "code",
   "execution_count": 1,
   "metadata": {},
   "outputs": [],
   "source": [
    "from env import *\n",
    "from swayam import *"
   ]
  },
  {
   "cell_type": "markdown",
   "metadata": {},
   "source": [
    "### Thought\n",
    "\n",
    "A thought is a sequence of one or more expressions. \n",
    "\n",
    "In a thought, an expression maintains its conversation context. The conversation part of the narrative changes from one expression to another, although the storage is passed on.\n",
    "\n",
    "Thoughts are defined as directories. These directories need to be placed in the following directory:\n",
    "\n",
    "    <project_root>/definition/thought\n",
    "\n",
    "Each thought directory must have a\n",
    "\n",
    "    __init__.yaml file \n",
    "    \n",
    "which contains the expression definition. \n",
    "\n",
    "The expression definitions that it refers must be placed in this directory."
   ]
  },
  {
   "cell_type": "code",
   "execution_count": 2,
   "metadata": {},
   "outputs": [],
   "source": [
    "narrator = Swayam.narrator.thought(narration=\"test\")\n",
    "narrator.reset()"
   ]
  },
  {
   "cell_type": "code",
   "execution_count": 3,
   "metadata": {},
   "outputs": [],
   "source": [
    "narrator.narrate(Thought.basic)"
   ]
  }
 ],
 "metadata": {
  "kernelspec": {
   "display_name": "py3108",
   "language": "python",
   "name": "python3"
  },
  "language_info": {
   "codemirror_mode": {
    "name": "ipython",
    "version": 3
   },
   "file_extension": ".py",
   "mimetype": "text/x-python",
   "name": "python",
   "nbconvert_exporter": "python",
   "pygments_lexer": "ipython3",
   "version": "3.10.8"
  }
 },
 "nbformat": 4,
 "nbformat_minor": 2
}
