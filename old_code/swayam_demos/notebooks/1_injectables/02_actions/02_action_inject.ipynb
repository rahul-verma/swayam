{
 "cells": [
  {
   "cell_type": "code",
   "execution_count": 1,
   "metadata": {},
   "outputs": [],
   "source": [
    "from env import *\n",
    "from swayam import *"
   ]
  },
  {
   "cell_type": "markdown",
   "metadata": {},
   "source": [
    "## Action Injection\n",
    "\n",
    "Just like templates, you can also define actions so that Swayam can find them given just the name.\n",
    "\n",
    "To enable this, in Swayam, you need to define it as as an importable object.\n",
    "\n",
    "This feature is a part of injectables in Swayam:\n",
    "1. The injectables are defined as objects inside importable modules.\n",
    "2. These modules (or packages) are created inside <project_root>/lib/inject directory.\n",
    "3. For defining the actions, they should be importable as:\n",
    "        \n",
    "        from <your project name>.lib.inject.action import <Action Name>"
   ]
  },
  {
   "cell_type": "markdown",
   "metadata": {},
   "source": [
    "You can refer the project template of swayam_demos to know more about it. "
   ]
  },
  {
   "cell_type": "markdown",
   "metadata": {},
   "source": [
    "### Action.< name >\n",
    "\n",
    "Once the action is defined, you can use it at any place in the code with:\n",
    "\n",
    "        ```Action.YourActionName```"
   ]
  }
 ],
 "metadata": {
  "kernelspec": {
   "display_name": "py3108",
   "language": "python",
   "name": "python3"
  },
  "language_info": {
   "codemirror_mode": {
    "name": "ipython",
    "version": 3
   },
   "file_extension": ".py",
   "mimetype": "text/x-python",
   "name": "python",
   "nbconvert_exporter": "python",
   "pygments_lexer": "ipython3",
   "version": "3.10.8"
  }
 },
 "nbformat": 4,
 "nbformat_minor": 2
}
