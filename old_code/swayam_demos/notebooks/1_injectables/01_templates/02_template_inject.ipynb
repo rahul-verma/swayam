{
 "cells": [
  {
   "cell_type": "code",
   "execution_count": null,
   "metadata": {},
   "outputs": [],
   "source": [
    "from env import *\n",
    "from swayam import *"
   ]
  },
  {
   "cell_type": "markdown",
   "metadata": {},
   "source": [
    "### Template Injection\n",
    "\n",
    "To automatically find a template given its name, in Swayam, you need to define it as as an importable object.\n",
    "\n",
    "This feature is a part of injectables in Swayam:\n",
    "1. The injectables are defined as objects inside importable modules.\n",
    "2. These modules (or packages) are created inside <project_root>/lib/inject directory.\n",
    "3. For defining the template, it should be importable as:\n",
    "        \n",
    "        from <your project name>.lib.inject.template import <Template Name>"
   ]
  },
  {
   "cell_type": "markdown",
   "metadata": {},
   "source": [
    "You can refer the project template of swayam_demos to know more about it. "
   ]
  },
  {
   "cell_type": "markdown",
   "metadata": {},
   "source": [
    "### Template.< name >\n",
    "\n",
    "Once the template is defined, you can use it at any place in the code with:\n",
    "\n",
    "        ```Template.YourTemplateName```"
   ]
  }
 ],
 "metadata": {
  "kernelspec": {
   "display_name": "py3108",
   "language": "python",
   "name": "python3"
  },
  "language_info": {
   "codemirror_mode": {
    "name": "ipython",
    "version": 3
   },
   "file_extension": ".py",
   "mimetype": "text/x-python",
   "name": "python",
   "nbconvert_exporter": "python",
   "pygments_lexer": "ipython3",
   "version": "3.10.8"
  }
 },
 "nbformat": 4,
 "nbformat_minor": 2
}
